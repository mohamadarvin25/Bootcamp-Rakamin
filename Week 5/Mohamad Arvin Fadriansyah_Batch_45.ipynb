{
 "cells": [
  {
   "cell_type": "code",
   "execution_count": 2,
   "id": "df8b93d1-d997-4e2d-8acb-74590ccd53ab",
   "metadata": {
    "ExecuteTime": {
     "end_time": "2024-06-08T13:28:55.654683700Z",
     "start_time": "2024-06-08T13:28:55.617858300Z"
    }
   },
   "outputs": [],
   "source": [
    "import pandas as pd"
   ]
  },
  {
   "cell_type": "markdown",
   "id": "52e03249-ec8b-4190-8558-72bcb7e8c008",
   "metadata": {
    "tags": []
   },
   "source": [
    "# A. Introduction to Pandas DataFrame and Transformation (45pts)"
   ]
  },
  {
   "cell_type": "markdown",
   "id": "168543d6-877d-4bfb-9831-9bf1c6834fa7",
   "metadata": {
    "tags": []
   },
   "source": [
    "## Beginner"
   ]
  },
  {
   "cell_type": "markdown",
   "id": "306f4342-1d9d-44c8-92c6-908d60c2e305",
   "metadata": {
    "tags": []
   },
   "source": [
    "### 1. Membuat DataFrame Manual (5pts)\n",
    "\n",
    "Buatlah dataframe secara manual seperti gambar dibawah ini.\n",
    "\n",
    "**Expected Result:**\n",
    "\n",
    "![Expected Result](assets/homework_exercise_1_result.png)"
   ]
  },
  {
   "cell_type": "code",
   "execution_count": 136,
   "id": "8f9e7905-9173-44a9-b12d-46f2ec551a81",
   "metadata": {
    "ExecuteTime": {
     "end_time": "2024-06-08T16:02:23.277535Z",
     "start_time": "2024-06-08T16:02:23.208617700Z"
    }
   },
   "outputs": [
    {
     "data": {
      "text/plain": "     name  age  phone_number  ielts_score\n0   Fiqry   23  +62813123414          6.5\n1   Iqbal   21   +6287842464          NaN\n2  Monica   22  +62813125554          7.5\n3    Rama   24   +6287834464          6.5\n4   Johan   26  +62813113414          8.0",
      "text/html": "<div>\n<style scoped>\n    .dataframe tbody tr th:only-of-type {\n        vertical-align: middle;\n    }\n\n    .dataframe tbody tr th {\n        vertical-align: top;\n    }\n\n    .dataframe thead th {\n        text-align: right;\n    }\n</style>\n<table border=\"1\" class=\"dataframe\">\n  <thead>\n    <tr style=\"text-align: right;\">\n      <th></th>\n      <th>name</th>\n      <th>age</th>\n      <th>phone_number</th>\n      <th>ielts_score</th>\n    </tr>\n  </thead>\n  <tbody>\n    <tr>\n      <th>0</th>\n      <td>Fiqry</td>\n      <td>23</td>\n      <td>+62813123414</td>\n      <td>6.5</td>\n    </tr>\n    <tr>\n      <th>1</th>\n      <td>Iqbal</td>\n      <td>21</td>\n      <td>+6287842464</td>\n      <td>NaN</td>\n    </tr>\n    <tr>\n      <th>2</th>\n      <td>Monica</td>\n      <td>22</td>\n      <td>+62813125554</td>\n      <td>7.5</td>\n    </tr>\n    <tr>\n      <th>3</th>\n      <td>Rama</td>\n      <td>24</td>\n      <td>+6287834464</td>\n      <td>6.5</td>\n    </tr>\n    <tr>\n      <th>4</th>\n      <td>Johan</td>\n      <td>26</td>\n      <td>+62813113414</td>\n      <td>8.0</td>\n    </tr>\n  </tbody>\n</table>\n</div>"
     },
     "execution_count": 136,
     "metadata": {},
     "output_type": "execute_result"
    }
   ],
   "source": [
    "# Nomor 1\n",
    "data = {\n",
    "    \"name\": [\"Fiqry\", \"Iqbal\", \"Monica\", \"Rama\", \"Johan\"],\n",
    "    \"age\": [23, 21, 22, 24, 26],\n",
    "    \"phone_number\": [\"+62813123414\", \"+6287842464\", \"+62813125554\", \"+6287834464\", \"+62813113414\"],\n",
    "    \"ielts_score\": [6.5, None, 7.5, 6.5, 8.0]\n",
    "}\n",
    "df = pd.DataFrame(data)\n",
    "df"
   ]
  },
  {
   "cell_type": "markdown",
   "id": "2777472d-eea5-4b61-9814-48bce5efa7a9",
   "metadata": {
    "tags": []
   },
   "source": [
    "### 2. Analisa Sederhana DataFrame (10pts)\n",
    "\n",
    "Lakukan import `application_processed.csv` data kedalam notebook (5pts) dan carilah beberapa informasi pada dataset `application_processed` (5pts) dan jawablah beberapa pertanyaan sebagai berikut:\n",
    "\n",
    "a. Column apa saja yang memiliki nilai NaN / None?\n",
    "b. Berapa rata-rata pada column `amount_income_total`?\n",
    "c. Berapa median pada column `amount_income_total`?\n",
    "\n",
    "**Hint**:\n",
    "- Menggunakan operasi dasar DataFrame pada topik Introduction Pandas DataFrame and Transformation\n"
   ]
  },
  {
   "cell_type": "code",
   "execution_count": 6,
   "id": "9823d0cc-1551-45c1-bb97-db2e681b74dc",
   "metadata": {
    "ExecuteTime": {
     "end_time": "2024-06-08T13:34:20.355831Z",
     "start_time": "2024-06-08T13:34:19.899899Z"
    }
   },
   "outputs": [
    {
     "data": {
      "text/plain": "             id  gender  flag_own_car  flag_own_property  total_children  \\\n0       5548815  Female             1                  1               1   \n1       5692601  Female             1                  1               0   \n2       5625007  Female             1                  0               0   \n3       6529653    Male             0                  1               0   \n4       6209935    Male             0                  1               1   \n...         ...     ...           ...                ...             ...   \n131562  6108756  Female             1                  1               0   \n131563  5938512    Male             1                  0               0   \n131564  6824835    Male             1                  0               1   \n131565  5009009    Male             0                  1               0   \n131566  6054185  Female             0                  1               2   \n\n        amount_income_total           income_type  \\\n0                  225000.0         State servant   \n1                  180000.0               Working   \n2                  157500.0             Pensioner   \n3                  202500.0               Working   \n4                  157500.0  Commercial associate   \n...                     ...                   ...   \n131562             157500.0               Working   \n131563             202500.0               Working   \n131564             225000.0         State servant   \n131565             166500.0               Working   \n131566             135000.0               Working   \n\n                       education_type family_status       housing_type  \\\n0       Secondary / secondary special       Married  House / apartment   \n1       Secondary / secondary special       Married  House / apartment   \n2       Secondary / secondary special         Widow  House / apartment   \n3       Secondary / secondary special       Married  House / apartment   \n4       Secondary / secondary special       Married  House / apartment   \n...                               ...           ...                ...   \n131562               Higher education       Married  House / apartment   \n131563  Secondary / secondary special       Married  House / apartment   \n131564              Incomplete higher       Married  House / apartment   \n131565  Secondary / secondary special       Married  House / apartment   \n131566  Secondary / secondary special       Married  House / apartment   \n\n        days_birth  days_employed  flag_mobile_phone  flag_work_phone  \\\n0           -12944          -6127                  1                0   \n1           -12484          -1874                  1                0   \n2           -21656         365243                  1                0   \n3           -10050          -2117                  1                0   \n4           -10371          -1755                  1                0   \n...            ...            ...                ...              ...   \n131562      -10867          -2637                  1                0   \n131563      -17815          -5109                  1                0   \n131564      -10472          -3601                  1                0   \n131565      -18926          -6276                  1                1   \n131566      -11390          -2736                  1                0   \n\n        flag_phone  flag_email occupation_type  total_family_members  \n0                0           0        Laborers                   3.0  \n1                0           0             NaN                   2.0  \n2                0           0             NaN                   1.0  \n3                0           0         Drivers                   2.0  \n4                0           0         Drivers                   3.0  \n...            ...         ...             ...                   ...  \n131562           0           0        Managers                   2.0  \n131563           0           0             NaN                   2.0  \n131564           0           0  Security staff                   3.0  \n131565           1           0        Laborers                   2.0  \n131566           0           0        Managers                   4.0  \n\n[131567 rows x 18 columns]",
      "text/html": "<div>\n<style scoped>\n    .dataframe tbody tr th:only-of-type {\n        vertical-align: middle;\n    }\n\n    .dataframe tbody tr th {\n        vertical-align: top;\n    }\n\n    .dataframe thead th {\n        text-align: right;\n    }\n</style>\n<table border=\"1\" class=\"dataframe\">\n  <thead>\n    <tr style=\"text-align: right;\">\n      <th></th>\n      <th>id</th>\n      <th>gender</th>\n      <th>flag_own_car</th>\n      <th>flag_own_property</th>\n      <th>total_children</th>\n      <th>amount_income_total</th>\n      <th>income_type</th>\n      <th>education_type</th>\n      <th>family_status</th>\n      <th>housing_type</th>\n      <th>days_birth</th>\n      <th>days_employed</th>\n      <th>flag_mobile_phone</th>\n      <th>flag_work_phone</th>\n      <th>flag_phone</th>\n      <th>flag_email</th>\n      <th>occupation_type</th>\n      <th>total_family_members</th>\n    </tr>\n  </thead>\n  <tbody>\n    <tr>\n      <th>0</th>\n      <td>5548815</td>\n      <td>Female</td>\n      <td>1</td>\n      <td>1</td>\n      <td>1</td>\n      <td>225000.0</td>\n      <td>State servant</td>\n      <td>Secondary / secondary special</td>\n      <td>Married</td>\n      <td>House / apartment</td>\n      <td>-12944</td>\n      <td>-6127</td>\n      <td>1</td>\n      <td>0</td>\n      <td>0</td>\n      <td>0</td>\n      <td>Laborers</td>\n      <td>3.0</td>\n    </tr>\n    <tr>\n      <th>1</th>\n      <td>5692601</td>\n      <td>Female</td>\n      <td>1</td>\n      <td>1</td>\n      <td>0</td>\n      <td>180000.0</td>\n      <td>Working</td>\n      <td>Secondary / secondary special</td>\n      <td>Married</td>\n      <td>House / apartment</td>\n      <td>-12484</td>\n      <td>-1874</td>\n      <td>1</td>\n      <td>0</td>\n      <td>0</td>\n      <td>0</td>\n      <td>NaN</td>\n      <td>2.0</td>\n    </tr>\n    <tr>\n      <th>2</th>\n      <td>5625007</td>\n      <td>Female</td>\n      <td>1</td>\n      <td>0</td>\n      <td>0</td>\n      <td>157500.0</td>\n      <td>Pensioner</td>\n      <td>Secondary / secondary special</td>\n      <td>Widow</td>\n      <td>House / apartment</td>\n      <td>-21656</td>\n      <td>365243</td>\n      <td>1</td>\n      <td>0</td>\n      <td>0</td>\n      <td>0</td>\n      <td>NaN</td>\n      <td>1.0</td>\n    </tr>\n    <tr>\n      <th>3</th>\n      <td>6529653</td>\n      <td>Male</td>\n      <td>0</td>\n      <td>1</td>\n      <td>0</td>\n      <td>202500.0</td>\n      <td>Working</td>\n      <td>Secondary / secondary special</td>\n      <td>Married</td>\n      <td>House / apartment</td>\n      <td>-10050</td>\n      <td>-2117</td>\n      <td>1</td>\n      <td>0</td>\n      <td>0</td>\n      <td>0</td>\n      <td>Drivers</td>\n      <td>2.0</td>\n    </tr>\n    <tr>\n      <th>4</th>\n      <td>6209935</td>\n      <td>Male</td>\n      <td>0</td>\n      <td>1</td>\n      <td>1</td>\n      <td>157500.0</td>\n      <td>Commercial associate</td>\n      <td>Secondary / secondary special</td>\n      <td>Married</td>\n      <td>House / apartment</td>\n      <td>-10371</td>\n      <td>-1755</td>\n      <td>1</td>\n      <td>0</td>\n      <td>0</td>\n      <td>0</td>\n      <td>Drivers</td>\n      <td>3.0</td>\n    </tr>\n    <tr>\n      <th>...</th>\n      <td>...</td>\n      <td>...</td>\n      <td>...</td>\n      <td>...</td>\n      <td>...</td>\n      <td>...</td>\n      <td>...</td>\n      <td>...</td>\n      <td>...</td>\n      <td>...</td>\n      <td>...</td>\n      <td>...</td>\n      <td>...</td>\n      <td>...</td>\n      <td>...</td>\n      <td>...</td>\n      <td>...</td>\n      <td>...</td>\n    </tr>\n    <tr>\n      <th>131562</th>\n      <td>6108756</td>\n      <td>Female</td>\n      <td>1</td>\n      <td>1</td>\n      <td>0</td>\n      <td>157500.0</td>\n      <td>Working</td>\n      <td>Higher education</td>\n      <td>Married</td>\n      <td>House / apartment</td>\n      <td>-10867</td>\n      <td>-2637</td>\n      <td>1</td>\n      <td>0</td>\n      <td>0</td>\n      <td>0</td>\n      <td>Managers</td>\n      <td>2.0</td>\n    </tr>\n    <tr>\n      <th>131563</th>\n      <td>5938512</td>\n      <td>Male</td>\n      <td>1</td>\n      <td>0</td>\n      <td>0</td>\n      <td>202500.0</td>\n      <td>Working</td>\n      <td>Secondary / secondary special</td>\n      <td>Married</td>\n      <td>House / apartment</td>\n      <td>-17815</td>\n      <td>-5109</td>\n      <td>1</td>\n      <td>0</td>\n      <td>0</td>\n      <td>0</td>\n      <td>NaN</td>\n      <td>2.0</td>\n    </tr>\n    <tr>\n      <th>131564</th>\n      <td>6824835</td>\n      <td>Male</td>\n      <td>1</td>\n      <td>0</td>\n      <td>1</td>\n      <td>225000.0</td>\n      <td>State servant</td>\n      <td>Incomplete higher</td>\n      <td>Married</td>\n      <td>House / apartment</td>\n      <td>-10472</td>\n      <td>-3601</td>\n      <td>1</td>\n      <td>0</td>\n      <td>0</td>\n      <td>0</td>\n      <td>Security staff</td>\n      <td>3.0</td>\n    </tr>\n    <tr>\n      <th>131565</th>\n      <td>5009009</td>\n      <td>Male</td>\n      <td>0</td>\n      <td>1</td>\n      <td>0</td>\n      <td>166500.0</td>\n      <td>Working</td>\n      <td>Secondary / secondary special</td>\n      <td>Married</td>\n      <td>House / apartment</td>\n      <td>-18926</td>\n      <td>-6276</td>\n      <td>1</td>\n      <td>1</td>\n      <td>1</td>\n      <td>0</td>\n      <td>Laborers</td>\n      <td>2.0</td>\n    </tr>\n    <tr>\n      <th>131566</th>\n      <td>6054185</td>\n      <td>Female</td>\n      <td>0</td>\n      <td>1</td>\n      <td>2</td>\n      <td>135000.0</td>\n      <td>Working</td>\n      <td>Secondary / secondary special</td>\n      <td>Married</td>\n      <td>House / apartment</td>\n      <td>-11390</td>\n      <td>-2736</td>\n      <td>1</td>\n      <td>0</td>\n      <td>0</td>\n      <td>0</td>\n      <td>Managers</td>\n      <td>4.0</td>\n    </tr>\n  </tbody>\n</table>\n<p>131567 rows × 18 columns</p>\n</div>"
     },
     "execution_count": 6,
     "metadata": {},
     "output_type": "execute_result"
    }
   ],
   "source": [
    "## Your code below here\n",
    "df2 = pd.read_csv('application_processed.csv')\n",
    "df2"
   ]
  },
  {
   "cell_type": "code",
   "execution_count": 20,
   "outputs": [
    {
     "data": {
      "text/plain": "id                          0\ngender                      0\nflag_own_car                0\nflag_own_property           0\ntotal_children              0\namount_income_total         0\nincome_type                 0\neducation_type              0\nfamily_status               0\nhousing_type                0\ndays_birth                  0\ndays_employed               0\nflag_mobile_phone           0\nflag_work_phone             0\nflag_phone                  0\nflag_email                  0\noccupation_type         40095\ntotal_family_members        0\ndtype: int64"
     },
     "execution_count": 20,
     "metadata": {},
     "output_type": "execute_result"
    }
   ],
   "source": [
    "# Nomor 1\n",
    "df2.isnull().sum()"
   ],
   "metadata": {
    "collapsed": false,
    "ExecuteTime": {
     "end_time": "2024-06-08T13:50:31.531967500Z",
     "start_time": "2024-06-08T13:50:31.391883500Z"
    }
   },
   "id": "6f236c7773024d8e"
  },
  {
   "cell_type": "markdown",
   "source": [
    "### Nomor 2a\n",
    "Kolom yang memiliki Nan / None adalah kolom 'occupation_type' yang berjumlah 40095 baris Nan / None "
   ],
   "metadata": {
    "collapsed": false
   },
   "id": "18aed26ee78a05ba"
  },
  {
   "cell_type": "code",
   "execution_count": 37,
   "outputs": [
    {
     "name": "stdout",
     "output_type": "stream",
     "text": [
      "Rata Rata Income: 188040.57643679646\n"
     ]
    }
   ],
   "source": [
    "# Nomor 2b\n",
    "rata_rata_income = df2['amount_income_total'].mean()\n",
    "print(f'Rata Rata amount_income_total: {rata_rata_income}')"
   ],
   "metadata": {
    "collapsed": false,
    "ExecuteTime": {
     "end_time": "2024-06-08T14:23:10.966767500Z",
     "start_time": "2024-06-08T14:23:10.916413Z"
    }
   },
   "id": "f15cd97a4f027f19"
  },
  {
   "cell_type": "code",
   "execution_count": 38,
   "outputs": [
    {
     "name": "stdout",
     "output_type": "stream",
     "text": [
      "Median amount_income_total: 162000.0\n"
     ]
    }
   ],
   "source": [
    "# Nomor 2c\n",
    "median_income = df2['amount_income_total'].median()\n",
    "print(f'Median amount_income_total: {median_income}')"
   ],
   "metadata": {
    "collapsed": false,
    "ExecuteTime": {
     "end_time": "2024-06-08T14:25:09.239319300Z",
     "start_time": "2024-06-08T14:25:09.174572300Z"
    }
   },
   "id": "d93d44c9d8ab1336"
  },
  {
   "cell_type": "markdown",
   "id": "eaad73a5-af53-4a5c-a0c8-5c8866483d70",
   "metadata": {
    "tags": []
   },
   "source": [
    "## Intermediate"
   ]
  },
  {
   "cell_type": "markdown",
   "id": "72ac1872-a655-40f2-8153-784dfed25d56",
   "metadata": {},
   "source": [
    "### 3. Mengolah Dataset (30pts)\n",
    "\n",
    "Dengan menggunakan dataset `application_processed.csv` buatlah dataframe baru dengan ketentuan:\n",
    "1. Ambil semua users yang memiliki `email`. (ditandai dengan nilai pada column `flag_email` = 1) dan tidak memilik data `duplicates`. (5pts)\n",
    "2. Buatlah column baru bernama `has_car_and_property` dimana nilainya merupakan range dari `0-1`. `1` apabila `flag_own_car` bernilai `1` dan `flag_own_property` bernilai `1`. `0` apabila terdapat atau semua nilai pada column `flag_own_car` dan `flag_own_property` terdapat angka 0. (5pts)\n",
    "3. Ambil column yang diperlukan yaitu `id`, `gender`, `has_car_and_property`, `income_type`, `education_type`, `family_status`, `housing_type`, `occupation_type`, `amount_income_total`. (5pts)\n",
    "4. Lakukan filter dengan ketentuan sebagai berikut: (5pts)\n",
    "    - Memiliki `car` dan `property`\n",
    "    - Tidak ada nilai null pada column `occupation_type`\n",
    "    - Memiliki value pada column `occupation_type` dengan pola `staff`.\n",
    "5. Sudah dilakukan sorting berdasarkan `income_type` dari `A-Z` dan `amount_income_total` dari `besar ke kecil`. (5pts)\n",
    "6. Simpan kedalam bentuk `.csv` dengan nama `homework_3_result.csv`. (5pts)\n",
    "\n",
    "**Expected Result:**\n",
    "\n",
    "![Expected Result](assets/homework_exercise_3_result.png)"
   ]
  },
  {
   "cell_type": "code",
   "execution_count": 29,
   "id": "7ac1c77d-7c8d-4174-99b3-ec9dddde15eb",
   "metadata": {
    "ExecuteTime": {
     "end_time": "2024-06-08T14:08:04.521250Z",
     "start_time": "2024-06-08T14:08:04.084296400Z"
    }
   },
   "outputs": [
    {
     "data": {
      "text/plain": "             id  gender  flag_own_car  flag_own_property  total_children  \\\n0       5548815  Female             1                  1               1   \n1       5692601  Female             1                  1               0   \n2       5625007  Female             1                  0               0   \n3       6529653    Male             0                  1               0   \n4       6209935    Male             0                  1               1   \n...         ...     ...           ...                ...             ...   \n131562  6108756  Female             1                  1               0   \n131563  5938512    Male             1                  0               0   \n131564  6824835    Male             1                  0               1   \n131565  5009009    Male             0                  1               0   \n131566  6054185  Female             0                  1               2   \n\n        amount_income_total           income_type  \\\n0                  225000.0         State servant   \n1                  180000.0               Working   \n2                  157500.0             Pensioner   \n3                  202500.0               Working   \n4                  157500.0  Commercial associate   \n...                     ...                   ...   \n131562             157500.0               Working   \n131563             202500.0               Working   \n131564             225000.0         State servant   \n131565             166500.0               Working   \n131566             135000.0               Working   \n\n                       education_type family_status       housing_type  \\\n0       Secondary / secondary special       Married  House / apartment   \n1       Secondary / secondary special       Married  House / apartment   \n2       Secondary / secondary special         Widow  House / apartment   \n3       Secondary / secondary special       Married  House / apartment   \n4       Secondary / secondary special       Married  House / apartment   \n...                               ...           ...                ...   \n131562               Higher education       Married  House / apartment   \n131563  Secondary / secondary special       Married  House / apartment   \n131564              Incomplete higher       Married  House / apartment   \n131565  Secondary / secondary special       Married  House / apartment   \n131566  Secondary / secondary special       Married  House / apartment   \n\n        days_birth  days_employed  flag_mobile_phone  flag_work_phone  \\\n0           -12944          -6127                  1                0   \n1           -12484          -1874                  1                0   \n2           -21656         365243                  1                0   \n3           -10050          -2117                  1                0   \n4           -10371          -1755                  1                0   \n...            ...            ...                ...              ...   \n131562      -10867          -2637                  1                0   \n131563      -17815          -5109                  1                0   \n131564      -10472          -3601                  1                0   \n131565      -18926          -6276                  1                1   \n131566      -11390          -2736                  1                0   \n\n        flag_phone  flag_email occupation_type  total_family_members  \n0                0           0        Laborers                   3.0  \n1                0           0             NaN                   2.0  \n2                0           0             NaN                   1.0  \n3                0           0         Drivers                   2.0  \n4                0           0         Drivers                   3.0  \n...            ...         ...             ...                   ...  \n131562           0           0        Managers                   2.0  \n131563           0           0             NaN                   2.0  \n131564           0           0  Security staff                   3.0  \n131565           1           0        Laborers                   2.0  \n131566           0           0        Managers                   4.0  \n\n[131567 rows x 18 columns]",
      "text/html": "<div>\n<style scoped>\n    .dataframe tbody tr th:only-of-type {\n        vertical-align: middle;\n    }\n\n    .dataframe tbody tr th {\n        vertical-align: top;\n    }\n\n    .dataframe thead th {\n        text-align: right;\n    }\n</style>\n<table border=\"1\" class=\"dataframe\">\n  <thead>\n    <tr style=\"text-align: right;\">\n      <th></th>\n      <th>id</th>\n      <th>gender</th>\n      <th>flag_own_car</th>\n      <th>flag_own_property</th>\n      <th>total_children</th>\n      <th>amount_income_total</th>\n      <th>income_type</th>\n      <th>education_type</th>\n      <th>family_status</th>\n      <th>housing_type</th>\n      <th>days_birth</th>\n      <th>days_employed</th>\n      <th>flag_mobile_phone</th>\n      <th>flag_work_phone</th>\n      <th>flag_phone</th>\n      <th>flag_email</th>\n      <th>occupation_type</th>\n      <th>total_family_members</th>\n    </tr>\n  </thead>\n  <tbody>\n    <tr>\n      <th>0</th>\n      <td>5548815</td>\n      <td>Female</td>\n      <td>1</td>\n      <td>1</td>\n      <td>1</td>\n      <td>225000.0</td>\n      <td>State servant</td>\n      <td>Secondary / secondary special</td>\n      <td>Married</td>\n      <td>House / apartment</td>\n      <td>-12944</td>\n      <td>-6127</td>\n      <td>1</td>\n      <td>0</td>\n      <td>0</td>\n      <td>0</td>\n      <td>Laborers</td>\n      <td>3.0</td>\n    </tr>\n    <tr>\n      <th>1</th>\n      <td>5692601</td>\n      <td>Female</td>\n      <td>1</td>\n      <td>1</td>\n      <td>0</td>\n      <td>180000.0</td>\n      <td>Working</td>\n      <td>Secondary / secondary special</td>\n      <td>Married</td>\n      <td>House / apartment</td>\n      <td>-12484</td>\n      <td>-1874</td>\n      <td>1</td>\n      <td>0</td>\n      <td>0</td>\n      <td>0</td>\n      <td>NaN</td>\n      <td>2.0</td>\n    </tr>\n    <tr>\n      <th>2</th>\n      <td>5625007</td>\n      <td>Female</td>\n      <td>1</td>\n      <td>0</td>\n      <td>0</td>\n      <td>157500.0</td>\n      <td>Pensioner</td>\n      <td>Secondary / secondary special</td>\n      <td>Widow</td>\n      <td>House / apartment</td>\n      <td>-21656</td>\n      <td>365243</td>\n      <td>1</td>\n      <td>0</td>\n      <td>0</td>\n      <td>0</td>\n      <td>NaN</td>\n      <td>1.0</td>\n    </tr>\n    <tr>\n      <th>3</th>\n      <td>6529653</td>\n      <td>Male</td>\n      <td>0</td>\n      <td>1</td>\n      <td>0</td>\n      <td>202500.0</td>\n      <td>Working</td>\n      <td>Secondary / secondary special</td>\n      <td>Married</td>\n      <td>House / apartment</td>\n      <td>-10050</td>\n      <td>-2117</td>\n      <td>1</td>\n      <td>0</td>\n      <td>0</td>\n      <td>0</td>\n      <td>Drivers</td>\n      <td>2.0</td>\n    </tr>\n    <tr>\n      <th>4</th>\n      <td>6209935</td>\n      <td>Male</td>\n      <td>0</td>\n      <td>1</td>\n      <td>1</td>\n      <td>157500.0</td>\n      <td>Commercial associate</td>\n      <td>Secondary / secondary special</td>\n      <td>Married</td>\n      <td>House / apartment</td>\n      <td>-10371</td>\n      <td>-1755</td>\n      <td>1</td>\n      <td>0</td>\n      <td>0</td>\n      <td>0</td>\n      <td>Drivers</td>\n      <td>3.0</td>\n    </tr>\n    <tr>\n      <th>...</th>\n      <td>...</td>\n      <td>...</td>\n      <td>...</td>\n      <td>...</td>\n      <td>...</td>\n      <td>...</td>\n      <td>...</td>\n      <td>...</td>\n      <td>...</td>\n      <td>...</td>\n      <td>...</td>\n      <td>...</td>\n      <td>...</td>\n      <td>...</td>\n      <td>...</td>\n      <td>...</td>\n      <td>...</td>\n      <td>...</td>\n    </tr>\n    <tr>\n      <th>131562</th>\n      <td>6108756</td>\n      <td>Female</td>\n      <td>1</td>\n      <td>1</td>\n      <td>0</td>\n      <td>157500.0</td>\n      <td>Working</td>\n      <td>Higher education</td>\n      <td>Married</td>\n      <td>House / apartment</td>\n      <td>-10867</td>\n      <td>-2637</td>\n      <td>1</td>\n      <td>0</td>\n      <td>0</td>\n      <td>0</td>\n      <td>Managers</td>\n      <td>2.0</td>\n    </tr>\n    <tr>\n      <th>131563</th>\n      <td>5938512</td>\n      <td>Male</td>\n      <td>1</td>\n      <td>0</td>\n      <td>0</td>\n      <td>202500.0</td>\n      <td>Working</td>\n      <td>Secondary / secondary special</td>\n      <td>Married</td>\n      <td>House / apartment</td>\n      <td>-17815</td>\n      <td>-5109</td>\n      <td>1</td>\n      <td>0</td>\n      <td>0</td>\n      <td>0</td>\n      <td>NaN</td>\n      <td>2.0</td>\n    </tr>\n    <tr>\n      <th>131564</th>\n      <td>6824835</td>\n      <td>Male</td>\n      <td>1</td>\n      <td>0</td>\n      <td>1</td>\n      <td>225000.0</td>\n      <td>State servant</td>\n      <td>Incomplete higher</td>\n      <td>Married</td>\n      <td>House / apartment</td>\n      <td>-10472</td>\n      <td>-3601</td>\n      <td>1</td>\n      <td>0</td>\n      <td>0</td>\n      <td>0</td>\n      <td>Security staff</td>\n      <td>3.0</td>\n    </tr>\n    <tr>\n      <th>131565</th>\n      <td>5009009</td>\n      <td>Male</td>\n      <td>0</td>\n      <td>1</td>\n      <td>0</td>\n      <td>166500.0</td>\n      <td>Working</td>\n      <td>Secondary / secondary special</td>\n      <td>Married</td>\n      <td>House / apartment</td>\n      <td>-18926</td>\n      <td>-6276</td>\n      <td>1</td>\n      <td>1</td>\n      <td>1</td>\n      <td>0</td>\n      <td>Laborers</td>\n      <td>2.0</td>\n    </tr>\n    <tr>\n      <th>131566</th>\n      <td>6054185</td>\n      <td>Female</td>\n      <td>0</td>\n      <td>1</td>\n      <td>2</td>\n      <td>135000.0</td>\n      <td>Working</td>\n      <td>Secondary / secondary special</td>\n      <td>Married</td>\n      <td>House / apartment</td>\n      <td>-11390</td>\n      <td>-2736</td>\n      <td>1</td>\n      <td>0</td>\n      <td>0</td>\n      <td>0</td>\n      <td>Managers</td>\n      <td>4.0</td>\n    </tr>\n  </tbody>\n</table>\n<p>131567 rows × 18 columns</p>\n</div>"
     },
     "execution_count": 29,
     "metadata": {},
     "output_type": "execute_result"
    }
   ],
   "source": [
    "df3 = pd.read_csv('application_processed.csv')\n",
    "df3"
   ]
  },
  {
   "cell_type": "markdown",
   "source": [
    "1. Ambil semua users yang memiliki `email`. (ditandai dengan nilai pada column `flag_email` = 1) dan tidak memilik data `duplicates`. (5pts)"
   ],
   "metadata": {
    "collapsed": false
   },
   "id": "352e28686dfd7805"
  },
  {
   "cell_type": "code",
   "execution_count": 68,
   "outputs": [
    {
     "data": {
      "text/plain": "             id  gender  flag_own_car  flag_own_property  total_children  \\\n5       5541414  Female             0                  1               0   \n8       5169560  Female             1                  1               0   \n22      5884982  Female             0                  1               0   \n23      6297619    Male             1                  1               0   \n28      6006818  Female             0                  1               0   \n...         ...     ...           ...                ...             ...   \n131511  5345596    Male             1                  1               1   \n131514  5680139  Female             0                  0               1   \n131518  5708288  Female             0                  1               2   \n131537  5352502  Female             1                  1               0   \n131555  6234604  Female             1                  1               1   \n\n        amount_income_total           income_type  \\\n5                  211500.0               Working   \n8                   90000.0               Working   \n22                 337500.0  Commercial associate   \n23                 360000.0  Commercial associate   \n28                 247500.0             Pensioner   \n...                     ...                   ...   \n131511             112500.0               Working   \n131514              67500.0               Working   \n131518             135000.0               Working   \n131537             103500.0  Commercial associate   \n131555             171000.0               Working   \n\n                       education_type         family_status  \\\n5       Secondary / secondary special        Civil marriage   \n8       Secondary / secondary special               Married   \n22      Secondary / secondary special               Married   \n23                   Higher education  Single / not married   \n28                   Higher education               Married   \n...                               ...                   ...   \n131511               Higher education               Married   \n131514  Secondary / secondary special               Married   \n131518               Higher education               Married   \n131537               Higher education        Civil marriage   \n131555  Secondary / secondary special               Married   \n\n               housing_type  days_birth  days_employed  flag_mobile_phone  \\\n5         House / apartment      -18171          -1671                  1   \n8         House / apartment      -16023          -3532                  1   \n22      Municipal apartment      -15491           -703                  1   \n23         Rented apartment      -15796          -1625                  1   \n28        House / apartment      -23032         365243                  1   \n...                     ...         ...            ...                ...   \n131511    House / apartment      -17318           -246                  1   \n131514    House / apartment      -15140          -2859                  1   \n131518         With parents      -13296          -2178                  1   \n131537    House / apartment      -11772           -113                  1   \n131555     Office apartment      -13908           -993                  1   \n\n        flag_work_phone  flag_phone  flag_email        occupation_type  \\\n5                     0           1           1                    NaN   \n8                     0           0           1            Sales staff   \n22                    0           1           1               Managers   \n23                    0           0           1  High skill tech staff   \n28                    0           0           1                    NaN   \n...                 ...         ...         ...                    ...   \n131511                0           0           1               Managers   \n131514                0           0           1          Cooking staff   \n131518                0           0           1  High skill tech staff   \n131537                0           0           1            Accountants   \n131555                0           0           1            Sales staff   \n\n        total_family_members  \n5                        2.0  \n8                        2.0  \n22                       2.0  \n23                       1.0  \n28                       2.0  \n...                      ...  \n131511                   3.0  \n131514                   3.0  \n131518                   4.0  \n131537                   2.0  \n131555                   3.0  \n\n[12235 rows x 18 columns]",
      "text/html": "<div>\n<style scoped>\n    .dataframe tbody tr th:only-of-type {\n        vertical-align: middle;\n    }\n\n    .dataframe tbody tr th {\n        vertical-align: top;\n    }\n\n    .dataframe thead th {\n        text-align: right;\n    }\n</style>\n<table border=\"1\" class=\"dataframe\">\n  <thead>\n    <tr style=\"text-align: right;\">\n      <th></th>\n      <th>id</th>\n      <th>gender</th>\n      <th>flag_own_car</th>\n      <th>flag_own_property</th>\n      <th>total_children</th>\n      <th>amount_income_total</th>\n      <th>income_type</th>\n      <th>education_type</th>\n      <th>family_status</th>\n      <th>housing_type</th>\n      <th>days_birth</th>\n      <th>days_employed</th>\n      <th>flag_mobile_phone</th>\n      <th>flag_work_phone</th>\n      <th>flag_phone</th>\n      <th>flag_email</th>\n      <th>occupation_type</th>\n      <th>total_family_members</th>\n    </tr>\n  </thead>\n  <tbody>\n    <tr>\n      <th>5</th>\n      <td>5541414</td>\n      <td>Female</td>\n      <td>0</td>\n      <td>1</td>\n      <td>0</td>\n      <td>211500.0</td>\n      <td>Working</td>\n      <td>Secondary / secondary special</td>\n      <td>Civil marriage</td>\n      <td>House / apartment</td>\n      <td>-18171</td>\n      <td>-1671</td>\n      <td>1</td>\n      <td>0</td>\n      <td>1</td>\n      <td>1</td>\n      <td>NaN</td>\n      <td>2.0</td>\n    </tr>\n    <tr>\n      <th>8</th>\n      <td>5169560</td>\n      <td>Female</td>\n      <td>1</td>\n      <td>1</td>\n      <td>0</td>\n      <td>90000.0</td>\n      <td>Working</td>\n      <td>Secondary / secondary special</td>\n      <td>Married</td>\n      <td>House / apartment</td>\n      <td>-16023</td>\n      <td>-3532</td>\n      <td>1</td>\n      <td>0</td>\n      <td>0</td>\n      <td>1</td>\n      <td>Sales staff</td>\n      <td>2.0</td>\n    </tr>\n    <tr>\n      <th>22</th>\n      <td>5884982</td>\n      <td>Female</td>\n      <td>0</td>\n      <td>1</td>\n      <td>0</td>\n      <td>337500.0</td>\n      <td>Commercial associate</td>\n      <td>Secondary / secondary special</td>\n      <td>Married</td>\n      <td>Municipal apartment</td>\n      <td>-15491</td>\n      <td>-703</td>\n      <td>1</td>\n      <td>0</td>\n      <td>1</td>\n      <td>1</td>\n      <td>Managers</td>\n      <td>2.0</td>\n    </tr>\n    <tr>\n      <th>23</th>\n      <td>6297619</td>\n      <td>Male</td>\n      <td>1</td>\n      <td>1</td>\n      <td>0</td>\n      <td>360000.0</td>\n      <td>Commercial associate</td>\n      <td>Higher education</td>\n      <td>Single / not married</td>\n      <td>Rented apartment</td>\n      <td>-15796</td>\n      <td>-1625</td>\n      <td>1</td>\n      <td>0</td>\n      <td>0</td>\n      <td>1</td>\n      <td>High skill tech staff</td>\n      <td>1.0</td>\n    </tr>\n    <tr>\n      <th>28</th>\n      <td>6006818</td>\n      <td>Female</td>\n      <td>0</td>\n      <td>1</td>\n      <td>0</td>\n      <td>247500.0</td>\n      <td>Pensioner</td>\n      <td>Higher education</td>\n      <td>Married</td>\n      <td>House / apartment</td>\n      <td>-23032</td>\n      <td>365243</td>\n      <td>1</td>\n      <td>0</td>\n      <td>0</td>\n      <td>1</td>\n      <td>NaN</td>\n      <td>2.0</td>\n    </tr>\n    <tr>\n      <th>...</th>\n      <td>...</td>\n      <td>...</td>\n      <td>...</td>\n      <td>...</td>\n      <td>...</td>\n      <td>...</td>\n      <td>...</td>\n      <td>...</td>\n      <td>...</td>\n      <td>...</td>\n      <td>...</td>\n      <td>...</td>\n      <td>...</td>\n      <td>...</td>\n      <td>...</td>\n      <td>...</td>\n      <td>...</td>\n      <td>...</td>\n    </tr>\n    <tr>\n      <th>131511</th>\n      <td>5345596</td>\n      <td>Male</td>\n      <td>1</td>\n      <td>1</td>\n      <td>1</td>\n      <td>112500.0</td>\n      <td>Working</td>\n      <td>Higher education</td>\n      <td>Married</td>\n      <td>House / apartment</td>\n      <td>-17318</td>\n      <td>-246</td>\n      <td>1</td>\n      <td>0</td>\n      <td>0</td>\n      <td>1</td>\n      <td>Managers</td>\n      <td>3.0</td>\n    </tr>\n    <tr>\n      <th>131514</th>\n      <td>5680139</td>\n      <td>Female</td>\n      <td>0</td>\n      <td>0</td>\n      <td>1</td>\n      <td>67500.0</td>\n      <td>Working</td>\n      <td>Secondary / secondary special</td>\n      <td>Married</td>\n      <td>House / apartment</td>\n      <td>-15140</td>\n      <td>-2859</td>\n      <td>1</td>\n      <td>0</td>\n      <td>0</td>\n      <td>1</td>\n      <td>Cooking staff</td>\n      <td>3.0</td>\n    </tr>\n    <tr>\n      <th>131518</th>\n      <td>5708288</td>\n      <td>Female</td>\n      <td>0</td>\n      <td>1</td>\n      <td>2</td>\n      <td>135000.0</td>\n      <td>Working</td>\n      <td>Higher education</td>\n      <td>Married</td>\n      <td>With parents</td>\n      <td>-13296</td>\n      <td>-2178</td>\n      <td>1</td>\n      <td>0</td>\n      <td>0</td>\n      <td>1</td>\n      <td>High skill tech staff</td>\n      <td>4.0</td>\n    </tr>\n    <tr>\n      <th>131537</th>\n      <td>5352502</td>\n      <td>Female</td>\n      <td>1</td>\n      <td>1</td>\n      <td>0</td>\n      <td>103500.0</td>\n      <td>Commercial associate</td>\n      <td>Higher education</td>\n      <td>Civil marriage</td>\n      <td>House / apartment</td>\n      <td>-11772</td>\n      <td>-113</td>\n      <td>1</td>\n      <td>0</td>\n      <td>0</td>\n      <td>1</td>\n      <td>Accountants</td>\n      <td>2.0</td>\n    </tr>\n    <tr>\n      <th>131555</th>\n      <td>6234604</td>\n      <td>Female</td>\n      <td>1</td>\n      <td>1</td>\n      <td>1</td>\n      <td>171000.0</td>\n      <td>Working</td>\n      <td>Secondary / secondary special</td>\n      <td>Married</td>\n      <td>Office apartment</td>\n      <td>-13908</td>\n      <td>-993</td>\n      <td>1</td>\n      <td>0</td>\n      <td>0</td>\n      <td>1</td>\n      <td>Sales staff</td>\n      <td>3.0</td>\n    </tr>\n  </tbody>\n</table>\n<p>12235 rows × 18 columns</p>\n</div>"
     },
     "execution_count": 68,
     "metadata": {},
     "output_type": "execute_result"
    }
   ],
   "source": [
    "df3_with_email = df3[df3['flag_email'] == True].drop_duplicates()\n",
    "df3_with_email"
   ],
   "metadata": {
    "collapsed": false,
    "ExecuteTime": {
     "end_time": "2024-06-08T14:54:58.326379200Z",
     "start_time": "2024-06-08T14:54:58.161361800Z"
    }
   },
   "id": "64700f23cf096022"
  },
  {
   "cell_type": "markdown",
   "source": [
    "2. Buatlah column baru bernama `has_car_and_property` dimana nilainya merupakan range dari `0-1`. `1` apabila `flag_own_car` bernilai `1` dan `flag_own_property` bernilai `1`. `0` apabila terdapat atau semua nilai pada column `flag_own_car` dan `flag_own_property` terdapat angka 0. (5pts)"
   ],
   "metadata": {
    "collapsed": false
   },
   "id": "fe0906db1217f9f1"
  },
  {
   "cell_type": "code",
   "execution_count": 69,
   "outputs": [
    {
     "data": {
      "text/plain": "             id  gender  flag_own_car  flag_own_property  total_children  \\\n5       5541414  Female             0                  1               0   \n8       5169560  Female             1                  1               0   \n22      5884982  Female             0                  1               0   \n23      6297619    Male             1                  1               0   \n28      6006818  Female             0                  1               0   \n...         ...     ...           ...                ...             ...   \n131511  5345596    Male             1                  1               1   \n131514  5680139  Female             0                  0               1   \n131518  5708288  Female             0                  1               2   \n131537  5352502  Female             1                  1               0   \n131555  6234604  Female             1                  1               1   \n\n        amount_income_total           income_type  \\\n5                  211500.0               Working   \n8                   90000.0               Working   \n22                 337500.0  Commercial associate   \n23                 360000.0  Commercial associate   \n28                 247500.0             Pensioner   \n...                     ...                   ...   \n131511             112500.0               Working   \n131514              67500.0               Working   \n131518             135000.0               Working   \n131537             103500.0  Commercial associate   \n131555             171000.0               Working   \n\n                       education_type         family_status  \\\n5       Secondary / secondary special        Civil marriage   \n8       Secondary / secondary special               Married   \n22      Secondary / secondary special               Married   \n23                   Higher education  Single / not married   \n28                   Higher education               Married   \n...                               ...                   ...   \n131511               Higher education               Married   \n131514  Secondary / secondary special               Married   \n131518               Higher education               Married   \n131537               Higher education        Civil marriage   \n131555  Secondary / secondary special               Married   \n\n               housing_type  days_birth  days_employed  flag_mobile_phone  \\\n5         House / apartment      -18171          -1671                  1   \n8         House / apartment      -16023          -3532                  1   \n22      Municipal apartment      -15491           -703                  1   \n23         Rented apartment      -15796          -1625                  1   \n28        House / apartment      -23032         365243                  1   \n...                     ...         ...            ...                ...   \n131511    House / apartment      -17318           -246                  1   \n131514    House / apartment      -15140          -2859                  1   \n131518         With parents      -13296          -2178                  1   \n131537    House / apartment      -11772           -113                  1   \n131555     Office apartment      -13908           -993                  1   \n\n        flag_work_phone  flag_phone  flag_email        occupation_type  \\\n5                     0           1           1                    NaN   \n8                     0           0           1            Sales staff   \n22                    0           1           1               Managers   \n23                    0           0           1  High skill tech staff   \n28                    0           0           1                    NaN   \n...                 ...         ...         ...                    ...   \n131511                0           0           1               Managers   \n131514                0           0           1          Cooking staff   \n131518                0           0           1  High skill tech staff   \n131537                0           0           1            Accountants   \n131555                0           0           1            Sales staff   \n\n        total_family_members  has_car_and_property  \n5                        2.0                     0  \n8                        2.0                     1  \n22                       2.0                     0  \n23                       1.0                     1  \n28                       2.0                     0  \n...                      ...                   ...  \n131511                   3.0                     1  \n131514                   3.0                     0  \n131518                   4.0                     0  \n131537                   2.0                     1  \n131555                   3.0                     1  \n\n[12235 rows x 19 columns]",
      "text/html": "<div>\n<style scoped>\n    .dataframe tbody tr th:only-of-type {\n        vertical-align: middle;\n    }\n\n    .dataframe tbody tr th {\n        vertical-align: top;\n    }\n\n    .dataframe thead th {\n        text-align: right;\n    }\n</style>\n<table border=\"1\" class=\"dataframe\">\n  <thead>\n    <tr style=\"text-align: right;\">\n      <th></th>\n      <th>id</th>\n      <th>gender</th>\n      <th>flag_own_car</th>\n      <th>flag_own_property</th>\n      <th>total_children</th>\n      <th>amount_income_total</th>\n      <th>income_type</th>\n      <th>education_type</th>\n      <th>family_status</th>\n      <th>housing_type</th>\n      <th>days_birth</th>\n      <th>days_employed</th>\n      <th>flag_mobile_phone</th>\n      <th>flag_work_phone</th>\n      <th>flag_phone</th>\n      <th>flag_email</th>\n      <th>occupation_type</th>\n      <th>total_family_members</th>\n      <th>has_car_and_property</th>\n    </tr>\n  </thead>\n  <tbody>\n    <tr>\n      <th>5</th>\n      <td>5541414</td>\n      <td>Female</td>\n      <td>0</td>\n      <td>1</td>\n      <td>0</td>\n      <td>211500.0</td>\n      <td>Working</td>\n      <td>Secondary / secondary special</td>\n      <td>Civil marriage</td>\n      <td>House / apartment</td>\n      <td>-18171</td>\n      <td>-1671</td>\n      <td>1</td>\n      <td>0</td>\n      <td>1</td>\n      <td>1</td>\n      <td>NaN</td>\n      <td>2.0</td>\n      <td>0</td>\n    </tr>\n    <tr>\n      <th>8</th>\n      <td>5169560</td>\n      <td>Female</td>\n      <td>1</td>\n      <td>1</td>\n      <td>0</td>\n      <td>90000.0</td>\n      <td>Working</td>\n      <td>Secondary / secondary special</td>\n      <td>Married</td>\n      <td>House / apartment</td>\n      <td>-16023</td>\n      <td>-3532</td>\n      <td>1</td>\n      <td>0</td>\n      <td>0</td>\n      <td>1</td>\n      <td>Sales staff</td>\n      <td>2.0</td>\n      <td>1</td>\n    </tr>\n    <tr>\n      <th>22</th>\n      <td>5884982</td>\n      <td>Female</td>\n      <td>0</td>\n      <td>1</td>\n      <td>0</td>\n      <td>337500.0</td>\n      <td>Commercial associate</td>\n      <td>Secondary / secondary special</td>\n      <td>Married</td>\n      <td>Municipal apartment</td>\n      <td>-15491</td>\n      <td>-703</td>\n      <td>1</td>\n      <td>0</td>\n      <td>1</td>\n      <td>1</td>\n      <td>Managers</td>\n      <td>2.0</td>\n      <td>0</td>\n    </tr>\n    <tr>\n      <th>23</th>\n      <td>6297619</td>\n      <td>Male</td>\n      <td>1</td>\n      <td>1</td>\n      <td>0</td>\n      <td>360000.0</td>\n      <td>Commercial associate</td>\n      <td>Higher education</td>\n      <td>Single / not married</td>\n      <td>Rented apartment</td>\n      <td>-15796</td>\n      <td>-1625</td>\n      <td>1</td>\n      <td>0</td>\n      <td>0</td>\n      <td>1</td>\n      <td>High skill tech staff</td>\n      <td>1.0</td>\n      <td>1</td>\n    </tr>\n    <tr>\n      <th>28</th>\n      <td>6006818</td>\n      <td>Female</td>\n      <td>0</td>\n      <td>1</td>\n      <td>0</td>\n      <td>247500.0</td>\n      <td>Pensioner</td>\n      <td>Higher education</td>\n      <td>Married</td>\n      <td>House / apartment</td>\n      <td>-23032</td>\n      <td>365243</td>\n      <td>1</td>\n      <td>0</td>\n      <td>0</td>\n      <td>1</td>\n      <td>NaN</td>\n      <td>2.0</td>\n      <td>0</td>\n    </tr>\n    <tr>\n      <th>...</th>\n      <td>...</td>\n      <td>...</td>\n      <td>...</td>\n      <td>...</td>\n      <td>...</td>\n      <td>...</td>\n      <td>...</td>\n      <td>...</td>\n      <td>...</td>\n      <td>...</td>\n      <td>...</td>\n      <td>...</td>\n      <td>...</td>\n      <td>...</td>\n      <td>...</td>\n      <td>...</td>\n      <td>...</td>\n      <td>...</td>\n      <td>...</td>\n    </tr>\n    <tr>\n      <th>131511</th>\n      <td>5345596</td>\n      <td>Male</td>\n      <td>1</td>\n      <td>1</td>\n      <td>1</td>\n      <td>112500.0</td>\n      <td>Working</td>\n      <td>Higher education</td>\n      <td>Married</td>\n      <td>House / apartment</td>\n      <td>-17318</td>\n      <td>-246</td>\n      <td>1</td>\n      <td>0</td>\n      <td>0</td>\n      <td>1</td>\n      <td>Managers</td>\n      <td>3.0</td>\n      <td>1</td>\n    </tr>\n    <tr>\n      <th>131514</th>\n      <td>5680139</td>\n      <td>Female</td>\n      <td>0</td>\n      <td>0</td>\n      <td>1</td>\n      <td>67500.0</td>\n      <td>Working</td>\n      <td>Secondary / secondary special</td>\n      <td>Married</td>\n      <td>House / apartment</td>\n      <td>-15140</td>\n      <td>-2859</td>\n      <td>1</td>\n      <td>0</td>\n      <td>0</td>\n      <td>1</td>\n      <td>Cooking staff</td>\n      <td>3.0</td>\n      <td>0</td>\n    </tr>\n    <tr>\n      <th>131518</th>\n      <td>5708288</td>\n      <td>Female</td>\n      <td>0</td>\n      <td>1</td>\n      <td>2</td>\n      <td>135000.0</td>\n      <td>Working</td>\n      <td>Higher education</td>\n      <td>Married</td>\n      <td>With parents</td>\n      <td>-13296</td>\n      <td>-2178</td>\n      <td>1</td>\n      <td>0</td>\n      <td>0</td>\n      <td>1</td>\n      <td>High skill tech staff</td>\n      <td>4.0</td>\n      <td>0</td>\n    </tr>\n    <tr>\n      <th>131537</th>\n      <td>5352502</td>\n      <td>Female</td>\n      <td>1</td>\n      <td>1</td>\n      <td>0</td>\n      <td>103500.0</td>\n      <td>Commercial associate</td>\n      <td>Higher education</td>\n      <td>Civil marriage</td>\n      <td>House / apartment</td>\n      <td>-11772</td>\n      <td>-113</td>\n      <td>1</td>\n      <td>0</td>\n      <td>0</td>\n      <td>1</td>\n      <td>Accountants</td>\n      <td>2.0</td>\n      <td>1</td>\n    </tr>\n    <tr>\n      <th>131555</th>\n      <td>6234604</td>\n      <td>Female</td>\n      <td>1</td>\n      <td>1</td>\n      <td>1</td>\n      <td>171000.0</td>\n      <td>Working</td>\n      <td>Secondary / secondary special</td>\n      <td>Married</td>\n      <td>Office apartment</td>\n      <td>-13908</td>\n      <td>-993</td>\n      <td>1</td>\n      <td>0</td>\n      <td>0</td>\n      <td>1</td>\n      <td>Sales staff</td>\n      <td>3.0</td>\n      <td>1</td>\n    </tr>\n  </tbody>\n</table>\n<p>12235 rows × 19 columns</p>\n</div>"
     },
     "execution_count": 69,
     "metadata": {},
     "output_type": "execute_result"
    }
   ],
   "source": [
    "df3_with_email['has_car_and_property'] = df3_with_email[['flag_own_car', 'flag_own_property']].apply(\n",
    "    lambda row: 1 if (row['flag_own_car'] == 1) and (row['flag_own_property'] == 1) else 0, axis=1\n",
    ")\n",
    "df3_with_email"
   ],
   "metadata": {
    "collapsed": false,
    "ExecuteTime": {
     "end_time": "2024-06-08T14:55:06.033101100Z",
     "start_time": "2024-06-08T14:55:05.851648800Z"
    }
   },
   "id": "2437caf615edf3b6"
  },
  {
   "cell_type": "markdown",
   "source": [
    "3. Ambil column yang diperlukan yaitu `id`, `gender`, `has_car_and_property`, `income_type`, `education_type`, `family_status`, `housing_type`, `occupation_type`, `amount_income_total`. (5pts)"
   ],
   "metadata": {
    "collapsed": false
   },
   "id": "e188661cfb6ab81a"
  },
  {
   "cell_type": "code",
   "execution_count": 70,
   "outputs": [
    {
     "data": {
      "text/plain": "             id  gender  has_car_and_property           income_type  \\\n5       5541414  Female                     0               Working   \n8       5169560  Female                     1               Working   \n22      5884982  Female                     0  Commercial associate   \n23      6297619    Male                     1  Commercial associate   \n28      6006818  Female                     0             Pensioner   \n...         ...     ...                   ...                   ...   \n131511  5345596    Male                     1               Working   \n131514  5680139  Female                     0               Working   \n131518  5708288  Female                     0               Working   \n131537  5352502  Female                     1  Commercial associate   \n131555  6234604  Female                     1               Working   \n\n                       education_type         family_status  \\\n5       Secondary / secondary special        Civil marriage   \n8       Secondary / secondary special               Married   \n22      Secondary / secondary special               Married   \n23                   Higher education  Single / not married   \n28                   Higher education               Married   \n...                               ...                   ...   \n131511               Higher education               Married   \n131514  Secondary / secondary special               Married   \n131518               Higher education               Married   \n131537               Higher education        Civil marriage   \n131555  Secondary / secondary special               Married   \n\n               housing_type        occupation_type  amount_income_total  \n5         House / apartment                    NaN             211500.0  \n8         House / apartment            Sales staff              90000.0  \n22      Municipal apartment               Managers             337500.0  \n23         Rented apartment  High skill tech staff             360000.0  \n28        House / apartment                    NaN             247500.0  \n...                     ...                    ...                  ...  \n131511    House / apartment               Managers             112500.0  \n131514    House / apartment          Cooking staff              67500.0  \n131518         With parents  High skill tech staff             135000.0  \n131537    House / apartment            Accountants             103500.0  \n131555     Office apartment            Sales staff             171000.0  \n\n[12235 rows x 9 columns]",
      "text/html": "<div>\n<style scoped>\n    .dataframe tbody tr th:only-of-type {\n        vertical-align: middle;\n    }\n\n    .dataframe tbody tr th {\n        vertical-align: top;\n    }\n\n    .dataframe thead th {\n        text-align: right;\n    }\n</style>\n<table border=\"1\" class=\"dataframe\">\n  <thead>\n    <tr style=\"text-align: right;\">\n      <th></th>\n      <th>id</th>\n      <th>gender</th>\n      <th>has_car_and_property</th>\n      <th>income_type</th>\n      <th>education_type</th>\n      <th>family_status</th>\n      <th>housing_type</th>\n      <th>occupation_type</th>\n      <th>amount_income_total</th>\n    </tr>\n  </thead>\n  <tbody>\n    <tr>\n      <th>5</th>\n      <td>5541414</td>\n      <td>Female</td>\n      <td>0</td>\n      <td>Working</td>\n      <td>Secondary / secondary special</td>\n      <td>Civil marriage</td>\n      <td>House / apartment</td>\n      <td>NaN</td>\n      <td>211500.0</td>\n    </tr>\n    <tr>\n      <th>8</th>\n      <td>5169560</td>\n      <td>Female</td>\n      <td>1</td>\n      <td>Working</td>\n      <td>Secondary / secondary special</td>\n      <td>Married</td>\n      <td>House / apartment</td>\n      <td>Sales staff</td>\n      <td>90000.0</td>\n    </tr>\n    <tr>\n      <th>22</th>\n      <td>5884982</td>\n      <td>Female</td>\n      <td>0</td>\n      <td>Commercial associate</td>\n      <td>Secondary / secondary special</td>\n      <td>Married</td>\n      <td>Municipal apartment</td>\n      <td>Managers</td>\n      <td>337500.0</td>\n    </tr>\n    <tr>\n      <th>23</th>\n      <td>6297619</td>\n      <td>Male</td>\n      <td>1</td>\n      <td>Commercial associate</td>\n      <td>Higher education</td>\n      <td>Single / not married</td>\n      <td>Rented apartment</td>\n      <td>High skill tech staff</td>\n      <td>360000.0</td>\n    </tr>\n    <tr>\n      <th>28</th>\n      <td>6006818</td>\n      <td>Female</td>\n      <td>0</td>\n      <td>Pensioner</td>\n      <td>Higher education</td>\n      <td>Married</td>\n      <td>House / apartment</td>\n      <td>NaN</td>\n      <td>247500.0</td>\n    </tr>\n    <tr>\n      <th>...</th>\n      <td>...</td>\n      <td>...</td>\n      <td>...</td>\n      <td>...</td>\n      <td>...</td>\n      <td>...</td>\n      <td>...</td>\n      <td>...</td>\n      <td>...</td>\n    </tr>\n    <tr>\n      <th>131511</th>\n      <td>5345596</td>\n      <td>Male</td>\n      <td>1</td>\n      <td>Working</td>\n      <td>Higher education</td>\n      <td>Married</td>\n      <td>House / apartment</td>\n      <td>Managers</td>\n      <td>112500.0</td>\n    </tr>\n    <tr>\n      <th>131514</th>\n      <td>5680139</td>\n      <td>Female</td>\n      <td>0</td>\n      <td>Working</td>\n      <td>Secondary / secondary special</td>\n      <td>Married</td>\n      <td>House / apartment</td>\n      <td>Cooking staff</td>\n      <td>67500.0</td>\n    </tr>\n    <tr>\n      <th>131518</th>\n      <td>5708288</td>\n      <td>Female</td>\n      <td>0</td>\n      <td>Working</td>\n      <td>Higher education</td>\n      <td>Married</td>\n      <td>With parents</td>\n      <td>High skill tech staff</td>\n      <td>135000.0</td>\n    </tr>\n    <tr>\n      <th>131537</th>\n      <td>5352502</td>\n      <td>Female</td>\n      <td>1</td>\n      <td>Commercial associate</td>\n      <td>Higher education</td>\n      <td>Civil marriage</td>\n      <td>House / apartment</td>\n      <td>Accountants</td>\n      <td>103500.0</td>\n    </tr>\n    <tr>\n      <th>131555</th>\n      <td>6234604</td>\n      <td>Female</td>\n      <td>1</td>\n      <td>Working</td>\n      <td>Secondary / secondary special</td>\n      <td>Married</td>\n      <td>Office apartment</td>\n      <td>Sales staff</td>\n      <td>171000.0</td>\n    </tr>\n  </tbody>\n</table>\n<p>12235 rows × 9 columns</p>\n</div>"
     },
     "execution_count": 70,
     "metadata": {},
     "output_type": "execute_result"
    }
   ],
   "source": [
    "df3_dengan_kolom_yang_diperlukan = df3_with_email[['id','gender','has_car_and_property','income_type','education_type','family_status','housing_type','occupation_type','amount_income_total']]\n",
    "df3_dengan_kolom_yang_diperlukan"
   ],
   "metadata": {
    "collapsed": false,
    "ExecuteTime": {
     "end_time": "2024-06-08T14:55:30.860151500Z",
     "start_time": "2024-06-08T14:55:30.786449Z"
    }
   },
   "id": "d25c574d9ec84e5f"
  },
  {
   "cell_type": "markdown",
   "source": [
    "4. Lakukan filter dengan ketentuan sebagai berikut: (5pts)\n",
    "    - Memiliki `car` dan `property`\n",
    "    - Tidak ada nilai null pada column `occupation_type`\n",
    "    - Memiliki value pada column `occupation_type` dengan pola `staff`."
   ],
   "metadata": {
    "collapsed": false
   },
   "id": "394adf8ad33fa026"
  },
  {
   "cell_type": "code",
   "execution_count": 71,
   "outputs": [
    {
     "data": {
      "text/plain": "             id  gender  has_car_and_property           income_type  \\\n8       5169560  Female                     1               Working   \n23      6297619    Male                     1  Commercial associate   \n169     5548993  Female                     1  Commercial associate   \n276     5344333  Female                     1               Working   \n353     5499766  Female                     1               Working   \n...         ...     ...                   ...                   ...   \n131412  6046953    Male                     1         State servant   \n131439  6484818    Male                     1               Working   \n131470  5883006  Female                     1         State servant   \n131481  6728550  Female                     1               Working   \n131555  6234604  Female                     1               Working   \n\n                       education_type         family_status  \\\n8       Secondary / secondary special               Married   \n23                   Higher education  Single / not married   \n169                  Higher education               Married   \n276     Secondary / secondary special               Married   \n353     Secondary / secondary special        Civil marriage   \n...                               ...                   ...   \n131412               Higher education  Single / not married   \n131439               Higher education               Married   \n131470               Higher education  Single / not married   \n131481              Incomplete higher        Civil marriage   \n131555  Secondary / secondary special               Married   \n\n             housing_type        occupation_type  amount_income_total  \n8       House / apartment            Sales staff              90000.0  \n23       Rented apartment  High skill tech staff             360000.0  \n169     House / apartment             Core staff             405000.0  \n276     House / apartment         Medicine staff             135000.0  \n353     House / apartment             Core staff             225000.0  \n...                   ...                    ...                  ...  \n131412  House / apartment             Core staff             450000.0  \n131439  House / apartment            Sales staff             315000.0  \n131470  House / apartment         Medicine staff             157500.0  \n131481  House / apartment             Core staff             157500.0  \n131555   Office apartment            Sales staff             171000.0  \n\n[1258 rows x 9 columns]",
      "text/html": "<div>\n<style scoped>\n    .dataframe tbody tr th:only-of-type {\n        vertical-align: middle;\n    }\n\n    .dataframe tbody tr th {\n        vertical-align: top;\n    }\n\n    .dataframe thead th {\n        text-align: right;\n    }\n</style>\n<table border=\"1\" class=\"dataframe\">\n  <thead>\n    <tr style=\"text-align: right;\">\n      <th></th>\n      <th>id</th>\n      <th>gender</th>\n      <th>has_car_and_property</th>\n      <th>income_type</th>\n      <th>education_type</th>\n      <th>family_status</th>\n      <th>housing_type</th>\n      <th>occupation_type</th>\n      <th>amount_income_total</th>\n    </tr>\n  </thead>\n  <tbody>\n    <tr>\n      <th>8</th>\n      <td>5169560</td>\n      <td>Female</td>\n      <td>1</td>\n      <td>Working</td>\n      <td>Secondary / secondary special</td>\n      <td>Married</td>\n      <td>House / apartment</td>\n      <td>Sales staff</td>\n      <td>90000.0</td>\n    </tr>\n    <tr>\n      <th>23</th>\n      <td>6297619</td>\n      <td>Male</td>\n      <td>1</td>\n      <td>Commercial associate</td>\n      <td>Higher education</td>\n      <td>Single / not married</td>\n      <td>Rented apartment</td>\n      <td>High skill tech staff</td>\n      <td>360000.0</td>\n    </tr>\n    <tr>\n      <th>169</th>\n      <td>5548993</td>\n      <td>Female</td>\n      <td>1</td>\n      <td>Commercial associate</td>\n      <td>Higher education</td>\n      <td>Married</td>\n      <td>House / apartment</td>\n      <td>Core staff</td>\n      <td>405000.0</td>\n    </tr>\n    <tr>\n      <th>276</th>\n      <td>5344333</td>\n      <td>Female</td>\n      <td>1</td>\n      <td>Working</td>\n      <td>Secondary / secondary special</td>\n      <td>Married</td>\n      <td>House / apartment</td>\n      <td>Medicine staff</td>\n      <td>135000.0</td>\n    </tr>\n    <tr>\n      <th>353</th>\n      <td>5499766</td>\n      <td>Female</td>\n      <td>1</td>\n      <td>Working</td>\n      <td>Secondary / secondary special</td>\n      <td>Civil marriage</td>\n      <td>House / apartment</td>\n      <td>Core staff</td>\n      <td>225000.0</td>\n    </tr>\n    <tr>\n      <th>...</th>\n      <td>...</td>\n      <td>...</td>\n      <td>...</td>\n      <td>...</td>\n      <td>...</td>\n      <td>...</td>\n      <td>...</td>\n      <td>...</td>\n      <td>...</td>\n    </tr>\n    <tr>\n      <th>131412</th>\n      <td>6046953</td>\n      <td>Male</td>\n      <td>1</td>\n      <td>State servant</td>\n      <td>Higher education</td>\n      <td>Single / not married</td>\n      <td>House / apartment</td>\n      <td>Core staff</td>\n      <td>450000.0</td>\n    </tr>\n    <tr>\n      <th>131439</th>\n      <td>6484818</td>\n      <td>Male</td>\n      <td>1</td>\n      <td>Working</td>\n      <td>Higher education</td>\n      <td>Married</td>\n      <td>House / apartment</td>\n      <td>Sales staff</td>\n      <td>315000.0</td>\n    </tr>\n    <tr>\n      <th>131470</th>\n      <td>5883006</td>\n      <td>Female</td>\n      <td>1</td>\n      <td>State servant</td>\n      <td>Higher education</td>\n      <td>Single / not married</td>\n      <td>House / apartment</td>\n      <td>Medicine staff</td>\n      <td>157500.0</td>\n    </tr>\n    <tr>\n      <th>131481</th>\n      <td>6728550</td>\n      <td>Female</td>\n      <td>1</td>\n      <td>Working</td>\n      <td>Incomplete higher</td>\n      <td>Civil marriage</td>\n      <td>House / apartment</td>\n      <td>Core staff</td>\n      <td>157500.0</td>\n    </tr>\n    <tr>\n      <th>131555</th>\n      <td>6234604</td>\n      <td>Female</td>\n      <td>1</td>\n      <td>Working</td>\n      <td>Secondary / secondary special</td>\n      <td>Married</td>\n      <td>Office apartment</td>\n      <td>Sales staff</td>\n      <td>171000.0</td>\n    </tr>\n  </tbody>\n</table>\n<p>1258 rows × 9 columns</p>\n</div>"
     },
     "execution_count": 71,
     "metadata": {},
     "output_type": "execute_result"
    }
   ],
   "source": [
    "df3_dengan_filter_yang_diperlukan = (\n",
    "    df3_dengan_kolom_yang_diperlukan)[\n",
    "    (df3_dengan_kolom_yang_diperlukan['has_car_and_property'] ==1) &\n",
    "    (df3_dengan_kolom_yang_diperlukan['occupation_type'].notnull()) &\n",
    "    (df3_dengan_kolom_yang_diperlukan['occupation_type'].str.lower().str.contains('staff'))\n",
    "    \n",
    "]\n",
    "df3_dengan_filter_yang_diperlukan"
   ],
   "metadata": {
    "collapsed": false,
    "ExecuteTime": {
     "end_time": "2024-06-08T14:55:40.606632300Z",
     "start_time": "2024-06-08T14:55:40.509385300Z"
    }
   },
   "id": "5678ab4b5c83c142"
  },
  {
   "cell_type": "markdown",
   "source": [
    "5. Sudah dilakukan sorting berdasarkan `income_type` dari `A-Z` dan `amount_income_total` dari `besar ke kecil`. (5pts)"
   ],
   "metadata": {
    "collapsed": false
   },
   "id": "85a94910e2da59f8"
  },
  {
   "cell_type": "code",
   "execution_count": 72,
   "outputs": [
    {
     "data": {
      "text/plain": "             id  gender  has_car_and_property           income_type  \\\n52421   6604643    Male                     1  Commercial associate   \n59763   6604646    Male                     1  Commercial associate   \n64362   6604645    Male                     1  Commercial associate   \n24436   6423956  Female                     1  Commercial associate   \n53672   6423944  Female                     1  Commercial associate   \n...         ...     ...                   ...                   ...   \n52545   6659184  Female                     1               Working   \n52559   5021814  Female                     1               Working   \n80932   5193900  Female                     1               Working   \n117940  6659179  Female                     1               Working   \n73293   5936326    Male                     1               Working   \n\n                       education_type         family_status  \\\n52421   Secondary / secondary special  Single / not married   \n59763   Secondary / secondary special  Single / not married   \n64362   Secondary / secondary special  Single / not married   \n24436                Higher education               Married   \n53672                Higher education               Married   \n...                               ...                   ...   \n52545   Secondary / secondary special               Married   \n52559   Secondary / secondary special               Married   \n80932                Higher education               Married   \n117940  Secondary / secondary special               Married   \n73293   Secondary / secondary special               Married   \n\n             housing_type occupation_type  amount_income_total  \n52421   House / apartment      Core staff            1350000.0  \n59763   House / apartment      Core staff            1350000.0  \n64362   House / apartment      Core staff            1350000.0  \n24436   House / apartment      Core staff             837000.0  \n53672   House / apartment      Core staff             837000.0  \n...                   ...             ...                  ...  \n52545   House / apartment      Core staff              67500.0  \n52559   House / apartment   Cooking staff              67500.0  \n80932   House / apartment     Sales staff              67500.0  \n117940  House / apartment      Core staff              67500.0  \n73293   House / apartment  Security staff              40500.0  \n\n[1258 rows x 9 columns]",
      "text/html": "<div>\n<style scoped>\n    .dataframe tbody tr th:only-of-type {\n        vertical-align: middle;\n    }\n\n    .dataframe tbody tr th {\n        vertical-align: top;\n    }\n\n    .dataframe thead th {\n        text-align: right;\n    }\n</style>\n<table border=\"1\" class=\"dataframe\">\n  <thead>\n    <tr style=\"text-align: right;\">\n      <th></th>\n      <th>id</th>\n      <th>gender</th>\n      <th>has_car_and_property</th>\n      <th>income_type</th>\n      <th>education_type</th>\n      <th>family_status</th>\n      <th>housing_type</th>\n      <th>occupation_type</th>\n      <th>amount_income_total</th>\n    </tr>\n  </thead>\n  <tbody>\n    <tr>\n      <th>52421</th>\n      <td>6604643</td>\n      <td>Male</td>\n      <td>1</td>\n      <td>Commercial associate</td>\n      <td>Secondary / secondary special</td>\n      <td>Single / not married</td>\n      <td>House / apartment</td>\n      <td>Core staff</td>\n      <td>1350000.0</td>\n    </tr>\n    <tr>\n      <th>59763</th>\n      <td>6604646</td>\n      <td>Male</td>\n      <td>1</td>\n      <td>Commercial associate</td>\n      <td>Secondary / secondary special</td>\n      <td>Single / not married</td>\n      <td>House / apartment</td>\n      <td>Core staff</td>\n      <td>1350000.0</td>\n    </tr>\n    <tr>\n      <th>64362</th>\n      <td>6604645</td>\n      <td>Male</td>\n      <td>1</td>\n      <td>Commercial associate</td>\n      <td>Secondary / secondary special</td>\n      <td>Single / not married</td>\n      <td>House / apartment</td>\n      <td>Core staff</td>\n      <td>1350000.0</td>\n    </tr>\n    <tr>\n      <th>24436</th>\n      <td>6423956</td>\n      <td>Female</td>\n      <td>1</td>\n      <td>Commercial associate</td>\n      <td>Higher education</td>\n      <td>Married</td>\n      <td>House / apartment</td>\n      <td>Core staff</td>\n      <td>837000.0</td>\n    </tr>\n    <tr>\n      <th>53672</th>\n      <td>6423944</td>\n      <td>Female</td>\n      <td>1</td>\n      <td>Commercial associate</td>\n      <td>Higher education</td>\n      <td>Married</td>\n      <td>House / apartment</td>\n      <td>Core staff</td>\n      <td>837000.0</td>\n    </tr>\n    <tr>\n      <th>...</th>\n      <td>...</td>\n      <td>...</td>\n      <td>...</td>\n      <td>...</td>\n      <td>...</td>\n      <td>...</td>\n      <td>...</td>\n      <td>...</td>\n      <td>...</td>\n    </tr>\n    <tr>\n      <th>52545</th>\n      <td>6659184</td>\n      <td>Female</td>\n      <td>1</td>\n      <td>Working</td>\n      <td>Secondary / secondary special</td>\n      <td>Married</td>\n      <td>House / apartment</td>\n      <td>Core staff</td>\n      <td>67500.0</td>\n    </tr>\n    <tr>\n      <th>52559</th>\n      <td>5021814</td>\n      <td>Female</td>\n      <td>1</td>\n      <td>Working</td>\n      <td>Secondary / secondary special</td>\n      <td>Married</td>\n      <td>House / apartment</td>\n      <td>Cooking staff</td>\n      <td>67500.0</td>\n    </tr>\n    <tr>\n      <th>80932</th>\n      <td>5193900</td>\n      <td>Female</td>\n      <td>1</td>\n      <td>Working</td>\n      <td>Higher education</td>\n      <td>Married</td>\n      <td>House / apartment</td>\n      <td>Sales staff</td>\n      <td>67500.0</td>\n    </tr>\n    <tr>\n      <th>117940</th>\n      <td>6659179</td>\n      <td>Female</td>\n      <td>1</td>\n      <td>Working</td>\n      <td>Secondary / secondary special</td>\n      <td>Married</td>\n      <td>House / apartment</td>\n      <td>Core staff</td>\n      <td>67500.0</td>\n    </tr>\n    <tr>\n      <th>73293</th>\n      <td>5936326</td>\n      <td>Male</td>\n      <td>1</td>\n      <td>Working</td>\n      <td>Secondary / secondary special</td>\n      <td>Married</td>\n      <td>House / apartment</td>\n      <td>Security staff</td>\n      <td>40500.0</td>\n    </tr>\n  </tbody>\n</table>\n<p>1258 rows × 9 columns</p>\n</div>"
     },
     "execution_count": 72,
     "metadata": {},
     "output_type": "execute_result"
    }
   ],
   "source": [
    "df3_sorting= df3_dengan_filter_yang_diperlukan.sort_values(['income_type','amount_income_total'], ascending=[True,False])\n",
    "df3_sorting"
   ],
   "metadata": {
    "collapsed": false,
    "ExecuteTime": {
     "end_time": "2024-06-08T14:55:47.361950100Z",
     "start_time": "2024-06-08T14:55:47.276224700Z"
    }
   },
   "id": "8d152589f4682a29"
  },
  {
   "cell_type": "markdown",
   "source": [
    "6. Simpan kedalam bentuk `.csv` dengan nama `homework_3_result.csv`. (5pts)\n"
   ],
   "metadata": {
    "collapsed": false
   },
   "id": "59b67ee074f7db32"
  },
  {
   "cell_type": "code",
   "execution_count": 73,
   "outputs": [],
   "source": [
    "df3_result = df3_sorting.to_csv('homework_3_result.csv', index=False)"
   ],
   "metadata": {
    "collapsed": false,
    "ExecuteTime": {
     "end_time": "2024-06-08T14:55:52.586710400Z",
     "start_time": "2024-06-08T14:55:52.520149700Z"
    }
   },
   "id": "a3339bbc3232d3f5"
  },
  {
   "cell_type": "markdown",
   "id": "1d26b6c7-1e20-47a9-bf4e-6ed74b04a237",
   "metadata": {
    "tags": []
   },
   "source": [
    "# B.DataFrame Aggregation (25pts)"
   ]
  },
  {
   "cell_type": "markdown",
   "id": "2ba1cb33-978c-4c65-bcb6-bcec082c9217",
   "metadata": {
    "tags": []
   },
   "source": [
    "## Intermediate"
   ]
  },
  {
   "cell_type": "markdown",
   "id": "80f6c274-66bd-48fd-9cd7-6d2bc4d95a28",
   "metadata": {
    "tags": []
   },
   "source": [
    "### 4. Group By and Aggregate (10pts)\n",
    "\n",
    "Dengan menggunakan data `titanic.csv`, buatlah dataframe untuk melihat informasi `max` dan `min` pada column `Age` dan juga informasi `mean` dan `median` pada column `Fare` pada masing-masing PassengerClass atau `Pclass`.\n",
    "\n",
    "**Expected Result:**\n",
    "\n",
    "![Expected Result](assets/homework_exercise_4_result.png)"
   ]
  },
  {
   "cell_type": "code",
   "execution_count": 74,
   "id": "87c3bf6f-5460-433f-8820-8189f21d60fb",
   "metadata": {
    "ExecuteTime": {
     "end_time": "2024-06-08T14:57:48.753396100Z",
     "start_time": "2024-06-08T14:57:48.704051100Z"
    }
   },
   "outputs": [
    {
     "data": {
      "text/plain": "     PassengerId  Survived  Pclass  \\\n0              1         0       3   \n1              2         1       1   \n2              3         1       3   \n3              4         1       1   \n4              5         0       3   \n..           ...       ...     ...   \n886          887         0       2   \n887          888         1       1   \n888          889         0       3   \n889          890         1       1   \n890          891         0       3   \n\n                                                  Name     Sex   Age  SibSp  \\\n0                              Braund, Mr. Owen Harris    male  22.0      1   \n1    Cumings, Mrs. John Bradley (Florence Briggs Th...  female  38.0      1   \n2                               Heikkinen, Miss. Laina  female  26.0      0   \n3         Futrelle, Mrs. Jacques Heath (Lily May Peel)  female  35.0      1   \n4                             Allen, Mr. William Henry    male  35.0      0   \n..                                                 ...     ...   ...    ...   \n886                              Montvila, Rev. Juozas    male  27.0      0   \n887                       Graham, Miss. Margaret Edith  female  19.0      0   \n888           Johnston, Miss. Catherine Helen \"Carrie\"  female   NaN      1   \n889                              Behr, Mr. Karl Howell    male  26.0      0   \n890                                Dooley, Mr. Patrick    male  32.0      0   \n\n     Parch            Ticket     Fare Cabin Embarked  \n0        0         A/5 21171   7.2500   NaN        S  \n1        0          PC 17599  71.2833   C85        C  \n2        0  STON/O2. 3101282   7.9250   NaN        S  \n3        0            113803  53.1000  C123        S  \n4        0            373450   8.0500   NaN        S  \n..     ...               ...      ...   ...      ...  \n886      0            211536  13.0000   NaN        S  \n887      0            112053  30.0000   B42        S  \n888      2        W./C. 6607  23.4500   NaN        S  \n889      0            111369  30.0000  C148        C  \n890      0            370376   7.7500   NaN        Q  \n\n[891 rows x 12 columns]",
      "text/html": "<div>\n<style scoped>\n    .dataframe tbody tr th:only-of-type {\n        vertical-align: middle;\n    }\n\n    .dataframe tbody tr th {\n        vertical-align: top;\n    }\n\n    .dataframe thead th {\n        text-align: right;\n    }\n</style>\n<table border=\"1\" class=\"dataframe\">\n  <thead>\n    <tr style=\"text-align: right;\">\n      <th></th>\n      <th>PassengerId</th>\n      <th>Survived</th>\n      <th>Pclass</th>\n      <th>Name</th>\n      <th>Sex</th>\n      <th>Age</th>\n      <th>SibSp</th>\n      <th>Parch</th>\n      <th>Ticket</th>\n      <th>Fare</th>\n      <th>Cabin</th>\n      <th>Embarked</th>\n    </tr>\n  </thead>\n  <tbody>\n    <tr>\n      <th>0</th>\n      <td>1</td>\n      <td>0</td>\n      <td>3</td>\n      <td>Braund, Mr. Owen Harris</td>\n      <td>male</td>\n      <td>22.0</td>\n      <td>1</td>\n      <td>0</td>\n      <td>A/5 21171</td>\n      <td>7.2500</td>\n      <td>NaN</td>\n      <td>S</td>\n    </tr>\n    <tr>\n      <th>1</th>\n      <td>2</td>\n      <td>1</td>\n      <td>1</td>\n      <td>Cumings, Mrs. John Bradley (Florence Briggs Th...</td>\n      <td>female</td>\n      <td>38.0</td>\n      <td>1</td>\n      <td>0</td>\n      <td>PC 17599</td>\n      <td>71.2833</td>\n      <td>C85</td>\n      <td>C</td>\n    </tr>\n    <tr>\n      <th>2</th>\n      <td>3</td>\n      <td>1</td>\n      <td>3</td>\n      <td>Heikkinen, Miss. Laina</td>\n      <td>female</td>\n      <td>26.0</td>\n      <td>0</td>\n      <td>0</td>\n      <td>STON/O2. 3101282</td>\n      <td>7.9250</td>\n      <td>NaN</td>\n      <td>S</td>\n    </tr>\n    <tr>\n      <th>3</th>\n      <td>4</td>\n      <td>1</td>\n      <td>1</td>\n      <td>Futrelle, Mrs. Jacques Heath (Lily May Peel)</td>\n      <td>female</td>\n      <td>35.0</td>\n      <td>1</td>\n      <td>0</td>\n      <td>113803</td>\n      <td>53.1000</td>\n      <td>C123</td>\n      <td>S</td>\n    </tr>\n    <tr>\n      <th>4</th>\n      <td>5</td>\n      <td>0</td>\n      <td>3</td>\n      <td>Allen, Mr. William Henry</td>\n      <td>male</td>\n      <td>35.0</td>\n      <td>0</td>\n      <td>0</td>\n      <td>373450</td>\n      <td>8.0500</td>\n      <td>NaN</td>\n      <td>S</td>\n    </tr>\n    <tr>\n      <th>...</th>\n      <td>...</td>\n      <td>...</td>\n      <td>...</td>\n      <td>...</td>\n      <td>...</td>\n      <td>...</td>\n      <td>...</td>\n      <td>...</td>\n      <td>...</td>\n      <td>...</td>\n      <td>...</td>\n      <td>...</td>\n    </tr>\n    <tr>\n      <th>886</th>\n      <td>887</td>\n      <td>0</td>\n      <td>2</td>\n      <td>Montvila, Rev. Juozas</td>\n      <td>male</td>\n      <td>27.0</td>\n      <td>0</td>\n      <td>0</td>\n      <td>211536</td>\n      <td>13.0000</td>\n      <td>NaN</td>\n      <td>S</td>\n    </tr>\n    <tr>\n      <th>887</th>\n      <td>888</td>\n      <td>1</td>\n      <td>1</td>\n      <td>Graham, Miss. Margaret Edith</td>\n      <td>female</td>\n      <td>19.0</td>\n      <td>0</td>\n      <td>0</td>\n      <td>112053</td>\n      <td>30.0000</td>\n      <td>B42</td>\n      <td>S</td>\n    </tr>\n    <tr>\n      <th>888</th>\n      <td>889</td>\n      <td>0</td>\n      <td>3</td>\n      <td>Johnston, Miss. Catherine Helen \"Carrie\"</td>\n      <td>female</td>\n      <td>NaN</td>\n      <td>1</td>\n      <td>2</td>\n      <td>W./C. 6607</td>\n      <td>23.4500</td>\n      <td>NaN</td>\n      <td>S</td>\n    </tr>\n    <tr>\n      <th>889</th>\n      <td>890</td>\n      <td>1</td>\n      <td>1</td>\n      <td>Behr, Mr. Karl Howell</td>\n      <td>male</td>\n      <td>26.0</td>\n      <td>0</td>\n      <td>0</td>\n      <td>111369</td>\n      <td>30.0000</td>\n      <td>C148</td>\n      <td>C</td>\n    </tr>\n    <tr>\n      <th>890</th>\n      <td>891</td>\n      <td>0</td>\n      <td>3</td>\n      <td>Dooley, Mr. Patrick</td>\n      <td>male</td>\n      <td>32.0</td>\n      <td>0</td>\n      <td>0</td>\n      <td>370376</td>\n      <td>7.7500</td>\n      <td>NaN</td>\n      <td>Q</td>\n    </tr>\n  </tbody>\n</table>\n<p>891 rows × 12 columns</p>\n</div>"
     },
     "execution_count": 74,
     "metadata": {},
     "output_type": "execute_result"
    }
   ],
   "source": [
    "## Your code below here\n",
    "df4 = pd.read_csv('titanic.csv')\n",
    "df4"
   ]
  },
  {
   "cell_type": "code",
   "execution_count": 76,
   "outputs": [
    {
     "data": {
      "text/plain": "         Age             Fare         \n         max   min       mean   median\nPclass                                \n1       80.0  0.92  84.154687  60.2875\n2       70.0  0.67  20.662183  14.2500\n3       74.0  0.42  13.675550   8.0500",
      "text/html": "<div>\n<style scoped>\n    .dataframe tbody tr th:only-of-type {\n        vertical-align: middle;\n    }\n\n    .dataframe tbody tr th {\n        vertical-align: top;\n    }\n\n    .dataframe thead tr th {\n        text-align: left;\n    }\n\n    .dataframe thead tr:last-of-type th {\n        text-align: right;\n    }\n</style>\n<table border=\"1\" class=\"dataframe\">\n  <thead>\n    <tr>\n      <th></th>\n      <th colspan=\"2\" halign=\"left\">Age</th>\n      <th colspan=\"2\" halign=\"left\">Fare</th>\n    </tr>\n    <tr>\n      <th></th>\n      <th>max</th>\n      <th>min</th>\n      <th>mean</th>\n      <th>median</th>\n    </tr>\n    <tr>\n      <th>Pclass</th>\n      <th></th>\n      <th></th>\n      <th></th>\n      <th></th>\n    </tr>\n  </thead>\n  <tbody>\n    <tr>\n      <th>1</th>\n      <td>80.0</td>\n      <td>0.92</td>\n      <td>84.154687</td>\n      <td>60.2875</td>\n    </tr>\n    <tr>\n      <th>2</th>\n      <td>70.0</td>\n      <td>0.67</td>\n      <td>20.662183</td>\n      <td>14.2500</td>\n    </tr>\n    <tr>\n      <th>3</th>\n      <td>74.0</td>\n      <td>0.42</td>\n      <td>13.675550</td>\n      <td>8.0500</td>\n    </tr>\n  </tbody>\n</table>\n</div>"
     },
     "execution_count": 76,
     "metadata": {},
     "output_type": "execute_result"
    }
   ],
   "source": [
    "df4_aggretiation = df4.groupby('Pclass').agg({'Age':['max','min'], 'Fare':['mean','median']})\n",
    "df4_aggretiation"
   ],
   "metadata": {
    "collapsed": false,
    "ExecuteTime": {
     "end_time": "2024-06-08T15:01:42.394866300Z",
     "start_time": "2024-06-08T15:01:42.249795Z"
    }
   },
   "id": "77867204bcf6c5f5"
  },
  {
   "cell_type": "markdown",
   "id": "84dd9e90-c915-40a5-9c58-b3f8208f1477",
   "metadata": {
    "tags": []
   },
   "source": [
    "### 5. Memanfaatkan Pivot Tabel (15pts)\n",
    "\n",
    "Buatlah dataframe baru menggunakan fungsi pivot table untuk melihat `Embarked` apa saja yang `average_female_ticket_price` lebih besar daripada `average_male_ticket_price`. Informasi `average_female_ticket_price` dan `average_male_ticket_price` didapatkan dari rata-rata pada column `Fare`.\n",
    "\n",
    "**Hint:**\n",
    "1. menggunakan pivot table\n",
    "2. dapat dilihat pada topik `DataFrame Aggregation` bagian `Pivot Table | Reshape Columns and Rows`\n",
    "\n",
    "**Expected Result:**\n",
    "\n",
    "![Expected Result](assets/homework_exercise_5_result.png)"
   ]
  },
  {
   "cell_type": "code",
   "execution_count": 126,
   "id": "9795af38-7762-415a-a1e0-8ec6413195bd",
   "metadata": {
    "ExecuteTime": {
     "end_time": "2024-06-08T15:52:35.866312800Z",
     "start_time": "2024-06-08T15:52:35.822449800Z"
    }
   },
   "outputs": [
    {
     "data": {
      "text/plain": "     PassengerId  Survived  Pclass  \\\n0              1         0       3   \n1              2         1       1   \n2              3         1       3   \n3              4         1       1   \n4              5         0       3   \n..           ...       ...     ...   \n886          887         0       2   \n887          888         1       1   \n888          889         0       3   \n889          890         1       1   \n890          891         0       3   \n\n                                                  Name     Sex   Age  SibSp  \\\n0                              Braund, Mr. Owen Harris    male  22.0      1   \n1    Cumings, Mrs. John Bradley (Florence Briggs Th...  female  38.0      1   \n2                               Heikkinen, Miss. Laina  female  26.0      0   \n3         Futrelle, Mrs. Jacques Heath (Lily May Peel)  female  35.0      1   \n4                             Allen, Mr. William Henry    male  35.0      0   \n..                                                 ...     ...   ...    ...   \n886                              Montvila, Rev. Juozas    male  27.0      0   \n887                       Graham, Miss. Margaret Edith  female  19.0      0   \n888           Johnston, Miss. Catherine Helen \"Carrie\"  female   NaN      1   \n889                              Behr, Mr. Karl Howell    male  26.0      0   \n890                                Dooley, Mr. Patrick    male  32.0      0   \n\n     Parch            Ticket     Fare Cabin Embarked  \n0        0         A/5 21171   7.2500   NaN        S  \n1        0          PC 17599  71.2833   C85        C  \n2        0  STON/O2. 3101282   7.9250   NaN        S  \n3        0            113803  53.1000  C123        S  \n4        0            373450   8.0500   NaN        S  \n..     ...               ...      ...   ...      ...  \n886      0            211536  13.0000   NaN        S  \n887      0            112053  30.0000   B42        S  \n888      2        W./C. 6607  23.4500   NaN        S  \n889      0            111369  30.0000  C148        C  \n890      0            370376   7.7500   NaN        Q  \n\n[891 rows x 12 columns]",
      "text/html": "<div>\n<style scoped>\n    .dataframe tbody tr th:only-of-type {\n        vertical-align: middle;\n    }\n\n    .dataframe tbody tr th {\n        vertical-align: top;\n    }\n\n    .dataframe thead th {\n        text-align: right;\n    }\n</style>\n<table border=\"1\" class=\"dataframe\">\n  <thead>\n    <tr style=\"text-align: right;\">\n      <th></th>\n      <th>PassengerId</th>\n      <th>Survived</th>\n      <th>Pclass</th>\n      <th>Name</th>\n      <th>Sex</th>\n      <th>Age</th>\n      <th>SibSp</th>\n      <th>Parch</th>\n      <th>Ticket</th>\n      <th>Fare</th>\n      <th>Cabin</th>\n      <th>Embarked</th>\n    </tr>\n  </thead>\n  <tbody>\n    <tr>\n      <th>0</th>\n      <td>1</td>\n      <td>0</td>\n      <td>3</td>\n      <td>Braund, Mr. Owen Harris</td>\n      <td>male</td>\n      <td>22.0</td>\n      <td>1</td>\n      <td>0</td>\n      <td>A/5 21171</td>\n      <td>7.2500</td>\n      <td>NaN</td>\n      <td>S</td>\n    </tr>\n    <tr>\n      <th>1</th>\n      <td>2</td>\n      <td>1</td>\n      <td>1</td>\n      <td>Cumings, Mrs. John Bradley (Florence Briggs Th...</td>\n      <td>female</td>\n      <td>38.0</td>\n      <td>1</td>\n      <td>0</td>\n      <td>PC 17599</td>\n      <td>71.2833</td>\n      <td>C85</td>\n      <td>C</td>\n    </tr>\n    <tr>\n      <th>2</th>\n      <td>3</td>\n      <td>1</td>\n      <td>3</td>\n      <td>Heikkinen, Miss. Laina</td>\n      <td>female</td>\n      <td>26.0</td>\n      <td>0</td>\n      <td>0</td>\n      <td>STON/O2. 3101282</td>\n      <td>7.9250</td>\n      <td>NaN</td>\n      <td>S</td>\n    </tr>\n    <tr>\n      <th>3</th>\n      <td>4</td>\n      <td>1</td>\n      <td>1</td>\n      <td>Futrelle, Mrs. Jacques Heath (Lily May Peel)</td>\n      <td>female</td>\n      <td>35.0</td>\n      <td>1</td>\n      <td>0</td>\n      <td>113803</td>\n      <td>53.1000</td>\n      <td>C123</td>\n      <td>S</td>\n    </tr>\n    <tr>\n      <th>4</th>\n      <td>5</td>\n      <td>0</td>\n      <td>3</td>\n      <td>Allen, Mr. William Henry</td>\n      <td>male</td>\n      <td>35.0</td>\n      <td>0</td>\n      <td>0</td>\n      <td>373450</td>\n      <td>8.0500</td>\n      <td>NaN</td>\n      <td>S</td>\n    </tr>\n    <tr>\n      <th>...</th>\n      <td>...</td>\n      <td>...</td>\n      <td>...</td>\n      <td>...</td>\n      <td>...</td>\n      <td>...</td>\n      <td>...</td>\n      <td>...</td>\n      <td>...</td>\n      <td>...</td>\n      <td>...</td>\n      <td>...</td>\n    </tr>\n    <tr>\n      <th>886</th>\n      <td>887</td>\n      <td>0</td>\n      <td>2</td>\n      <td>Montvila, Rev. Juozas</td>\n      <td>male</td>\n      <td>27.0</td>\n      <td>0</td>\n      <td>0</td>\n      <td>211536</td>\n      <td>13.0000</td>\n      <td>NaN</td>\n      <td>S</td>\n    </tr>\n    <tr>\n      <th>887</th>\n      <td>888</td>\n      <td>1</td>\n      <td>1</td>\n      <td>Graham, Miss. Margaret Edith</td>\n      <td>female</td>\n      <td>19.0</td>\n      <td>0</td>\n      <td>0</td>\n      <td>112053</td>\n      <td>30.0000</td>\n      <td>B42</td>\n      <td>S</td>\n    </tr>\n    <tr>\n      <th>888</th>\n      <td>889</td>\n      <td>0</td>\n      <td>3</td>\n      <td>Johnston, Miss. Catherine Helen \"Carrie\"</td>\n      <td>female</td>\n      <td>NaN</td>\n      <td>1</td>\n      <td>2</td>\n      <td>W./C. 6607</td>\n      <td>23.4500</td>\n      <td>NaN</td>\n      <td>S</td>\n    </tr>\n    <tr>\n      <th>889</th>\n      <td>890</td>\n      <td>1</td>\n      <td>1</td>\n      <td>Behr, Mr. Karl Howell</td>\n      <td>male</td>\n      <td>26.0</td>\n      <td>0</td>\n      <td>0</td>\n      <td>111369</td>\n      <td>30.0000</td>\n      <td>C148</td>\n      <td>C</td>\n    </tr>\n    <tr>\n      <th>890</th>\n      <td>891</td>\n      <td>0</td>\n      <td>3</td>\n      <td>Dooley, Mr. Patrick</td>\n      <td>male</td>\n      <td>32.0</td>\n      <td>0</td>\n      <td>0</td>\n      <td>370376</td>\n      <td>7.7500</td>\n      <td>NaN</td>\n      <td>Q</td>\n    </tr>\n  </tbody>\n</table>\n<p>891 rows × 12 columns</p>\n</div>"
     },
     "execution_count": 126,
     "metadata": {},
     "output_type": "execute_result"
    }
   ],
   "source": [
    "## Your code below here\n",
    "df5 = pd.read_csv('titanic.csv')\n",
    "df5"
   ]
  },
  {
   "cell_type": "code",
   "execution_count": 128,
   "outputs": [
    {
     "data": {
      "text/plain": "  Embarked     Sex       Fare\n0        C  female  75.169805\n1        C    male  48.262109\n2        Q  female  12.634958\n3        Q    male  13.838922\n4        S  female  38.740929\n5        S    male  21.711996",
      "text/html": "<div>\n<style scoped>\n    .dataframe tbody tr th:only-of-type {\n        vertical-align: middle;\n    }\n\n    .dataframe tbody tr th {\n        vertical-align: top;\n    }\n\n    .dataframe thead th {\n        text-align: right;\n    }\n</style>\n<table border=\"1\" class=\"dataframe\">\n  <thead>\n    <tr style=\"text-align: right;\">\n      <th></th>\n      <th>Embarked</th>\n      <th>Sex</th>\n      <th>Fare</th>\n    </tr>\n  </thead>\n  <tbody>\n    <tr>\n      <th>0</th>\n      <td>C</td>\n      <td>female</td>\n      <td>75.169805</td>\n    </tr>\n    <tr>\n      <th>1</th>\n      <td>C</td>\n      <td>male</td>\n      <td>48.262109</td>\n    </tr>\n    <tr>\n      <th>2</th>\n      <td>Q</td>\n      <td>female</td>\n      <td>12.634958</td>\n    </tr>\n    <tr>\n      <th>3</th>\n      <td>Q</td>\n      <td>male</td>\n      <td>13.838922</td>\n    </tr>\n    <tr>\n      <th>4</th>\n      <td>S</td>\n      <td>female</td>\n      <td>38.740929</td>\n    </tr>\n    <tr>\n      <th>5</th>\n      <td>S</td>\n      <td>male</td>\n      <td>21.711996</td>\n    </tr>\n  </tbody>\n</table>\n</div>"
     },
     "execution_count": 128,
     "metadata": {},
     "output_type": "execute_result"
    }
   ],
   "source": [
    "embark_modif = df5[df5['Embarked'] != 'Q']\n",
    "df5_grouped = df5.groupby(['Embarked','Sex']).agg({'Fare':'mean'}).reset_index()\n",
    "\n",
    "df5_grouped\n",
    "\n"
   ],
   "metadata": {
    "collapsed": false,
    "ExecuteTime": {
     "end_time": "2024-06-08T15:53:09.865768100Z",
     "start_time": "2024-06-08T15:53:09.799510300Z"
    }
   },
   "id": "f60d98c23d322702"
  },
  {
   "cell_type": "code",
   "execution_count": 130,
   "outputs": [
    {
     "data": {
      "text/plain": "  Embarked  avg_female_ticket_price  avg_male_ticket_price\n0        C                75.169805              48.262109\n2        S                38.740929              21.711996",
      "text/html": "<div>\n<style scoped>\n    .dataframe tbody tr th:only-of-type {\n        vertical-align: middle;\n    }\n\n    .dataframe tbody tr th {\n        vertical-align: top;\n    }\n\n    .dataframe thead th {\n        text-align: right;\n    }\n</style>\n<table border=\"1\" class=\"dataframe\">\n  <thead>\n    <tr style=\"text-align: right;\">\n      <th></th>\n      <th>Embarked</th>\n      <th>avg_female_ticket_price</th>\n      <th>avg_male_ticket_price</th>\n    </tr>\n  </thead>\n  <tbody>\n    <tr>\n      <th>0</th>\n      <td>C</td>\n      <td>75.169805</td>\n      <td>48.262109</td>\n    </tr>\n    <tr>\n      <th>2</th>\n      <td>S</td>\n      <td>38.740929</td>\n      <td>21.711996</td>\n    </tr>\n  </tbody>\n</table>\n</div>"
     },
     "execution_count": 130,
     "metadata": {},
     "output_type": "execute_result"
    }
   ],
   "source": [
    "df5_pivot = pd.pivot_table(\n",
    "    df5_grouped,\n",
    "    index=['Embarked'],\n",
    "    columns=['Sex'],\n",
    "    values= ['Fare']\n",
    ")\n",
    "df5_pivot = df5_pivot.reset_index()\n",
    "df5_pivot.columns = [\"Embarked\",\"avg_female_ticket_price\",\"avg_male_ticket_price\"]\n",
    "df5_pivot[df5_pivot['avg_female_ticket_price'] > df5_pivot['avg_male_ticket_price']]"
   ],
   "metadata": {
    "collapsed": false,
    "ExecuteTime": {
     "end_time": "2024-06-08T15:54:00.351707700Z",
     "start_time": "2024-06-08T15:54:00.280048800Z"
    }
   },
   "id": "e757d81870653c4a"
  },
  {
   "cell_type": "markdown",
   "id": "b30fccf3-ffe8-44e2-b876-b1bf2b5dfdf9",
   "metadata": {
    "tags": []
   },
   "source": [
    "\n",
    "# C. DataFrame Combination (30pts)"
   ]
  },
  {
   "cell_type": "markdown",
   "source": [
    "## 6. Melakukan Append pada DataFrame (5pts)\n",
    "\n",
    "Buatlah DataFrame seperti pada soal `no.1`.\n",
    " Kemudian tambahkan data tersebut dengan data users yang baru seperti gambar dibawah berikut.\n",
    "\n",
    "**New Users Data:**\n",
    "\n",
    "![Expected Result](assets/homework_exercise_6_new.png)\n",
    "\n",
    "**Expected Result:**\n",
    "\n",
    "![Expected Result](assets/homework_exercise_6_result.png)"
   ],
   "metadata": {
    "collapsed": false
   },
   "id": "1a71f163-7370-4de3-b8e1-f9b0cef705f8"
  },
  {
   "cell_type": "code",
   "execution_count": 117,
   "outputs": [],
   "source": [],
   "metadata": {
    "collapsed": false,
    "ExecuteTime": {
     "end_time": "2024-06-08T15:46:14.620634200Z",
     "start_time": "2024-06-08T15:46:14.597341500Z"
    }
   },
   "id": "653fc4a0ea183711"
  },
  {
   "cell_type": "code",
   "execution_count": 137,
   "id": "d10a9626-79a1-4e61-a162-35446e082ae2",
   "metadata": {
    "ExecuteTime": {
     "end_time": "2024-06-08T16:02:43.985327500Z",
     "start_time": "2024-06-08T16:02:43.902783Z"
    }
   },
   "outputs": [
    {
     "data": {
      "text/plain": "     name  age  phone_number  ielts_score\n0   Fiqry   23  +62813123414          6.5\n1   Iqbal   21   +6287842464          NaN\n2  Monica   22  +62813125554          7.5\n3    Rama   24   +6287834464          6.5\n4   Johan   26  +62813113414          8.0\n5     ali   37          None          5.5\n6    adit   12     +62152155          6.0",
      "text/html": "<div>\n<style scoped>\n    .dataframe tbody tr th:only-of-type {\n        vertical-align: middle;\n    }\n\n    .dataframe tbody tr th {\n        vertical-align: top;\n    }\n\n    .dataframe thead th {\n        text-align: right;\n    }\n</style>\n<table border=\"1\" class=\"dataframe\">\n  <thead>\n    <tr style=\"text-align: right;\">\n      <th></th>\n      <th>name</th>\n      <th>age</th>\n      <th>phone_number</th>\n      <th>ielts_score</th>\n    </tr>\n  </thead>\n  <tbody>\n    <tr>\n      <th>0</th>\n      <td>Fiqry</td>\n      <td>23</td>\n      <td>+62813123414</td>\n      <td>6.5</td>\n    </tr>\n    <tr>\n      <th>1</th>\n      <td>Iqbal</td>\n      <td>21</td>\n      <td>+6287842464</td>\n      <td>NaN</td>\n    </tr>\n    <tr>\n      <th>2</th>\n      <td>Monica</td>\n      <td>22</td>\n      <td>+62813125554</td>\n      <td>7.5</td>\n    </tr>\n    <tr>\n      <th>3</th>\n      <td>Rama</td>\n      <td>24</td>\n      <td>+6287834464</td>\n      <td>6.5</td>\n    </tr>\n    <tr>\n      <th>4</th>\n      <td>Johan</td>\n      <td>26</td>\n      <td>+62813113414</td>\n      <td>8.0</td>\n    </tr>\n    <tr>\n      <th>5</th>\n      <td>ali</td>\n      <td>37</td>\n      <td>None</td>\n      <td>5.5</td>\n    </tr>\n    <tr>\n      <th>6</th>\n      <td>adit</td>\n      <td>12</td>\n      <td>+62152155</td>\n      <td>6.0</td>\n    </tr>\n  </tbody>\n</table>\n</div>"
     },
     "execution_count": 137,
     "metadata": {},
     "output_type": "execute_result"
    }
   ],
   "source": [
    "## Your code below here\n",
    "data = {\n",
    "    \"name\": [\"ali\", \"adit\"],\n",
    "    \"age\": [37,12],\n",
    "    \"phone_number\": [None, '+62152155'],\n",
    "    \"ielts_score\": [5.5,6.0]\n",
    "}\n",
    "df6 = pd.DataFrame(data)\n",
    "df = df._append(df6,ignore_index=True)\n",
    "df"
   ]
  },
  {
   "cell_type": "markdown",
   "source": [],
   "metadata": {
    "collapsed": false
   },
   "id": "0b8eb6b5-c02b-4366-b27b-240b3f0ae571"
  },
  {
   "cell_type": "markdown",
   "source": [
    "### 7. Merge DataFrame (25pts)\n",
    "\n",
    "Buatlah 2 dataframe mengikuti petunjuk berikut:\n",
    "\n",
    "df_1 :  Filter dataset 01 telecom_revenue.csv dengan multiple kondisi (5pts)\n",
    "- MonthlyRevenue > 10 \n",
    "- Occupation terdiri dari Professional, Student, and Crafts\n",
    "\n",
    "df_2 :  Filter dataset 02 telecom_usage.csv dengan multiple kondisi (5pt)\n",
    "- nilai UnansweredCalls > BlockedCalls\n",
    "\n",
    "Jawablah pertanyaan berikut ini:\n",
    "1. Hitunglah total CustomerID dan rata-rata DroppedCalls untuk masing-masing occupation. (10 Points)\n",
    "2. Pada occupation apa, rata-rata DroppedCalls paling besar? (5 Points)\n",
    "\n",
    "**Expected Result:**\n",
    "\n",
    "![Expected Result](assets/homework_exercise_7_result.png)"
   ],
   "metadata": {
    "collapsed": false
   },
   "id": "49081bb9582ad02"
  },
  {
   "cell_type": "code",
   "execution_count": 165,
   "id": "b1ad3786-32e3-4a8e-a904-efba30414e88",
   "metadata": {
    "ExecuteTime": {
     "end_time": "2024-06-08T16:16:07.274765800Z",
     "start_time": "2024-06-08T16:16:07.203056300Z"
    }
   },
   "outputs": [
    {
     "data": {
      "text/plain": "      CustomerID Churn  MonthlyRevenue  MonthlyMinutes  TotalRecurringCharge  \\\n0        3164846    No           34.91           619.0                  18.0   \n1        3203230   Yes           43.24           405.0                  40.0   \n2        3371590    No           73.47          1281.0                  71.0   \n3        3138302    No          776.27          3978.0                 160.0   \n4        3375774    No          189.20          1474.0                  95.0   \n...          ...   ...             ...             ...                   ...   \n9995     3267618    No           30.14           152.0                  40.0   \n9996     3316790    No           50.61           260.0                  58.0   \n9997     3265178   Yes           87.18           960.0                  85.0   \n9998     3282934   Yes           31.24           134.0                  40.0   \n9999     3017238    No           56.80           426.0                  30.0   \n\n      OverageMinutes  RoamingCalls Occupation  \n0               53.0           0.0      Other  \n1                0.0           0.0      Other  \n2                0.0           0.0      Other  \n3             2278.0          22.9      Other  \n4                0.0           0.0      Other  \n...              ...           ...        ...  \n9995             0.0           0.0      Other  \n9996             0.0           0.3      Other  \n9997             0.0           0.0      Other  \n9998             0.0           0.0   Clerical  \n9999            73.0           0.0      Other  \n\n[10000 rows x 8 columns]",
      "text/html": "<div>\n<style scoped>\n    .dataframe tbody tr th:only-of-type {\n        vertical-align: middle;\n    }\n\n    .dataframe tbody tr th {\n        vertical-align: top;\n    }\n\n    .dataframe thead th {\n        text-align: right;\n    }\n</style>\n<table border=\"1\" class=\"dataframe\">\n  <thead>\n    <tr style=\"text-align: right;\">\n      <th></th>\n      <th>CustomerID</th>\n      <th>Churn</th>\n      <th>MonthlyRevenue</th>\n      <th>MonthlyMinutes</th>\n      <th>TotalRecurringCharge</th>\n      <th>OverageMinutes</th>\n      <th>RoamingCalls</th>\n      <th>Occupation</th>\n    </tr>\n  </thead>\n  <tbody>\n    <tr>\n      <th>0</th>\n      <td>3164846</td>\n      <td>No</td>\n      <td>34.91</td>\n      <td>619.0</td>\n      <td>18.0</td>\n      <td>53.0</td>\n      <td>0.0</td>\n      <td>Other</td>\n    </tr>\n    <tr>\n      <th>1</th>\n      <td>3203230</td>\n      <td>Yes</td>\n      <td>43.24</td>\n      <td>405.0</td>\n      <td>40.0</td>\n      <td>0.0</td>\n      <td>0.0</td>\n      <td>Other</td>\n    </tr>\n    <tr>\n      <th>2</th>\n      <td>3371590</td>\n      <td>No</td>\n      <td>73.47</td>\n      <td>1281.0</td>\n      <td>71.0</td>\n      <td>0.0</td>\n      <td>0.0</td>\n      <td>Other</td>\n    </tr>\n    <tr>\n      <th>3</th>\n      <td>3138302</td>\n      <td>No</td>\n      <td>776.27</td>\n      <td>3978.0</td>\n      <td>160.0</td>\n      <td>2278.0</td>\n      <td>22.9</td>\n      <td>Other</td>\n    </tr>\n    <tr>\n      <th>4</th>\n      <td>3375774</td>\n      <td>No</td>\n      <td>189.20</td>\n      <td>1474.0</td>\n      <td>95.0</td>\n      <td>0.0</td>\n      <td>0.0</td>\n      <td>Other</td>\n    </tr>\n    <tr>\n      <th>...</th>\n      <td>...</td>\n      <td>...</td>\n      <td>...</td>\n      <td>...</td>\n      <td>...</td>\n      <td>...</td>\n      <td>...</td>\n      <td>...</td>\n    </tr>\n    <tr>\n      <th>9995</th>\n      <td>3267618</td>\n      <td>No</td>\n      <td>30.14</td>\n      <td>152.0</td>\n      <td>40.0</td>\n      <td>0.0</td>\n      <td>0.0</td>\n      <td>Other</td>\n    </tr>\n    <tr>\n      <th>9996</th>\n      <td>3316790</td>\n      <td>No</td>\n      <td>50.61</td>\n      <td>260.0</td>\n      <td>58.0</td>\n      <td>0.0</td>\n      <td>0.3</td>\n      <td>Other</td>\n    </tr>\n    <tr>\n      <th>9997</th>\n      <td>3265178</td>\n      <td>Yes</td>\n      <td>87.18</td>\n      <td>960.0</td>\n      <td>85.0</td>\n      <td>0.0</td>\n      <td>0.0</td>\n      <td>Other</td>\n    </tr>\n    <tr>\n      <th>9998</th>\n      <td>3282934</td>\n      <td>Yes</td>\n      <td>31.24</td>\n      <td>134.0</td>\n      <td>40.0</td>\n      <td>0.0</td>\n      <td>0.0</td>\n      <td>Clerical</td>\n    </tr>\n    <tr>\n      <th>9999</th>\n      <td>3017238</td>\n      <td>No</td>\n      <td>56.80</td>\n      <td>426.0</td>\n      <td>30.0</td>\n      <td>73.0</td>\n      <td>0.0</td>\n      <td>Other</td>\n    </tr>\n  </tbody>\n</table>\n<p>10000 rows × 8 columns</p>\n</div>"
     },
     "execution_count": 165,
     "metadata": {},
     "output_type": "execute_result"
    }
   ],
   "source": [
    "## Your code below here\n",
    "df7a = pd.read_csv('01 telecom_revenue.csv')\n",
    "df7a"
   ]
  },
  {
   "cell_type": "code",
   "execution_count": 169,
   "outputs": [
    {
     "name": "stderr",
     "output_type": "stream",
     "text": [
      "C:\\Users\\moham\\AppData\\Local\\Temp\\ipykernel_10968\\1199498979.py:1: UserWarning: Boolean Series key will be reindexed to match DataFrame index.\n",
      "  df7a_final= df7a[df7a['MonthlyRevenue'] > 10][df7a['Occupation'].isin(['Professional','Student','Crafts'])]\n"
     ]
    },
    {
     "data": {
      "text/plain": "      CustomerID Churn  MonthlyRevenue  MonthlyMinutes  TotalRecurringCharge  \\\n12       3397170    No           83.51           290.0                  93.0   \n25       3274822    No           30.83           273.0                  40.0   \n26       3394258    No           52.72          1501.0                  62.0   \n29       3056178   Yes           54.09           412.0                  40.0   \n35       3065718    No           43.06           110.0                  35.0   \n...          ...   ...             ...             ...                   ...   \n9964     3015822    No           46.10           203.0                  38.0   \n9968     3323878    No           44.26           419.0                  45.0   \n9970     3050290   Yes           51.06           192.0                  30.0   \n9981     3119258    No           39.49           352.0                  45.0   \n9994     3125862    No           22.50            18.0                  17.0   \n\n      OverageMinutes  RoamingCalls    Occupation  \n12               0.0           0.0  Professional  \n25               0.0           0.8  Professional  \n26               0.0           0.0        Crafts  \n29              46.0           0.0  Professional  \n35               0.0           3.3        Crafts  \n...              ...           ...           ...  \n9964            30.0           0.0        Crafts  \n9968             2.0           0.0  Professional  \n9970            74.0           0.0  Professional  \n9981             0.0           1.7        Crafts  \n9994             2.0           0.0  Professional  \n\n[2023 rows x 8 columns]",
      "text/html": "<div>\n<style scoped>\n    .dataframe tbody tr th:only-of-type {\n        vertical-align: middle;\n    }\n\n    .dataframe tbody tr th {\n        vertical-align: top;\n    }\n\n    .dataframe thead th {\n        text-align: right;\n    }\n</style>\n<table border=\"1\" class=\"dataframe\">\n  <thead>\n    <tr style=\"text-align: right;\">\n      <th></th>\n      <th>CustomerID</th>\n      <th>Churn</th>\n      <th>MonthlyRevenue</th>\n      <th>MonthlyMinutes</th>\n      <th>TotalRecurringCharge</th>\n      <th>OverageMinutes</th>\n      <th>RoamingCalls</th>\n      <th>Occupation</th>\n    </tr>\n  </thead>\n  <tbody>\n    <tr>\n      <th>12</th>\n      <td>3397170</td>\n      <td>No</td>\n      <td>83.51</td>\n      <td>290.0</td>\n      <td>93.0</td>\n      <td>0.0</td>\n      <td>0.0</td>\n      <td>Professional</td>\n    </tr>\n    <tr>\n      <th>25</th>\n      <td>3274822</td>\n      <td>No</td>\n      <td>30.83</td>\n      <td>273.0</td>\n      <td>40.0</td>\n      <td>0.0</td>\n      <td>0.8</td>\n      <td>Professional</td>\n    </tr>\n    <tr>\n      <th>26</th>\n      <td>3394258</td>\n      <td>No</td>\n      <td>52.72</td>\n      <td>1501.0</td>\n      <td>62.0</td>\n      <td>0.0</td>\n      <td>0.0</td>\n      <td>Crafts</td>\n    </tr>\n    <tr>\n      <th>29</th>\n      <td>3056178</td>\n      <td>Yes</td>\n      <td>54.09</td>\n      <td>412.0</td>\n      <td>40.0</td>\n      <td>46.0</td>\n      <td>0.0</td>\n      <td>Professional</td>\n    </tr>\n    <tr>\n      <th>35</th>\n      <td>3065718</td>\n      <td>No</td>\n      <td>43.06</td>\n      <td>110.0</td>\n      <td>35.0</td>\n      <td>0.0</td>\n      <td>3.3</td>\n      <td>Crafts</td>\n    </tr>\n    <tr>\n      <th>...</th>\n      <td>...</td>\n      <td>...</td>\n      <td>...</td>\n      <td>...</td>\n      <td>...</td>\n      <td>...</td>\n      <td>...</td>\n      <td>...</td>\n    </tr>\n    <tr>\n      <th>9964</th>\n      <td>3015822</td>\n      <td>No</td>\n      <td>46.10</td>\n      <td>203.0</td>\n      <td>38.0</td>\n      <td>30.0</td>\n      <td>0.0</td>\n      <td>Crafts</td>\n    </tr>\n    <tr>\n      <th>9968</th>\n      <td>3323878</td>\n      <td>No</td>\n      <td>44.26</td>\n      <td>419.0</td>\n      <td>45.0</td>\n      <td>2.0</td>\n      <td>0.0</td>\n      <td>Professional</td>\n    </tr>\n    <tr>\n      <th>9970</th>\n      <td>3050290</td>\n      <td>Yes</td>\n      <td>51.06</td>\n      <td>192.0</td>\n      <td>30.0</td>\n      <td>74.0</td>\n      <td>0.0</td>\n      <td>Professional</td>\n    </tr>\n    <tr>\n      <th>9981</th>\n      <td>3119258</td>\n      <td>No</td>\n      <td>39.49</td>\n      <td>352.0</td>\n      <td>45.0</td>\n      <td>0.0</td>\n      <td>1.7</td>\n      <td>Crafts</td>\n    </tr>\n    <tr>\n      <th>9994</th>\n      <td>3125862</td>\n      <td>No</td>\n      <td>22.50</td>\n      <td>18.0</td>\n      <td>17.0</td>\n      <td>2.0</td>\n      <td>0.0</td>\n      <td>Professional</td>\n    </tr>\n  </tbody>\n</table>\n<p>2023 rows × 8 columns</p>\n</div>"
     },
     "execution_count": 169,
     "metadata": {},
     "output_type": "execute_result"
    }
   ],
   "source": [
    "df7a_final= df7a[df7a['MonthlyRevenue'] > 10][df7a['Occupation'].isin(['Professional','Student','Crafts'])]\n",
    "df7a_final"
   ],
   "metadata": {
    "collapsed": false,
    "ExecuteTime": {
     "end_time": "2024-06-08T16:18:32.037949900Z",
     "start_time": "2024-06-08T16:18:31.931694100Z"
    }
   },
   "id": "6b757f8efa9ef587"
  },
  {
   "cell_type": "code",
   "execution_count": 170,
   "outputs": [
    {
     "data": {
      "text/plain": "      CustomerID  DroppedCalls  BlockedCalls  UnansweredCalls  \\\n0        3389874           0.0           1.0              7.7   \n1        3282042          15.3           1.7            152.0   \n2        3054454           8.7           0.3             30.3   \n3        3091842           6.0           1.7             19.3   \n4        3382382           0.7           0.7              5.0   \n...          ...           ...           ...              ...   \n4995     3302462           6.7           0.0              4.7   \n4996     3169318           0.0          43.3             23.7   \n4997     3066482           0.0           3.0              3.3   \n4998     3059734           0.3           0.7              2.0   \n4999     3224474           6.7           1.0             32.7   \n\n      CustomerCareCalls  \n0                   0.7  \n1                   5.7  \n2                   0.0  \n3                   0.0  \n4                   0.0  \n...                 ...  \n4995                0.0  \n4996                7.7  \n4997                0.0  \n4998                0.0  \n4999                0.0  \n\n[5000 rows x 5 columns]",
      "text/html": "<div>\n<style scoped>\n    .dataframe tbody tr th:only-of-type {\n        vertical-align: middle;\n    }\n\n    .dataframe tbody tr th {\n        vertical-align: top;\n    }\n\n    .dataframe thead th {\n        text-align: right;\n    }\n</style>\n<table border=\"1\" class=\"dataframe\">\n  <thead>\n    <tr style=\"text-align: right;\">\n      <th></th>\n      <th>CustomerID</th>\n      <th>DroppedCalls</th>\n      <th>BlockedCalls</th>\n      <th>UnansweredCalls</th>\n      <th>CustomerCareCalls</th>\n    </tr>\n  </thead>\n  <tbody>\n    <tr>\n      <th>0</th>\n      <td>3389874</td>\n      <td>0.0</td>\n      <td>1.0</td>\n      <td>7.7</td>\n      <td>0.7</td>\n    </tr>\n    <tr>\n      <th>1</th>\n      <td>3282042</td>\n      <td>15.3</td>\n      <td>1.7</td>\n      <td>152.0</td>\n      <td>5.7</td>\n    </tr>\n    <tr>\n      <th>2</th>\n      <td>3054454</td>\n      <td>8.7</td>\n      <td>0.3</td>\n      <td>30.3</td>\n      <td>0.0</td>\n    </tr>\n    <tr>\n      <th>3</th>\n      <td>3091842</td>\n      <td>6.0</td>\n      <td>1.7</td>\n      <td>19.3</td>\n      <td>0.0</td>\n    </tr>\n    <tr>\n      <th>4</th>\n      <td>3382382</td>\n      <td>0.7</td>\n      <td>0.7</td>\n      <td>5.0</td>\n      <td>0.0</td>\n    </tr>\n    <tr>\n      <th>...</th>\n      <td>...</td>\n      <td>...</td>\n      <td>...</td>\n      <td>...</td>\n      <td>...</td>\n    </tr>\n    <tr>\n      <th>4995</th>\n      <td>3302462</td>\n      <td>6.7</td>\n      <td>0.0</td>\n      <td>4.7</td>\n      <td>0.0</td>\n    </tr>\n    <tr>\n      <th>4996</th>\n      <td>3169318</td>\n      <td>0.0</td>\n      <td>43.3</td>\n      <td>23.7</td>\n      <td>7.7</td>\n    </tr>\n    <tr>\n      <th>4997</th>\n      <td>3066482</td>\n      <td>0.0</td>\n      <td>3.0</td>\n      <td>3.3</td>\n      <td>0.0</td>\n    </tr>\n    <tr>\n      <th>4998</th>\n      <td>3059734</td>\n      <td>0.3</td>\n      <td>0.7</td>\n      <td>2.0</td>\n      <td>0.0</td>\n    </tr>\n    <tr>\n      <th>4999</th>\n      <td>3224474</td>\n      <td>6.7</td>\n      <td>1.0</td>\n      <td>32.7</td>\n      <td>0.0</td>\n    </tr>\n  </tbody>\n</table>\n<p>5000 rows × 5 columns</p>\n</div>"
     },
     "execution_count": 170,
     "metadata": {},
     "output_type": "execute_result"
    }
   ],
   "source": [
    "df7b = pd.read_csv('02 telecom_usage.csv')\n",
    "df7b"
   ],
   "metadata": {
    "collapsed": false,
    "ExecuteTime": {
     "end_time": "2024-06-08T16:18:37.656243600Z",
     "start_time": "2024-06-08T16:18:37.588032Z"
    }
   },
   "id": "b7963b9aab584b7d"
  },
  {
   "cell_type": "code",
   "execution_count": 171,
   "outputs": [
    {
     "data": {
      "text/plain": "      CustomerID  DroppedCalls  BlockedCalls  UnansweredCalls  \\\n0        3389874           0.0           1.0              7.7   \n1        3282042          15.3           1.7            152.0   \n2        3054454           8.7           0.3             30.3   \n3        3091842           6.0           1.7             19.3   \n4        3382382           0.7           0.7              5.0   \n...          ...           ...           ...              ...   \n4994     3148902           0.3           0.0              4.3   \n4995     3302462           6.7           0.0              4.7   \n4997     3066482           0.0           3.0              3.3   \n4998     3059734           0.3           0.7              2.0   \n4999     3224474           6.7           1.0             32.7   \n\n      CustomerCareCalls  \n0                   0.7  \n1                   5.7  \n2                   0.0  \n3                   0.0  \n4                   0.0  \n...                 ...  \n4994                0.0  \n4995                0.0  \n4997                0.0  \n4998                0.0  \n4999                0.0  \n\n[4241 rows x 5 columns]",
      "text/html": "<div>\n<style scoped>\n    .dataframe tbody tr th:only-of-type {\n        vertical-align: middle;\n    }\n\n    .dataframe tbody tr th {\n        vertical-align: top;\n    }\n\n    .dataframe thead th {\n        text-align: right;\n    }\n</style>\n<table border=\"1\" class=\"dataframe\">\n  <thead>\n    <tr style=\"text-align: right;\">\n      <th></th>\n      <th>CustomerID</th>\n      <th>DroppedCalls</th>\n      <th>BlockedCalls</th>\n      <th>UnansweredCalls</th>\n      <th>CustomerCareCalls</th>\n    </tr>\n  </thead>\n  <tbody>\n    <tr>\n      <th>0</th>\n      <td>3389874</td>\n      <td>0.0</td>\n      <td>1.0</td>\n      <td>7.7</td>\n      <td>0.7</td>\n    </tr>\n    <tr>\n      <th>1</th>\n      <td>3282042</td>\n      <td>15.3</td>\n      <td>1.7</td>\n      <td>152.0</td>\n      <td>5.7</td>\n    </tr>\n    <tr>\n      <th>2</th>\n      <td>3054454</td>\n      <td>8.7</td>\n      <td>0.3</td>\n      <td>30.3</td>\n      <td>0.0</td>\n    </tr>\n    <tr>\n      <th>3</th>\n      <td>3091842</td>\n      <td>6.0</td>\n      <td>1.7</td>\n      <td>19.3</td>\n      <td>0.0</td>\n    </tr>\n    <tr>\n      <th>4</th>\n      <td>3382382</td>\n      <td>0.7</td>\n      <td>0.7</td>\n      <td>5.0</td>\n      <td>0.0</td>\n    </tr>\n    <tr>\n      <th>...</th>\n      <td>...</td>\n      <td>...</td>\n      <td>...</td>\n      <td>...</td>\n      <td>...</td>\n    </tr>\n    <tr>\n      <th>4994</th>\n      <td>3148902</td>\n      <td>0.3</td>\n      <td>0.0</td>\n      <td>4.3</td>\n      <td>0.0</td>\n    </tr>\n    <tr>\n      <th>4995</th>\n      <td>3302462</td>\n      <td>6.7</td>\n      <td>0.0</td>\n      <td>4.7</td>\n      <td>0.0</td>\n    </tr>\n    <tr>\n      <th>4997</th>\n      <td>3066482</td>\n      <td>0.0</td>\n      <td>3.0</td>\n      <td>3.3</td>\n      <td>0.0</td>\n    </tr>\n    <tr>\n      <th>4998</th>\n      <td>3059734</td>\n      <td>0.3</td>\n      <td>0.7</td>\n      <td>2.0</td>\n      <td>0.0</td>\n    </tr>\n    <tr>\n      <th>4999</th>\n      <td>3224474</td>\n      <td>6.7</td>\n      <td>1.0</td>\n      <td>32.7</td>\n      <td>0.0</td>\n    </tr>\n  </tbody>\n</table>\n<p>4241 rows × 5 columns</p>\n</div>"
     },
     "execution_count": 171,
     "metadata": {},
     "output_type": "execute_result"
    }
   ],
   "source": [
    "df7b_final = df7b[df7b['UnansweredCalls'] > df7b['BlockedCalls']]\n",
    "df7b_final"
   ],
   "metadata": {
    "collapsed": false,
    "ExecuteTime": {
     "end_time": "2024-06-08T16:18:38.077293800Z",
     "start_time": "2024-06-08T16:18:38.019390500Z"
    }
   },
   "id": "68cb1200c10cb962"
  },
  {
   "cell_type": "code",
   "execution_count": 173,
   "outputs": [
    {
     "data": {
      "text/plain": "     CustomerID Churn  MonthlyRevenue  MonthlyMinutes  TotalRecurringCharge  \\\n0       3213958   Yes           34.74           228.0                  41.0   \n1       3155282    No          106.67           773.0                  80.0   \n2       3326638    No           54.18           734.0                  70.0   \n3       3138494    No          133.04          1716.0                  76.0   \n4       3344578    No           45.63           731.0                  40.0   \n..          ...   ...             ...             ...                   ...   \n152     3077290    No           26.58             8.0                  25.0   \n153     3389562    No           63.88           934.0                  60.0   \n154     3241558   Yes           57.51           769.0                  60.0   \n155     3230294    No           12.56           146.0                  10.0   \n156     3029958   Yes           31.08            84.0                  30.0   \n\n     OverageMinutes  RoamingCalls    Occupation  DroppedCalls  BlockedCalls  \\\n0               0.0           0.0  Professional           2.0           1.3   \n1              31.0          36.4        Crafts           3.7           3.0   \n2               0.0           0.0        Crafts           8.7           0.3   \n3             160.0           0.0  Professional           2.0           0.0   \n4              14.0           0.0  Professional          13.0           2.3   \n..              ...           ...           ...           ...           ...   \n152             0.0           0.0  Professional           0.3           0.3   \n153            31.0           1.2       Student          26.7           0.0   \n154             7.0           0.0  Professional           7.7           0.0   \n155             9.0           0.0  Professional           0.3           1.0   \n156             0.0           0.0  Professional           0.0           1.0   \n\n     UnansweredCalls  CustomerCareCalls  \n0               21.0                4.3  \n1               24.7                0.7  \n2               29.0                2.0  \n3                8.3                1.0  \n4               35.7               10.7  \n..               ...                ...  \n152              0.7                0.0  \n153             26.3                0.3  \n154             21.3                0.0  \n155             16.3                0.0  \n156             15.0                0.0  \n\n[157 rows x 12 columns]",
      "text/html": "<div>\n<style scoped>\n    .dataframe tbody tr th:only-of-type {\n        vertical-align: middle;\n    }\n\n    .dataframe tbody tr th {\n        vertical-align: top;\n    }\n\n    .dataframe thead th {\n        text-align: right;\n    }\n</style>\n<table border=\"1\" class=\"dataframe\">\n  <thead>\n    <tr style=\"text-align: right;\">\n      <th></th>\n      <th>CustomerID</th>\n      <th>Churn</th>\n      <th>MonthlyRevenue</th>\n      <th>MonthlyMinutes</th>\n      <th>TotalRecurringCharge</th>\n      <th>OverageMinutes</th>\n      <th>RoamingCalls</th>\n      <th>Occupation</th>\n      <th>DroppedCalls</th>\n      <th>BlockedCalls</th>\n      <th>UnansweredCalls</th>\n      <th>CustomerCareCalls</th>\n    </tr>\n  </thead>\n  <tbody>\n    <tr>\n      <th>0</th>\n      <td>3213958</td>\n      <td>Yes</td>\n      <td>34.74</td>\n      <td>228.0</td>\n      <td>41.0</td>\n      <td>0.0</td>\n      <td>0.0</td>\n      <td>Professional</td>\n      <td>2.0</td>\n      <td>1.3</td>\n      <td>21.0</td>\n      <td>4.3</td>\n    </tr>\n    <tr>\n      <th>1</th>\n      <td>3155282</td>\n      <td>No</td>\n      <td>106.67</td>\n      <td>773.0</td>\n      <td>80.0</td>\n      <td>31.0</td>\n      <td>36.4</td>\n      <td>Crafts</td>\n      <td>3.7</td>\n      <td>3.0</td>\n      <td>24.7</td>\n      <td>0.7</td>\n    </tr>\n    <tr>\n      <th>2</th>\n      <td>3326638</td>\n      <td>No</td>\n      <td>54.18</td>\n      <td>734.0</td>\n      <td>70.0</td>\n      <td>0.0</td>\n      <td>0.0</td>\n      <td>Crafts</td>\n      <td>8.7</td>\n      <td>0.3</td>\n      <td>29.0</td>\n      <td>2.0</td>\n    </tr>\n    <tr>\n      <th>3</th>\n      <td>3138494</td>\n      <td>No</td>\n      <td>133.04</td>\n      <td>1716.0</td>\n      <td>76.0</td>\n      <td>160.0</td>\n      <td>0.0</td>\n      <td>Professional</td>\n      <td>2.0</td>\n      <td>0.0</td>\n      <td>8.3</td>\n      <td>1.0</td>\n    </tr>\n    <tr>\n      <th>4</th>\n      <td>3344578</td>\n      <td>No</td>\n      <td>45.63</td>\n      <td>731.0</td>\n      <td>40.0</td>\n      <td>14.0</td>\n      <td>0.0</td>\n      <td>Professional</td>\n      <td>13.0</td>\n      <td>2.3</td>\n      <td>35.7</td>\n      <td>10.7</td>\n    </tr>\n    <tr>\n      <th>...</th>\n      <td>...</td>\n      <td>...</td>\n      <td>...</td>\n      <td>...</td>\n      <td>...</td>\n      <td>...</td>\n      <td>...</td>\n      <td>...</td>\n      <td>...</td>\n      <td>...</td>\n      <td>...</td>\n      <td>...</td>\n    </tr>\n    <tr>\n      <th>152</th>\n      <td>3077290</td>\n      <td>No</td>\n      <td>26.58</td>\n      <td>8.0</td>\n      <td>25.0</td>\n      <td>0.0</td>\n      <td>0.0</td>\n      <td>Professional</td>\n      <td>0.3</td>\n      <td>0.3</td>\n      <td>0.7</td>\n      <td>0.0</td>\n    </tr>\n    <tr>\n      <th>153</th>\n      <td>3389562</td>\n      <td>No</td>\n      <td>63.88</td>\n      <td>934.0</td>\n      <td>60.0</td>\n      <td>31.0</td>\n      <td>1.2</td>\n      <td>Student</td>\n      <td>26.7</td>\n      <td>0.0</td>\n      <td>26.3</td>\n      <td>0.3</td>\n    </tr>\n    <tr>\n      <th>154</th>\n      <td>3241558</td>\n      <td>Yes</td>\n      <td>57.51</td>\n      <td>769.0</td>\n      <td>60.0</td>\n      <td>7.0</td>\n      <td>0.0</td>\n      <td>Professional</td>\n      <td>7.7</td>\n      <td>0.0</td>\n      <td>21.3</td>\n      <td>0.0</td>\n    </tr>\n    <tr>\n      <th>155</th>\n      <td>3230294</td>\n      <td>No</td>\n      <td>12.56</td>\n      <td>146.0</td>\n      <td>10.0</td>\n      <td>9.0</td>\n      <td>0.0</td>\n      <td>Professional</td>\n      <td>0.3</td>\n      <td>1.0</td>\n      <td>16.3</td>\n      <td>0.0</td>\n    </tr>\n    <tr>\n      <th>156</th>\n      <td>3029958</td>\n      <td>Yes</td>\n      <td>31.08</td>\n      <td>84.0</td>\n      <td>30.0</td>\n      <td>0.0</td>\n      <td>0.0</td>\n      <td>Professional</td>\n      <td>0.0</td>\n      <td>1.0</td>\n      <td>15.0</td>\n      <td>0.0</td>\n    </tr>\n  </tbody>\n</table>\n<p>157 rows × 12 columns</p>\n</div>"
     },
     "execution_count": 173,
     "metadata": {},
     "output_type": "execute_result"
    }
   ],
   "source": [
    "df7c = df7a_final.merge(df7b_final, on = 'CustomerID')\n",
    "df7c"
   ],
   "metadata": {
    "collapsed": false,
    "ExecuteTime": {
     "end_time": "2024-06-08T16:23:28.191719600Z",
     "start_time": "2024-06-08T16:23:28.105762500Z"
    }
   },
   "id": "7ea13e53f729d51b"
  },
  {
   "cell_type": "code",
   "execution_count": 175,
   "outputs": [
    {
     "data": {
      "text/plain": "             CustomerID DroppedCalls\n                nunique         mean\nOccupation                          \nCrafts               24     6.191667\nProfessional        128     5.532813\nStudent               5     8.220000",
      "text/html": "<div>\n<style scoped>\n    .dataframe tbody tr th:only-of-type {\n        vertical-align: middle;\n    }\n\n    .dataframe tbody tr th {\n        vertical-align: top;\n    }\n\n    .dataframe thead tr th {\n        text-align: left;\n    }\n\n    .dataframe thead tr:last-of-type th {\n        text-align: right;\n    }\n</style>\n<table border=\"1\" class=\"dataframe\">\n  <thead>\n    <tr>\n      <th></th>\n      <th>CustomerID</th>\n      <th>DroppedCalls</th>\n    </tr>\n    <tr>\n      <th></th>\n      <th>nunique</th>\n      <th>mean</th>\n    </tr>\n    <tr>\n      <th>Occupation</th>\n      <th></th>\n      <th></th>\n    </tr>\n  </thead>\n  <tbody>\n    <tr>\n      <th>Crafts</th>\n      <td>24</td>\n      <td>6.191667</td>\n    </tr>\n    <tr>\n      <th>Professional</th>\n      <td>128</td>\n      <td>5.532813</td>\n    </tr>\n    <tr>\n      <th>Student</th>\n      <td>5</td>\n      <td>8.220000</td>\n    </tr>\n  </tbody>\n</table>\n</div>"
     },
     "execution_count": 175,
     "metadata": {},
     "output_type": "execute_result"
    }
   ],
   "source": [
    "# Nomor 7.1\n",
    "df7c_grouped = df7c.groupby('Occupation').agg({'CustomerID':['nunique'], 'DroppedCalls':['mean']})\n",
    "df7c_grouped"
   ],
   "metadata": {
    "collapsed": false,
    "ExecuteTime": {
     "end_time": "2024-06-08T16:28:08.227472600Z",
     "start_time": "2024-06-08T16:28:08.167960600Z"
    }
   },
   "id": "4e163a72963db39e"
  },
  {
   "cell_type": "markdown",
   "source": [
    "### Nomor 7.2\n",
    "Pada Occupation Studentlah rata-rata DroppedCalls paling besar"
   ],
   "metadata": {
    "collapsed": false
   },
   "id": "a00d42fb2ebe5dec"
  },
  {
   "cell_type": "code",
   "execution_count": null,
   "outputs": [],
   "source": [],
   "metadata": {
    "collapsed": false
   },
   "id": "9481e9b0c071741e"
  }
 ],
 "metadata": {
  "kernelspec": {
   "name": "python3",
   "language": "python",
   "display_name": "Python 3 (ipykernel)"
  },
  "language_info": {
   "codemirror_mode": {
    "name": "ipython",
    "version": 3
   },
   "file_extension": ".py",
   "mimetype": "text/x-python",
   "name": "python",
   "nbconvert_exporter": "python",
   "pygments_lexer": "ipython3",
   "version": "3.7.6"
  }
 },
 "nbformat": 4,
 "nbformat_minor": 5
}
