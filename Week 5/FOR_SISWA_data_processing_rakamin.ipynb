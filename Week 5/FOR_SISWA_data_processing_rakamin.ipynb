{
 "nbformat": 4,
 "nbformat_minor": 0,
 "metadata": {
  "colab": {
   "provenance": [],
   "collapsed_sections": [
    "9y3zrjsaZuYf",
    "C4Kr0cd-ae3I"
   ]
  },
  "kernelspec": {
   "name": "python3",
   "language": "python",
   "display_name": "Python 3 (ipykernel)"
  },
  "language_info": {
   "name": "python"
  }
 },
 "cells": [
  {
   "cell_type": "markdown",
   "source": [
    "# Import Data\n",
    "\n",
    "Data : https://drive.google.com/drive/folders/1pqvolQbOex2FMa0VR9v_4ZWicGzFc48C?usp=drive_link"
   ],
   "metadata": {
    "id": "9y3zrjsaZuYf"
   }
  },
  {
   "cell_type": "code",
   "execution_count": 1,
   "metadata": {
    "id": "NYtKVrMeXDFc",
    "ExecuteTime": {
     "end_time": "2024-06-09T04:02:41.376026500Z",
     "start_time": "2024-06-09T04:02:40.338919900Z"
    }
   },
   "outputs": [],
   "source": [
    "import pandas as pd\n",
    "import numpy as np\n",
    "np.random.seed(42)"
   ]
  },
  {
   "cell_type": "code",
   "source": [
    "%cd /content/drive/MyDrive/RAKAMIN/Studi Kasus Live Session/Data Processing/data"
   ],
   "metadata": {
    "colab": {
     "base_uri": "https://localhost:8080/"
    },
    "id": "9_57YNzoXQbl",
    "outputId": "ba97ad66-f0dd-4e67-e176-764269745f89",
    "ExecuteTime": {
     "end_time": "2024-06-09T04:02:41.444212500Z",
     "start_time": "2024-06-09T04:02:41.377031500Z"
    }
   },
   "execution_count": 2,
   "outputs": [
    {
     "name": "stdout",
     "output_type": "stream",
     "text": [
      "[WinError 3] The system cannot find the path specified: '/content/drive/MyDrive/RAKAMIN/Studi Kasus Live Session/Data Processing/data'\n",
      "C:\\Users\\moham\\Downloads\n"
     ]
    }
   ]
  },
  {
   "cell_type": "code",
   "source": [
    "df_orders = pd.read_csv('orders.csv')\n",
    "df_order_items = pd.read_csv('order_items.csv')\n",
    "df_customers = pd.read_csv('customers.csv')\n",
    "df_payments = pd.read_csv('payments.csv')\n",
    "df_products = pd.read_csv('products.csv')"
   ],
   "metadata": {
    "id": "Esk2VzzkXKce",
    "ExecuteTime": {
     "end_time": "2024-06-09T04:02:43.447033900Z",
     "start_time": "2024-06-09T04:02:41.407713800Z"
    }
   },
   "execution_count": 3,
   "outputs": []
  },
  {
   "cell_type": "code",
   "source": [
    "df_orders.columns"
   ],
   "metadata": {
    "colab": {
     "base_uri": "https://localhost:8080/"
    },
    "id": "Biq_T528Z0Wl",
    "outputId": "f671783c-2272-4d69-ee46-8df0f3173e96",
    "ExecuteTime": {
     "end_time": "2024-06-09T04:02:49.942294Z",
     "start_time": "2024-06-09T04:02:49.819271900Z"
    }
   },
   "execution_count": 4,
   "outputs": [
    {
     "data": {
      "text/plain": "Index(['order_id', 'customer_id', 'order_status', 'order_purchase_timestamp',\n       'order_approved_at', 'order_delivered_timestamp',\n       'order_estimated_delivery_date'],\n      dtype='object')"
     },
     "execution_count": 4,
     "metadata": {},
     "output_type": "execute_result"
    }
   ]
  },
  {
   "cell_type": "code",
   "source": [
    "df_order_items.columns"
   ],
   "metadata": {
    "colab": {
     "base_uri": "https://localhost:8080/"
    },
    "id": "mJ8jlmVrZ7Qt",
    "outputId": "197e68ae-376c-4989-9aa8-44c1a7e66d81",
    "ExecuteTime": {
     "end_time": "2024-06-09T04:02:52.040517900Z",
     "start_time": "2024-06-09T04:02:52.007821200Z"
    }
   },
   "execution_count": 5,
   "outputs": [
    {
     "data": {
      "text/plain": "Index(['order_id', 'order_item_id', 'product_id', 'seller_id', 'price',\n       'shipping_charges'],\n      dtype='object')"
     },
     "execution_count": 5,
     "metadata": {},
     "output_type": "execute_result"
    }
   ]
  },
  {
   "cell_type": "code",
   "source": [
    "df_customers.columns"
   ],
   "metadata": {
    "colab": {
     "base_uri": "https://localhost:8080/"
    },
    "id": "QjA_tQs6Z9z1",
    "outputId": "135efb76-e86d-4793-fbcb-0bfd9d973ffe",
    "ExecuteTime": {
     "end_time": "2024-06-09T04:02:52.696327900Z",
     "start_time": "2024-06-09T04:02:52.650475700Z"
    }
   },
   "execution_count": 6,
   "outputs": [
    {
     "data": {
      "text/plain": "Index(['customer_id', 'customer_zip_code_prefix', 'customer_city',\n       'customer_state'],\n      dtype='object')"
     },
     "execution_count": 6,
     "metadata": {},
     "output_type": "execute_result"
    }
   ]
  },
  {
   "cell_type": "code",
   "source": [
    "df_payments.columns"
   ],
   "metadata": {
    "colab": {
     "base_uri": "https://localhost:8080/"
    },
    "id": "lcGugbZzZ_Bz",
    "outputId": "0032a521-1089-4054-ec55-39c363af55e8",
    "ExecuteTime": {
     "end_time": "2024-06-09T04:02:53.217439900Z",
     "start_time": "2024-06-09T04:02:53.177338700Z"
    }
   },
   "execution_count": 7,
   "outputs": [
    {
     "data": {
      "text/plain": "Index(['order_id', 'payment_sequential', 'payment_type',\n       'payment_installments', 'payment_value'],\n      dtype='object')"
     },
     "execution_count": 7,
     "metadata": {},
     "output_type": "execute_result"
    }
   ]
  },
  {
   "cell_type": "code",
   "source": [
    "df_products.columns"
   ],
   "metadata": {
    "colab": {
     "base_uri": "https://localhost:8080/"
    },
    "id": "BSm4Pqj8aAqv",
    "outputId": "723ae701-798b-4605-c288-6e0957ab3637",
    "ExecuteTime": {
     "end_time": "2024-06-09T04:02:54.098911100Z",
     "start_time": "2024-06-09T04:02:53.992100700Z"
    }
   },
   "execution_count": 8,
   "outputs": [
    {
     "data": {
      "text/plain": "Index(['product_id', 'product_category_name', 'product_weight_g',\n       'product_length_cm', 'product_height_cm', 'product_width_cm'],\n      dtype='object')"
     },
     "execution_count": 8,
     "metadata": {},
     "output_type": "execute_result"
    }
   ]
  },
  {
   "cell_type": "markdown",
   "source": [
    "# Review Materi"
   ],
   "metadata": {
    "id": "C4Kr0cd-ae3I"
   }
  },
  {
   "cell_type": "code",
   "source": [
    "# Merge 2 csv\n",
    "\n",
    "df_combined_2csv = pd.merge(df_orders, df_order_items, on='order_id')"
   ],
   "metadata": {
    "id": "gLXy_EeYai6y",
    "ExecuteTime": {
     "end_time": "2024-06-09T04:02:56.662003700Z",
     "start_time": "2024-06-09T04:02:56.435899700Z"
    }
   },
   "execution_count": 9,
   "outputs": []
  },
  {
   "cell_type": "code",
   "source": [
    "df_combined_2csv"
   ],
   "metadata": {
    "colab": {
     "base_uri": "https://localhost:8080/",
     "height": 443
    },
    "id": "3erI5wo_akar",
    "outputId": "3b57b91e-cd7a-401e-936e-ad5c3d20f92d",
    "ExecuteTime": {
     "end_time": "2024-06-09T04:02:57.232317600Z",
     "start_time": "2024-06-09T04:02:57.097563100Z"
    }
   },
   "execution_count": 10,
   "outputs": [
    {
     "data": {
      "text/plain": "                                order_id                       customer_id  \\\n0       e481f51cbdc54678b7cc49136f2d6af7  7c396fd4830fd04220f754e42b4e5bff   \n1       53cdb2fc8bc7dce0b6741e2150273451  af07308b275d755c9edb36a90c618231   \n2       47770eb9100c2d0c44946d9cf07ec65d  3a653a41f6f9fc3d2a113cf8398680e8   \n3       949d5b44dbf5de918fe9c16f97b45f8a  7c142cf63193a1473d2e66489a9ae977   \n4       ad21c59c0840e6cb83a9ceb5573f8159  72632f0f9dd73dfee390c9b22eb56dd6   \n...                                  ...                               ...   \n112645  63943bddc261676b46f01ca7ac2f7bd8  da62f9e57a76d978d02ab5362c509660   \n112646  83c1379a015df1e13d02aae0204711ab  737520a9aad80b3fbbdad19b66b37b30   \n112647  11c177c8e97725db2631073c19f07b62  5097a5312c8b157bb7be58ae360ef43c   \n112648  11c177c8e97725db2631073c19f07b62  5097a5312c8b157bb7be58ae360ef43c   \n112649  66dea50a8b16d9b4dee7af250b4be1a5  60350aa974b26ff12caad89e55993bd6   \n\n       order_status order_purchase_timestamp    order_approved_at  \\\n0         delivered      2017-10-02 10:56:33  2017-10-02 11:07:15   \n1         delivered      2018-07-24 20:41:37  2018-07-26 03:24:27   \n2         delivered      2018-08-08 08:38:49  2018-08-08 08:55:23   \n3         delivered      2017-11-18 19:28:06  2017-11-18 19:45:59   \n4         delivered      2018-02-13 21:18:39  2018-02-13 22:20:29   \n...             ...                      ...                  ...   \n112645    delivered      2018-02-06 12:58:58  2018-02-06 13:10:37   \n112646    delivered      2017-08-27 14:46:43  2017-08-27 15:04:16   \n112647    delivered      2018-01-08 21:28:27  2018-01-08 21:36:21   \n112648    delivered      2018-01-08 21:28:27  2018-01-08 21:36:21   \n112649    delivered      2018-03-08 20:57:30  2018-03-09 11:20:28   \n\n       order_delivered_timestamp order_estimated_delivery_date  order_item_id  \\\n0            2017-10-10 21:25:13                    2017-10-18              1   \n1            2018-08-07 15:27:45                    2018-08-13              1   \n2            2018-08-17 18:06:29                    2018-09-04              1   \n3            2017-12-02 00:28:42                    2017-12-15              1   \n4            2018-02-16 18:17:02                    2018-02-26              1   \n...                          ...                           ...            ...   \n112645       2018-02-28 17:37:56                    2018-03-02              1   \n112646       2017-09-21 11:24:17                    2017-09-27              1   \n112647       2018-01-25 23:32:54                    2018-02-15              1   \n112648       2018-01-25 23:32:54                    2018-02-15              2   \n112649       2018-03-16 13:08:30                    2018-04-03              1   \n\n                              product_id                         seller_id  \\\n0       87285b34884572647811a353c7ac498a  3504c0cb71d7fa48d967e0e4c94d59d9   \n1       595fac2a385ac33a80bd5114aec74eb8  289cdb325fb7e7f891c38608bf9e0962   \n2       aa4383b373c6aca5d8797843e5594415  4869f7a5dfa277a7dca6462dcf3b52b2   \n3       d0b61bfb1de832b15ba9d266ca96e5b0  66922902710d126a0e7d26b0e3805106   \n4       65266b2da20d04dbe00c5c2d3bb7859e  2c9e548be18521d1c43cde1c582c6de8   \n...                                  ...                               ...   \n112645  f1d4ce8c6dd66c47bbaa8c6781c2a923  1f9ab4708f3056ede07124aad39a2554   \n112646  b80910977a37536adeddd63663f916ad  d50d79cb34e38265a8649c383dcffd48   \n112647  d1c427060a0f73f6b889a5c7c61f2ac4  a1043bafd471dff536d0c462352beb48   \n112648  d1c427060a0f73f6b889a5c7c61f2ac4  a1043bafd471dff536d0c462352beb48   \n112649  006619bbed68b000c8ba3f8725d5409e  ececbfcff9804a2d6b40f589df8eef2b   \n\n         price  shipping_charges  \n0        29.99              8.72  \n1       118.70             22.76  \n2       159.90             19.22  \n3        45.00             27.20  \n4        19.90              8.72  \n...        ...               ...  \n112645  174.90             20.10  \n112646  205.99             65.02  \n112647  179.99             40.59  \n112648  179.99             40.59  \n112649   68.50             18.36  \n\n[112650 rows x 12 columns]",
      "text/html": "<div>\n<style scoped>\n    .dataframe tbody tr th:only-of-type {\n        vertical-align: middle;\n    }\n\n    .dataframe tbody tr th {\n        vertical-align: top;\n    }\n\n    .dataframe thead th {\n        text-align: right;\n    }\n</style>\n<table border=\"1\" class=\"dataframe\">\n  <thead>\n    <tr style=\"text-align: right;\">\n      <th></th>\n      <th>order_id</th>\n      <th>customer_id</th>\n      <th>order_status</th>\n      <th>order_purchase_timestamp</th>\n      <th>order_approved_at</th>\n      <th>order_delivered_timestamp</th>\n      <th>order_estimated_delivery_date</th>\n      <th>order_item_id</th>\n      <th>product_id</th>\n      <th>seller_id</th>\n      <th>price</th>\n      <th>shipping_charges</th>\n    </tr>\n  </thead>\n  <tbody>\n    <tr>\n      <th>0</th>\n      <td>e481f51cbdc54678b7cc49136f2d6af7</td>\n      <td>7c396fd4830fd04220f754e42b4e5bff</td>\n      <td>delivered</td>\n      <td>2017-10-02 10:56:33</td>\n      <td>2017-10-02 11:07:15</td>\n      <td>2017-10-10 21:25:13</td>\n      <td>2017-10-18</td>\n      <td>1</td>\n      <td>87285b34884572647811a353c7ac498a</td>\n      <td>3504c0cb71d7fa48d967e0e4c94d59d9</td>\n      <td>29.99</td>\n      <td>8.72</td>\n    </tr>\n    <tr>\n      <th>1</th>\n      <td>53cdb2fc8bc7dce0b6741e2150273451</td>\n      <td>af07308b275d755c9edb36a90c618231</td>\n      <td>delivered</td>\n      <td>2018-07-24 20:41:37</td>\n      <td>2018-07-26 03:24:27</td>\n      <td>2018-08-07 15:27:45</td>\n      <td>2018-08-13</td>\n      <td>1</td>\n      <td>595fac2a385ac33a80bd5114aec74eb8</td>\n      <td>289cdb325fb7e7f891c38608bf9e0962</td>\n      <td>118.70</td>\n      <td>22.76</td>\n    </tr>\n    <tr>\n      <th>2</th>\n      <td>47770eb9100c2d0c44946d9cf07ec65d</td>\n      <td>3a653a41f6f9fc3d2a113cf8398680e8</td>\n      <td>delivered</td>\n      <td>2018-08-08 08:38:49</td>\n      <td>2018-08-08 08:55:23</td>\n      <td>2018-08-17 18:06:29</td>\n      <td>2018-09-04</td>\n      <td>1</td>\n      <td>aa4383b373c6aca5d8797843e5594415</td>\n      <td>4869f7a5dfa277a7dca6462dcf3b52b2</td>\n      <td>159.90</td>\n      <td>19.22</td>\n    </tr>\n    <tr>\n      <th>3</th>\n      <td>949d5b44dbf5de918fe9c16f97b45f8a</td>\n      <td>7c142cf63193a1473d2e66489a9ae977</td>\n      <td>delivered</td>\n      <td>2017-11-18 19:28:06</td>\n      <td>2017-11-18 19:45:59</td>\n      <td>2017-12-02 00:28:42</td>\n      <td>2017-12-15</td>\n      <td>1</td>\n      <td>d0b61bfb1de832b15ba9d266ca96e5b0</td>\n      <td>66922902710d126a0e7d26b0e3805106</td>\n      <td>45.00</td>\n      <td>27.20</td>\n    </tr>\n    <tr>\n      <th>4</th>\n      <td>ad21c59c0840e6cb83a9ceb5573f8159</td>\n      <td>72632f0f9dd73dfee390c9b22eb56dd6</td>\n      <td>delivered</td>\n      <td>2018-02-13 21:18:39</td>\n      <td>2018-02-13 22:20:29</td>\n      <td>2018-02-16 18:17:02</td>\n      <td>2018-02-26</td>\n      <td>1</td>\n      <td>65266b2da20d04dbe00c5c2d3bb7859e</td>\n      <td>2c9e548be18521d1c43cde1c582c6de8</td>\n      <td>19.90</td>\n      <td>8.72</td>\n    </tr>\n    <tr>\n      <th>...</th>\n      <td>...</td>\n      <td>...</td>\n      <td>...</td>\n      <td>...</td>\n      <td>...</td>\n      <td>...</td>\n      <td>...</td>\n      <td>...</td>\n      <td>...</td>\n      <td>...</td>\n      <td>...</td>\n      <td>...</td>\n    </tr>\n    <tr>\n      <th>112645</th>\n      <td>63943bddc261676b46f01ca7ac2f7bd8</td>\n      <td>da62f9e57a76d978d02ab5362c509660</td>\n      <td>delivered</td>\n      <td>2018-02-06 12:58:58</td>\n      <td>2018-02-06 13:10:37</td>\n      <td>2018-02-28 17:37:56</td>\n      <td>2018-03-02</td>\n      <td>1</td>\n      <td>f1d4ce8c6dd66c47bbaa8c6781c2a923</td>\n      <td>1f9ab4708f3056ede07124aad39a2554</td>\n      <td>174.90</td>\n      <td>20.10</td>\n    </tr>\n    <tr>\n      <th>112646</th>\n      <td>83c1379a015df1e13d02aae0204711ab</td>\n      <td>737520a9aad80b3fbbdad19b66b37b30</td>\n      <td>delivered</td>\n      <td>2017-08-27 14:46:43</td>\n      <td>2017-08-27 15:04:16</td>\n      <td>2017-09-21 11:24:17</td>\n      <td>2017-09-27</td>\n      <td>1</td>\n      <td>b80910977a37536adeddd63663f916ad</td>\n      <td>d50d79cb34e38265a8649c383dcffd48</td>\n      <td>205.99</td>\n      <td>65.02</td>\n    </tr>\n    <tr>\n      <th>112647</th>\n      <td>11c177c8e97725db2631073c19f07b62</td>\n      <td>5097a5312c8b157bb7be58ae360ef43c</td>\n      <td>delivered</td>\n      <td>2018-01-08 21:28:27</td>\n      <td>2018-01-08 21:36:21</td>\n      <td>2018-01-25 23:32:54</td>\n      <td>2018-02-15</td>\n      <td>1</td>\n      <td>d1c427060a0f73f6b889a5c7c61f2ac4</td>\n      <td>a1043bafd471dff536d0c462352beb48</td>\n      <td>179.99</td>\n      <td>40.59</td>\n    </tr>\n    <tr>\n      <th>112648</th>\n      <td>11c177c8e97725db2631073c19f07b62</td>\n      <td>5097a5312c8b157bb7be58ae360ef43c</td>\n      <td>delivered</td>\n      <td>2018-01-08 21:28:27</td>\n      <td>2018-01-08 21:36:21</td>\n      <td>2018-01-25 23:32:54</td>\n      <td>2018-02-15</td>\n      <td>2</td>\n      <td>d1c427060a0f73f6b889a5c7c61f2ac4</td>\n      <td>a1043bafd471dff536d0c462352beb48</td>\n      <td>179.99</td>\n      <td>40.59</td>\n    </tr>\n    <tr>\n      <th>112649</th>\n      <td>66dea50a8b16d9b4dee7af250b4be1a5</td>\n      <td>60350aa974b26ff12caad89e55993bd6</td>\n      <td>delivered</td>\n      <td>2018-03-08 20:57:30</td>\n      <td>2018-03-09 11:20:28</td>\n      <td>2018-03-16 13:08:30</td>\n      <td>2018-04-03</td>\n      <td>1</td>\n      <td>006619bbed68b000c8ba3f8725d5409e</td>\n      <td>ececbfcff9804a2d6b40f589df8eef2b</td>\n      <td>68.50</td>\n      <td>18.36</td>\n    </tr>\n  </tbody>\n</table>\n<p>112650 rows × 12 columns</p>\n</div>"
     },
     "execution_count": 10,
     "metadata": {},
     "output_type": "execute_result"
    }
   ]
  },
  {
   "cell_type": "code",
   "source": [
    "# Menampilkan 5 baris pertama DataFrame\n",
    "df_combined_2csv.head()"
   ],
   "metadata": {
    "colab": {
     "base_uri": "https://localhost:8080/",
     "height": 255
    },
    "id": "Xc03JINlcD0S",
    "outputId": "1480ec58-c503-4a31-f25c-ecfa84fc0953",
    "ExecuteTime": {
     "end_time": "2024-06-09T04:03:00.252304700Z",
     "start_time": "2024-06-09T04:02:59.584360200Z"
    }
   },
   "execution_count": 11,
   "outputs": [
    {
     "data": {
      "text/plain": "                           order_id                       customer_id  \\\n0  e481f51cbdc54678b7cc49136f2d6af7  7c396fd4830fd04220f754e42b4e5bff   \n1  53cdb2fc8bc7dce0b6741e2150273451  af07308b275d755c9edb36a90c618231   \n2  47770eb9100c2d0c44946d9cf07ec65d  3a653a41f6f9fc3d2a113cf8398680e8   \n3  949d5b44dbf5de918fe9c16f97b45f8a  7c142cf63193a1473d2e66489a9ae977   \n4  ad21c59c0840e6cb83a9ceb5573f8159  72632f0f9dd73dfee390c9b22eb56dd6   \n\n  order_status order_purchase_timestamp    order_approved_at  \\\n0    delivered      2017-10-02 10:56:33  2017-10-02 11:07:15   \n1    delivered      2018-07-24 20:41:37  2018-07-26 03:24:27   \n2    delivered      2018-08-08 08:38:49  2018-08-08 08:55:23   \n3    delivered      2017-11-18 19:28:06  2017-11-18 19:45:59   \n4    delivered      2018-02-13 21:18:39  2018-02-13 22:20:29   \n\n  order_delivered_timestamp order_estimated_delivery_date  order_item_id  \\\n0       2017-10-10 21:25:13                    2017-10-18              1   \n1       2018-08-07 15:27:45                    2018-08-13              1   \n2       2018-08-17 18:06:29                    2018-09-04              1   \n3       2017-12-02 00:28:42                    2017-12-15              1   \n4       2018-02-16 18:17:02                    2018-02-26              1   \n\n                         product_id                         seller_id   price  \\\n0  87285b34884572647811a353c7ac498a  3504c0cb71d7fa48d967e0e4c94d59d9   29.99   \n1  595fac2a385ac33a80bd5114aec74eb8  289cdb325fb7e7f891c38608bf9e0962  118.70   \n2  aa4383b373c6aca5d8797843e5594415  4869f7a5dfa277a7dca6462dcf3b52b2  159.90   \n3  d0b61bfb1de832b15ba9d266ca96e5b0  66922902710d126a0e7d26b0e3805106   45.00   \n4  65266b2da20d04dbe00c5c2d3bb7859e  2c9e548be18521d1c43cde1c582c6de8   19.90   \n\n   shipping_charges  \n0              8.72  \n1             22.76  \n2             19.22  \n3             27.20  \n4              8.72  ",
      "text/html": "<div>\n<style scoped>\n    .dataframe tbody tr th:only-of-type {\n        vertical-align: middle;\n    }\n\n    .dataframe tbody tr th {\n        vertical-align: top;\n    }\n\n    .dataframe thead th {\n        text-align: right;\n    }\n</style>\n<table border=\"1\" class=\"dataframe\">\n  <thead>\n    <tr style=\"text-align: right;\">\n      <th></th>\n      <th>order_id</th>\n      <th>customer_id</th>\n      <th>order_status</th>\n      <th>order_purchase_timestamp</th>\n      <th>order_approved_at</th>\n      <th>order_delivered_timestamp</th>\n      <th>order_estimated_delivery_date</th>\n      <th>order_item_id</th>\n      <th>product_id</th>\n      <th>seller_id</th>\n      <th>price</th>\n      <th>shipping_charges</th>\n    </tr>\n  </thead>\n  <tbody>\n    <tr>\n      <th>0</th>\n      <td>e481f51cbdc54678b7cc49136f2d6af7</td>\n      <td>7c396fd4830fd04220f754e42b4e5bff</td>\n      <td>delivered</td>\n      <td>2017-10-02 10:56:33</td>\n      <td>2017-10-02 11:07:15</td>\n      <td>2017-10-10 21:25:13</td>\n      <td>2017-10-18</td>\n      <td>1</td>\n      <td>87285b34884572647811a353c7ac498a</td>\n      <td>3504c0cb71d7fa48d967e0e4c94d59d9</td>\n      <td>29.99</td>\n      <td>8.72</td>\n    </tr>\n    <tr>\n      <th>1</th>\n      <td>53cdb2fc8bc7dce0b6741e2150273451</td>\n      <td>af07308b275d755c9edb36a90c618231</td>\n      <td>delivered</td>\n      <td>2018-07-24 20:41:37</td>\n      <td>2018-07-26 03:24:27</td>\n      <td>2018-08-07 15:27:45</td>\n      <td>2018-08-13</td>\n      <td>1</td>\n      <td>595fac2a385ac33a80bd5114aec74eb8</td>\n      <td>289cdb325fb7e7f891c38608bf9e0962</td>\n      <td>118.70</td>\n      <td>22.76</td>\n    </tr>\n    <tr>\n      <th>2</th>\n      <td>47770eb9100c2d0c44946d9cf07ec65d</td>\n      <td>3a653a41f6f9fc3d2a113cf8398680e8</td>\n      <td>delivered</td>\n      <td>2018-08-08 08:38:49</td>\n      <td>2018-08-08 08:55:23</td>\n      <td>2018-08-17 18:06:29</td>\n      <td>2018-09-04</td>\n      <td>1</td>\n      <td>aa4383b373c6aca5d8797843e5594415</td>\n      <td>4869f7a5dfa277a7dca6462dcf3b52b2</td>\n      <td>159.90</td>\n      <td>19.22</td>\n    </tr>\n    <tr>\n      <th>3</th>\n      <td>949d5b44dbf5de918fe9c16f97b45f8a</td>\n      <td>7c142cf63193a1473d2e66489a9ae977</td>\n      <td>delivered</td>\n      <td>2017-11-18 19:28:06</td>\n      <td>2017-11-18 19:45:59</td>\n      <td>2017-12-02 00:28:42</td>\n      <td>2017-12-15</td>\n      <td>1</td>\n      <td>d0b61bfb1de832b15ba9d266ca96e5b0</td>\n      <td>66922902710d126a0e7d26b0e3805106</td>\n      <td>45.00</td>\n      <td>27.20</td>\n    </tr>\n    <tr>\n      <th>4</th>\n      <td>ad21c59c0840e6cb83a9ceb5573f8159</td>\n      <td>72632f0f9dd73dfee390c9b22eb56dd6</td>\n      <td>delivered</td>\n      <td>2018-02-13 21:18:39</td>\n      <td>2018-02-13 22:20:29</td>\n      <td>2018-02-16 18:17:02</td>\n      <td>2018-02-26</td>\n      <td>1</td>\n      <td>65266b2da20d04dbe00c5c2d3bb7859e</td>\n      <td>2c9e548be18521d1c43cde1c582c6de8</td>\n      <td>19.90</td>\n      <td>8.72</td>\n    </tr>\n  </tbody>\n</table>\n</div>"
     },
     "execution_count": 11,
     "metadata": {},
     "output_type": "execute_result"
    }
   ]
  },
  {
   "cell_type": "code",
   "source": [
    "# Menampilkan informasi DataFrame\n",
    "df_combined_2csv.info()"
   ],
   "metadata": {
    "colab": {
     "base_uri": "https://localhost:8080/"
    },
    "id": "i77Fgtq5cI6-",
    "outputId": "86a73963-eedf-429f-c9ef-41f1f91547a5",
    "ExecuteTime": {
     "end_time": "2024-06-09T04:03:10.266005500Z",
     "start_time": "2024-06-09T04:03:10.013783200Z"
    }
   },
   "execution_count": 12,
   "outputs": [
    {
     "name": "stdout",
     "output_type": "stream",
     "text": [
      "<class 'pandas.core.frame.DataFrame'>\n",
      "Int64Index: 112650 entries, 0 to 112649\n",
      "Data columns (total 12 columns):\n",
      " #   Column                         Non-Null Count   Dtype  \n",
      "---  ------                         --------------   -----  \n",
      " 0   order_id                       112650 non-null  object \n",
      " 1   customer_id                    112650 non-null  object \n",
      " 2   order_status                   112650 non-null  object \n",
      " 3   order_purchase_timestamp       112650 non-null  object \n",
      " 4   order_approved_at              112635 non-null  object \n",
      " 5   order_delivered_timestamp      110196 non-null  object \n",
      " 6   order_estimated_delivery_date  112650 non-null  object \n",
      " 7   order_item_id                  112650 non-null  int64  \n",
      " 8   product_id                     112650 non-null  object \n",
      " 9   seller_id                      112650 non-null  object \n",
      " 10  price                          112650 non-null  float64\n",
      " 11  shipping_charges               112650 non-null  float64\n",
      "dtypes: float64(2), int64(1), object(9)\n",
      "memory usage: 11.2+ MB\n"
     ]
    }
   ]
  },
  {
   "cell_type": "code",
   "source": [
    "# Mengubah tipe data kolom 'order_purchase_timestamp' ke datetime\n",
    "df_combined_2csv['order_purchase_timestamp'] = pd.to_datetime(df_combined_2csv['order_purchase_timestamp'])"
   ],
   "metadata": {
    "id": "B6CecAFqcNZk",
    "ExecuteTime": {
     "end_time": "2024-06-09T04:03:18.654533100Z",
     "start_time": "2024-06-09T04:03:18.525714200Z"
    }
   },
   "execution_count": 13,
   "outputs": []
  },
  {
   "cell_type": "markdown",
   "source": [
    "Apa lagi yang bisa diubah ke tipe data datetime ?\n",
    "\n",
    "Siapa yang mau mencoba ?\n",
    "\n",
    "jawaban :    \n",
    "'order_purchase_timestamp', 'order_approved_at', 'order_delivered_timestamp', 'order_estimated_delivery_date'"
   ],
   "metadata": {
    "id": "MddP2SyCcfOd"
   }
  },
  {
   "cell_type": "code",
   "execution_count": 14,
   "outputs": [],
   "source": [
    "df_combined_2csv['order_approved_at'] = pd.to_datetime(df_combined_2csv['order_approved_at'])\n",
    "df_combined_2csv['order_delivered_timestamp'] = pd.to_datetime(df_combined_2csv['order_delivered_timestamp'])\n",
    "df_combined_2csv['order_estimated_delivery_date'] = pd.to_datetime(df_combined_2csv['order_estimated_delivery_date'])"
   ],
   "metadata": {
    "collapsed": false,
    "ExecuteTime": {
     "end_time": "2024-06-09T04:12:44.534515200Z",
     "start_time": "2024-06-09T04:12:44.043832500Z"
    }
   }
  },
  {
   "cell_type": "code",
   "source": [
    "# Memilih hanya kolom tertentu\n",
    "selected_columns = ['order_id', 'product_id', 'price']\n",
    "df_selected_columns = df_combined_2csv[selected_columns]\n",
    "df_selected_columns"
   ],
   "metadata": {
    "colab": {
     "base_uri": "https://localhost:8080/",
     "height": 423
    },
    "id": "-8hIdzWgciQ_",
    "outputId": "9840093f-1aa2-41b7-cc17-3a7b544e8556",
    "ExecuteTime": {
     "end_time": "2024-06-09T04:12:59.414902Z",
     "start_time": "2024-06-09T04:12:59.236605100Z"
    }
   },
   "execution_count": 15,
   "outputs": [
    {
     "data": {
      "text/plain": "                                order_id                        product_id  \\\n0       e481f51cbdc54678b7cc49136f2d6af7  87285b34884572647811a353c7ac498a   \n1       53cdb2fc8bc7dce0b6741e2150273451  595fac2a385ac33a80bd5114aec74eb8   \n2       47770eb9100c2d0c44946d9cf07ec65d  aa4383b373c6aca5d8797843e5594415   \n3       949d5b44dbf5de918fe9c16f97b45f8a  d0b61bfb1de832b15ba9d266ca96e5b0   \n4       ad21c59c0840e6cb83a9ceb5573f8159  65266b2da20d04dbe00c5c2d3bb7859e   \n...                                  ...                               ...   \n112645  63943bddc261676b46f01ca7ac2f7bd8  f1d4ce8c6dd66c47bbaa8c6781c2a923   \n112646  83c1379a015df1e13d02aae0204711ab  b80910977a37536adeddd63663f916ad   \n112647  11c177c8e97725db2631073c19f07b62  d1c427060a0f73f6b889a5c7c61f2ac4   \n112648  11c177c8e97725db2631073c19f07b62  d1c427060a0f73f6b889a5c7c61f2ac4   \n112649  66dea50a8b16d9b4dee7af250b4be1a5  006619bbed68b000c8ba3f8725d5409e   \n\n         price  \n0        29.99  \n1       118.70  \n2       159.90  \n3        45.00  \n4        19.90  \n...        ...  \n112645  174.90  \n112646  205.99  \n112647  179.99  \n112648  179.99  \n112649   68.50  \n\n[112650 rows x 3 columns]",
      "text/html": "<div>\n<style scoped>\n    .dataframe tbody tr th:only-of-type {\n        vertical-align: middle;\n    }\n\n    .dataframe tbody tr th {\n        vertical-align: top;\n    }\n\n    .dataframe thead th {\n        text-align: right;\n    }\n</style>\n<table border=\"1\" class=\"dataframe\">\n  <thead>\n    <tr style=\"text-align: right;\">\n      <th></th>\n      <th>order_id</th>\n      <th>product_id</th>\n      <th>price</th>\n    </tr>\n  </thead>\n  <tbody>\n    <tr>\n      <th>0</th>\n      <td>e481f51cbdc54678b7cc49136f2d6af7</td>\n      <td>87285b34884572647811a353c7ac498a</td>\n      <td>29.99</td>\n    </tr>\n    <tr>\n      <th>1</th>\n      <td>53cdb2fc8bc7dce0b6741e2150273451</td>\n      <td>595fac2a385ac33a80bd5114aec74eb8</td>\n      <td>118.70</td>\n    </tr>\n    <tr>\n      <th>2</th>\n      <td>47770eb9100c2d0c44946d9cf07ec65d</td>\n      <td>aa4383b373c6aca5d8797843e5594415</td>\n      <td>159.90</td>\n    </tr>\n    <tr>\n      <th>3</th>\n      <td>949d5b44dbf5de918fe9c16f97b45f8a</td>\n      <td>d0b61bfb1de832b15ba9d266ca96e5b0</td>\n      <td>45.00</td>\n    </tr>\n    <tr>\n      <th>4</th>\n      <td>ad21c59c0840e6cb83a9ceb5573f8159</td>\n      <td>65266b2da20d04dbe00c5c2d3bb7859e</td>\n      <td>19.90</td>\n    </tr>\n    <tr>\n      <th>...</th>\n      <td>...</td>\n      <td>...</td>\n      <td>...</td>\n    </tr>\n    <tr>\n      <th>112645</th>\n      <td>63943bddc261676b46f01ca7ac2f7bd8</td>\n      <td>f1d4ce8c6dd66c47bbaa8c6781c2a923</td>\n      <td>174.90</td>\n    </tr>\n    <tr>\n      <th>112646</th>\n      <td>83c1379a015df1e13d02aae0204711ab</td>\n      <td>b80910977a37536adeddd63663f916ad</td>\n      <td>205.99</td>\n    </tr>\n    <tr>\n      <th>112647</th>\n      <td>11c177c8e97725db2631073c19f07b62</td>\n      <td>d1c427060a0f73f6b889a5c7c61f2ac4</td>\n      <td>179.99</td>\n    </tr>\n    <tr>\n      <th>112648</th>\n      <td>11c177c8e97725db2631073c19f07b62</td>\n      <td>d1c427060a0f73f6b889a5c7c61f2ac4</td>\n      <td>179.99</td>\n    </tr>\n    <tr>\n      <th>112649</th>\n      <td>66dea50a8b16d9b4dee7af250b4be1a5</td>\n      <td>006619bbed68b000c8ba3f8725d5409e</td>\n      <td>68.50</td>\n    </tr>\n  </tbody>\n</table>\n<p>112650 rows × 3 columns</p>\n</div>"
     },
     "execution_count": 15,
     "metadata": {},
     "output_type": "execute_result"
    }
   ]
  },
  {
   "cell_type": "code",
   "source": [
    "# Menambahkan kolom baru 'total_price'\n",
    "df_combined_2csv['total_price'] = df_combined_2csv['price'] * df_combined_2csv['order_item_id']\n",
    "df_combined_2csv['total_price']"
   ],
   "metadata": {
    "colab": {
     "base_uri": "https://localhost:8080/"
    },
    "id": "kBZHlGhecyuL",
    "outputId": "75cde7ac-1682-481c-d481-33f52ff53e1c",
    "ExecuteTime": {
     "end_time": "2024-06-09T04:13:27.346040500Z",
     "start_time": "2024-06-09T04:13:27.294354900Z"
    }
   },
   "execution_count": 16,
   "outputs": [
    {
     "data": {
      "text/plain": "0          29.99\n1         118.70\n2         159.90\n3          45.00\n4          19.90\n           ...  \n112645    174.90\n112646    205.99\n112647    179.99\n112648    359.98\n112649     68.50\nName: total_price, Length: 112650, dtype: float64"
     },
     "execution_count": 16,
     "metadata": {},
     "output_type": "execute_result"
    }
   ]
  },
  {
   "cell_type": "code",
   "source": [
    "# Menghapus kolom 'shipping_charges'\n",
    "df_combined_2csv = df_combined_2csv.drop('shipping_charges', axis=1)\n"
   ],
   "metadata": {
    "id": "zaT5cnKdc2zk",
    "ExecuteTime": {
     "end_time": "2024-06-09T04:13:35.142020700Z",
     "start_time": "2024-06-09T04:13:35.081242500Z"
    }
   },
   "execution_count": 17,
   "outputs": []
  },
  {
   "cell_type": "code",
   "source": [
    "# Menghapus baris yang memiliki data duplikat\n",
    "\n",
    "df_combined_2csv = df_combined_2csv.drop_duplicates()"
   ],
   "metadata": {
    "colab": {
     "base_uri": "https://localhost:8080/"
    },
    "id": "7cVKvxVcc48_",
    "outputId": "5748db5d-17c7-4f2d-df85-4e4626d3d3ce",
    "ExecuteTime": {
     "end_time": "2024-06-09T04:13:37.686170600Z",
     "start_time": "2024-06-09T04:13:37.402112600Z"
    }
   },
   "execution_count": 18,
   "outputs": []
  },
  {
   "cell_type": "code",
   "source": [
    "# Mengurutkan DataFrame berdasarkan 'order_purchase_timestamp' secara ascending\n",
    "df_combined_2csv.sort_values(by='order_purchase_timestamp')\n"
   ],
   "metadata": {
    "colab": {
     "base_uri": "https://localhost:8080/",
     "height": 443
    },
    "id": "Yzbgo2xydFIT",
    "outputId": "ba62653b-ad8e-4368-df05-167c37148ff3",
    "ExecuteTime": {
     "end_time": "2024-06-09T04:13:40.150189800Z",
     "start_time": "2024-06-09T04:13:40.025885800Z"
    }
   },
   "execution_count": 19,
   "outputs": [
    {
     "data": {
      "text/plain": "                               order_id                       customer_id  \\\n5085   2e7a8482f6fb09756ca50c10d7bfc047  b7d76e111c89f7ebf14761390f0f7d17   \n5086   2e7a8482f6fb09756ca50c10d7bfc047  b7d76e111c89f7ebf14761390f0f7d17   \n4925   e5fa5a7210941f7d56d0208e4e071d35  4854e9b3feff728c13ee5fc7d1547e92   \n34803  bfbd0f9bdef84302105ad712db648a6c  830d5b7aaa3b6f1e9ad63703bec97d23   \n34804  bfbd0f9bdef84302105ad712db648a6c  830d5b7aaa3b6f1e9ad63703bec97d23   \n...                                 ...                               ...   \n34061  0b223d92c27432930dfe407c6aea3041  5c58de6fb80e93396e2f35642666b693   \n35685  168626408cb32af0ffaf76711caae1dc  7febafa06d9d8f232a900a2937f04338   \n78871  03ef5dedbe7492bdae72eec50764c43f  b701bebbdf478f5500348f03aff62121   \n99673  35a972d7f8436f405b56e36add1a7140  24ac2b4327e25baf39f2119e4228976a   \n70511  54282e97f61c23b78330c15b154c867d  ff22e30958c13ffe219db7d711e8f564   \n\n      order_status order_purchase_timestamp   order_approved_at  \\\n5085       shipped      2016-09-04 21:15:19 2016-10-07 13:18:03   \n5086       shipped      2016-09-04 21:15:19 2016-10-07 13:18:03   \n4925      canceled      2016-09-05 00:15:34 2016-10-07 13:17:15   \n34803    delivered      2016-09-15 12:16:38 2016-09-15 12:16:38   \n34804    delivered      2016-09-15 12:16:38 2016-09-15 12:16:38   \n...            ...                      ...                 ...   \n34061    delivered      2018-08-29 14:18:23 2018-08-29 14:31:07   \n35685    delivered      2018-08-29 14:18:28 2018-08-29 14:30:23   \n78871    delivered      2018-08-29 14:52:00 2018-08-29 15:05:22   \n99673    delivered      2018-08-29 15:00:37 2018-08-29 15:10:26   \n70511      shipped      2018-09-03 09:06:57 2018-09-03 17:40:06   \n\n      order_delivered_timestamp order_estimated_delivery_date  order_item_id  \\\n5085                        NaT                    2016-10-20              1   \n5086                        NaT                    2016-10-20              2   \n4925                        NaT                    2016-10-28              1   \n34803       2016-11-09 07:47:38                    2016-10-04              2   \n34804       2016-11-09 07:47:38                    2016-10-04              3   \n...                         ...                           ...            ...   \n34061       2018-08-30 16:24:55                    2018-09-04              2   \n35685       2018-08-30 16:52:31                    2018-09-11              1   \n78871       2018-08-30 16:36:59                    2018-09-03              1   \n99673       2018-08-30 16:23:36                    2018-09-05              1   \n70511                       NaT                    2018-09-06              1   \n\n                             product_id                         seller_id  \\\n5085   c1488892604e4ba5cff5b4eb4d595400  1554a68530182680ad5c8b042c3ab563   \n5086   f293394c72c9b5fafd7023301fc21fc2  1554a68530182680ad5c8b042c3ab563   \n4925   f3c2d01a84c947b078e32bbef0718962  a425f92c199eb576938df686728acd20   \n34803  5a6b04657a4c5ee34285d1e4619a96b4  ecccfa2bb93b34a3bf033cc5d1dcdc69   \n34804  5a6b04657a4c5ee34285d1e4619a96b4  ecccfa2bb93b34a3bf033cc5d1dcdc69   \n...                                 ...                               ...   \n34061  2b4472df15512a2825ae86fd9ae79335  67bf6941ba2f1fa1d02c375766bc3e53   \n35685  bdcf6a834e8faa30dac3886c7a58e92e  2a84855fd20af891be03bc5924d2b453   \n78871  c7f27c5bef2338541c772b5776403e6a  7d7866a99a8656a42c7ff6352a433410   \n99673  d04857e7b4b708ee8b8b9921163edba3  9f505651f4a6abe901a56cdc21508025   \n70511  b98992ea80b467987a7fbb88e7f2076a  25be943a321c8938947bdaabca979a90   \n\n        price  total_price  \n5085    39.99        39.99  \n5086    32.90        65.80  \n4925    59.50        59.50  \n34803   44.99        89.98  \n34804   44.99       134.97  \n...       ...          ...  \n34061  209.00       418.00  \n35685   45.90        45.90  \n78871   24.90        24.90  \n99673   84.99        84.99  \n70511  145.00       145.00  \n\n[112650 rows x 12 columns]",
      "text/html": "<div>\n<style scoped>\n    .dataframe tbody tr th:only-of-type {\n        vertical-align: middle;\n    }\n\n    .dataframe tbody tr th {\n        vertical-align: top;\n    }\n\n    .dataframe thead th {\n        text-align: right;\n    }\n</style>\n<table border=\"1\" class=\"dataframe\">\n  <thead>\n    <tr style=\"text-align: right;\">\n      <th></th>\n      <th>order_id</th>\n      <th>customer_id</th>\n      <th>order_status</th>\n      <th>order_purchase_timestamp</th>\n      <th>order_approved_at</th>\n      <th>order_delivered_timestamp</th>\n      <th>order_estimated_delivery_date</th>\n      <th>order_item_id</th>\n      <th>product_id</th>\n      <th>seller_id</th>\n      <th>price</th>\n      <th>total_price</th>\n    </tr>\n  </thead>\n  <tbody>\n    <tr>\n      <th>5085</th>\n      <td>2e7a8482f6fb09756ca50c10d7bfc047</td>\n      <td>b7d76e111c89f7ebf14761390f0f7d17</td>\n      <td>shipped</td>\n      <td>2016-09-04 21:15:19</td>\n      <td>2016-10-07 13:18:03</td>\n      <td>NaT</td>\n      <td>2016-10-20</td>\n      <td>1</td>\n      <td>c1488892604e4ba5cff5b4eb4d595400</td>\n      <td>1554a68530182680ad5c8b042c3ab563</td>\n      <td>39.99</td>\n      <td>39.99</td>\n    </tr>\n    <tr>\n      <th>5086</th>\n      <td>2e7a8482f6fb09756ca50c10d7bfc047</td>\n      <td>b7d76e111c89f7ebf14761390f0f7d17</td>\n      <td>shipped</td>\n      <td>2016-09-04 21:15:19</td>\n      <td>2016-10-07 13:18:03</td>\n      <td>NaT</td>\n      <td>2016-10-20</td>\n      <td>2</td>\n      <td>f293394c72c9b5fafd7023301fc21fc2</td>\n      <td>1554a68530182680ad5c8b042c3ab563</td>\n      <td>32.90</td>\n      <td>65.80</td>\n    </tr>\n    <tr>\n      <th>4925</th>\n      <td>e5fa5a7210941f7d56d0208e4e071d35</td>\n      <td>4854e9b3feff728c13ee5fc7d1547e92</td>\n      <td>canceled</td>\n      <td>2016-09-05 00:15:34</td>\n      <td>2016-10-07 13:17:15</td>\n      <td>NaT</td>\n      <td>2016-10-28</td>\n      <td>1</td>\n      <td>f3c2d01a84c947b078e32bbef0718962</td>\n      <td>a425f92c199eb576938df686728acd20</td>\n      <td>59.50</td>\n      <td>59.50</td>\n    </tr>\n    <tr>\n      <th>34803</th>\n      <td>bfbd0f9bdef84302105ad712db648a6c</td>\n      <td>830d5b7aaa3b6f1e9ad63703bec97d23</td>\n      <td>delivered</td>\n      <td>2016-09-15 12:16:38</td>\n      <td>2016-09-15 12:16:38</td>\n      <td>2016-11-09 07:47:38</td>\n      <td>2016-10-04</td>\n      <td>2</td>\n      <td>5a6b04657a4c5ee34285d1e4619a96b4</td>\n      <td>ecccfa2bb93b34a3bf033cc5d1dcdc69</td>\n      <td>44.99</td>\n      <td>89.98</td>\n    </tr>\n    <tr>\n      <th>34804</th>\n      <td>bfbd0f9bdef84302105ad712db648a6c</td>\n      <td>830d5b7aaa3b6f1e9ad63703bec97d23</td>\n      <td>delivered</td>\n      <td>2016-09-15 12:16:38</td>\n      <td>2016-09-15 12:16:38</td>\n      <td>2016-11-09 07:47:38</td>\n      <td>2016-10-04</td>\n      <td>3</td>\n      <td>5a6b04657a4c5ee34285d1e4619a96b4</td>\n      <td>ecccfa2bb93b34a3bf033cc5d1dcdc69</td>\n      <td>44.99</td>\n      <td>134.97</td>\n    </tr>\n    <tr>\n      <th>...</th>\n      <td>...</td>\n      <td>...</td>\n      <td>...</td>\n      <td>...</td>\n      <td>...</td>\n      <td>...</td>\n      <td>...</td>\n      <td>...</td>\n      <td>...</td>\n      <td>...</td>\n      <td>...</td>\n      <td>...</td>\n    </tr>\n    <tr>\n      <th>34061</th>\n      <td>0b223d92c27432930dfe407c6aea3041</td>\n      <td>5c58de6fb80e93396e2f35642666b693</td>\n      <td>delivered</td>\n      <td>2018-08-29 14:18:23</td>\n      <td>2018-08-29 14:31:07</td>\n      <td>2018-08-30 16:24:55</td>\n      <td>2018-09-04</td>\n      <td>2</td>\n      <td>2b4472df15512a2825ae86fd9ae79335</td>\n      <td>67bf6941ba2f1fa1d02c375766bc3e53</td>\n      <td>209.00</td>\n      <td>418.00</td>\n    </tr>\n    <tr>\n      <th>35685</th>\n      <td>168626408cb32af0ffaf76711caae1dc</td>\n      <td>7febafa06d9d8f232a900a2937f04338</td>\n      <td>delivered</td>\n      <td>2018-08-29 14:18:28</td>\n      <td>2018-08-29 14:30:23</td>\n      <td>2018-08-30 16:52:31</td>\n      <td>2018-09-11</td>\n      <td>1</td>\n      <td>bdcf6a834e8faa30dac3886c7a58e92e</td>\n      <td>2a84855fd20af891be03bc5924d2b453</td>\n      <td>45.90</td>\n      <td>45.90</td>\n    </tr>\n    <tr>\n      <th>78871</th>\n      <td>03ef5dedbe7492bdae72eec50764c43f</td>\n      <td>b701bebbdf478f5500348f03aff62121</td>\n      <td>delivered</td>\n      <td>2018-08-29 14:52:00</td>\n      <td>2018-08-29 15:05:22</td>\n      <td>2018-08-30 16:36:59</td>\n      <td>2018-09-03</td>\n      <td>1</td>\n      <td>c7f27c5bef2338541c772b5776403e6a</td>\n      <td>7d7866a99a8656a42c7ff6352a433410</td>\n      <td>24.90</td>\n      <td>24.90</td>\n    </tr>\n    <tr>\n      <th>99673</th>\n      <td>35a972d7f8436f405b56e36add1a7140</td>\n      <td>24ac2b4327e25baf39f2119e4228976a</td>\n      <td>delivered</td>\n      <td>2018-08-29 15:00:37</td>\n      <td>2018-08-29 15:10:26</td>\n      <td>2018-08-30 16:23:36</td>\n      <td>2018-09-05</td>\n      <td>1</td>\n      <td>d04857e7b4b708ee8b8b9921163edba3</td>\n      <td>9f505651f4a6abe901a56cdc21508025</td>\n      <td>84.99</td>\n      <td>84.99</td>\n    </tr>\n    <tr>\n      <th>70511</th>\n      <td>54282e97f61c23b78330c15b154c867d</td>\n      <td>ff22e30958c13ffe219db7d711e8f564</td>\n      <td>shipped</td>\n      <td>2018-09-03 09:06:57</td>\n      <td>2018-09-03 17:40:06</td>\n      <td>NaT</td>\n      <td>2018-09-06</td>\n      <td>1</td>\n      <td>b98992ea80b467987a7fbb88e7f2076a</td>\n      <td>25be943a321c8938947bdaabca979a90</td>\n      <td>145.00</td>\n      <td>145.00</td>\n    </tr>\n  </tbody>\n</table>\n<p>112650 rows × 12 columns</p>\n</div>"
     },
     "execution_count": 19,
     "metadata": {},
     "output_type": "execute_result"
    }
   ]
  },
  {
   "cell_type": "code",
   "source": [
    "# Mengelompokkan berdasarkan 'product_id' dan menghitung jumlah penjualan dan harga rata-rata\n",
    "df_grouped = df_combined_2csv.groupby('product_id').agg({'order_item_id': 'sum', 'price': 'mean'})\n",
    "df_grouped"
   ],
   "metadata": {
    "colab": {
     "base_uri": "https://localhost:8080/",
     "height": 455
    },
    "id": "r6QrVTyPdHVT",
    "outputId": "6fbe98d5-9162-4097-d8c3-33a7cc9446a0",
    "ExecuteTime": {
     "end_time": "2024-06-09T04:13:44.592665900Z",
     "start_time": "2024-06-09T04:13:44.478781700Z"
    }
   },
   "execution_count": 20,
   "outputs": [
    {
     "data": {
      "text/plain": "                                  order_item_id   price\nproduct_id                                             \n00066f42aeeb9f3007548bb9d3f33c38              1  101.65\n00088930e925c41fd95ebfe695fd2655              1  129.90\n0009406fd7479715e4bef61dd91f2462              1  229.00\n000b8f95fcb9e0096488278317764d19              2   58.90\n000d9be29b5207b54e86aa1b1ac54872              1  199.00\n...                                         ...     ...\nfff6177642830a9a94a0f2cba5e476d1              2  114.99\nfff81cc3158d2725c0655ab9ba0f712c              1   90.00\nfff9553ac224cec9d15d49f5a263411f              1   32.00\nfffdb2d0ec8d6a61f0a0a0db3f25b441              5   33.99\nfffe9eeff12fcbd74a2f2b007dde0c58              1  249.99\n\n[32951 rows x 2 columns]",
      "text/html": "<div>\n<style scoped>\n    .dataframe tbody tr th:only-of-type {\n        vertical-align: middle;\n    }\n\n    .dataframe tbody tr th {\n        vertical-align: top;\n    }\n\n    .dataframe thead th {\n        text-align: right;\n    }\n</style>\n<table border=\"1\" class=\"dataframe\">\n  <thead>\n    <tr style=\"text-align: right;\">\n      <th></th>\n      <th>order_item_id</th>\n      <th>price</th>\n    </tr>\n    <tr>\n      <th>product_id</th>\n      <th></th>\n      <th></th>\n    </tr>\n  </thead>\n  <tbody>\n    <tr>\n      <th>00066f42aeeb9f3007548bb9d3f33c38</th>\n      <td>1</td>\n      <td>101.65</td>\n    </tr>\n    <tr>\n      <th>00088930e925c41fd95ebfe695fd2655</th>\n      <td>1</td>\n      <td>129.90</td>\n    </tr>\n    <tr>\n      <th>0009406fd7479715e4bef61dd91f2462</th>\n      <td>1</td>\n      <td>229.00</td>\n    </tr>\n    <tr>\n      <th>000b8f95fcb9e0096488278317764d19</th>\n      <td>2</td>\n      <td>58.90</td>\n    </tr>\n    <tr>\n      <th>000d9be29b5207b54e86aa1b1ac54872</th>\n      <td>1</td>\n      <td>199.00</td>\n    </tr>\n    <tr>\n      <th>...</th>\n      <td>...</td>\n      <td>...</td>\n    </tr>\n    <tr>\n      <th>fff6177642830a9a94a0f2cba5e476d1</th>\n      <td>2</td>\n      <td>114.99</td>\n    </tr>\n    <tr>\n      <th>fff81cc3158d2725c0655ab9ba0f712c</th>\n      <td>1</td>\n      <td>90.00</td>\n    </tr>\n    <tr>\n      <th>fff9553ac224cec9d15d49f5a263411f</th>\n      <td>1</td>\n      <td>32.00</td>\n    </tr>\n    <tr>\n      <th>fffdb2d0ec8d6a61f0a0a0db3f25b441</th>\n      <td>5</td>\n      <td>33.99</td>\n    </tr>\n    <tr>\n      <th>fffe9eeff12fcbd74a2f2b007dde0c58</th>\n      <td>1</td>\n      <td>249.99</td>\n    </tr>\n  </tbody>\n</table>\n<p>32951 rows × 2 columns</p>\n</div>"
     },
     "execution_count": 20,
     "metadata": {},
     "output_type": "execute_result"
    }
   ]
  },
  {
   "cell_type": "code",
   "source": [
    "# Mereset index DataFrame\n",
    "df_combined_2csv = df_combined_2csv.reset_index(drop=True)\n",
    "df_combined_2csv"
   ],
   "metadata": {
    "colab": {
     "base_uri": "https://localhost:8080/",
     "height": 443
    },
    "id": "hlAuOv3xdLUa",
    "outputId": "76922ed1-b97d-44a3-d020-31f692c73c03",
    "ExecuteTime": {
     "end_time": "2024-06-09T04:13:51.889377200Z",
     "start_time": "2024-06-09T04:13:51.765410200Z"
    }
   },
   "execution_count": 21,
   "outputs": [
    {
     "data": {
      "text/plain": "                                order_id                       customer_id  \\\n0       e481f51cbdc54678b7cc49136f2d6af7  7c396fd4830fd04220f754e42b4e5bff   \n1       53cdb2fc8bc7dce0b6741e2150273451  af07308b275d755c9edb36a90c618231   \n2       47770eb9100c2d0c44946d9cf07ec65d  3a653a41f6f9fc3d2a113cf8398680e8   \n3       949d5b44dbf5de918fe9c16f97b45f8a  7c142cf63193a1473d2e66489a9ae977   \n4       ad21c59c0840e6cb83a9ceb5573f8159  72632f0f9dd73dfee390c9b22eb56dd6   \n...                                  ...                               ...   \n112645  63943bddc261676b46f01ca7ac2f7bd8  da62f9e57a76d978d02ab5362c509660   \n112646  83c1379a015df1e13d02aae0204711ab  737520a9aad80b3fbbdad19b66b37b30   \n112647  11c177c8e97725db2631073c19f07b62  5097a5312c8b157bb7be58ae360ef43c   \n112648  11c177c8e97725db2631073c19f07b62  5097a5312c8b157bb7be58ae360ef43c   \n112649  66dea50a8b16d9b4dee7af250b4be1a5  60350aa974b26ff12caad89e55993bd6   \n\n       order_status order_purchase_timestamp   order_approved_at  \\\n0         delivered      2017-10-02 10:56:33 2017-10-02 11:07:15   \n1         delivered      2018-07-24 20:41:37 2018-07-26 03:24:27   \n2         delivered      2018-08-08 08:38:49 2018-08-08 08:55:23   \n3         delivered      2017-11-18 19:28:06 2017-11-18 19:45:59   \n4         delivered      2018-02-13 21:18:39 2018-02-13 22:20:29   \n...             ...                      ...                 ...   \n112645    delivered      2018-02-06 12:58:58 2018-02-06 13:10:37   \n112646    delivered      2017-08-27 14:46:43 2017-08-27 15:04:16   \n112647    delivered      2018-01-08 21:28:27 2018-01-08 21:36:21   \n112648    delivered      2018-01-08 21:28:27 2018-01-08 21:36:21   \n112649    delivered      2018-03-08 20:57:30 2018-03-09 11:20:28   \n\n       order_delivered_timestamp order_estimated_delivery_date  order_item_id  \\\n0            2017-10-10 21:25:13                    2017-10-18              1   \n1            2018-08-07 15:27:45                    2018-08-13              1   \n2            2018-08-17 18:06:29                    2018-09-04              1   \n3            2017-12-02 00:28:42                    2017-12-15              1   \n4            2018-02-16 18:17:02                    2018-02-26              1   \n...                          ...                           ...            ...   \n112645       2018-02-28 17:37:56                    2018-03-02              1   \n112646       2017-09-21 11:24:17                    2017-09-27              1   \n112647       2018-01-25 23:32:54                    2018-02-15              1   \n112648       2018-01-25 23:32:54                    2018-02-15              2   \n112649       2018-03-16 13:08:30                    2018-04-03              1   \n\n                              product_id                         seller_id  \\\n0       87285b34884572647811a353c7ac498a  3504c0cb71d7fa48d967e0e4c94d59d9   \n1       595fac2a385ac33a80bd5114aec74eb8  289cdb325fb7e7f891c38608bf9e0962   \n2       aa4383b373c6aca5d8797843e5594415  4869f7a5dfa277a7dca6462dcf3b52b2   \n3       d0b61bfb1de832b15ba9d266ca96e5b0  66922902710d126a0e7d26b0e3805106   \n4       65266b2da20d04dbe00c5c2d3bb7859e  2c9e548be18521d1c43cde1c582c6de8   \n...                                  ...                               ...   \n112645  f1d4ce8c6dd66c47bbaa8c6781c2a923  1f9ab4708f3056ede07124aad39a2554   \n112646  b80910977a37536adeddd63663f916ad  d50d79cb34e38265a8649c383dcffd48   \n112647  d1c427060a0f73f6b889a5c7c61f2ac4  a1043bafd471dff536d0c462352beb48   \n112648  d1c427060a0f73f6b889a5c7c61f2ac4  a1043bafd471dff536d0c462352beb48   \n112649  006619bbed68b000c8ba3f8725d5409e  ececbfcff9804a2d6b40f589df8eef2b   \n\n         price  total_price  \n0        29.99        29.99  \n1       118.70       118.70  \n2       159.90       159.90  \n3        45.00        45.00  \n4        19.90        19.90  \n...        ...          ...  \n112645  174.90       174.90  \n112646  205.99       205.99  \n112647  179.99       179.99  \n112648  179.99       359.98  \n112649   68.50        68.50  \n\n[112650 rows x 12 columns]",
      "text/html": "<div>\n<style scoped>\n    .dataframe tbody tr th:only-of-type {\n        vertical-align: middle;\n    }\n\n    .dataframe tbody tr th {\n        vertical-align: top;\n    }\n\n    .dataframe thead th {\n        text-align: right;\n    }\n</style>\n<table border=\"1\" class=\"dataframe\">\n  <thead>\n    <tr style=\"text-align: right;\">\n      <th></th>\n      <th>order_id</th>\n      <th>customer_id</th>\n      <th>order_status</th>\n      <th>order_purchase_timestamp</th>\n      <th>order_approved_at</th>\n      <th>order_delivered_timestamp</th>\n      <th>order_estimated_delivery_date</th>\n      <th>order_item_id</th>\n      <th>product_id</th>\n      <th>seller_id</th>\n      <th>price</th>\n      <th>total_price</th>\n    </tr>\n  </thead>\n  <tbody>\n    <tr>\n      <th>0</th>\n      <td>e481f51cbdc54678b7cc49136f2d6af7</td>\n      <td>7c396fd4830fd04220f754e42b4e5bff</td>\n      <td>delivered</td>\n      <td>2017-10-02 10:56:33</td>\n      <td>2017-10-02 11:07:15</td>\n      <td>2017-10-10 21:25:13</td>\n      <td>2017-10-18</td>\n      <td>1</td>\n      <td>87285b34884572647811a353c7ac498a</td>\n      <td>3504c0cb71d7fa48d967e0e4c94d59d9</td>\n      <td>29.99</td>\n      <td>29.99</td>\n    </tr>\n    <tr>\n      <th>1</th>\n      <td>53cdb2fc8bc7dce0b6741e2150273451</td>\n      <td>af07308b275d755c9edb36a90c618231</td>\n      <td>delivered</td>\n      <td>2018-07-24 20:41:37</td>\n      <td>2018-07-26 03:24:27</td>\n      <td>2018-08-07 15:27:45</td>\n      <td>2018-08-13</td>\n      <td>1</td>\n      <td>595fac2a385ac33a80bd5114aec74eb8</td>\n      <td>289cdb325fb7e7f891c38608bf9e0962</td>\n      <td>118.70</td>\n      <td>118.70</td>\n    </tr>\n    <tr>\n      <th>2</th>\n      <td>47770eb9100c2d0c44946d9cf07ec65d</td>\n      <td>3a653a41f6f9fc3d2a113cf8398680e8</td>\n      <td>delivered</td>\n      <td>2018-08-08 08:38:49</td>\n      <td>2018-08-08 08:55:23</td>\n      <td>2018-08-17 18:06:29</td>\n      <td>2018-09-04</td>\n      <td>1</td>\n      <td>aa4383b373c6aca5d8797843e5594415</td>\n      <td>4869f7a5dfa277a7dca6462dcf3b52b2</td>\n      <td>159.90</td>\n      <td>159.90</td>\n    </tr>\n    <tr>\n      <th>3</th>\n      <td>949d5b44dbf5de918fe9c16f97b45f8a</td>\n      <td>7c142cf63193a1473d2e66489a9ae977</td>\n      <td>delivered</td>\n      <td>2017-11-18 19:28:06</td>\n      <td>2017-11-18 19:45:59</td>\n      <td>2017-12-02 00:28:42</td>\n      <td>2017-12-15</td>\n      <td>1</td>\n      <td>d0b61bfb1de832b15ba9d266ca96e5b0</td>\n      <td>66922902710d126a0e7d26b0e3805106</td>\n      <td>45.00</td>\n      <td>45.00</td>\n    </tr>\n    <tr>\n      <th>4</th>\n      <td>ad21c59c0840e6cb83a9ceb5573f8159</td>\n      <td>72632f0f9dd73dfee390c9b22eb56dd6</td>\n      <td>delivered</td>\n      <td>2018-02-13 21:18:39</td>\n      <td>2018-02-13 22:20:29</td>\n      <td>2018-02-16 18:17:02</td>\n      <td>2018-02-26</td>\n      <td>1</td>\n      <td>65266b2da20d04dbe00c5c2d3bb7859e</td>\n      <td>2c9e548be18521d1c43cde1c582c6de8</td>\n      <td>19.90</td>\n      <td>19.90</td>\n    </tr>\n    <tr>\n      <th>...</th>\n      <td>...</td>\n      <td>...</td>\n      <td>...</td>\n      <td>...</td>\n      <td>...</td>\n      <td>...</td>\n      <td>...</td>\n      <td>...</td>\n      <td>...</td>\n      <td>...</td>\n      <td>...</td>\n      <td>...</td>\n    </tr>\n    <tr>\n      <th>112645</th>\n      <td>63943bddc261676b46f01ca7ac2f7bd8</td>\n      <td>da62f9e57a76d978d02ab5362c509660</td>\n      <td>delivered</td>\n      <td>2018-02-06 12:58:58</td>\n      <td>2018-02-06 13:10:37</td>\n      <td>2018-02-28 17:37:56</td>\n      <td>2018-03-02</td>\n      <td>1</td>\n      <td>f1d4ce8c6dd66c47bbaa8c6781c2a923</td>\n      <td>1f9ab4708f3056ede07124aad39a2554</td>\n      <td>174.90</td>\n      <td>174.90</td>\n    </tr>\n    <tr>\n      <th>112646</th>\n      <td>83c1379a015df1e13d02aae0204711ab</td>\n      <td>737520a9aad80b3fbbdad19b66b37b30</td>\n      <td>delivered</td>\n      <td>2017-08-27 14:46:43</td>\n      <td>2017-08-27 15:04:16</td>\n      <td>2017-09-21 11:24:17</td>\n      <td>2017-09-27</td>\n      <td>1</td>\n      <td>b80910977a37536adeddd63663f916ad</td>\n      <td>d50d79cb34e38265a8649c383dcffd48</td>\n      <td>205.99</td>\n      <td>205.99</td>\n    </tr>\n    <tr>\n      <th>112647</th>\n      <td>11c177c8e97725db2631073c19f07b62</td>\n      <td>5097a5312c8b157bb7be58ae360ef43c</td>\n      <td>delivered</td>\n      <td>2018-01-08 21:28:27</td>\n      <td>2018-01-08 21:36:21</td>\n      <td>2018-01-25 23:32:54</td>\n      <td>2018-02-15</td>\n      <td>1</td>\n      <td>d1c427060a0f73f6b889a5c7c61f2ac4</td>\n      <td>a1043bafd471dff536d0c462352beb48</td>\n      <td>179.99</td>\n      <td>179.99</td>\n    </tr>\n    <tr>\n      <th>112648</th>\n      <td>11c177c8e97725db2631073c19f07b62</td>\n      <td>5097a5312c8b157bb7be58ae360ef43c</td>\n      <td>delivered</td>\n      <td>2018-01-08 21:28:27</td>\n      <td>2018-01-08 21:36:21</td>\n      <td>2018-01-25 23:32:54</td>\n      <td>2018-02-15</td>\n      <td>2</td>\n      <td>d1c427060a0f73f6b889a5c7c61f2ac4</td>\n      <td>a1043bafd471dff536d0c462352beb48</td>\n      <td>179.99</td>\n      <td>359.98</td>\n    </tr>\n    <tr>\n      <th>112649</th>\n      <td>66dea50a8b16d9b4dee7af250b4be1a5</td>\n      <td>60350aa974b26ff12caad89e55993bd6</td>\n      <td>delivered</td>\n      <td>2018-03-08 20:57:30</td>\n      <td>2018-03-09 11:20:28</td>\n      <td>2018-03-16 13:08:30</td>\n      <td>2018-04-03</td>\n      <td>1</td>\n      <td>006619bbed68b000c8ba3f8725d5409e</td>\n      <td>ececbfcff9804a2d6b40f589df8eef2b</td>\n      <td>68.50</td>\n      <td>68.50</td>\n    </tr>\n  </tbody>\n</table>\n<p>112650 rows × 12 columns</p>\n</div>"
     },
     "execution_count": 21,
     "metadata": {},
     "output_type": "execute_result"
    }
   ]
  },
  {
   "cell_type": "code",
   "source": [
    "# Mengganti nama kolom 'price' menjadi 'item_price'\n",
    "df_combined_2csv = df_combined_2csv.rename(columns={'price': 'item_price'})\n"
   ],
   "metadata": {
    "id": "D1dbT0ozdRuA",
    "ExecuteTime": {
     "end_time": "2024-06-09T04:13:57.919344200Z",
     "start_time": "2024-06-09T04:13:57.875714300Z"
    }
   },
   "execution_count": 22,
   "outputs": []
  },
  {
   "cell_type": "code",
   "source": [
    "df_combined_2csv.columns"
   ],
   "metadata": {
    "colab": {
     "base_uri": "https://localhost:8080/"
    },
    "id": "CynaZ2GVdzgU",
    "outputId": "406d835f-d579-48b9-8416-44e01031cd73",
    "ExecuteTime": {
     "end_time": "2024-06-09T04:14:00.606056500Z",
     "start_time": "2024-06-09T04:14:00.554860400Z"
    }
   },
   "execution_count": 23,
   "outputs": [
    {
     "data": {
      "text/plain": "Index(['order_id', 'customer_id', 'order_status', 'order_purchase_timestamp',\n       'order_approved_at', 'order_delivered_timestamp',\n       'order_estimated_delivery_date', 'order_item_id', 'product_id',\n       'seller_id', 'item_price', 'total_price'],\n      dtype='object')"
     },
     "execution_count": 23,
     "metadata": {},
     "output_type": "execute_result"
    }
   ]
  },
  {
   "cell_type": "code",
   "source": [
    "pivot_table_df = pd.pivot_table(df_combined_2csv,\n",
    "                                values='total_price',\n",
    "                                index='seller_id',\n",
    "                                columns='order_status',\n",
    "                                aggfunc='sum',\n",
    "                                fill_value=0)\n",
    "\n",
    "pivot_table_df"
   ],
   "metadata": {
    "colab": {
     "base_uri": "https://localhost:8080/",
     "height": 455
    },
    "id": "JcumeoUlexMv",
    "outputId": "75d9e93e-815b-4cf0-9d7f-0da904316a40",
    "ExecuteTime": {
     "end_time": "2024-06-09T04:15:27.464696400Z",
     "start_time": "2024-06-09T04:15:27.304482900Z"
    }
   },
   "execution_count": 24,
   "outputs": [
    {
     "data": {
      "text/plain": "order_status                      approved  canceled  delivered  invoiced  \\\nseller_id                                                                   \n0015a82c2db000af6aaaf3ae2ecb0532       0.0      0.00    2685.00       0.0   \n001cca7ae9ae17fb1caed9dfb1094831       0.0      0.00   30019.42       0.0   \n001e6ad469a905060d959994f1b41e4f       0.0    250.00       0.00       0.0   \n002100f778ceb8431b7a1020ff7ab48f       0.0      0.00    1300.10       0.0   \n003554e2dce176b5555353e4f3555ac8       0.0      0.00     120.00       0.0   \n...                                    ...       ...        ...       ...   \nffcfefa19b08742c5d315f2791395ee5       0.0     69.90       0.00       0.0   \nffdd9f82b9a447f6f8d4b91554cc7dd3       0.0      0.00    2378.80       0.0   \nffeee66ac5d5a62fe688b9d26f83f534       0.0      0.00    1839.86       0.0   \nfffd5413c0700ac820c7069d66d98c89       0.0     99.80    9025.70       0.0   \nffff564a4f9085cd26170f4732393726       0.0    594.65     359.00       0.0   \n\norder_status                      processing  shipped  unavailable  \nseller_id                                                           \n0015a82c2db000af6aaaf3ae2ecb0532        0.00      0.0          0.0  \n001cca7ae9ae17fb1caed9dfb1094831        0.00    593.0          0.0  \n001e6ad469a905060d959994f1b41e4f        0.00      0.0          0.0  \n002100f778ceb8431b7a1020ff7ab48f        0.00     17.9          0.0  \n003554e2dce176b5555353e4f3555ac8        0.00      0.0          0.0  \n...                                      ...      ...          ...  \nffcfefa19b08742c5d315f2791395ee5        0.00      0.0          0.0  \nffdd9f82b9a447f6f8d4b91554cc7dd3        0.00      0.0          0.0  \nffeee66ac5d5a62fe688b9d26f83f534        0.00      0.0          0.0  \nfffd5413c0700ac820c7069d66d98c89        0.00    427.5          0.0  \nffff564a4f9085cd26170f4732393726      472.65      0.0          0.0  \n\n[3095 rows x 7 columns]",
      "text/html": "<div>\n<style scoped>\n    .dataframe tbody tr th:only-of-type {\n        vertical-align: middle;\n    }\n\n    .dataframe tbody tr th {\n        vertical-align: top;\n    }\n\n    .dataframe thead th {\n        text-align: right;\n    }\n</style>\n<table border=\"1\" class=\"dataframe\">\n  <thead>\n    <tr style=\"text-align: right;\">\n      <th>order_status</th>\n      <th>approved</th>\n      <th>canceled</th>\n      <th>delivered</th>\n      <th>invoiced</th>\n      <th>processing</th>\n      <th>shipped</th>\n      <th>unavailable</th>\n    </tr>\n    <tr>\n      <th>seller_id</th>\n      <th></th>\n      <th></th>\n      <th></th>\n      <th></th>\n      <th></th>\n      <th></th>\n      <th></th>\n    </tr>\n  </thead>\n  <tbody>\n    <tr>\n      <th>0015a82c2db000af6aaaf3ae2ecb0532</th>\n      <td>0.0</td>\n      <td>0.00</td>\n      <td>2685.00</td>\n      <td>0.0</td>\n      <td>0.00</td>\n      <td>0.0</td>\n      <td>0.0</td>\n    </tr>\n    <tr>\n      <th>001cca7ae9ae17fb1caed9dfb1094831</th>\n      <td>0.0</td>\n      <td>0.00</td>\n      <td>30019.42</td>\n      <td>0.0</td>\n      <td>0.00</td>\n      <td>593.0</td>\n      <td>0.0</td>\n    </tr>\n    <tr>\n      <th>001e6ad469a905060d959994f1b41e4f</th>\n      <td>0.0</td>\n      <td>250.00</td>\n      <td>0.00</td>\n      <td>0.0</td>\n      <td>0.00</td>\n      <td>0.0</td>\n      <td>0.0</td>\n    </tr>\n    <tr>\n      <th>002100f778ceb8431b7a1020ff7ab48f</th>\n      <td>0.0</td>\n      <td>0.00</td>\n      <td>1300.10</td>\n      <td>0.0</td>\n      <td>0.00</td>\n      <td>17.9</td>\n      <td>0.0</td>\n    </tr>\n    <tr>\n      <th>003554e2dce176b5555353e4f3555ac8</th>\n      <td>0.0</td>\n      <td>0.00</td>\n      <td>120.00</td>\n      <td>0.0</td>\n      <td>0.00</td>\n      <td>0.0</td>\n      <td>0.0</td>\n    </tr>\n    <tr>\n      <th>...</th>\n      <td>...</td>\n      <td>...</td>\n      <td>...</td>\n      <td>...</td>\n      <td>...</td>\n      <td>...</td>\n      <td>...</td>\n    </tr>\n    <tr>\n      <th>ffcfefa19b08742c5d315f2791395ee5</th>\n      <td>0.0</td>\n      <td>69.90</td>\n      <td>0.00</td>\n      <td>0.0</td>\n      <td>0.00</td>\n      <td>0.0</td>\n      <td>0.0</td>\n    </tr>\n    <tr>\n      <th>ffdd9f82b9a447f6f8d4b91554cc7dd3</th>\n      <td>0.0</td>\n      <td>0.00</td>\n      <td>2378.80</td>\n      <td>0.0</td>\n      <td>0.00</td>\n      <td>0.0</td>\n      <td>0.0</td>\n    </tr>\n    <tr>\n      <th>ffeee66ac5d5a62fe688b9d26f83f534</th>\n      <td>0.0</td>\n      <td>0.00</td>\n      <td>1839.86</td>\n      <td>0.0</td>\n      <td>0.00</td>\n      <td>0.0</td>\n      <td>0.0</td>\n    </tr>\n    <tr>\n      <th>fffd5413c0700ac820c7069d66d98c89</th>\n      <td>0.0</td>\n      <td>99.80</td>\n      <td>9025.70</td>\n      <td>0.0</td>\n      <td>0.00</td>\n      <td>427.5</td>\n      <td>0.0</td>\n    </tr>\n    <tr>\n      <th>ffff564a4f9085cd26170f4732393726</th>\n      <td>0.0</td>\n      <td>594.65</td>\n      <td>359.00</td>\n      <td>0.0</td>\n      <td>472.65</td>\n      <td>0.0</td>\n      <td>0.0</td>\n    </tr>\n  </tbody>\n</table>\n<p>3095 rows × 7 columns</p>\n</div>"
     },
     "execution_count": 24,
     "metadata": {},
     "output_type": "execute_result"
    }
   ]
  },
  {
   "cell_type": "markdown",
   "source": [
    "Bagaimana jika multiple value dan aggfunc ?"
   ],
   "metadata": {
    "id": "-pO2qY5TfBh0"
   }
  },
  {
   "cell_type": "code",
   "source": [
    "pivot_table_df2 = pd.pivot_table(df_combined_2csv,\n",
    "                                values=['total_price', 'item_price'],\n",
    "                                index='seller_id',\n",
    "                                columns='order_status',\n",
    "                                aggfunc={'total_price': 'sum', 'item_price': 'mean'},\n",
    "                                fill_value=0)\n",
    "\n",
    "pivot_table_df2"
   ],
   "metadata": {
    "colab": {
     "base_uri": "https://localhost:8080/",
     "height": 506
    },
    "id": "yKRCLeClfEJG",
    "outputId": "8df970f2-ba0a-49bf-83be-4e1680c7627f",
    "ExecuteTime": {
     "end_time": "2024-06-09T04:15:42.717588600Z",
     "start_time": "2024-06-09T04:15:42.606105200Z"
    }
   },
   "execution_count": 25,
   "outputs": [
    {
     "data": {
      "text/plain": "                                 item_price                                 \\\norder_status                       approved  canceled   delivered invoiced   \nseller_id                                                                    \n0015a82c2db000af6aaaf3ae2ecb0532        0.0    0.0000  895.000000      0.0   \n001cca7ae9ae17fb1caed9dfb1094831        0.0    0.0000  104.645427      0.0   \n001e6ad469a905060d959994f1b41e4f        0.0  250.0000    0.000000      0.0   \n002100f778ceb8431b7a1020ff7ab48f        0.0    0.0000   22.529630      0.0   \n003554e2dce176b5555353e4f3555ac8        0.0    0.0000  120.000000      0.0   \n...                                     ...       ...         ...      ...   \nffcfefa19b08742c5d315f2791395ee5        0.0   69.9000    0.000000      0.0   \nffdd9f82b9a447f6f8d4b91554cc7dd3        0.0    0.0000  105.060000      0.0   \nffeee66ac5d5a62fe688b9d26f83f534        0.0    0.0000  131.418571      0.0   \nfffd5413c0700ac820c7069d66d98c89        0.0   99.8000  147.155172      0.0   \nffff564a4f9085cd26170f4732393726        0.0  148.6625   44.875000      0.0   \n\n                                                                total_price  \\\norder_status                     processing shipped unavailable    approved   \nseller_id                                                                     \n0015a82c2db000af6aaaf3ae2ecb0532    0.00000    0.00         0.0         0.0   \n001cca7ae9ae17fb1caed9dfb1094831    0.00000  118.60         0.0         0.0   \n001e6ad469a905060d959994f1b41e4f    0.00000    0.00         0.0         0.0   \n002100f778ceb8431b7a1020ff7ab48f    0.00000   17.90         0.0         0.0   \n003554e2dce176b5555353e4f3555ac8    0.00000    0.00         0.0         0.0   \n...                                     ...     ...         ...         ...   \nffcfefa19b08742c5d315f2791395ee5    0.00000    0.00         0.0         0.0   \nffdd9f82b9a447f6f8d4b91554cc7dd3    0.00000    0.00         0.0         0.0   \nffeee66ac5d5a62fe688b9d26f83f534    0.00000    0.00         0.0         0.0   \nfffd5413c0700ac820c7069d66d98c89    0.00000  213.75         0.0         0.0   \nffff564a4f9085cd26170f4732393726   59.08125    0.00         0.0         0.0   \n\n                                                                         \\\norder_status                     canceled delivered invoiced processing   \nseller_id                                                                 \n0015a82c2db000af6aaaf3ae2ecb0532     0.00   2685.00      0.0       0.00   \n001cca7ae9ae17fb1caed9dfb1094831     0.00  30019.42      0.0       0.00   \n001e6ad469a905060d959994f1b41e4f   250.00      0.00      0.0       0.00   \n002100f778ceb8431b7a1020ff7ab48f     0.00   1300.10      0.0       0.00   \n003554e2dce176b5555353e4f3555ac8     0.00    120.00      0.0       0.00   \n...                                   ...       ...      ...        ...   \nffcfefa19b08742c5d315f2791395ee5    69.90      0.00      0.0       0.00   \nffdd9f82b9a447f6f8d4b91554cc7dd3     0.00   2378.80      0.0       0.00   \nffeee66ac5d5a62fe688b9d26f83f534     0.00   1839.86      0.0       0.00   \nfffd5413c0700ac820c7069d66d98c89    99.80   9025.70      0.0       0.00   \nffff564a4f9085cd26170f4732393726   594.65    359.00      0.0     472.65   \n\n                                                      \norder_status                     shipped unavailable  \nseller_id                                             \n0015a82c2db000af6aaaf3ae2ecb0532     0.0         0.0  \n001cca7ae9ae17fb1caed9dfb1094831   593.0         0.0  \n001e6ad469a905060d959994f1b41e4f     0.0         0.0  \n002100f778ceb8431b7a1020ff7ab48f    17.9         0.0  \n003554e2dce176b5555353e4f3555ac8     0.0         0.0  \n...                                  ...         ...  \nffcfefa19b08742c5d315f2791395ee5     0.0         0.0  \nffdd9f82b9a447f6f8d4b91554cc7dd3     0.0         0.0  \nffeee66ac5d5a62fe688b9d26f83f534     0.0         0.0  \nfffd5413c0700ac820c7069d66d98c89   427.5         0.0  \nffff564a4f9085cd26170f4732393726     0.0         0.0  \n\n[3095 rows x 14 columns]",
      "text/html": "<div>\n<style scoped>\n    .dataframe tbody tr th:only-of-type {\n        vertical-align: middle;\n    }\n\n    .dataframe tbody tr th {\n        vertical-align: top;\n    }\n\n    .dataframe thead tr th {\n        text-align: left;\n    }\n\n    .dataframe thead tr:last-of-type th {\n        text-align: right;\n    }\n</style>\n<table border=\"1\" class=\"dataframe\">\n  <thead>\n    <tr>\n      <th></th>\n      <th colspan=\"7\" halign=\"left\">item_price</th>\n      <th colspan=\"7\" halign=\"left\">total_price</th>\n    </tr>\n    <tr>\n      <th>order_status</th>\n      <th>approved</th>\n      <th>canceled</th>\n      <th>delivered</th>\n      <th>invoiced</th>\n      <th>processing</th>\n      <th>shipped</th>\n      <th>unavailable</th>\n      <th>approved</th>\n      <th>canceled</th>\n      <th>delivered</th>\n      <th>invoiced</th>\n      <th>processing</th>\n      <th>shipped</th>\n      <th>unavailable</th>\n    </tr>\n    <tr>\n      <th>seller_id</th>\n      <th></th>\n      <th></th>\n      <th></th>\n      <th></th>\n      <th></th>\n      <th></th>\n      <th></th>\n      <th></th>\n      <th></th>\n      <th></th>\n      <th></th>\n      <th></th>\n      <th></th>\n      <th></th>\n    </tr>\n  </thead>\n  <tbody>\n    <tr>\n      <th>0015a82c2db000af6aaaf3ae2ecb0532</th>\n      <td>0.0</td>\n      <td>0.0000</td>\n      <td>895.000000</td>\n      <td>0.0</td>\n      <td>0.00000</td>\n      <td>0.00</td>\n      <td>0.0</td>\n      <td>0.0</td>\n      <td>0.00</td>\n      <td>2685.00</td>\n      <td>0.0</td>\n      <td>0.00</td>\n      <td>0.0</td>\n      <td>0.0</td>\n    </tr>\n    <tr>\n      <th>001cca7ae9ae17fb1caed9dfb1094831</th>\n      <td>0.0</td>\n      <td>0.0000</td>\n      <td>104.645427</td>\n      <td>0.0</td>\n      <td>0.00000</td>\n      <td>118.60</td>\n      <td>0.0</td>\n      <td>0.0</td>\n      <td>0.00</td>\n      <td>30019.42</td>\n      <td>0.0</td>\n      <td>0.00</td>\n      <td>593.0</td>\n      <td>0.0</td>\n    </tr>\n    <tr>\n      <th>001e6ad469a905060d959994f1b41e4f</th>\n      <td>0.0</td>\n      <td>250.0000</td>\n      <td>0.000000</td>\n      <td>0.0</td>\n      <td>0.00000</td>\n      <td>0.00</td>\n      <td>0.0</td>\n      <td>0.0</td>\n      <td>250.00</td>\n      <td>0.00</td>\n      <td>0.0</td>\n      <td>0.00</td>\n      <td>0.0</td>\n      <td>0.0</td>\n    </tr>\n    <tr>\n      <th>002100f778ceb8431b7a1020ff7ab48f</th>\n      <td>0.0</td>\n      <td>0.0000</td>\n      <td>22.529630</td>\n      <td>0.0</td>\n      <td>0.00000</td>\n      <td>17.90</td>\n      <td>0.0</td>\n      <td>0.0</td>\n      <td>0.00</td>\n      <td>1300.10</td>\n      <td>0.0</td>\n      <td>0.00</td>\n      <td>17.9</td>\n      <td>0.0</td>\n    </tr>\n    <tr>\n      <th>003554e2dce176b5555353e4f3555ac8</th>\n      <td>0.0</td>\n      <td>0.0000</td>\n      <td>120.000000</td>\n      <td>0.0</td>\n      <td>0.00000</td>\n      <td>0.00</td>\n      <td>0.0</td>\n      <td>0.0</td>\n      <td>0.00</td>\n      <td>120.00</td>\n      <td>0.0</td>\n      <td>0.00</td>\n      <td>0.0</td>\n      <td>0.0</td>\n    </tr>\n    <tr>\n      <th>...</th>\n      <td>...</td>\n      <td>...</td>\n      <td>...</td>\n      <td>...</td>\n      <td>...</td>\n      <td>...</td>\n      <td>...</td>\n      <td>...</td>\n      <td>...</td>\n      <td>...</td>\n      <td>...</td>\n      <td>...</td>\n      <td>...</td>\n      <td>...</td>\n    </tr>\n    <tr>\n      <th>ffcfefa19b08742c5d315f2791395ee5</th>\n      <td>0.0</td>\n      <td>69.9000</td>\n      <td>0.000000</td>\n      <td>0.0</td>\n      <td>0.00000</td>\n      <td>0.00</td>\n      <td>0.0</td>\n      <td>0.0</td>\n      <td>69.90</td>\n      <td>0.00</td>\n      <td>0.0</td>\n      <td>0.00</td>\n      <td>0.0</td>\n      <td>0.0</td>\n    </tr>\n    <tr>\n      <th>ffdd9f82b9a447f6f8d4b91554cc7dd3</th>\n      <td>0.0</td>\n      <td>0.0000</td>\n      <td>105.060000</td>\n      <td>0.0</td>\n      <td>0.00000</td>\n      <td>0.00</td>\n      <td>0.0</td>\n      <td>0.0</td>\n      <td>0.00</td>\n      <td>2378.80</td>\n      <td>0.0</td>\n      <td>0.00</td>\n      <td>0.0</td>\n      <td>0.0</td>\n    </tr>\n    <tr>\n      <th>ffeee66ac5d5a62fe688b9d26f83f534</th>\n      <td>0.0</td>\n      <td>0.0000</td>\n      <td>131.418571</td>\n      <td>0.0</td>\n      <td>0.00000</td>\n      <td>0.00</td>\n      <td>0.0</td>\n      <td>0.0</td>\n      <td>0.00</td>\n      <td>1839.86</td>\n      <td>0.0</td>\n      <td>0.00</td>\n      <td>0.0</td>\n      <td>0.0</td>\n    </tr>\n    <tr>\n      <th>fffd5413c0700ac820c7069d66d98c89</th>\n      <td>0.0</td>\n      <td>99.8000</td>\n      <td>147.155172</td>\n      <td>0.0</td>\n      <td>0.00000</td>\n      <td>213.75</td>\n      <td>0.0</td>\n      <td>0.0</td>\n      <td>99.80</td>\n      <td>9025.70</td>\n      <td>0.0</td>\n      <td>0.00</td>\n      <td>427.5</td>\n      <td>0.0</td>\n    </tr>\n    <tr>\n      <th>ffff564a4f9085cd26170f4732393726</th>\n      <td>0.0</td>\n      <td>148.6625</td>\n      <td>44.875000</td>\n      <td>0.0</td>\n      <td>59.08125</td>\n      <td>0.00</td>\n      <td>0.0</td>\n      <td>0.0</td>\n      <td>594.65</td>\n      <td>359.00</td>\n      <td>0.0</td>\n      <td>472.65</td>\n      <td>0.0</td>\n      <td>0.0</td>\n    </tr>\n  </tbody>\n</table>\n<p>3095 rows × 14 columns</p>\n</div>"
     },
     "execution_count": 25,
     "metadata": {},
     "output_type": "execute_result"
    }
   ]
  },
  {
   "cell_type": "markdown",
   "source": [
    "### Nomor 1"
   ],
   "metadata": {
    "collapsed": false
   }
  },
  {
   "cell_type": "code",
   "execution_count": 29,
   "outputs": [
    {
     "data": {
      "text/plain": "Index(['order_id', 'customer_id', 'order_status', 'order_purchase_timestamp',\n       'order_approved_at', 'order_delivered_timestamp',\n       'order_estimated_delivery_date', 'customer_zip_code_prefix',\n       'customer_city', 'customer_state'],\n      dtype='object')"
     },
     "execution_count": 29,
     "metadata": {},
     "output_type": "execute_result"
    }
   ],
   "source": [
    "# Nomor 1\n",
    "df_combined_3csv = pd.merge(df_orders, df_customers, on='customer_id')\n",
    "df_combined_3csv.columns"
   ],
   "metadata": {
    "collapsed": false,
    "ExecuteTime": {
     "end_time": "2024-06-09T04:22:18.227323100Z",
     "start_time": "2024-06-09T04:22:18.064883600Z"
    }
   }
  },
  {
   "cell_type": "code",
   "execution_count": 30,
   "outputs": [
    {
     "data": {
      "text/plain": "Index(['order_id', 'customer_id', 'order_status', 'order_purchase_timestamp',\n       'order_approved_at', 'order_delivered_timestamp',\n       'order_estimated_delivery_date', 'customer_zip_code_prefix',\n       'customer_city', 'customer_state', 'order_item_id', 'product_id',\n       'seller_id', 'price', 'shipping_charges'],\n      dtype='object')"
     },
     "execution_count": 30,
     "metadata": {},
     "output_type": "execute_result"
    }
   ],
   "source": [
    "df_combined_4csv = pd.merge(df_combined_3csv, df_order_items, on='order_id')\n",
    "df_combined_4csv.columns"
   ],
   "metadata": {
    "collapsed": false,
    "ExecuteTime": {
     "end_time": "2024-06-09T04:25:11.721610800Z",
     "start_time": "2024-06-09T04:25:11.434883Z"
    }
   }
  },
  {
   "cell_type": "code",
   "execution_count": 31,
   "outputs": [
    {
     "data": {
      "text/plain": "Index(['order_id', 'customer_id', 'order_status', 'order_purchase_timestamp',\n       'order_approved_at', 'order_delivered_timestamp',\n       'order_estimated_delivery_date', 'customer_zip_code_prefix',\n       'customer_city', 'customer_state', 'order_item_id', 'product_id',\n       'seller_id', 'price', 'shipping_charges', 'product_category_name',\n       'product_weight_g', 'product_length_cm', 'product_height_cm',\n       'product_width_cm'],\n      dtype='object')"
     },
     "execution_count": 31,
     "metadata": {},
     "output_type": "execute_result"
    }
   ],
   "source": [
    "df_combined_5csv = pd.merge(df_combined_4csv, df_products, on='product_id')\n",
    "df_combined_5csv.columns"
   ],
   "metadata": {
    "collapsed": false,
    "ExecuteTime": {
     "end_time": "2024-06-09T04:26:01.439886Z",
     "start_time": "2024-06-09T04:26:01.263048600Z"
    }
   }
  },
  {
   "cell_type": "code",
   "execution_count": 32,
   "outputs": [
    {
     "data": {
      "text/plain": "Index(['order_id', 'customer_id', 'order_status', 'order_purchase_timestamp',\n       'order_approved_at', 'order_delivered_timestamp',\n       'order_estimated_delivery_date', 'customer_zip_code_prefix',\n       'customer_city', 'customer_state', 'order_item_id', 'product_id',\n       'seller_id', 'price', 'shipping_charges', 'product_category_name',\n       'product_weight_g', 'product_length_cm', 'product_height_cm',\n       'product_width_cm', 'payment_sequential', 'payment_type',\n       'payment_installments', 'payment_value'],\n      dtype='object')"
     },
     "execution_count": 32,
     "metadata": {},
     "output_type": "execute_result"
    }
   ],
   "source": [
    "df_combined_6csv = pd.merge(df_combined_5csv, df_payments, on='order_id')\n",
    "df_combined_6csv.columns"
   ],
   "metadata": {
    "collapsed": false,
    "ExecuteTime": {
     "end_time": "2024-06-09T04:27:22.819667200Z",
     "start_time": "2024-06-09T04:27:22.545833400Z"
    }
   }
  },
  {
   "cell_type": "markdown",
   "source": [
    "### Nomor 2"
   ],
   "metadata": {
    "collapsed": false
   }
  },
  {
   "cell_type": "code",
   "execution_count": 33,
   "outputs": [
    {
     "data": {
      "text/plain": "                               order_id                       customer_id  \\\n0      e481f51cbdc54678b7cc49136f2d6af7  7c396fd4830fd04220f754e42b4e5bff   \n1      53cdb2fc8bc7dce0b6741e2150273451  af07308b275d755c9edb36a90c618231   \n2      47770eb9100c2d0c44946d9cf07ec65d  3a653a41f6f9fc3d2a113cf8398680e8   \n3      949d5b44dbf5de918fe9c16f97b45f8a  7c142cf63193a1473d2e66489a9ae977   \n4      ad21c59c0840e6cb83a9ceb5573f8159  72632f0f9dd73dfee390c9b22eb56dd6   \n...                                 ...                               ...   \n99436  9c5dedf39a927c1b2549525ed64a053c  6359f309b166b0196dbf7ad2ac62bb5a   \n99437  63943bddc261676b46f01ca7ac2f7bd8  da62f9e57a76d978d02ab5362c509660   \n99438  83c1379a015df1e13d02aae0204711ab  737520a9aad80b3fbbdad19b66b37b30   \n99439  11c177c8e97725db2631073c19f07b62  5097a5312c8b157bb7be58ae360ef43c   \n99440  66dea50a8b16d9b4dee7af250b4be1a5  60350aa974b26ff12caad89e55993bd6   \n\n      order_status order_purchase_timestamp   order_approved_at  \\\n0        delivered      2017-10-02 10:56:33 2017-10-02 11:07:15   \n1        delivered      2018-07-24 20:41:37 2018-07-26 03:24:27   \n2        delivered      2018-08-08 08:38:49 2018-08-08 08:55:23   \n3        delivered      2017-11-18 19:28:06 2017-11-18 19:45:59   \n4        delivered      2018-02-13 21:18:39 2018-02-13 22:20:29   \n...            ...                      ...                 ...   \n99436    delivered      2017-03-09 09:54:05 2017-03-09 09:54:05   \n99437    delivered      2018-02-06 12:58:58 2018-02-06 13:10:37   \n99438    delivered      2017-08-27 14:46:43 2017-08-27 15:04:16   \n99439    delivered      2018-01-08 21:28:27 2018-01-08 21:36:21   \n99440    delivered      2018-03-08 20:57:30 2018-03-09 11:20:28   \n\n      order_delivered_timestamp order_estimated_delivery_date  \n0           2017-10-10 21:25:13                    2017-10-18  \n1           2018-08-07 15:27:45                    2018-08-13  \n2           2018-08-17 18:06:29                    2018-09-04  \n3           2017-12-02 00:28:42                    2017-12-15  \n4           2018-02-16 18:17:02                    2018-02-26  \n...                         ...                           ...  \n99436       2017-03-17 15:08:01                    2017-03-28  \n99437       2018-02-28 17:37:56                    2018-03-02  \n99438       2017-09-21 11:24:17                    2017-09-27  \n99439       2018-01-25 23:32:54                    2018-02-15  \n99440       2018-03-16 13:08:30                    2018-04-03  \n\n[99441 rows x 7 columns]",
      "text/html": "<div>\n<style scoped>\n    .dataframe tbody tr th:only-of-type {\n        vertical-align: middle;\n    }\n\n    .dataframe tbody tr th {\n        vertical-align: top;\n    }\n\n    .dataframe thead th {\n        text-align: right;\n    }\n</style>\n<table border=\"1\" class=\"dataframe\">\n  <thead>\n    <tr style=\"text-align: right;\">\n      <th></th>\n      <th>order_id</th>\n      <th>customer_id</th>\n      <th>order_status</th>\n      <th>order_purchase_timestamp</th>\n      <th>order_approved_at</th>\n      <th>order_delivered_timestamp</th>\n      <th>order_estimated_delivery_date</th>\n    </tr>\n  </thead>\n  <tbody>\n    <tr>\n      <th>0</th>\n      <td>e481f51cbdc54678b7cc49136f2d6af7</td>\n      <td>7c396fd4830fd04220f754e42b4e5bff</td>\n      <td>delivered</td>\n      <td>2017-10-02 10:56:33</td>\n      <td>2017-10-02 11:07:15</td>\n      <td>2017-10-10 21:25:13</td>\n      <td>2017-10-18</td>\n    </tr>\n    <tr>\n      <th>1</th>\n      <td>53cdb2fc8bc7dce0b6741e2150273451</td>\n      <td>af07308b275d755c9edb36a90c618231</td>\n      <td>delivered</td>\n      <td>2018-07-24 20:41:37</td>\n      <td>2018-07-26 03:24:27</td>\n      <td>2018-08-07 15:27:45</td>\n      <td>2018-08-13</td>\n    </tr>\n    <tr>\n      <th>2</th>\n      <td>47770eb9100c2d0c44946d9cf07ec65d</td>\n      <td>3a653a41f6f9fc3d2a113cf8398680e8</td>\n      <td>delivered</td>\n      <td>2018-08-08 08:38:49</td>\n      <td>2018-08-08 08:55:23</td>\n      <td>2018-08-17 18:06:29</td>\n      <td>2018-09-04</td>\n    </tr>\n    <tr>\n      <th>3</th>\n      <td>949d5b44dbf5de918fe9c16f97b45f8a</td>\n      <td>7c142cf63193a1473d2e66489a9ae977</td>\n      <td>delivered</td>\n      <td>2017-11-18 19:28:06</td>\n      <td>2017-11-18 19:45:59</td>\n      <td>2017-12-02 00:28:42</td>\n      <td>2017-12-15</td>\n    </tr>\n    <tr>\n      <th>4</th>\n      <td>ad21c59c0840e6cb83a9ceb5573f8159</td>\n      <td>72632f0f9dd73dfee390c9b22eb56dd6</td>\n      <td>delivered</td>\n      <td>2018-02-13 21:18:39</td>\n      <td>2018-02-13 22:20:29</td>\n      <td>2018-02-16 18:17:02</td>\n      <td>2018-02-26</td>\n    </tr>\n    <tr>\n      <th>...</th>\n      <td>...</td>\n      <td>...</td>\n      <td>...</td>\n      <td>...</td>\n      <td>...</td>\n      <td>...</td>\n      <td>...</td>\n    </tr>\n    <tr>\n      <th>99436</th>\n      <td>9c5dedf39a927c1b2549525ed64a053c</td>\n      <td>6359f309b166b0196dbf7ad2ac62bb5a</td>\n      <td>delivered</td>\n      <td>2017-03-09 09:54:05</td>\n      <td>2017-03-09 09:54:05</td>\n      <td>2017-03-17 15:08:01</td>\n      <td>2017-03-28</td>\n    </tr>\n    <tr>\n      <th>99437</th>\n      <td>63943bddc261676b46f01ca7ac2f7bd8</td>\n      <td>da62f9e57a76d978d02ab5362c509660</td>\n      <td>delivered</td>\n      <td>2018-02-06 12:58:58</td>\n      <td>2018-02-06 13:10:37</td>\n      <td>2018-02-28 17:37:56</td>\n      <td>2018-03-02</td>\n    </tr>\n    <tr>\n      <th>99438</th>\n      <td>83c1379a015df1e13d02aae0204711ab</td>\n      <td>737520a9aad80b3fbbdad19b66b37b30</td>\n      <td>delivered</td>\n      <td>2017-08-27 14:46:43</td>\n      <td>2017-08-27 15:04:16</td>\n      <td>2017-09-21 11:24:17</td>\n      <td>2017-09-27</td>\n    </tr>\n    <tr>\n      <th>99439</th>\n      <td>11c177c8e97725db2631073c19f07b62</td>\n      <td>5097a5312c8b157bb7be58ae360ef43c</td>\n      <td>delivered</td>\n      <td>2018-01-08 21:28:27</td>\n      <td>2018-01-08 21:36:21</td>\n      <td>2018-01-25 23:32:54</td>\n      <td>2018-02-15</td>\n    </tr>\n    <tr>\n      <th>99440</th>\n      <td>66dea50a8b16d9b4dee7af250b4be1a5</td>\n      <td>60350aa974b26ff12caad89e55993bd6</td>\n      <td>delivered</td>\n      <td>2018-03-08 20:57:30</td>\n      <td>2018-03-09 11:20:28</td>\n      <td>2018-03-16 13:08:30</td>\n      <td>2018-04-03</td>\n    </tr>\n  </tbody>\n</table>\n<p>99441 rows × 7 columns</p>\n</div>"
     },
     "execution_count": 33,
     "metadata": {},
     "output_type": "execute_result"
    }
   ],
   "source": [
    "df_orders['order_purchase_timestamp'] = pd.to_datetime(df_orders['order_purchase_timestamp'])\n",
    "df_orders['order_approved_at'] = pd.to_datetime(df_orders['order_approved_at'])\n",
    "df_orders['order_delivered_timestamp'] = pd.to_datetime(df_orders['order_delivered_timestamp'])\n",
    "df_orders['order_estimated_delivery_date'] = pd.to_datetime(df_orders['order_estimated_delivery_date'])\n",
    "df_orders"
   ],
   "metadata": {
    "collapsed": false,
    "ExecuteTime": {
     "end_time": "2024-06-09T04:31:05.047817Z",
     "start_time": "2024-06-09T04:31:04.233727400Z"
    }
   }
  },
  {
   "cell_type": "code",
   "execution_count": 49,
   "outputs": [
    {
     "name": "stderr",
     "output_type": "stream",
     "text": [
      "C:\\Users\\moham\\AppData\\Local\\Temp\\ipykernel_2924\\4259910295.py:1: SettingWithCopyWarning: \n",
      "A value is trying to be set on a copy of a slice from a DataFrame.\n",
      "Try using .loc[row_indexer,col_indexer] = value instead\n",
      "\n",
      "See the caveats in the documentation: https://pandas.pydata.org/pandas-docs/stable/user_guide/indexing.html#returning-a-view-versus-a-copy\n",
      "  df_orders['delivery_time'] =(df_orders['order_delivered_timestamp'] - df_orders['order_purchase_timestamp']).dt.days\n"
     ]
    },
    {
     "data": {
      "text/plain": "                               order_id                       customer_id  \\\n0      e481f51cbdc54678b7cc49136f2d6af7  7c396fd4830fd04220f754e42b4e5bff   \n1      53cdb2fc8bc7dce0b6741e2150273451  af07308b275d755c9edb36a90c618231   \n2      47770eb9100c2d0c44946d9cf07ec65d  3a653a41f6f9fc3d2a113cf8398680e8   \n3      949d5b44dbf5de918fe9c16f97b45f8a  7c142cf63193a1473d2e66489a9ae977   \n4      ad21c59c0840e6cb83a9ceb5573f8159  72632f0f9dd73dfee390c9b22eb56dd6   \n...                                 ...                               ...   \n99436  9c5dedf39a927c1b2549525ed64a053c  6359f309b166b0196dbf7ad2ac62bb5a   \n99437  63943bddc261676b46f01ca7ac2f7bd8  da62f9e57a76d978d02ab5362c509660   \n99438  83c1379a015df1e13d02aae0204711ab  737520a9aad80b3fbbdad19b66b37b30   \n99439  11c177c8e97725db2631073c19f07b62  5097a5312c8b157bb7be58ae360ef43c   \n99440  66dea50a8b16d9b4dee7af250b4be1a5  60350aa974b26ff12caad89e55993bd6   \n\n      order_status order_purchase_timestamp   order_approved_at  \\\n0        delivered      2017-10-02 10:56:33 2017-10-02 11:07:15   \n1        delivered      2018-07-24 20:41:37 2018-07-26 03:24:27   \n2        delivered      2018-08-08 08:38:49 2018-08-08 08:55:23   \n3        delivered      2017-11-18 19:28:06 2017-11-18 19:45:59   \n4        delivered      2018-02-13 21:18:39 2018-02-13 22:20:29   \n...            ...                      ...                 ...   \n99436    delivered      2017-03-09 09:54:05 2017-03-09 09:54:05   \n99437    delivered      2018-02-06 12:58:58 2018-02-06 13:10:37   \n99438    delivered      2017-08-27 14:46:43 2017-08-27 15:04:16   \n99439    delivered      2018-01-08 21:28:27 2018-01-08 21:36:21   \n99440    delivered      2018-03-08 20:57:30 2018-03-09 11:20:28   \n\n      order_delivered_timestamp order_estimated_delivery_date  delivery_time  \n0           2017-10-10 21:25:13                    2017-10-18              8  \n1           2018-08-07 15:27:45                    2018-08-13             13  \n2           2018-08-17 18:06:29                    2018-09-04              9  \n3           2017-12-02 00:28:42                    2017-12-15             13  \n4           2018-02-16 18:17:02                    2018-02-26              2  \n...                         ...                           ...            ...  \n99436       2017-03-17 15:08:01                    2017-03-28              8  \n99437       2018-02-28 17:37:56                    2018-03-02             22  \n99438       2017-09-21 11:24:17                    2017-09-27             24  \n99439       2018-01-25 23:32:54                    2018-02-15             17  \n99440       2018-03-16 13:08:30                    2018-04-03              7  \n\n[96462 rows x 8 columns]",
      "text/html": "<div>\n<style scoped>\n    .dataframe tbody tr th:only-of-type {\n        vertical-align: middle;\n    }\n\n    .dataframe tbody tr th {\n        vertical-align: top;\n    }\n\n    .dataframe thead th {\n        text-align: right;\n    }\n</style>\n<table border=\"1\" class=\"dataframe\">\n  <thead>\n    <tr style=\"text-align: right;\">\n      <th></th>\n      <th>order_id</th>\n      <th>customer_id</th>\n      <th>order_status</th>\n      <th>order_purchase_timestamp</th>\n      <th>order_approved_at</th>\n      <th>order_delivered_timestamp</th>\n      <th>order_estimated_delivery_date</th>\n      <th>delivery_time</th>\n    </tr>\n  </thead>\n  <tbody>\n    <tr>\n      <th>0</th>\n      <td>e481f51cbdc54678b7cc49136f2d6af7</td>\n      <td>7c396fd4830fd04220f754e42b4e5bff</td>\n      <td>delivered</td>\n      <td>2017-10-02 10:56:33</td>\n      <td>2017-10-02 11:07:15</td>\n      <td>2017-10-10 21:25:13</td>\n      <td>2017-10-18</td>\n      <td>8</td>\n    </tr>\n    <tr>\n      <th>1</th>\n      <td>53cdb2fc8bc7dce0b6741e2150273451</td>\n      <td>af07308b275d755c9edb36a90c618231</td>\n      <td>delivered</td>\n      <td>2018-07-24 20:41:37</td>\n      <td>2018-07-26 03:24:27</td>\n      <td>2018-08-07 15:27:45</td>\n      <td>2018-08-13</td>\n      <td>13</td>\n    </tr>\n    <tr>\n      <th>2</th>\n      <td>47770eb9100c2d0c44946d9cf07ec65d</td>\n      <td>3a653a41f6f9fc3d2a113cf8398680e8</td>\n      <td>delivered</td>\n      <td>2018-08-08 08:38:49</td>\n      <td>2018-08-08 08:55:23</td>\n      <td>2018-08-17 18:06:29</td>\n      <td>2018-09-04</td>\n      <td>9</td>\n    </tr>\n    <tr>\n      <th>3</th>\n      <td>949d5b44dbf5de918fe9c16f97b45f8a</td>\n      <td>7c142cf63193a1473d2e66489a9ae977</td>\n      <td>delivered</td>\n      <td>2017-11-18 19:28:06</td>\n      <td>2017-11-18 19:45:59</td>\n      <td>2017-12-02 00:28:42</td>\n      <td>2017-12-15</td>\n      <td>13</td>\n    </tr>\n    <tr>\n      <th>4</th>\n      <td>ad21c59c0840e6cb83a9ceb5573f8159</td>\n      <td>72632f0f9dd73dfee390c9b22eb56dd6</td>\n      <td>delivered</td>\n      <td>2018-02-13 21:18:39</td>\n      <td>2018-02-13 22:20:29</td>\n      <td>2018-02-16 18:17:02</td>\n      <td>2018-02-26</td>\n      <td>2</td>\n    </tr>\n    <tr>\n      <th>...</th>\n      <td>...</td>\n      <td>...</td>\n      <td>...</td>\n      <td>...</td>\n      <td>...</td>\n      <td>...</td>\n      <td>...</td>\n      <td>...</td>\n    </tr>\n    <tr>\n      <th>99436</th>\n      <td>9c5dedf39a927c1b2549525ed64a053c</td>\n      <td>6359f309b166b0196dbf7ad2ac62bb5a</td>\n      <td>delivered</td>\n      <td>2017-03-09 09:54:05</td>\n      <td>2017-03-09 09:54:05</td>\n      <td>2017-03-17 15:08:01</td>\n      <td>2017-03-28</td>\n      <td>8</td>\n    </tr>\n    <tr>\n      <th>99437</th>\n      <td>63943bddc261676b46f01ca7ac2f7bd8</td>\n      <td>da62f9e57a76d978d02ab5362c509660</td>\n      <td>delivered</td>\n      <td>2018-02-06 12:58:58</td>\n      <td>2018-02-06 13:10:37</td>\n      <td>2018-02-28 17:37:56</td>\n      <td>2018-03-02</td>\n      <td>22</td>\n    </tr>\n    <tr>\n      <th>99438</th>\n      <td>83c1379a015df1e13d02aae0204711ab</td>\n      <td>737520a9aad80b3fbbdad19b66b37b30</td>\n      <td>delivered</td>\n      <td>2017-08-27 14:46:43</td>\n      <td>2017-08-27 15:04:16</td>\n      <td>2017-09-21 11:24:17</td>\n      <td>2017-09-27</td>\n      <td>24</td>\n    </tr>\n    <tr>\n      <th>99439</th>\n      <td>11c177c8e97725db2631073c19f07b62</td>\n      <td>5097a5312c8b157bb7be58ae360ef43c</td>\n      <td>delivered</td>\n      <td>2018-01-08 21:28:27</td>\n      <td>2018-01-08 21:36:21</td>\n      <td>2018-01-25 23:32:54</td>\n      <td>2018-02-15</td>\n      <td>17</td>\n    </tr>\n    <tr>\n      <th>99440</th>\n      <td>66dea50a8b16d9b4dee7af250b4be1a5</td>\n      <td>60350aa974b26ff12caad89e55993bd6</td>\n      <td>delivered</td>\n      <td>2018-03-08 20:57:30</td>\n      <td>2018-03-09 11:20:28</td>\n      <td>2018-03-16 13:08:30</td>\n      <td>2018-04-03</td>\n      <td>7</td>\n    </tr>\n  </tbody>\n</table>\n<p>96462 rows × 8 columns</p>\n</div>"
     },
     "execution_count": 49,
     "metadata": {},
     "output_type": "execute_result"
    }
   ],
   "source": [
    "df_orders['delivery_time'] =(df_orders['order_delivered_timestamp'] - df_orders['order_purchase_timestamp']).dt.days\n",
    "df_orders = df_orders.dropna()\n",
    "df_orders"
   ],
   "metadata": {
    "collapsed": false,
    "ExecuteTime": {
     "end_time": "2024-06-09T04:46:19.163136300Z",
     "start_time": "2024-06-09T04:46:19.020273400Z"
    }
   }
  },
  {
   "cell_type": "markdown",
   "source": [
    "### Nomor 3"
   ],
   "metadata": {
    "collapsed": false
   }
  },
  {
   "cell_type": "code",
   "execution_count": 39,
   "outputs": [
    {
     "data": {
      "text/plain": "                payment_value\ncustomer_state               \nAC                   27763.40\nAL                  118398.30\nAM                   40954.02\nAP                   22994.51\nBA                  875250.84\nCE                  352897.46\nDF                  453039.47\nES                  435881.18\nGO                  538068.40\nMA                  209710.80\nMG                 2496318.43\nMS                  171891.39\nMT                  267608.92\nPA                  270091.83\nPB                  191035.22\nPE                  418109.86\nPI                  143907.01\nPR                 1151946.88\nRJ                 3009896.94\nRN                  120543.87\nRO                   74162.09\nRR                   13683.28\nRS                 1329727.70\nSC                  856493.93\nSE                   94814.59\nSP                 8232362.86\nTO                   75198.18",
      "text/html": "<div>\n<style scoped>\n    .dataframe tbody tr th:only-of-type {\n        vertical-align: middle;\n    }\n\n    .dataframe tbody tr th {\n        vertical-align: top;\n    }\n\n    .dataframe thead th {\n        text-align: right;\n    }\n</style>\n<table border=\"1\" class=\"dataframe\">\n  <thead>\n    <tr style=\"text-align: right;\">\n      <th></th>\n      <th>payment_value</th>\n    </tr>\n    <tr>\n      <th>customer_state</th>\n      <th></th>\n    </tr>\n  </thead>\n  <tbody>\n    <tr>\n      <th>AC</th>\n      <td>27763.40</td>\n    </tr>\n    <tr>\n      <th>AL</th>\n      <td>118398.30</td>\n    </tr>\n    <tr>\n      <th>AM</th>\n      <td>40954.02</td>\n    </tr>\n    <tr>\n      <th>AP</th>\n      <td>22994.51</td>\n    </tr>\n    <tr>\n      <th>BA</th>\n      <td>875250.84</td>\n    </tr>\n    <tr>\n      <th>CE</th>\n      <td>352897.46</td>\n    </tr>\n    <tr>\n      <th>DF</th>\n      <td>453039.47</td>\n    </tr>\n    <tr>\n      <th>ES</th>\n      <td>435881.18</td>\n    </tr>\n    <tr>\n      <th>GO</th>\n      <td>538068.40</td>\n    </tr>\n    <tr>\n      <th>MA</th>\n      <td>209710.80</td>\n    </tr>\n    <tr>\n      <th>MG</th>\n      <td>2496318.43</td>\n    </tr>\n    <tr>\n      <th>MS</th>\n      <td>171891.39</td>\n    </tr>\n    <tr>\n      <th>MT</th>\n      <td>267608.92</td>\n    </tr>\n    <tr>\n      <th>PA</th>\n      <td>270091.83</td>\n    </tr>\n    <tr>\n      <th>PB</th>\n      <td>191035.22</td>\n    </tr>\n    <tr>\n      <th>PE</th>\n      <td>418109.86</td>\n    </tr>\n    <tr>\n      <th>PI</th>\n      <td>143907.01</td>\n    </tr>\n    <tr>\n      <th>PR</th>\n      <td>1151946.88</td>\n    </tr>\n    <tr>\n      <th>RJ</th>\n      <td>3009896.94</td>\n    </tr>\n    <tr>\n      <th>RN</th>\n      <td>120543.87</td>\n    </tr>\n    <tr>\n      <th>RO</th>\n      <td>74162.09</td>\n    </tr>\n    <tr>\n      <th>RR</th>\n      <td>13683.28</td>\n    </tr>\n    <tr>\n      <th>RS</th>\n      <td>1329727.70</td>\n    </tr>\n    <tr>\n      <th>SC</th>\n      <td>856493.93</td>\n    </tr>\n    <tr>\n      <th>SE</th>\n      <td>94814.59</td>\n    </tr>\n    <tr>\n      <th>SP</th>\n      <td>8232362.86</td>\n    </tr>\n    <tr>\n      <th>TO</th>\n      <td>75198.18</td>\n    </tr>\n  </tbody>\n</table>\n</div>"
     },
     "execution_count": 39,
     "metadata": {},
     "output_type": "execute_result"
    }
   ],
   "source": [
    "df_combined_6csv_grouped = df_combined_6csv.groupby('customer_state').agg({'payment_value': 'sum'})\n",
    "df_combined_6csv_grouped"
   ],
   "metadata": {
    "collapsed": false,
    "ExecuteTime": {
     "end_time": "2024-06-09T04:37:25.130767600Z",
     "start_time": "2024-06-09T04:37:25.020254500Z"
    }
   }
  },
  {
   "cell_type": "code",
   "execution_count": 45,
   "outputs": [
    {
     "data": {
      "text/plain": "Index(['order_id', 'customer_id_x', 'order_status_x',\n       'order_purchase_timestamp_x', 'order_approved_at_x',\n       'order_delivered_timestamp_x', 'order_estimated_delivery_date_x',\n       'delivery_time', 'customer_id_y', 'order_status_y',\n       'order_purchase_timestamp_y', 'order_approved_at_y',\n       'order_delivered_timestamp_y', 'order_estimated_delivery_date_y',\n       'customer_zip_code_prefix', 'customer_city', 'customer_state',\n       'order_item_id', 'product_id', 'seller_id', 'price', 'shipping_charges',\n       'product_category_name', 'product_weight_g', 'product_length_cm',\n       'product_height_cm', 'product_width_cm', 'payment_sequential',\n       'payment_type', 'payment_installments', 'payment_value'],\n      dtype='object')"
     },
     "execution_count": 45,
     "metadata": {},
     "output_type": "execute_result"
    }
   ],
   "source": [
    "df_combined_7csv = pd.merge(df_orders, df_combined_6csv ,on='order_id')\n",
    "df_combined_7csv.columns"
   ],
   "metadata": {
    "collapsed": false,
    "ExecuteTime": {
     "end_time": "2024-06-09T04:43:52.328513500Z",
     "start_time": "2024-06-09T04:43:51.865864Z"
    }
   }
  },
  {
   "cell_type": "code",
   "execution_count": 48,
   "outputs": [
    {
     "data": {
      "text/plain": "                            delivery_time\ncustomer_state                           \nAC             21 days 07:29:57.673076923\nAL             24 days 12:46:43.941935483\nAM             25 days 19:37:38.910526315\nAP             27 days 16:50:13.873563218\nBA             19 days 05:20:12.714285714\nCE             20 days 15:58:23.790250160\nDF             13 days 01:30:17.190162664\nES             15 days 14:57:41.892601432\nGO             15 days 08:20:45.062426384\nMA             21 days 07:41:27.178651685\nMG             11 days 22:44:52.581358391\nMS             15 days 09:05:11.649043869\nMT             17 days 23:51:06.993079584\nPA             23 days 17:07:21.369886858\nPB             20 days 10:20:07.785074626\nPE             18 days 00:54:49.483300589\nPI             19 days 04:28:53.052901024\nPR             12 days 00:11:14.615080619\nRJ             15 days 04:33:25.334920242\nRN             19 days 12:57:44.184615384\nRO             20 days 01:04:40.825301204\nRR             27 days 07:27:50.979591836\nRS             15 days 03:24:50.696093861\nSC             14 days 21:02:28.580211546\nSE             21 days 09:25:45.486746988\nSP              8 days 16:47:46.825008976\nTO             17 days 03:41:09.865714285",
      "text/html": "<div>\n<style scoped>\n    .dataframe tbody tr th:only-of-type {\n        vertical-align: middle;\n    }\n\n    .dataframe tbody tr th {\n        vertical-align: top;\n    }\n\n    .dataframe thead th {\n        text-align: right;\n    }\n</style>\n<table border=\"1\" class=\"dataframe\">\n  <thead>\n    <tr style=\"text-align: right;\">\n      <th></th>\n      <th>delivery_time</th>\n    </tr>\n    <tr>\n      <th>customer_state</th>\n      <th></th>\n    </tr>\n  </thead>\n  <tbody>\n    <tr>\n      <th>AC</th>\n      <td>21 days 07:29:57.673076923</td>\n    </tr>\n    <tr>\n      <th>AL</th>\n      <td>24 days 12:46:43.941935483</td>\n    </tr>\n    <tr>\n      <th>AM</th>\n      <td>25 days 19:37:38.910526315</td>\n    </tr>\n    <tr>\n      <th>AP</th>\n      <td>27 days 16:50:13.873563218</td>\n    </tr>\n    <tr>\n      <th>BA</th>\n      <td>19 days 05:20:12.714285714</td>\n    </tr>\n    <tr>\n      <th>CE</th>\n      <td>20 days 15:58:23.790250160</td>\n    </tr>\n    <tr>\n      <th>DF</th>\n      <td>13 days 01:30:17.190162664</td>\n    </tr>\n    <tr>\n      <th>ES</th>\n      <td>15 days 14:57:41.892601432</td>\n    </tr>\n    <tr>\n      <th>GO</th>\n      <td>15 days 08:20:45.062426384</td>\n    </tr>\n    <tr>\n      <th>MA</th>\n      <td>21 days 07:41:27.178651685</td>\n    </tr>\n    <tr>\n      <th>MG</th>\n      <td>11 days 22:44:52.581358391</td>\n    </tr>\n    <tr>\n      <th>MS</th>\n      <td>15 days 09:05:11.649043869</td>\n    </tr>\n    <tr>\n      <th>MT</th>\n      <td>17 days 23:51:06.993079584</td>\n    </tr>\n    <tr>\n      <th>PA</th>\n      <td>23 days 17:07:21.369886858</td>\n    </tr>\n    <tr>\n      <th>PB</th>\n      <td>20 days 10:20:07.785074626</td>\n    </tr>\n    <tr>\n      <th>PE</th>\n      <td>18 days 00:54:49.483300589</td>\n    </tr>\n    <tr>\n      <th>PI</th>\n      <td>19 days 04:28:53.052901024</td>\n    </tr>\n    <tr>\n      <th>PR</th>\n      <td>12 days 00:11:14.615080619</td>\n    </tr>\n    <tr>\n      <th>RJ</th>\n      <td>15 days 04:33:25.334920242</td>\n    </tr>\n    <tr>\n      <th>RN</th>\n      <td>19 days 12:57:44.184615384</td>\n    </tr>\n    <tr>\n      <th>RO</th>\n      <td>20 days 01:04:40.825301204</td>\n    </tr>\n    <tr>\n      <th>RR</th>\n      <td>27 days 07:27:50.979591836</td>\n    </tr>\n    <tr>\n      <th>RS</th>\n      <td>15 days 03:24:50.696093861</td>\n    </tr>\n    <tr>\n      <th>SC</th>\n      <td>14 days 21:02:28.580211546</td>\n    </tr>\n    <tr>\n      <th>SE</th>\n      <td>21 days 09:25:45.486746988</td>\n    </tr>\n    <tr>\n      <th>SP</th>\n      <td>8 days 16:47:46.825008976</td>\n    </tr>\n    <tr>\n      <th>TO</th>\n      <td>17 days 03:41:09.865714285</td>\n    </tr>\n  </tbody>\n</table>\n</div>"
     },
     "execution_count": 48,
     "metadata": {},
     "output_type": "execute_result"
    }
   ],
   "source": [
    "df_combined_7csv_grouped = df_combined_7csv.groupby('customer_state').agg({'delivery_time': 'mean'})\n",
    "df_combined_7csv_grouped"
   ],
   "metadata": {
    "collapsed": false,
    "ExecuteTime": {
     "end_time": "2024-06-09T04:45:50.789190200Z",
     "start_time": "2024-06-09T04:45:50.737816900Z"
    }
   }
  },
  {
   "cell_type": "code",
   "execution_count": null,
   "outputs": [],
   "source": [],
   "metadata": {
    "collapsed": false
   }
  }
 ]
}
