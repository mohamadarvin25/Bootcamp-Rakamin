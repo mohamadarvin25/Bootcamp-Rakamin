{
  "cells": [
    {
      "cell_type": "markdown",
      "metadata": {
        "id": "b1TaMizYxwW_"
      },
      "source": [
        "Kelompok Infolvators :\n",
        "- M Rizqi Fadhilah\n",
        "- M Arvin Fadriansyah\n",
        "- Melliza Nastasia Izazi\n",
        "- Thufael Bintang Alfattah\n",
        "- Zulfikar fauzi\n",
        "- Annisa Sulistyaningsih\n",
        "- Niken Mustikaweni\n",
        "- Galih refa"
      ]
    },
    {
      "cell_type": "markdown",
      "metadata": {
        "id": "xQEc7FyZxpCn"
      },
      "source": [
        "# **Youtube Views Prediction**\n",
        "Salah satu implementasi regresi yang dapat dilakukan adalah dengan melakukan prediksi\n",
        "views pada video youtube dengan menggunakan angka statistik atau atribut lain pada\n",
        "videonya."
      ]
    },
    {
      "cell_type": "code",
      "execution_count": null,
      "metadata": {
        "id": "4NVgETqxzqVn",
        "ExecuteTime": {
          "end_time": "2024-08-10T05:48:30.468838100Z",
          "start_time": "2024-08-10T05:48:26.870153800Z"
        }
      },
      "outputs": [],
      "source": [
        "# Melakukan Importing Library yang akan dibutuhkan nanti\n",
        "import warnings\n",
        "import pandas as pd\n",
        "import numpy as np\n",
        "from sklearn.preprocessing import LabelEncoder\n",
        "from sklearn.model_selection import train_test_split\n",
        "from sklearn.preprocessing import MinMaxScaler\n",
        "from sklearn.linear_model import LinearRegression\n",
        "from sklearn.metrics import mean_absolute_error, mean_squared_error\n",
        "from lazypredict.Supervised import LazyRegressor"
      ]
    },
    {
      "cell_type": "markdown",
      "metadata": {
        "id": "Xqco958sYVQj"
      },
      "source": [
        "Mengimpor berbagai library dan modul dari sklearn (scikit-learn) dan lazypredict yang akan digunakan untuk melakukan preprocessing data, pemodelan regresi, dan evaluasi model."
      ]
    },
    {
      "cell_type": "code",
      "execution_count": null,
      "metadata": {
        "colab": {
          "base_uri": "https://localhost:8080/",
          "height": 1000
        },
        "id": "cNxQFpHOs4og",
        "outputId": "5201547c-b32b-4246-e44a-2e54c8171d1e",
        "ExecuteTime": {
          "end_time": "2024-08-10T05:48:42.498327Z",
          "start_time": "2024-08-10T05:48:30.471053700Z"
        }
      },
      "outputs": [
        {
          "data": {
            "text/plain": "      trending_date                                              title  \\\n0        2017-11-14  Sharry Mann: Cute Munda ( Song Teaser) | Parmi...   \n1        2017-11-14  पीरियड्स के समय, पेट पर पति करता ऐसा, देखकर दं...   \n2        2017-11-14  Stylish Star Allu Arjun @ ChaySam Wedding Rece...   \n3        2017-11-14                     Eruma Saani | Tamil vs English   \n4        2017-11-14  why Samantha became EMOTIONAL @ Samantha naga ...   \n...             ...                                                ...   \n36786    2018-06-14  फेकू आशिक़ - राजस्थान की सबसे शानदार कॉमेडी | ...   \n36787    2018-06-14                         Seetha | Flowers | Ep# 364   \n36788    2018-06-14  Bhramanam I Episode 87 - 12 June 2018 I Mazhav...   \n36789    2018-06-14  Nua Bohu | Full Ep 285 | 13th June 2018 | Odia...   \n36790    2018-06-14  Ee Nagaraniki Emaindi Trailer | Tharun Bhascke...   \n\n            channel_title  category_id publish_time  \\\n0         Lokdhun Punjabi            1     12:20:39   \n1                 HJ NEWS           25     05:43:56   \n2                    TFPC           24     15:48:08   \n3             Eruma Saani           23     07:08:48   \n4              Filmylooks           24     01:14:16   \n...                   ...          ...          ...   \n36786      RDC Rajasthani           23     08:01:11   \n36787          Flowers TV           24     11:30:04   \n36788   Mazhavil Manorama           24     05:00:02   \n36789           Tarang TV           24     15:07:49   \n36790  Suresh Productions           24     04:29:54   \n\n                                                    tags    views  likes  \\\n0      sharry mann|\"sharry mann new song\"|\"sharry man...  1096327  33966   \n1      पीरियड्स के समय|\"पेट पर पति करता ऐसा\"|\"देखकर द...   590101    735   \n2      Stylish Star Allu Arjun @ ChaySam Wedding Rece...   473988   2011   \n3      Eruma Saani|\"Tamil Comedy Videos\"|\"Films\"|\"Mov...  1242680  70353   \n4      Filmylooks|\"latest news\"|\"telugu movies\"|\"telu...   464015    492   \n...                                                  ...      ...    ...   \n36786  twinkle vaishnav comedy|\"twinkle vaishnav\"|\"tw...   214378   3291   \n36787  flowers serials|\"actress\"|\"malayalam serials\"|...   406828   1726   \n36788  mazhavil manorama|\"bhramanam full episode\"|\"gt...   386319   1216   \n36789  tarang|\"tarang tv\"|\"tarang tv online\"|\"tarang ...   130263    698   \n36790  Ee Nagaraniki Emaindi|\"Ee Nagaraniki Emaindi T...  1278249  22466   \n\n       dislikes  comment_count  comments_disabled  ratings_disabled  \\\n0           798            882              False             False   \n1           904              0               True             False   \n2           243            149              False             False   \n3          1624           2684              False             False   \n4           293             66              False             False   \n...         ...            ...                ...               ...   \n36786       404            196              False             False   \n36787       478           1428              False             False   \n36788       453            697              False             False   \n36789       115             65              False             False   \n36790      1609           1205              False             False   \n\n       video_error_or_removed  \\\n0                       False   \n1                       False   \n2                       False   \n3                       False   \n4                       False   \n...                       ...   \n36786                   False   \n36787                   False   \n36788                   False   \n36789                   False   \n36790                   False   \n\n                                             description  No_tags  desc_len  \\\n0      Presenting Sharry Mann latest Punjabi Song  Cu...       15       920   \n1      पीरियड्स के समय, पेट पर पति करता ऐसा, देखकर दं...       19      2232   \n2      Watch Stylish Star Allu Arjun @ ChaySam Weddin...       14       482   \n3      This video showcases the difference between pe...       20       263   \n4      why Samantha became EMOTIONAL @ Samantha naga ...       11       753   \n...                                                  ...      ...       ...   \n36786  PRG Music & RDC Rajasthani presents फेकू आशिक़...       19       818   \n36787  Flowers - A R Rahman Show,Book your Tickets He...        8       468   \n36788  Subscribe to Mazhavil Manorama now for your da...        8      2187   \n36789  Nuabohu : Story of a rustic village girl who w...       15       432   \n36790  Check out Ee Nagaraniki Emaindi Trailer #EeNag...       14      1030   \n\n       len_title publish_date  \n0             81   2017-11-12  \n1             58   2017-11-13  \n2             58   2017-11-12  \n3             30   2017-11-12  \n4             88   2017-11-13  \n...          ...          ...  \n36786        100   2018-06-13  \n36787         26   2018-06-13  \n36788         57   2018-06-13  \n36789         64   2018-06-13  \n36790         76   2018-06-10  \n\n[36791 rows x 18 columns]",
            "text/html": "<div>\n<style scoped>\n    .dataframe tbody tr th:only-of-type {\n        vertical-align: middle;\n    }\n\n    .dataframe tbody tr th {\n        vertical-align: top;\n    }\n\n    .dataframe thead th {\n        text-align: right;\n    }\n</style>\n<table border=\"1\" class=\"dataframe\">\n  <thead>\n    <tr style=\"text-align: right;\">\n      <th></th>\n      <th>trending_date</th>\n      <th>title</th>\n      <th>channel_title</th>\n      <th>category_id</th>\n      <th>publish_time</th>\n      <th>tags</th>\n      <th>views</th>\n      <th>likes</th>\n      <th>dislikes</th>\n      <th>comment_count</th>\n      <th>comments_disabled</th>\n      <th>ratings_disabled</th>\n      <th>video_error_or_removed</th>\n      <th>description</th>\n      <th>No_tags</th>\n      <th>desc_len</th>\n      <th>len_title</th>\n      <th>publish_date</th>\n    </tr>\n  </thead>\n  <tbody>\n    <tr>\n      <th>0</th>\n      <td>2017-11-14</td>\n      <td>Sharry Mann: Cute Munda ( Song Teaser) | Parmi...</td>\n      <td>Lokdhun Punjabi</td>\n      <td>1</td>\n      <td>12:20:39</td>\n      <td>sharry mann|\"sharry mann new song\"|\"sharry man...</td>\n      <td>1096327</td>\n      <td>33966</td>\n      <td>798</td>\n      <td>882</td>\n      <td>False</td>\n      <td>False</td>\n      <td>False</td>\n      <td>Presenting Sharry Mann latest Punjabi Song  Cu...</td>\n      <td>15</td>\n      <td>920</td>\n      <td>81</td>\n      <td>2017-11-12</td>\n    </tr>\n    <tr>\n      <th>1</th>\n      <td>2017-11-14</td>\n      <td>पीरियड्स के समय, पेट पर पति करता ऐसा, देखकर दं...</td>\n      <td>HJ NEWS</td>\n      <td>25</td>\n      <td>05:43:56</td>\n      <td>पीरियड्स के समय|\"पेट पर पति करता ऐसा\"|\"देखकर द...</td>\n      <td>590101</td>\n      <td>735</td>\n      <td>904</td>\n      <td>0</td>\n      <td>True</td>\n      <td>False</td>\n      <td>False</td>\n      <td>पीरियड्स के समय, पेट पर पति करता ऐसा, देखकर दं...</td>\n      <td>19</td>\n      <td>2232</td>\n      <td>58</td>\n      <td>2017-11-13</td>\n    </tr>\n    <tr>\n      <th>2</th>\n      <td>2017-11-14</td>\n      <td>Stylish Star Allu Arjun @ ChaySam Wedding Rece...</td>\n      <td>TFPC</td>\n      <td>24</td>\n      <td>15:48:08</td>\n      <td>Stylish Star Allu Arjun @ ChaySam Wedding Rece...</td>\n      <td>473988</td>\n      <td>2011</td>\n      <td>243</td>\n      <td>149</td>\n      <td>False</td>\n      <td>False</td>\n      <td>False</td>\n      <td>Watch Stylish Star Allu Arjun @ ChaySam Weddin...</td>\n      <td>14</td>\n      <td>482</td>\n      <td>58</td>\n      <td>2017-11-12</td>\n    </tr>\n    <tr>\n      <th>3</th>\n      <td>2017-11-14</td>\n      <td>Eruma Saani | Tamil vs English</td>\n      <td>Eruma Saani</td>\n      <td>23</td>\n      <td>07:08:48</td>\n      <td>Eruma Saani|\"Tamil Comedy Videos\"|\"Films\"|\"Mov...</td>\n      <td>1242680</td>\n      <td>70353</td>\n      <td>1624</td>\n      <td>2684</td>\n      <td>False</td>\n      <td>False</td>\n      <td>False</td>\n      <td>This video showcases the difference between pe...</td>\n      <td>20</td>\n      <td>263</td>\n      <td>30</td>\n      <td>2017-11-12</td>\n    </tr>\n    <tr>\n      <th>4</th>\n      <td>2017-11-14</td>\n      <td>why Samantha became EMOTIONAL @ Samantha naga ...</td>\n      <td>Filmylooks</td>\n      <td>24</td>\n      <td>01:14:16</td>\n      <td>Filmylooks|\"latest news\"|\"telugu movies\"|\"telu...</td>\n      <td>464015</td>\n      <td>492</td>\n      <td>293</td>\n      <td>66</td>\n      <td>False</td>\n      <td>False</td>\n      <td>False</td>\n      <td>why Samantha became EMOTIONAL @ Samantha naga ...</td>\n      <td>11</td>\n      <td>753</td>\n      <td>88</td>\n      <td>2017-11-13</td>\n    </tr>\n    <tr>\n      <th>...</th>\n      <td>...</td>\n      <td>...</td>\n      <td>...</td>\n      <td>...</td>\n      <td>...</td>\n      <td>...</td>\n      <td>...</td>\n      <td>...</td>\n      <td>...</td>\n      <td>...</td>\n      <td>...</td>\n      <td>...</td>\n      <td>...</td>\n      <td>...</td>\n      <td>...</td>\n      <td>...</td>\n      <td>...</td>\n      <td>...</td>\n    </tr>\n    <tr>\n      <th>36786</th>\n      <td>2018-06-14</td>\n      <td>फेकू आशिक़ - राजस्थान की सबसे शानदार कॉमेडी | ...</td>\n      <td>RDC Rajasthani</td>\n      <td>23</td>\n      <td>08:01:11</td>\n      <td>twinkle vaishnav comedy|\"twinkle vaishnav\"|\"tw...</td>\n      <td>214378</td>\n      <td>3291</td>\n      <td>404</td>\n      <td>196</td>\n      <td>False</td>\n      <td>False</td>\n      <td>False</td>\n      <td>PRG Music &amp; RDC Rajasthani presents फेकू आशिक़...</td>\n      <td>19</td>\n      <td>818</td>\n      <td>100</td>\n      <td>2018-06-13</td>\n    </tr>\n    <tr>\n      <th>36787</th>\n      <td>2018-06-14</td>\n      <td>Seetha | Flowers | Ep# 364</td>\n      <td>Flowers TV</td>\n      <td>24</td>\n      <td>11:30:04</td>\n      <td>flowers serials|\"actress\"|\"malayalam serials\"|...</td>\n      <td>406828</td>\n      <td>1726</td>\n      <td>478</td>\n      <td>1428</td>\n      <td>False</td>\n      <td>False</td>\n      <td>False</td>\n      <td>Flowers - A R Rahman Show,Book your Tickets He...</td>\n      <td>8</td>\n      <td>468</td>\n      <td>26</td>\n      <td>2018-06-13</td>\n    </tr>\n    <tr>\n      <th>36788</th>\n      <td>2018-06-14</td>\n      <td>Bhramanam I Episode 87 - 12 June 2018 I Mazhav...</td>\n      <td>Mazhavil Manorama</td>\n      <td>24</td>\n      <td>05:00:02</td>\n      <td>mazhavil manorama|\"bhramanam full episode\"|\"gt...</td>\n      <td>386319</td>\n      <td>1216</td>\n      <td>453</td>\n      <td>697</td>\n      <td>False</td>\n      <td>False</td>\n      <td>False</td>\n      <td>Subscribe to Mazhavil Manorama now for your da...</td>\n      <td>8</td>\n      <td>2187</td>\n      <td>57</td>\n      <td>2018-06-13</td>\n    </tr>\n    <tr>\n      <th>36789</th>\n      <td>2018-06-14</td>\n      <td>Nua Bohu | Full Ep 285 | 13th June 2018 | Odia...</td>\n      <td>Tarang TV</td>\n      <td>24</td>\n      <td>15:07:49</td>\n      <td>tarang|\"tarang tv\"|\"tarang tv online\"|\"tarang ...</td>\n      <td>130263</td>\n      <td>698</td>\n      <td>115</td>\n      <td>65</td>\n      <td>False</td>\n      <td>False</td>\n      <td>False</td>\n      <td>Nuabohu : Story of a rustic village girl who w...</td>\n      <td>15</td>\n      <td>432</td>\n      <td>64</td>\n      <td>2018-06-13</td>\n    </tr>\n    <tr>\n      <th>36790</th>\n      <td>2018-06-14</td>\n      <td>Ee Nagaraniki Emaindi Trailer | Tharun Bhascke...</td>\n      <td>Suresh Productions</td>\n      <td>24</td>\n      <td>04:29:54</td>\n      <td>Ee Nagaraniki Emaindi|\"Ee Nagaraniki Emaindi T...</td>\n      <td>1278249</td>\n      <td>22466</td>\n      <td>1609</td>\n      <td>1205</td>\n      <td>False</td>\n      <td>False</td>\n      <td>False</td>\n      <td>Check out Ee Nagaraniki Emaindi Trailer #EeNag...</td>\n      <td>14</td>\n      <td>1030</td>\n      <td>76</td>\n      <td>2018-06-10</td>\n    </tr>\n  </tbody>\n</table>\n<p>36791 rows × 18 columns</p>\n</div>"
          },
          "metadata": {},
          "output_type": "display_data"
        }
      ],
      "source": [
        "# Mengabaikan semua peringatan\n",
        "warnings.filterwarnings('ignore')\n",
        "\n",
        "# Proses ekstraksi data\n",
        "raw_data = pd.read_excel('youtube_statistics.xlsx')\n",
        "\n",
        "# Tampilkan data\n",
        "display(raw_data)"
      ]
    },
    {
      "cell_type": "code",
      "execution_count": null,
      "metadata": {
        "colab": {
          "base_uri": "https://localhost:8080/"
        },
        "id": "MrD2PGXm0qRu",
        "outputId": "2822a387-df7e-4ba0-980c-45e77dbb23f8",
        "ExecuteTime": {
          "end_time": "2024-08-10T05:48:42.635066100Z",
          "start_time": "2024-08-10T05:48:42.464104600Z"
        }
      },
      "outputs": [
        {
          "name": "stdout",
          "output_type": "stream",
          "text": [
            "<class 'pandas.core.frame.DataFrame'>\n",
            "RangeIndex: 36791 entries, 0 to 36790\n",
            "Data columns (total 18 columns):\n",
            " #   Column                  Non-Null Count  Dtype         \n",
            "---  ------                  --------------  -----         \n",
            " 0   trending_date           36791 non-null  object        \n",
            " 1   title                   36791 non-null  object        \n",
            " 2   channel_title           36791 non-null  object        \n",
            " 3   category_id             36791 non-null  int64         \n",
            " 4   publish_time            36791 non-null  object        \n",
            " 5   tags                    36791 non-null  object        \n",
            " 6   views                   36791 non-null  int64         \n",
            " 7   likes                   36791 non-null  int64         \n",
            " 8   dislikes                36791 non-null  int64         \n",
            " 9   comment_count           36791 non-null  int64         \n",
            " 10  comments_disabled       36791 non-null  bool          \n",
            " 11  ratings_disabled        36791 non-null  bool          \n",
            " 12  video_error_or_removed  36791 non-null  bool          \n",
            " 13  description             36746 non-null  object        \n",
            " 14  No_tags                 36791 non-null  int64         \n",
            " 15  desc_len                36791 non-null  int64         \n",
            " 16  len_title               36791 non-null  int64         \n",
            " 17  publish_date            36791 non-null  datetime64[ns]\n",
            "dtypes: bool(3), datetime64[ns](1), int64(8), object(6)\n",
            "memory usage: 4.3+ MB\n"
          ]
        }
      ],
      "source": [
        "raw_data.info()"
      ]
    },
    {
      "cell_type": "markdown",
      "metadata": {
        "id": "2t6vL-SLY6xk"
      },
      "source": [
        "Menampilkan informasi tentang DataFrame raw_data.\n",
        "DataFrame ini memiliki 36791 entri (baris) dan 18 kolom.\n",
        "Setiap kolom memiliki tipe data yang berbeda-beda, seperti object, int64, bool, dan datetime64[ns].\n",
        "Dan terdapat 45 missing value pada kolom deskcription."
      ]
    },
    {
      "cell_type": "markdown",
      "metadata": {
        "id": "azQaJG2U03yJ"
      },
      "source": [
        "# Transformasi Data"
      ]
    },
    {
      "cell_type": "code",
      "execution_count": null,
      "metadata": {
        "id": "LMPkB9jm05WK",
        "ExecuteTime": {
          "end_time": "2024-08-10T05:48:42.900730800Z",
          "start_time": "2024-08-10T05:48:42.538098500Z"
        }
      },
      "outputs": [],
      "source": [
        "col_dates = ['trending_date', 'publish_date']\n",
        "\n",
        "for coldate in col_dates:\n",
        "    raw_data[coldate] = pd.to_datetime(raw_data[coldate])\n",
        "\n",
        "raw_data['publish_time'] = pd.to_timedelta(raw_data['publish_time'])"
      ]
    },
    {
      "cell_type": "code",
      "execution_count": null,
      "metadata": {
        "colab": {
          "base_uri": "https://localhost:8080/"
        },
        "id": "tRZxiV5L1KNT",
        "outputId": "d7657ed6-1e64-4384-c046-ebd78c6056e6",
        "ExecuteTime": {
          "end_time": "2024-08-10T05:48:43.000698200Z",
          "start_time": "2024-08-10T05:48:42.702891500Z"
        }
      },
      "outputs": [
        {
          "name": "stdout",
          "output_type": "stream",
          "text": [
            "<class 'pandas.core.frame.DataFrame'>\n",
            "RangeIndex: 36791 entries, 0 to 36790\n",
            "Data columns (total 18 columns):\n",
            " #   Column                  Non-Null Count  Dtype          \n",
            "---  ------                  --------------  -----          \n",
            " 0   trending_date           36791 non-null  datetime64[ns] \n",
            " 1   title                   36791 non-null  object         \n",
            " 2   channel_title           36791 non-null  object         \n",
            " 3   category_id             36791 non-null  int64          \n",
            " 4   publish_time            36791 non-null  timedelta64[ns]\n",
            " 5   tags                    36791 non-null  object         \n",
            " 6   views                   36791 non-null  int64          \n",
            " 7   likes                   36791 non-null  int64          \n",
            " 8   dislikes                36791 non-null  int64          \n",
            " 9   comment_count           36791 non-null  int64          \n",
            " 10  comments_disabled       36791 non-null  bool           \n",
            " 11  ratings_disabled        36791 non-null  bool           \n",
            " 12  video_error_or_removed  36791 non-null  bool           \n",
            " 13  description             36746 non-null  object         \n",
            " 14  No_tags                 36791 non-null  int64          \n",
            " 15  desc_len                36791 non-null  int64          \n",
            " 16  len_title               36791 non-null  int64          \n",
            " 17  publish_date            36791 non-null  datetime64[ns] \n",
            "dtypes: bool(3), datetime64[ns](2), int64(8), object(4), timedelta64[ns](1)\n",
            "memory usage: 4.3+ MB\n"
          ]
        }
      ],
      "source": [
        "raw_data.info()"
      ]
    },
    {
      "cell_type": "markdown",
      "metadata": {
        "id": "BNH-wzIBXEyc"
      },
      "source": [
        "Mengubah tipe data kolom 'publish_time' menjadi tipe data **timedelta** sedangkan data kolom'trending_date' menjadi tipe data **datetime**\n",
        "Tujuannya adalah untuk menyiapkan dataset dengan format tanggal dan waktu yang sesuai, agar dapat diproses dan dianalisis dengan lebih mudah."
      ]
    },
    {
      "cell_type": "markdown",
      "metadata": {
        "id": "Torfs6Jo3xoZ"
      },
      "source": [
        "# EDA"
      ]
    },
    {
      "cell_type": "code",
      "execution_count": null,
      "metadata": {
        "colab": {
          "base_uri": "https://localhost:8080/",
          "height": 423
        },
        "id": "9IKxS2Z81-ng",
        "outputId": "ee41ac72-c389-4cea-98c7-3381d71d5a11",
        "ExecuteTime": {
          "end_time": "2024-08-10T05:48:43.005708Z",
          "start_time": "2024-08-10T05:48:42.750258100Z"
        }
      },
      "outputs": [
        {
          "data": {
            "text/plain": "                                                   title       channel_title  \\\n0      Sharry Mann: Cute Munda ( Song Teaser) | Parmi...     Lokdhun Punjabi   \n1      पीरियड्स के समय, पेट पर पति करता ऐसा, देखकर दं...             HJ NEWS   \n2      Stylish Star Allu Arjun @ ChaySam Wedding Rece...                TFPC   \n3                         Eruma Saani | Tamil vs English         Eruma Saani   \n4      why Samantha became EMOTIONAL @ Samantha naga ...          Filmylooks   \n...                                                  ...                 ...   \n36786  फेकू आशिक़ - राजस्थान की सबसे शानदार कॉमेडी | ...      RDC Rajasthani   \n36787                         Seetha | Flowers | Ep# 364          Flowers TV   \n36788  Bhramanam I Episode 87 - 12 June 2018 I Mazhav...   Mazhavil Manorama   \n36789  Nua Bohu | Full Ep 285 | 13th June 2018 | Odia...           Tarang TV   \n36790  Ee Nagaraniki Emaindi Trailer | Tharun Bhascke...  Suresh Productions   \n\n                                                    tags  \\\n0      sharry mann|\"sharry mann new song\"|\"sharry man...   \n1      पीरियड्स के समय|\"पेट पर पति करता ऐसा\"|\"देखकर द...   \n2      Stylish Star Allu Arjun @ ChaySam Wedding Rece...   \n3      Eruma Saani|\"Tamil Comedy Videos\"|\"Films\"|\"Mov...   \n4      Filmylooks|\"latest news\"|\"telugu movies\"|\"telu...   \n...                                                  ...   \n36786  twinkle vaishnav comedy|\"twinkle vaishnav\"|\"tw...   \n36787  flowers serials|\"actress\"|\"malayalam serials\"|...   \n36788  mazhavil manorama|\"bhramanam full episode\"|\"gt...   \n36789  tarang|\"tarang tv\"|\"tarang tv online\"|\"tarang ...   \n36790  Ee Nagaraniki Emaindi|\"Ee Nagaraniki Emaindi T...   \n\n                                             description  \n0      Presenting Sharry Mann latest Punjabi Song  Cu...  \n1      पीरियड्स के समय, पेट पर पति करता ऐसा, देखकर दं...  \n2      Watch Stylish Star Allu Arjun @ ChaySam Weddin...  \n3      This video showcases the difference between pe...  \n4      why Samantha became EMOTIONAL @ Samantha naga ...  \n...                                                  ...  \n36786  PRG Music & RDC Rajasthani presents फेकू आशिक़...  \n36787  Flowers - A R Rahman Show,Book your Tickets He...  \n36788  Subscribe to Mazhavil Manorama now for your da...  \n36789  Nuabohu : Story of a rustic village girl who w...  \n36790  Check out Ee Nagaraniki Emaindi Trailer #EeNag...  \n\n[36791 rows x 4 columns]",
            "text/html": "<div>\n<style scoped>\n    .dataframe tbody tr th:only-of-type {\n        vertical-align: middle;\n    }\n\n    .dataframe tbody tr th {\n        vertical-align: top;\n    }\n\n    .dataframe thead th {\n        text-align: right;\n    }\n</style>\n<table border=\"1\" class=\"dataframe\">\n  <thead>\n    <tr style=\"text-align: right;\">\n      <th></th>\n      <th>title</th>\n      <th>channel_title</th>\n      <th>tags</th>\n      <th>description</th>\n    </tr>\n  </thead>\n  <tbody>\n    <tr>\n      <th>0</th>\n      <td>Sharry Mann: Cute Munda ( Song Teaser) | Parmi...</td>\n      <td>Lokdhun Punjabi</td>\n      <td>sharry mann|\"sharry mann new song\"|\"sharry man...</td>\n      <td>Presenting Sharry Mann latest Punjabi Song  Cu...</td>\n    </tr>\n    <tr>\n      <th>1</th>\n      <td>पीरियड्स के समय, पेट पर पति करता ऐसा, देखकर दं...</td>\n      <td>HJ NEWS</td>\n      <td>पीरियड्स के समय|\"पेट पर पति करता ऐसा\"|\"देखकर द...</td>\n      <td>पीरियड्स के समय, पेट पर पति करता ऐसा, देखकर दं...</td>\n    </tr>\n    <tr>\n      <th>2</th>\n      <td>Stylish Star Allu Arjun @ ChaySam Wedding Rece...</td>\n      <td>TFPC</td>\n      <td>Stylish Star Allu Arjun @ ChaySam Wedding Rece...</td>\n      <td>Watch Stylish Star Allu Arjun @ ChaySam Weddin...</td>\n    </tr>\n    <tr>\n      <th>3</th>\n      <td>Eruma Saani | Tamil vs English</td>\n      <td>Eruma Saani</td>\n      <td>Eruma Saani|\"Tamil Comedy Videos\"|\"Films\"|\"Mov...</td>\n      <td>This video showcases the difference between pe...</td>\n    </tr>\n    <tr>\n      <th>4</th>\n      <td>why Samantha became EMOTIONAL @ Samantha naga ...</td>\n      <td>Filmylooks</td>\n      <td>Filmylooks|\"latest news\"|\"telugu movies\"|\"telu...</td>\n      <td>why Samantha became EMOTIONAL @ Samantha naga ...</td>\n    </tr>\n    <tr>\n      <th>...</th>\n      <td>...</td>\n      <td>...</td>\n      <td>...</td>\n      <td>...</td>\n    </tr>\n    <tr>\n      <th>36786</th>\n      <td>फेकू आशिक़ - राजस्थान की सबसे शानदार कॉमेडी | ...</td>\n      <td>RDC Rajasthani</td>\n      <td>twinkle vaishnav comedy|\"twinkle vaishnav\"|\"tw...</td>\n      <td>PRG Music &amp; RDC Rajasthani presents फेकू आशिक़...</td>\n    </tr>\n    <tr>\n      <th>36787</th>\n      <td>Seetha | Flowers | Ep# 364</td>\n      <td>Flowers TV</td>\n      <td>flowers serials|\"actress\"|\"malayalam serials\"|...</td>\n      <td>Flowers - A R Rahman Show,Book your Tickets He...</td>\n    </tr>\n    <tr>\n      <th>36788</th>\n      <td>Bhramanam I Episode 87 - 12 June 2018 I Mazhav...</td>\n      <td>Mazhavil Manorama</td>\n      <td>mazhavil manorama|\"bhramanam full episode\"|\"gt...</td>\n      <td>Subscribe to Mazhavil Manorama now for your da...</td>\n    </tr>\n    <tr>\n      <th>36789</th>\n      <td>Nua Bohu | Full Ep 285 | 13th June 2018 | Odia...</td>\n      <td>Tarang TV</td>\n      <td>tarang|\"tarang tv\"|\"tarang tv online\"|\"tarang ...</td>\n      <td>Nuabohu : Story of a rustic village girl who w...</td>\n    </tr>\n    <tr>\n      <th>36790</th>\n      <td>Ee Nagaraniki Emaindi Trailer | Tharun Bhascke...</td>\n      <td>Suresh Productions</td>\n      <td>Ee Nagaraniki Emaindi|\"Ee Nagaraniki Emaindi T...</td>\n      <td>Check out Ee Nagaraniki Emaindi Trailer #EeNag...</td>\n    </tr>\n  </tbody>\n</table>\n<p>36791 rows × 4 columns</p>\n</div>"
          },
          "execution_count": 6,
          "metadata": {},
          "output_type": "execute_result"
        }
      ],
      "source": [
        "# Periksa variabel kategorik\n",
        "raw_data.select_dtypes(include = 'object')"
      ]
    },
    {
      "cell_type": "markdown",
      "metadata": {
        "id": "nD4xml9XXMgm"
      },
      "source": [
        "Menampilkan semua kolom dalam DataFrame raw_data yang memiliki tipe data 'object'. yang berguna untuk mengidentifikasi variabel-variabel kategorik dalam dataset"
      ]
    },
    {
      "cell_type": "markdown",
      "metadata": {
        "id": "xrXfLcJ8317j"
      },
      "source": [
        "Karena sifatnya free text maka kita bisa abaikan fitur tersebut"
      ]
    },
    {
      "cell_type": "code",
      "execution_count": null,
      "metadata": {
        "id": "RUroVghE4bNb",
        "ExecuteTime": {
          "end_time": "2024-08-10T05:48:43.067688600Z",
          "start_time": "2024-08-10T05:48:42.793375200Z"
        }
      },
      "outputs": [],
      "source": [
        "# Hapus kolom free text\n",
        "raw_data = raw_data.drop(columns = ['title', 'channel_title', 'tags', 'description'])"
      ]
    },
    {
      "cell_type": "code",
      "execution_count": null,
      "metadata": {
        "colab": {
          "base_uri": "https://localhost:8080/",
          "height": 206
        },
        "id": "LIfR42Nn4oxD",
        "outputId": "404a93d1-0d82-4de7-f919-3a14674ddad5",
        "ExecuteTime": {
          "end_time": "2024-08-10T05:48:43.120430700Z",
          "start_time": "2024-08-10T05:48:42.816448700Z"
        }
      },
      "outputs": [
        {
          "data": {
            "text/plain": "  trending_date  category_id    publish_time    views  likes  dislikes  \\\n0    2017-11-14            1 0 days 12:20:39  1096327  33966       798   \n1    2017-11-14           25 0 days 05:43:56   590101    735       904   \n2    2017-11-14           24 0 days 15:48:08   473988   2011       243   \n3    2017-11-14           23 0 days 07:08:48  1242680  70353      1624   \n4    2017-11-14           24 0 days 01:14:16   464015    492       293   \n\n   comment_count  comments_disabled  ratings_disabled  video_error_or_removed  \\\n0            882              False             False                   False   \n1              0               True             False                   False   \n2            149              False             False                   False   \n3           2684              False             False                   False   \n4             66              False             False                   False   \n\n   No_tags  desc_len  len_title publish_date  \n0       15       920         81   2017-11-12  \n1       19      2232         58   2017-11-13  \n2       14       482         58   2017-11-12  \n3       20       263         30   2017-11-12  \n4       11       753         88   2017-11-13  ",
            "text/html": "<div>\n<style scoped>\n    .dataframe tbody tr th:only-of-type {\n        vertical-align: middle;\n    }\n\n    .dataframe tbody tr th {\n        vertical-align: top;\n    }\n\n    .dataframe thead th {\n        text-align: right;\n    }\n</style>\n<table border=\"1\" class=\"dataframe\">\n  <thead>\n    <tr style=\"text-align: right;\">\n      <th></th>\n      <th>trending_date</th>\n      <th>category_id</th>\n      <th>publish_time</th>\n      <th>views</th>\n      <th>likes</th>\n      <th>dislikes</th>\n      <th>comment_count</th>\n      <th>comments_disabled</th>\n      <th>ratings_disabled</th>\n      <th>video_error_or_removed</th>\n      <th>No_tags</th>\n      <th>desc_len</th>\n      <th>len_title</th>\n      <th>publish_date</th>\n    </tr>\n  </thead>\n  <tbody>\n    <tr>\n      <th>0</th>\n      <td>2017-11-14</td>\n      <td>1</td>\n      <td>0 days 12:20:39</td>\n      <td>1096327</td>\n      <td>33966</td>\n      <td>798</td>\n      <td>882</td>\n      <td>False</td>\n      <td>False</td>\n      <td>False</td>\n      <td>15</td>\n      <td>920</td>\n      <td>81</td>\n      <td>2017-11-12</td>\n    </tr>\n    <tr>\n      <th>1</th>\n      <td>2017-11-14</td>\n      <td>25</td>\n      <td>0 days 05:43:56</td>\n      <td>590101</td>\n      <td>735</td>\n      <td>904</td>\n      <td>0</td>\n      <td>True</td>\n      <td>False</td>\n      <td>False</td>\n      <td>19</td>\n      <td>2232</td>\n      <td>58</td>\n      <td>2017-11-13</td>\n    </tr>\n    <tr>\n      <th>2</th>\n      <td>2017-11-14</td>\n      <td>24</td>\n      <td>0 days 15:48:08</td>\n      <td>473988</td>\n      <td>2011</td>\n      <td>243</td>\n      <td>149</td>\n      <td>False</td>\n      <td>False</td>\n      <td>False</td>\n      <td>14</td>\n      <td>482</td>\n      <td>58</td>\n      <td>2017-11-12</td>\n    </tr>\n    <tr>\n      <th>3</th>\n      <td>2017-11-14</td>\n      <td>23</td>\n      <td>0 days 07:08:48</td>\n      <td>1242680</td>\n      <td>70353</td>\n      <td>1624</td>\n      <td>2684</td>\n      <td>False</td>\n      <td>False</td>\n      <td>False</td>\n      <td>20</td>\n      <td>263</td>\n      <td>30</td>\n      <td>2017-11-12</td>\n    </tr>\n    <tr>\n      <th>4</th>\n      <td>2017-11-14</td>\n      <td>24</td>\n      <td>0 days 01:14:16</td>\n      <td>464015</td>\n      <td>492</td>\n      <td>293</td>\n      <td>66</td>\n      <td>False</td>\n      <td>False</td>\n      <td>False</td>\n      <td>11</td>\n      <td>753</td>\n      <td>88</td>\n      <td>2017-11-13</td>\n    </tr>\n  </tbody>\n</table>\n</div>"
          },
          "execution_count": 8,
          "metadata": {},
          "output_type": "execute_result"
        }
      ],
      "source": [
        "raw_data.head()"
      ]
    },
    {
      "cell_type": "markdown",
      "metadata": {
        "id": "56q_mI1B4scC"
      },
      "source": [
        "# Feature Engineering"
      ]
    },
    {
      "cell_type": "code",
      "execution_count": null,
      "metadata": {
        "id": "LFJ_xqMT4vIV",
        "ExecuteTime": {
          "end_time": "2024-08-10T05:48:43.122427600Z",
          "start_time": "2024-08-10T05:48:42.857577900Z"
        }
      },
      "outputs": [],
      "source": [
        "def categorize_time(td):\n",
        "    hours = td.total_seconds() / 3600\n",
        "    if (5 <= hours < 12):\n",
        "        return 'morning'\n",
        "    elif (12 <= hours < 17):\n",
        "        return 'afternoon'\n",
        "    elif (17 <= hours < 21):\n",
        "        return 'evening'\n",
        "    else:\n",
        "        return 'night'"
      ]
    },
    {
      "cell_type": "markdown",
      "metadata": {
        "id": "ifplBp2fZekF"
      },
      "source": [
        "\n",
        "\n",
        "1.   hours = td.total_seconds() / 3600 menghitung jumlah jam dari parameter td (yang adalah tipe data timedelta).\n",
        "2.  Fungsi ini menggunakan kondisi if-elif-else untuk mengkategorikan waktu berdasarkan jumlah jam:\n",
        "* Jika jam antara 5 dan kurang dari 12, fungsi akan mengembalikan string 'morning'.\n",
        "* Jika jam antara 12 dan kurang dari 17, fungsi akan mengembalikan string 'afternoon'.\n",
        "* Jika jam antara 17 dan kurang dari 21, fungsi akan mengembalikan string 'evening'.\n",
        "* Jika tidak masuk ke kategori di atas, fungsi akan mengembalikan string 'night'.\n",
        "\n",
        "Fungsi ini berguna untuk mengkategorikan waktu publikasi suatu konten menjadi \"pagi\", \"siang\", \"sore\", atau \"malam\" berdasarkan jam publikasinya. Hal ini dapat membantu dalam analisis tren konten yang dipublikasikan pada waktu-waktu tertentu dalam sehari.\n",
        "\n"
      ]
    },
    {
      "cell_type": "code",
      "execution_count": null,
      "metadata": {
        "colab": {
          "base_uri": "https://localhost:8080/",
          "height": 313
        },
        "id": "KtGN5TBw5qJx",
        "outputId": "93c4fc6f-7821-41a4-90f2-fe4104385f25",
        "ExecuteTime": {
          "end_time": "2024-08-10T05:48:43.183741300Z",
          "start_time": "2024-08-10T05:48:42.872675400Z"
        }
      },
      "outputs": [
        {
          "data": {
            "text/plain": "  trending_date  category_id    publish_time    views  likes  dislikes  \\\n0    2017-11-14            1 0 days 12:20:39  1096327  33966       798   \n1    2017-11-14           25 0 days 05:43:56   590101    735       904   \n2    2017-11-14           24 0 days 15:48:08   473988   2011       243   \n3    2017-11-14           23 0 days 07:08:48  1242680  70353      1624   \n4    2017-11-14           24 0 days 01:14:16   464015    492       293   \n\n   comment_count  comments_disabled  ratings_disabled  video_error_or_removed  \\\n0            882              False             False                   False   \n1              0               True             False                   False   \n2            149              False             False                   False   \n3           2684              False             False                   False   \n4             66              False             False                   False   \n\n   No_tags  desc_len  len_title publish_date time_of_day  \n0       15       920         81   2017-11-12   afternoon  \n1       19      2232         58   2017-11-13     morning  \n2       14       482         58   2017-11-12   afternoon  \n3       20       263         30   2017-11-12     morning  \n4       11       753         88   2017-11-13       night  ",
            "text/html": "<div>\n<style scoped>\n    .dataframe tbody tr th:only-of-type {\n        vertical-align: middle;\n    }\n\n    .dataframe tbody tr th {\n        vertical-align: top;\n    }\n\n    .dataframe thead th {\n        text-align: right;\n    }\n</style>\n<table border=\"1\" class=\"dataframe\">\n  <thead>\n    <tr style=\"text-align: right;\">\n      <th></th>\n      <th>trending_date</th>\n      <th>category_id</th>\n      <th>publish_time</th>\n      <th>views</th>\n      <th>likes</th>\n      <th>dislikes</th>\n      <th>comment_count</th>\n      <th>comments_disabled</th>\n      <th>ratings_disabled</th>\n      <th>video_error_or_removed</th>\n      <th>No_tags</th>\n      <th>desc_len</th>\n      <th>len_title</th>\n      <th>publish_date</th>\n      <th>time_of_day</th>\n    </tr>\n  </thead>\n  <tbody>\n    <tr>\n      <th>0</th>\n      <td>2017-11-14</td>\n      <td>1</td>\n      <td>0 days 12:20:39</td>\n      <td>1096327</td>\n      <td>33966</td>\n      <td>798</td>\n      <td>882</td>\n      <td>False</td>\n      <td>False</td>\n      <td>False</td>\n      <td>15</td>\n      <td>920</td>\n      <td>81</td>\n      <td>2017-11-12</td>\n      <td>afternoon</td>\n    </tr>\n    <tr>\n      <th>1</th>\n      <td>2017-11-14</td>\n      <td>25</td>\n      <td>0 days 05:43:56</td>\n      <td>590101</td>\n      <td>735</td>\n      <td>904</td>\n      <td>0</td>\n      <td>True</td>\n      <td>False</td>\n      <td>False</td>\n      <td>19</td>\n      <td>2232</td>\n      <td>58</td>\n      <td>2017-11-13</td>\n      <td>morning</td>\n    </tr>\n    <tr>\n      <th>2</th>\n      <td>2017-11-14</td>\n      <td>24</td>\n      <td>0 days 15:48:08</td>\n      <td>473988</td>\n      <td>2011</td>\n      <td>243</td>\n      <td>149</td>\n      <td>False</td>\n      <td>False</td>\n      <td>False</td>\n      <td>14</td>\n      <td>482</td>\n      <td>58</td>\n      <td>2017-11-12</td>\n      <td>afternoon</td>\n    </tr>\n    <tr>\n      <th>3</th>\n      <td>2017-11-14</td>\n      <td>23</td>\n      <td>0 days 07:08:48</td>\n      <td>1242680</td>\n      <td>70353</td>\n      <td>1624</td>\n      <td>2684</td>\n      <td>False</td>\n      <td>False</td>\n      <td>False</td>\n      <td>20</td>\n      <td>263</td>\n      <td>30</td>\n      <td>2017-11-12</td>\n      <td>morning</td>\n    </tr>\n    <tr>\n      <th>4</th>\n      <td>2017-11-14</td>\n      <td>24</td>\n      <td>0 days 01:14:16</td>\n      <td>464015</td>\n      <td>492</td>\n      <td>293</td>\n      <td>66</td>\n      <td>False</td>\n      <td>False</td>\n      <td>False</td>\n      <td>11</td>\n      <td>753</td>\n      <td>88</td>\n      <td>2017-11-13</td>\n      <td>night</td>\n    </tr>\n  </tbody>\n</table>\n</div>"
          },
          "execution_count": 10,
          "metadata": {},
          "output_type": "execute_result"
        }
      ],
      "source": [
        "raw_data['time_of_day'] = raw_data['publish_time'].apply(categorize_time)\n",
        "\n",
        "raw_data.head()"
      ]
    },
    {
      "cell_type": "markdown",
      "metadata": {
        "id": "tTIXLYdDXXcX"
      },
      "source": [
        "Menambahkan kolom baru 'time_of_day' ke dataset raw_data, yang mengkategorikan waktu publikasi video menjadi \"morning\", \"afternoon, \"evening\", atau \"night\" berdasarkan jam publikasinya."
      ]
    },
    {
      "cell_type": "markdown",
      "metadata": {
        "id": "o0aR4sr86nvm"
      },
      "source": [
        "# Feature Selection\n",
        "Mengidentifikasi fitur-fitur paling relevan yang dapat membantu dalam memahami karakteristik dan tren video pada dataset ini. Fitur-fitur ini dapat mewakili karakteristik video, seperti popularitas (views, likes, dislikes), interaksi pengguna (comment_count, comments_disabled, ratings_disabled), dan informasi teknis (video_error_or_removed, No_tags, desc_len, len_title)."
      ]
    },
    {
      "cell_type": "code",
      "execution_count": null,
      "metadata": {
        "colab": {
          "base_uri": "https://localhost:8080/",
          "height": 206
        },
        "id": "lU71CUw56nYO",
        "outputId": "91483906-ccfc-4d32-87f0-2cbbd79e9609",
        "ExecuteTime": {
          "end_time": "2024-08-10T05:48:43.401156Z",
          "start_time": "2024-08-10T05:48:43.003710100Z"
        }
      },
      "outputs": [
        {
          "data": {
            "text/plain": "     views  likes  dislikes  comment_count  comments_disabled  \\\n0  1096327  33966       798            882              False   \n1   590101    735       904              0               True   \n2   473988   2011       243            149              False   \n3  1242680  70353      1624           2684              False   \n4   464015    492       293             66              False   \n\n   ratings_disabled  video_error_or_removed  No_tags  desc_len  len_title  \\\n0             False                   False       15       920         81   \n1             False                   False       19      2232         58   \n2             False                   False       14       482         58   \n3             False                   False       20       263         30   \n4             False                   False       11       753         88   \n\n  time_of_day  \n0   afternoon  \n1     morning  \n2   afternoon  \n3     morning  \n4       night  ",
            "text/html": "<div>\n<style scoped>\n    .dataframe tbody tr th:only-of-type {\n        vertical-align: middle;\n    }\n\n    .dataframe tbody tr th {\n        vertical-align: top;\n    }\n\n    .dataframe thead th {\n        text-align: right;\n    }\n</style>\n<table border=\"1\" class=\"dataframe\">\n  <thead>\n    <tr style=\"text-align: right;\">\n      <th></th>\n      <th>views</th>\n      <th>likes</th>\n      <th>dislikes</th>\n      <th>comment_count</th>\n      <th>comments_disabled</th>\n      <th>ratings_disabled</th>\n      <th>video_error_or_removed</th>\n      <th>No_tags</th>\n      <th>desc_len</th>\n      <th>len_title</th>\n      <th>time_of_day</th>\n    </tr>\n  </thead>\n  <tbody>\n    <tr>\n      <th>0</th>\n      <td>1096327</td>\n      <td>33966</td>\n      <td>798</td>\n      <td>882</td>\n      <td>False</td>\n      <td>False</td>\n      <td>False</td>\n      <td>15</td>\n      <td>920</td>\n      <td>81</td>\n      <td>afternoon</td>\n    </tr>\n    <tr>\n      <th>1</th>\n      <td>590101</td>\n      <td>735</td>\n      <td>904</td>\n      <td>0</td>\n      <td>True</td>\n      <td>False</td>\n      <td>False</td>\n      <td>19</td>\n      <td>2232</td>\n      <td>58</td>\n      <td>morning</td>\n    </tr>\n    <tr>\n      <th>2</th>\n      <td>473988</td>\n      <td>2011</td>\n      <td>243</td>\n      <td>149</td>\n      <td>False</td>\n      <td>False</td>\n      <td>False</td>\n      <td>14</td>\n      <td>482</td>\n      <td>58</td>\n      <td>afternoon</td>\n    </tr>\n    <tr>\n      <th>3</th>\n      <td>1242680</td>\n      <td>70353</td>\n      <td>1624</td>\n      <td>2684</td>\n      <td>False</td>\n      <td>False</td>\n      <td>False</td>\n      <td>20</td>\n      <td>263</td>\n      <td>30</td>\n      <td>morning</td>\n    </tr>\n    <tr>\n      <th>4</th>\n      <td>464015</td>\n      <td>492</td>\n      <td>293</td>\n      <td>66</td>\n      <td>False</td>\n      <td>False</td>\n      <td>False</td>\n      <td>11</td>\n      <td>753</td>\n      <td>88</td>\n      <td>night</td>\n    </tr>\n  </tbody>\n</table>\n</div>"
          },
          "execution_count": 11,
          "metadata": {},
          "output_type": "execute_result"
        }
      ],
      "source": [
        "raw_data = raw_data.drop(columns = ['trending_date', 'category_id', 'publish_time', 'publish_date'])\n",
        "\n",
        "raw_data.head()"
      ]
    },
    {
      "cell_type": "markdown",
      "metadata": {
        "id": "3XKoqUrUXb4t"
      },
      "source": [
        "Menyederhanakan dataset dengan hanya mempertahankan kolom-kolom yang relevan untuk analisis lebih lanjut, seperti metrik terkait video **(views, likes, dislikes, dll.)**, informasi tentang video **(No_tags, desc_len, len_title)**, dan kategori waktu publikasi** (time_of_day)**."
      ]
    },
    {
      "cell_type": "markdown",
      "metadata": {
        "id": "ctk6jbIv_fV7"
      },
      "source": [
        "#Encoding"
      ]
    },
    {
      "cell_type": "code",
      "execution_count": null,
      "metadata": {
        "id": "evHr7d97_e4j",
        "ExecuteTime": {
          "end_time": "2024-08-10T05:48:43.405204600Z",
          "start_time": "2024-08-10T05:48:43.040610800Z"
        }
      },
      "outputs": [],
      "source": [
        "col_encode = ['comments_disabled', 'ratings_disabled', 'video_error_or_removed']\n",
        "\n",
        "map_boolean = {\n",
        "    False : 0,\n",
        "    True : 1\n",
        "}\n",
        "\n",
        "for col_enc in col_encode:\n",
        "    raw_data[col_enc] = raw_data[col_enc].map(map_boolean)"
      ]
    },
    {
      "cell_type": "markdown",
      "metadata": {
        "id": "-ZXylmnYfxeq"
      },
      "source": [
        "1. **col_encode = ['comments_disabled', 'ratings_disabled', 'video_error_or_removed']:**\n",
        "\n",
        "    * menentukan kolom-kolom yang akan di-encode menggunakan One-Hot Encoding.\n",
        "2. **map_boolean = { 'False': 0, 'True': 1 }**:\n",
        "    * mendefinisikan sebuah pemetaan (dictionary) untuk mengubah nilai boolean 'False' menjadi 0 dan 'True' menjadi 1.\n",
        "3. **for col_enc in col_encode:**\n",
        "    * merupakan loop yang akan berjalan untuk setiap kolom yang terdapat dalam col_encode.\n",
        "4. raw_data[col_enc] = raw_data[col_enc].map(map_boolean):\n",
        "    * pemetakan menggunakan map_boolean dictionary pada setiap kolom yang terdapat dalam col_encode.\n",
        "yang akan mengubah nilai boolean pada kolom-kolom tersebut menjadi nilai numerik 0 dan 1.\n",
        "\n",
        "Secara singkat, kode ini melakukan One-Hot Encoding pada kolom-kolom tertentu untuk mengubah data kategorikal menjadi format numerikal."
      ]
    },
    {
      "cell_type": "code",
      "execution_count": null,
      "metadata": {
        "colab": {
          "base_uri": "https://localhost:8080/",
          "height": 206
        },
        "id": "Y6AF0F_pBXTd",
        "outputId": "e515ceae-5dd5-4cec-ab50-2ddcdaf64159",
        "ExecuteTime": {
          "end_time": "2024-08-10T05:48:43.470239600Z",
          "start_time": "2024-08-10T05:48:43.107380900Z"
        }
      },
      "outputs": [
        {
          "data": {
            "text/plain": "     views  likes  dislikes  comment_count  comments_disabled  \\\n0  1096327  33966       798            882                  0   \n1   590101    735       904              0                  1   \n2   473988   2011       243            149                  0   \n3  1242680  70353      1624           2684                  0   \n4   464015    492       293             66                  0   \n\n   ratings_disabled  video_error_or_removed  No_tags  desc_len  len_title  \\\n0                 0                       0       15       920         81   \n1                 0                       0       19      2232         58   \n2                 0                       0       14       482         58   \n3                 0                       0       20       263         30   \n4                 0                       0       11       753         88   \n\n   time_of_day  \n0            0  \n1            2  \n2            0  \n3            2  \n4            3  ",
            "text/html": "<div>\n<style scoped>\n    .dataframe tbody tr th:only-of-type {\n        vertical-align: middle;\n    }\n\n    .dataframe tbody tr th {\n        vertical-align: top;\n    }\n\n    .dataframe thead th {\n        text-align: right;\n    }\n</style>\n<table border=\"1\" class=\"dataframe\">\n  <thead>\n    <tr style=\"text-align: right;\">\n      <th></th>\n      <th>views</th>\n      <th>likes</th>\n      <th>dislikes</th>\n      <th>comment_count</th>\n      <th>comments_disabled</th>\n      <th>ratings_disabled</th>\n      <th>video_error_or_removed</th>\n      <th>No_tags</th>\n      <th>desc_len</th>\n      <th>len_title</th>\n      <th>time_of_day</th>\n    </tr>\n  </thead>\n  <tbody>\n    <tr>\n      <th>0</th>\n      <td>1096327</td>\n      <td>33966</td>\n      <td>798</td>\n      <td>882</td>\n      <td>0</td>\n      <td>0</td>\n      <td>0</td>\n      <td>15</td>\n      <td>920</td>\n      <td>81</td>\n      <td>0</td>\n    </tr>\n    <tr>\n      <th>1</th>\n      <td>590101</td>\n      <td>735</td>\n      <td>904</td>\n      <td>0</td>\n      <td>1</td>\n      <td>0</td>\n      <td>0</td>\n      <td>19</td>\n      <td>2232</td>\n      <td>58</td>\n      <td>2</td>\n    </tr>\n    <tr>\n      <th>2</th>\n      <td>473988</td>\n      <td>2011</td>\n      <td>243</td>\n      <td>149</td>\n      <td>0</td>\n      <td>0</td>\n      <td>0</td>\n      <td>14</td>\n      <td>482</td>\n      <td>58</td>\n      <td>0</td>\n    </tr>\n    <tr>\n      <th>3</th>\n      <td>1242680</td>\n      <td>70353</td>\n      <td>1624</td>\n      <td>2684</td>\n      <td>0</td>\n      <td>0</td>\n      <td>0</td>\n      <td>20</td>\n      <td>263</td>\n      <td>30</td>\n      <td>2</td>\n    </tr>\n    <tr>\n      <th>4</th>\n      <td>464015</td>\n      <td>492</td>\n      <td>293</td>\n      <td>66</td>\n      <td>0</td>\n      <td>0</td>\n      <td>0</td>\n      <td>11</td>\n      <td>753</td>\n      <td>88</td>\n      <td>3</td>\n    </tr>\n  </tbody>\n</table>\n</div>"
          },
          "execution_count": 13,
          "metadata": {},
          "output_type": "execute_result"
        }
      ],
      "source": [
        "from sklearn.preprocessing import LabelEncoder\n",
        "\n",
        "# Inisialisasi LabelEncoder\n",
        "le = LabelEncoder()\n",
        "\n",
        "# Fit dan transform kolom kategorik\n",
        "raw_data['time_of_day'] = le.fit_transform(raw_data['time_of_day'])\n",
        "\n",
        "# Tampilkan\n",
        "raw_data.head()"
      ]
    },
    {
      "cell_type": "markdown",
      "metadata": {
        "id": "S-ZCJcSvfHCT"
      },
      "source": [
        "1. from sklearn.preprocessing import **LabelEncoder**:\n",
        "    * mengimport kelas **LabelEncoder** dari modul **sklearn.preprocessing**.\n",
        "LabelEncoder digunakan untuk mengkodekan fitur kategorikal menjadi nilai numerik.\n",
        "2. Inisialisasi LabelEncoder:\n",
        "    * menginisialisasi objek LabelEncoder dengan perintah **le = LabelEncoder()**.\n",
        "3. Fit dan transform kolom kategorik:\n",
        "    * Baris **raw_data['time_of_day'] = le.fit_transform(raw_data['time_of_day'])** melakukan transformasi pada kolom 'time_of_day' menggunakan LabelEncoder.\n",
        "Transformasi ini akan mengubah nilai kategorikal pada kolom tersebut menjadi nilai numerik.\n",
        "4. Tampilkan:\n",
        "Perintah **raw_data.head()** akan menampilkan beberapa baris awal dari dataset raw_data.\n",
        "\n",
        "Secara singkat, kode ini melakukan Label Encoding pada kolom 'time_of_day' dalam dataset raw_data. Proses ini bertujuan untuk mengubah nilai kategorikal menjadi nilai numerik agar dapat diproses oleh model pembelajaran mesin."
      ]
    },
    {
      "cell_type": "markdown",
      "metadata": {
        "id": "pXepi3gOCqym"
      },
      "source": [
        "# Splitting Data"
      ]
    },
    {
      "cell_type": "code",
      "execution_count": null,
      "metadata": {
        "id": "fjEO2LWWE4II",
        "ExecuteTime": {
          "end_time": "2024-08-10T05:48:43.540885600Z",
          "start_time": "2024-08-10T05:48:43.129433Z"
        }
      },
      "outputs": [],
      "source": [
        "X = raw_data.drop(columns = ['views'])\n",
        "y = raw_data[['views']]"
      ]
    },
    {
      "cell_type": "markdown",
      "metadata": {
        "id": "xiIcXRaccWOD"
      },
      "source": [
        "`X`: DataFrame yang berisi fitur-fitur **(variabel independen)** yang akan digunakan sebagai input ke dalam model. **Kolom 'views' telah dihapus dari X**.\n",
        "\n",
        "`y`: DataFrame yang hanya berisi **kolom target 'views'**, yang merupakan nilai yang ingin diprediksi oleh model."
      ]
    },
    {
      "cell_type": "code",
      "execution_count": null,
      "metadata": {
        "colab": {
          "base_uri": "https://localhost:8080/",
          "height": 423
        },
        "id": "VJ_zXam-FEck",
        "outputId": "d68f552d-24fd-42b4-a794-8b97b1838efa",
        "ExecuteTime": {
          "end_time": "2024-08-10T05:48:43.612549500Z",
          "start_time": "2024-08-10T05:48:43.156069300Z"
        }
      },
      "outputs": [
        {
          "data": {
            "text/plain": "       likes  dislikes  comment_count  comments_disabled  ratings_disabled  \\\n0      33966       798            882                  0                 0   \n1        735       904              0                  1                 0   \n2       2011       243            149                  0                 0   \n3      70353      1624           2684                  0                 0   \n4        492       293             66                  0                 0   \n...      ...       ...            ...                ...               ...   \n36786   3291       404            196                  0                 0   \n36787   1726       478           1428                  0                 0   \n36788   1216       453            697                  0                 0   \n36789    698       115             65                  0                 0   \n36790  22466      1609           1205                  0                 0   \n\n       video_error_or_removed  No_tags  desc_len  len_title  time_of_day  \n0                           0       15       920         81            0  \n1                           0       19      2232         58            2  \n2                           0       14       482         58            0  \n3                           0       20       263         30            2  \n4                           0       11       753         88            3  \n...                       ...      ...       ...        ...          ...  \n36786                       0       19       818        100            2  \n36787                       0        8       468         26            2  \n36788                       0        8      2187         57            2  \n36789                       0       15       432         64            0  \n36790                       0       14      1030         76            3  \n\n[36791 rows x 10 columns]",
            "text/html": "<div>\n<style scoped>\n    .dataframe tbody tr th:only-of-type {\n        vertical-align: middle;\n    }\n\n    .dataframe tbody tr th {\n        vertical-align: top;\n    }\n\n    .dataframe thead th {\n        text-align: right;\n    }\n</style>\n<table border=\"1\" class=\"dataframe\">\n  <thead>\n    <tr style=\"text-align: right;\">\n      <th></th>\n      <th>likes</th>\n      <th>dislikes</th>\n      <th>comment_count</th>\n      <th>comments_disabled</th>\n      <th>ratings_disabled</th>\n      <th>video_error_or_removed</th>\n      <th>No_tags</th>\n      <th>desc_len</th>\n      <th>len_title</th>\n      <th>time_of_day</th>\n    </tr>\n  </thead>\n  <tbody>\n    <tr>\n      <th>0</th>\n      <td>33966</td>\n      <td>798</td>\n      <td>882</td>\n      <td>0</td>\n      <td>0</td>\n      <td>0</td>\n      <td>15</td>\n      <td>920</td>\n      <td>81</td>\n      <td>0</td>\n    </tr>\n    <tr>\n      <th>1</th>\n      <td>735</td>\n      <td>904</td>\n      <td>0</td>\n      <td>1</td>\n      <td>0</td>\n      <td>0</td>\n      <td>19</td>\n      <td>2232</td>\n      <td>58</td>\n      <td>2</td>\n    </tr>\n    <tr>\n      <th>2</th>\n      <td>2011</td>\n      <td>243</td>\n      <td>149</td>\n      <td>0</td>\n      <td>0</td>\n      <td>0</td>\n      <td>14</td>\n      <td>482</td>\n      <td>58</td>\n      <td>0</td>\n    </tr>\n    <tr>\n      <th>3</th>\n      <td>70353</td>\n      <td>1624</td>\n      <td>2684</td>\n      <td>0</td>\n      <td>0</td>\n      <td>0</td>\n      <td>20</td>\n      <td>263</td>\n      <td>30</td>\n      <td>2</td>\n    </tr>\n    <tr>\n      <th>4</th>\n      <td>492</td>\n      <td>293</td>\n      <td>66</td>\n      <td>0</td>\n      <td>0</td>\n      <td>0</td>\n      <td>11</td>\n      <td>753</td>\n      <td>88</td>\n      <td>3</td>\n    </tr>\n    <tr>\n      <th>...</th>\n      <td>...</td>\n      <td>...</td>\n      <td>...</td>\n      <td>...</td>\n      <td>...</td>\n      <td>...</td>\n      <td>...</td>\n      <td>...</td>\n      <td>...</td>\n      <td>...</td>\n    </tr>\n    <tr>\n      <th>36786</th>\n      <td>3291</td>\n      <td>404</td>\n      <td>196</td>\n      <td>0</td>\n      <td>0</td>\n      <td>0</td>\n      <td>19</td>\n      <td>818</td>\n      <td>100</td>\n      <td>2</td>\n    </tr>\n    <tr>\n      <th>36787</th>\n      <td>1726</td>\n      <td>478</td>\n      <td>1428</td>\n      <td>0</td>\n      <td>0</td>\n      <td>0</td>\n      <td>8</td>\n      <td>468</td>\n      <td>26</td>\n      <td>2</td>\n    </tr>\n    <tr>\n      <th>36788</th>\n      <td>1216</td>\n      <td>453</td>\n      <td>697</td>\n      <td>0</td>\n      <td>0</td>\n      <td>0</td>\n      <td>8</td>\n      <td>2187</td>\n      <td>57</td>\n      <td>2</td>\n    </tr>\n    <tr>\n      <th>36789</th>\n      <td>698</td>\n      <td>115</td>\n      <td>65</td>\n      <td>0</td>\n      <td>0</td>\n      <td>0</td>\n      <td>15</td>\n      <td>432</td>\n      <td>64</td>\n      <td>0</td>\n    </tr>\n    <tr>\n      <th>36790</th>\n      <td>22466</td>\n      <td>1609</td>\n      <td>1205</td>\n      <td>0</td>\n      <td>0</td>\n      <td>0</td>\n      <td>14</td>\n      <td>1030</td>\n      <td>76</td>\n      <td>3</td>\n    </tr>\n  </tbody>\n</table>\n<p>36791 rows × 10 columns</p>\n</div>"
          },
          "execution_count": 15,
          "metadata": {},
          "output_type": "execute_result"
        }
      ],
      "source": [
        "X"
      ]
    },
    {
      "cell_type": "markdown",
      "metadata": {
        "id": "zT4rNZSBeYri"
      },
      "source": [
        "Untuk menampilkan Nilai X yang tidak memiliki kolom views"
      ]
    },
    {
      "cell_type": "markdown",
      "metadata": {
        "id": "TZg96JFZjNoy"
      },
      "source": [
        "Setiap kolom dalam DataFrame X mewakili fitur yang digunakan untuk memprediksi views:\n",
        "\n",
        "1. likes: Jumlah likes yang diterima oleh video.\n",
        "2. dislikes: Jumlah dislikes yang diterima oleh video.\n",
        "3. comment_count: Jumlah komentar yang diterima oleh video.\n",
        "4. comments_disabled: Status apakah komentar pada video dinonaktifkan (0 berarti tidak dinonaktifkan, 1 berarti dinonaktifkan).\n",
        "5. ratings_disabled: Status apakah rating pada video dinonaktifkan (0 berarti tidak dinonaktifkan, 1 berarti dinonaktifkan).\n",
        "6. video_error_or_removed: Status apakah video memiliki error atau dihapus (0 berarti tidak, 1 berarti ya).\n",
        "7. No_tags: Jumlah tag yang digunakan dalam video.\n",
        "8. desc_len: Panjang deskripsi video dalam jumlah karakter.\n",
        "9. len_title: Panjang judul video dalam jumlah karakter.\n",
        "10. time_of_day: Waktu dalam hari saat video diunggah (dinyatakan dalam bilangan bulat yang mewakili jam)."
      ]
    },
    {
      "cell_type": "code",
      "execution_count": null,
      "metadata": {
        "colab": {
          "base_uri": "https://localhost:8080/",
          "height": 423
        },
        "id": "DNmNMpJ6FGe4",
        "outputId": "fec4c8bc-6c19-4f86-f0ff-7eea785b5c80",
        "ExecuteTime": {
          "end_time": "2024-08-10T05:48:43.678705200Z",
          "start_time": "2024-08-10T05:48:43.219389800Z"
        }
      },
      "outputs": [
        {
          "data": {
            "text/plain": "         views\n0      1096327\n1       590101\n2       473988\n3      1242680\n4       464015\n...        ...\n36786   214378\n36787   406828\n36788   386319\n36789   130263\n36790  1278249\n\n[36791 rows x 1 columns]",
            "text/html": "<div>\n<style scoped>\n    .dataframe tbody tr th:only-of-type {\n        vertical-align: middle;\n    }\n\n    .dataframe tbody tr th {\n        vertical-align: top;\n    }\n\n    .dataframe thead th {\n        text-align: right;\n    }\n</style>\n<table border=\"1\" class=\"dataframe\">\n  <thead>\n    <tr style=\"text-align: right;\">\n      <th></th>\n      <th>views</th>\n    </tr>\n  </thead>\n  <tbody>\n    <tr>\n      <th>0</th>\n      <td>1096327</td>\n    </tr>\n    <tr>\n      <th>1</th>\n      <td>590101</td>\n    </tr>\n    <tr>\n      <th>2</th>\n      <td>473988</td>\n    </tr>\n    <tr>\n      <th>3</th>\n      <td>1242680</td>\n    </tr>\n    <tr>\n      <th>4</th>\n      <td>464015</td>\n    </tr>\n    <tr>\n      <th>...</th>\n      <td>...</td>\n    </tr>\n    <tr>\n      <th>36786</th>\n      <td>214378</td>\n    </tr>\n    <tr>\n      <th>36787</th>\n      <td>406828</td>\n    </tr>\n    <tr>\n      <th>36788</th>\n      <td>386319</td>\n    </tr>\n    <tr>\n      <th>36789</th>\n      <td>130263</td>\n    </tr>\n    <tr>\n      <th>36790</th>\n      <td>1278249</td>\n    </tr>\n  </tbody>\n</table>\n<p>36791 rows × 1 columns</p>\n</div>"
          },
          "execution_count": 16,
          "metadata": {},
          "output_type": "execute_result"
        }
      ],
      "source": [
        "y"
      ]
    },
    {
      "cell_type": "markdown",
      "metadata": {
        "id": "04b4kynUehb7"
      },
      "source": [
        "Menampilkan kolom y yang berisi kolom views yang sudah dipisah sebelumnya."
      ]
    },
    {
      "cell_type": "markdown",
      "metadata": {
        "id": "aFHFwYmBj3Ua"
      },
      "source": [
        "views: Kolom ini mencatat jumlah penayangan untuk setiap video. Nilai ini akan digunakan sebagai target dalam model prediksi. Model akan dilatih untuk memprediksi nilai views berdasarkan fitur-fitur yang ada di variabel X. DataFrame y hanya memiliki satu kolom yaitu views, yang berisi jumlah penayangan untuk setiap video. Ada total 36791 baris, yang berarti ada 36791 video yang diamati dalam dataset ini."
      ]
    },
    {
      "cell_type": "code",
      "execution_count": null,
      "metadata": {
        "id": "KrakYMmvEnQZ",
        "ExecuteTime": {
          "end_time": "2024-08-10T05:48:43.736380300Z",
          "start_time": "2024-08-10T05:48:43.249512800Z"
        }
      },
      "outputs": [],
      "source": [
        "from sklearn.model_selection import train_test_split\n",
        "\n",
        "# Bagi data menjadi training dan testing set\n",
        "X_train, X_test, y_train, y_test = train_test_split(X, y, test_size=0.3, random_state=42)"
      ]
    },
    {
      "cell_type": "markdown",
      "metadata": {
        "id": "6_Ed7X6udgo-"
      },
      "source": [
        "Melakukan pembagian Data Training dan Testing set yaitu :      \n",
        "1. Test_size = 0.3 yang berarti dari data tersebut akan diambil sekitar 30% dari total data pada `youtube_statistic`\n",
        "2. Training = Maka sisa atau 70% dari data tersebut akan menjadi data training."
      ]
    },
    {
      "cell_type": "code",
      "execution_count": null,
      "metadata": {
        "colab": {
          "base_uri": "https://localhost:8080/"
        },
        "id": "SeJHmKPHFQJ3",
        "outputId": "e0ba9265-b7da-4214-e699-854a3d2dd9fa",
        "ExecuteTime": {
          "end_time": "2024-08-10T05:48:43.738380400Z",
          "start_time": "2024-08-10T05:48:43.276586600Z"
        }
      },
      "outputs": [
        {
          "name": "stdout",
          "output_type": "stream",
          "text": [
            "Total data awal (36791, 11)\n",
            "Jumlah data latih : (25753, 10) dan jumlah data test : (11038, 10)\n"
          ]
        }
      ],
      "source": [
        "print(f'Total data awal {raw_data.shape}')\n",
        "print(f'Jumlah data latih : {X_train.shape} dan jumlah data test : {X_test.shape}')"
      ]
    },
    {
      "cell_type": "markdown",
      "metadata": {
        "id": "NE_to2eActjI"
      },
      "source": [
        "Dari data yang didapatkan Total data awal dari Dataset `youtube_statistic` terdapat **36791 data dan 11 kolom**, yang kita bagi menjadi **menjadi 7 banding 3**\n",
        "\n",
        "dimana 7 merupakan data training : **Jumlah data latih : (25753, 10)** , dan 3 pada data testing : **jumlah data test : (11038, 10)**"
      ]
    },
    {
      "cell_type": "markdown",
      "metadata": {
        "id": "BxdCCR86F7qZ"
      },
      "source": [
        "# Scaling"
      ]
    },
    {
      "cell_type": "code",
      "execution_count": null,
      "metadata": {
        "colab": {
          "base_uri": "https://localhost:8080/",
          "height": 423
        },
        "id": "LwMVfzpnF7aF",
        "outputId": "9e2b898a-7b40-464d-df03-163fc565b73e",
        "ExecuteTime": {
          "end_time": "2024-08-10T05:48:44.165135200Z",
          "start_time": "2024-08-10T05:48:43.292151800Z"
        }
      },
      "outputs": [
        {
          "data": {
            "text/plain": "       likes  dislikes  comment_count  comments_disabled  ratings_disabled  \\\n0       0.00      0.00           0.00               1.00              0.00   \n1       0.00      0.00           0.00               0.00              0.00   \n2       0.01      0.00           0.00               0.00              0.00   \n3       0.01      0.00           0.01               0.00              0.00   \n4       0.00      0.00           0.00               0.00              0.00   \n...      ...       ...            ...                ...               ...   \n25748   0.00      0.00           0.00               0.00              0.00   \n25749   0.00      0.00           0.00               0.00              0.00   \n25750   0.00      0.00           0.00               0.00              0.00   \n25751   0.00      0.00           0.00               0.00              0.00   \n25752   0.00      0.00           0.00               0.00              1.00   \n\n       video_error_or_removed  No_tags  desc_len  len_title  time_of_day  \n0                        0.00     0.00      0.02       0.49         1.00  \n1                        0.00     0.31      0.07       0.87         0.67  \n2                        0.00     0.24      0.16       0.75         0.33  \n3                        0.00     0.42      0.06       0.48         0.33  \n4                        0.00     0.17      0.11       0.77         0.67  \n...                       ...      ...       ...        ...          ...  \n25748                    0.00     0.31      0.06       0.25         0.67  \n25749                    0.00     0.13      0.06       0.31         0.33  \n25750                    0.00     0.24      0.19       0.43         0.00  \n25751                    0.00     0.28      0.22       0.98         0.00  \n25752                    0.00     0.08      0.10       0.85         0.67  \n\n[25753 rows x 10 columns]",
            "text/html": "<div>\n<style scoped>\n    .dataframe tbody tr th:only-of-type {\n        vertical-align: middle;\n    }\n\n    .dataframe tbody tr th {\n        vertical-align: top;\n    }\n\n    .dataframe thead th {\n        text-align: right;\n    }\n</style>\n<table border=\"1\" class=\"dataframe\">\n  <thead>\n    <tr style=\"text-align: right;\">\n      <th></th>\n      <th>likes</th>\n      <th>dislikes</th>\n      <th>comment_count</th>\n      <th>comments_disabled</th>\n      <th>ratings_disabled</th>\n      <th>video_error_or_removed</th>\n      <th>No_tags</th>\n      <th>desc_len</th>\n      <th>len_title</th>\n      <th>time_of_day</th>\n    </tr>\n  </thead>\n  <tbody>\n    <tr>\n      <th>0</th>\n      <td>0.00</td>\n      <td>0.00</td>\n      <td>0.00</td>\n      <td>1.00</td>\n      <td>0.00</td>\n      <td>0.00</td>\n      <td>0.00</td>\n      <td>0.02</td>\n      <td>0.49</td>\n      <td>1.00</td>\n    </tr>\n    <tr>\n      <th>1</th>\n      <td>0.00</td>\n      <td>0.00</td>\n      <td>0.00</td>\n      <td>0.00</td>\n      <td>0.00</td>\n      <td>0.00</td>\n      <td>0.31</td>\n      <td>0.07</td>\n      <td>0.87</td>\n      <td>0.67</td>\n    </tr>\n    <tr>\n      <th>2</th>\n      <td>0.01</td>\n      <td>0.00</td>\n      <td>0.00</td>\n      <td>0.00</td>\n      <td>0.00</td>\n      <td>0.00</td>\n      <td>0.24</td>\n      <td>0.16</td>\n      <td>0.75</td>\n      <td>0.33</td>\n    </tr>\n    <tr>\n      <th>3</th>\n      <td>0.01</td>\n      <td>0.00</td>\n      <td>0.01</td>\n      <td>0.00</td>\n      <td>0.00</td>\n      <td>0.00</td>\n      <td>0.42</td>\n      <td>0.06</td>\n      <td>0.48</td>\n      <td>0.33</td>\n    </tr>\n    <tr>\n      <th>4</th>\n      <td>0.00</td>\n      <td>0.00</td>\n      <td>0.00</td>\n      <td>0.00</td>\n      <td>0.00</td>\n      <td>0.00</td>\n      <td>0.17</td>\n      <td>0.11</td>\n      <td>0.77</td>\n      <td>0.67</td>\n    </tr>\n    <tr>\n      <th>...</th>\n      <td>...</td>\n      <td>...</td>\n      <td>...</td>\n      <td>...</td>\n      <td>...</td>\n      <td>...</td>\n      <td>...</td>\n      <td>...</td>\n      <td>...</td>\n      <td>...</td>\n    </tr>\n    <tr>\n      <th>25748</th>\n      <td>0.00</td>\n      <td>0.00</td>\n      <td>0.00</td>\n      <td>0.00</td>\n      <td>0.00</td>\n      <td>0.00</td>\n      <td>0.31</td>\n      <td>0.06</td>\n      <td>0.25</td>\n      <td>0.67</td>\n    </tr>\n    <tr>\n      <th>25749</th>\n      <td>0.00</td>\n      <td>0.00</td>\n      <td>0.00</td>\n      <td>0.00</td>\n      <td>0.00</td>\n      <td>0.00</td>\n      <td>0.13</td>\n      <td>0.06</td>\n      <td>0.31</td>\n      <td>0.33</td>\n    </tr>\n    <tr>\n      <th>25750</th>\n      <td>0.00</td>\n      <td>0.00</td>\n      <td>0.00</td>\n      <td>0.00</td>\n      <td>0.00</td>\n      <td>0.00</td>\n      <td>0.24</td>\n      <td>0.19</td>\n      <td>0.43</td>\n      <td>0.00</td>\n    </tr>\n    <tr>\n      <th>25751</th>\n      <td>0.00</td>\n      <td>0.00</td>\n      <td>0.00</td>\n      <td>0.00</td>\n      <td>0.00</td>\n      <td>0.00</td>\n      <td>0.28</td>\n      <td>0.22</td>\n      <td>0.98</td>\n      <td>0.00</td>\n    </tr>\n    <tr>\n      <th>25752</th>\n      <td>0.00</td>\n      <td>0.00</td>\n      <td>0.00</td>\n      <td>0.00</td>\n      <td>1.00</td>\n      <td>0.00</td>\n      <td>0.08</td>\n      <td>0.10</td>\n      <td>0.85</td>\n      <td>0.67</td>\n    </tr>\n  </tbody>\n</table>\n<p>25753 rows × 10 columns</p>\n</div>"
          },
          "execution_count": 19,
          "metadata": {},
          "output_type": "execute_result"
        }
      ],
      "source": [
        "from sklearn.preprocessing import MinMaxScaler\n",
        "\n",
        "# Rentang default adalah [0, 1]\n",
        "scaler = MinMaxScaler()\n",
        "\n",
        "# Fit dan transform data\n",
        "scaled_train = scaler.fit_transform(X_train)\n",
        "\n",
        "# Buat DataFrame dari data yang telah diskalakan\n",
        "X_train_scaled = pd.DataFrame(scaled_train, columns=X_train.columns)\n",
        "\n",
        "X_train_scaled"
      ]
    },
    {
      "cell_type": "markdown",
      "metadata": {
        "id": "IG694zQkhX9c"
      },
      "source": [
        "Kode di atas menunjukkan proses normalisasi data menggunakan MinMaxScaler pada set data pelatihan (X_train). Data dalam X_train_scaled menunjukkan bahwa semua fitur telah dinormalisasi ke dalam rentang [0, 1]. Contoh data yang ditampilkan menunjukkan nilai-nilai yang telah dinormalisasi untuk beberapa fitur seperti likes, dislikes, comment_count, dan lainnya.\n",
        "\n",
        "Normalisasi ini penting untuk memastikan bahwa semua fitur berkontribusi secara proporsional dalam model pembelajaran mesin dan tidak ada fitur yang mendominasi karena rentang nilainya yang lebih besar."
      ]
    },
    {
      "cell_type": "code",
      "execution_count": null,
      "metadata": {
        "colab": {
          "base_uri": "https://localhost:8080/",
          "height": 423
        },
        "id": "MruGocaIIDTo",
        "outputId": "d28d8b7b-00dc-46ce-ab31-ef74a5abe9fb",
        "ExecuteTime": {
          "end_time": "2024-08-10T05:48:44.275000700Z",
          "start_time": "2024-08-10T05:48:43.353314600Z"
        }
      },
      "outputs": [
        {
          "data": {
            "text/plain": "       views\n0       0.00\n1       0.00\n2       0.03\n3       0.04\n4       0.00\n...      ...\n25748   0.00\n25749   0.00\n25750   0.00\n25751   0.00\n25752   0.03\n\n[25753 rows x 1 columns]",
            "text/html": "<div>\n<style scoped>\n    .dataframe tbody tr th:only-of-type {\n        vertical-align: middle;\n    }\n\n    .dataframe tbody tr th {\n        vertical-align: top;\n    }\n\n    .dataframe thead th {\n        text-align: right;\n    }\n</style>\n<table border=\"1\" class=\"dataframe\">\n  <thead>\n    <tr style=\"text-align: right;\">\n      <th></th>\n      <th>views</th>\n    </tr>\n  </thead>\n  <tbody>\n    <tr>\n      <th>0</th>\n      <td>0.00</td>\n    </tr>\n    <tr>\n      <th>1</th>\n      <td>0.00</td>\n    </tr>\n    <tr>\n      <th>2</th>\n      <td>0.03</td>\n    </tr>\n    <tr>\n      <th>3</th>\n      <td>0.04</td>\n    </tr>\n    <tr>\n      <th>4</th>\n      <td>0.00</td>\n    </tr>\n    <tr>\n      <th>...</th>\n      <td>...</td>\n    </tr>\n    <tr>\n      <th>25748</th>\n      <td>0.00</td>\n    </tr>\n    <tr>\n      <th>25749</th>\n      <td>0.00</td>\n    </tr>\n    <tr>\n      <th>25750</th>\n      <td>0.00</td>\n    </tr>\n    <tr>\n      <th>25751</th>\n      <td>0.00</td>\n    </tr>\n    <tr>\n      <th>25752</th>\n      <td>0.03</td>\n    </tr>\n  </tbody>\n</table>\n<p>25753 rows × 1 columns</p>\n</div>"
          },
          "execution_count": 20,
          "metadata": {},
          "output_type": "execute_result"
        }
      ],
      "source": [
        "# Fit dan transform data\n",
        "scaled_y_train = scaler.fit_transform(y_train)\n",
        "\n",
        "# Buat DataFrame dari data yang telah diskalakan\n",
        "y_train_scaled = pd.DataFrame(scaled_y_train, columns=y_train.columns)\n",
        "\n",
        "y_train_scaled"
      ]
    },
    {
      "cell_type": "markdown",
      "metadata": {
        "id": "bZdOPkhXim71"
      },
      "source": [
        "**1.Fit dan Transform Data:**\n",
        "\n",
        "\n",
        "scaled_y_train = scaler.fit_transform(y_train):\n",
        "Melakukan fitting scaler pada data target (y_train) dan kemudian mentransformasi data tersebut. Proses fitting menghitung nilai minimum dan maksimum dari y_train, dan transformasi mengubah nilai-nilai tersebut ke dalam rentang [0, 1].\n",
        "\n",
        "**2.Membuat DataFrame Baru:**\n",
        "\n",
        "\n",
        "y_train_scaled = pd.DataFrame(scaled_y_train, columns=y_train.columns):\n",
        "Membuat DataFrame y_train_scaled dari data yang telah diskalakan (scaled_y_train), dengan mempertahankan nama kolom yang sama seperti pada y_train.\n",
        "\n",
        "**3.Hasil Akhir:**\n",
        "\n",
        "\n",
        "Data dalam y_train_scaled menunjukkan bahwa semua nilai target (views) telah dinormalisasi ke dalam rentang [0, 1]. Ini berarti nilai terkecil diubah menjadi 0 dan nilai terbesar diubah menjadi 1, dengan nilai lainnya disesuaikan secara proporsional di antara 0 dan 1."
      ]
    },
    {
      "cell_type": "code",
      "execution_count": null,
      "metadata": {
        "colab": {
          "base_uri": "https://localhost:8080/",
          "height": 423
        },
        "id": "benuJJNTKIk7",
        "outputId": "50fa02e9-e265-4038-9ccb-e3afe1d2f841",
        "ExecuteTime": {
          "end_time": "2024-08-10T05:48:44.344289500Z",
          "start_time": "2024-08-10T05:48:43.388492400Z"
        }
      },
      "outputs": [
        {
          "data": {
            "text/plain": "       likes  dislikes  comment_count  comments_disabled  ratings_disabled  \\\n0       0.00      0.00           0.00               0.00              0.00   \n1       0.00      0.00           0.00               0.00              0.00   \n2       0.00      0.00           0.00               0.00              0.00   \n3       0.00      0.00           0.00               0.00              0.00   \n4       0.00      0.00           0.00               0.00              0.00   \n...      ...       ...            ...                ...               ...   \n11033   0.00      0.00           0.00               0.00              0.00   \n11034   0.01      0.00           0.00               0.00              0.00   \n11035   0.00      0.00           0.00               0.00              0.00   \n11036   0.00      0.00           0.00               0.00              0.00   \n11037   0.00      0.00           0.00               1.00              0.00   \n\n       video_error_or_removed  No_tags  desc_len  len_title  time_of_day  \n0                        0.00     0.30      0.20       0.94         0.67  \n1                        0.00     0.10      0.02       0.83         0.33  \n2                        0.00     0.08      0.06       0.67         0.00  \n3                        0.00     0.25      0.33       0.94         1.00  \n4                        0.00     0.27      0.21       1.00         0.67  \n...                       ...      ...       ...        ...          ...  \n11033                    0.00     0.24      0.31       0.53         0.00  \n11034                    0.00     0.27      0.59       0.12         0.33  \n11035                    0.00     0.30      0.49       0.98         1.00  \n11036                    0.00     0.15      0.07       0.27         0.33  \n11037                    0.00     0.13      0.09       0.69         0.33  \n\n[11038 rows x 10 columns]",
            "text/html": "<div>\n<style scoped>\n    .dataframe tbody tr th:only-of-type {\n        vertical-align: middle;\n    }\n\n    .dataframe tbody tr th {\n        vertical-align: top;\n    }\n\n    .dataframe thead th {\n        text-align: right;\n    }\n</style>\n<table border=\"1\" class=\"dataframe\">\n  <thead>\n    <tr style=\"text-align: right;\">\n      <th></th>\n      <th>likes</th>\n      <th>dislikes</th>\n      <th>comment_count</th>\n      <th>comments_disabled</th>\n      <th>ratings_disabled</th>\n      <th>video_error_or_removed</th>\n      <th>No_tags</th>\n      <th>desc_len</th>\n      <th>len_title</th>\n      <th>time_of_day</th>\n    </tr>\n  </thead>\n  <tbody>\n    <tr>\n      <th>0</th>\n      <td>0.00</td>\n      <td>0.00</td>\n      <td>0.00</td>\n      <td>0.00</td>\n      <td>0.00</td>\n      <td>0.00</td>\n      <td>0.30</td>\n      <td>0.20</td>\n      <td>0.94</td>\n      <td>0.67</td>\n    </tr>\n    <tr>\n      <th>1</th>\n      <td>0.00</td>\n      <td>0.00</td>\n      <td>0.00</td>\n      <td>0.00</td>\n      <td>0.00</td>\n      <td>0.00</td>\n      <td>0.10</td>\n      <td>0.02</td>\n      <td>0.83</td>\n      <td>0.33</td>\n    </tr>\n    <tr>\n      <th>2</th>\n      <td>0.00</td>\n      <td>0.00</td>\n      <td>0.00</td>\n      <td>0.00</td>\n      <td>0.00</td>\n      <td>0.00</td>\n      <td>0.08</td>\n      <td>0.06</td>\n      <td>0.67</td>\n      <td>0.00</td>\n    </tr>\n    <tr>\n      <th>3</th>\n      <td>0.00</td>\n      <td>0.00</td>\n      <td>0.00</td>\n      <td>0.00</td>\n      <td>0.00</td>\n      <td>0.00</td>\n      <td>0.25</td>\n      <td>0.33</td>\n      <td>0.94</td>\n      <td>1.00</td>\n    </tr>\n    <tr>\n      <th>4</th>\n      <td>0.00</td>\n      <td>0.00</td>\n      <td>0.00</td>\n      <td>0.00</td>\n      <td>0.00</td>\n      <td>0.00</td>\n      <td>0.27</td>\n      <td>0.21</td>\n      <td>1.00</td>\n      <td>0.67</td>\n    </tr>\n    <tr>\n      <th>...</th>\n      <td>...</td>\n      <td>...</td>\n      <td>...</td>\n      <td>...</td>\n      <td>...</td>\n      <td>...</td>\n      <td>...</td>\n      <td>...</td>\n      <td>...</td>\n      <td>...</td>\n    </tr>\n    <tr>\n      <th>11033</th>\n      <td>0.00</td>\n      <td>0.00</td>\n      <td>0.00</td>\n      <td>0.00</td>\n      <td>0.00</td>\n      <td>0.00</td>\n      <td>0.24</td>\n      <td>0.31</td>\n      <td>0.53</td>\n      <td>0.00</td>\n    </tr>\n    <tr>\n      <th>11034</th>\n      <td>0.01</td>\n      <td>0.00</td>\n      <td>0.00</td>\n      <td>0.00</td>\n      <td>0.00</td>\n      <td>0.00</td>\n      <td>0.27</td>\n      <td>0.59</td>\n      <td>0.12</td>\n      <td>0.33</td>\n    </tr>\n    <tr>\n      <th>11035</th>\n      <td>0.00</td>\n      <td>0.00</td>\n      <td>0.00</td>\n      <td>0.00</td>\n      <td>0.00</td>\n      <td>0.00</td>\n      <td>0.30</td>\n      <td>0.49</td>\n      <td>0.98</td>\n      <td>1.00</td>\n    </tr>\n    <tr>\n      <th>11036</th>\n      <td>0.00</td>\n      <td>0.00</td>\n      <td>0.00</td>\n      <td>0.00</td>\n      <td>0.00</td>\n      <td>0.00</td>\n      <td>0.15</td>\n      <td>0.07</td>\n      <td>0.27</td>\n      <td>0.33</td>\n    </tr>\n    <tr>\n      <th>11037</th>\n      <td>0.00</td>\n      <td>0.00</td>\n      <td>0.00</td>\n      <td>1.00</td>\n      <td>0.00</td>\n      <td>0.00</td>\n      <td>0.13</td>\n      <td>0.09</td>\n      <td>0.69</td>\n      <td>0.33</td>\n    </tr>\n  </tbody>\n</table>\n<p>11038 rows × 10 columns</p>\n</div>"
          },
          "execution_count": 21,
          "metadata": {},
          "output_type": "execute_result"
        }
      ],
      "source": [
        "from sklearn.preprocessing import MinMaxScaler\n",
        "\n",
        "# Rentang default adalah [0, 1]\n",
        "scaler = MinMaxScaler()\n",
        "\n",
        "# Fit dan transform data\n",
        "scaled_test = scaler.fit_transform(X_test)\n",
        "scaled_y_test = scaler.fit_transform(y_test)\n",
        "\n",
        "# Buat DataFrame dari data yang telah diskalakan\n",
        "X_test_scaled = pd.DataFrame(scaled_test, columns=X_test.columns)\n",
        "y_test_scaled = pd.DataFrame(scaled_y_test, columns=y_test.columns)\n",
        "\n",
        "X_test_scaled"
      ]
    },
    {
      "cell_type": "markdown",
      "metadata": {
        "id": "Md-Fze2ckxwr"
      },
      "source": [
        "Penjelasan:\n",
        "\n",
        "- from sklearn.preprocessing import MinMaxScaler untuk mengubah skala data numerik ke rentang yang ditentukan\n",
        "\n",
        "- scaler = MinMaxScaler()\n",
        " MinMaxScaler dibuat dengan rentang default [0, 1].\n",
        "\n",
        "- scaled_test = scaler.fit_transform(X_test)\n",
        "scaled_y_test = scaler.fit_transform(y_test)\n",
        "digunakan untuk menyesuaikan skala dengan data dan kemudian mentransformasi data tersebut. Dalam hal ini, X_test dan y_test adalah dataset yang akan diskalakan.\n",
        "\n",
        "\n",
        "- X_test_scaled = pd.DataFrame(scaled_test, columns=X_test.columns)\n",
        "y_test_scaled = pd.DataFrame(scaled_y_test, columns=y_test.columns)\n",
        "Setelah data diskalakan, hasilnya dikonversi kembali menjadi DataFrame Pandas dengan kolom yang sama seperti dataset asli.\n",
        "\n",
        "- X_test_scaled\n",
        "Menampilkan DataFrame X_test_scaled yang berisi data X_test yang sudah diskalakan."
      ]
    },
    {
      "cell_type": "code",
      "execution_count": null,
      "metadata": {
        "id": "KsNBCVH8S-Xk",
        "ExecuteTime": {
          "end_time": "2024-08-10T05:48:44.347296400Z",
          "start_time": "2024-08-10T05:48:43.417737400Z"
        }
      },
      "outputs": [],
      "source": [
        "# Ubah y value menjadi 1 dimensi\n",
        "y_train_scaled = y_train_scaled.to_numpy().ravel()\n",
        "y_test_scaled = y_test_scaled.to_numpy().ravel()"
      ]
    },
    {
      "cell_type": "markdown",
      "metadata": {
        "id": "Kz8_k6D-nkmN"
      },
      "source": [
        "Mengubah nilai y yang tadinya 2 dimensi menjadi 1 dimensi."
      ]
    },
    {
      "cell_type": "code",
      "execution_count": null,
      "metadata": {
        "id": "bkp0nUkDS-Xk",
        "outputId": "054bc170-316f-4a11-992e-0b2a36e63da4",
        "ExecuteTime": {
          "end_time": "2024-08-10T05:48:44.415596500Z",
          "start_time": "2024-08-10T05:48:43.440539400Z"
        }
      },
      "outputs": [
        {
          "name": "stdout",
          "output_type": "stream",
          "text": [
            "(25753, 10)\n",
            "(11038, 10)\n",
            "(25753,)\n",
            "(11038,)\n"
          ]
        }
      ],
      "source": [
        "print(X_train_scaled.shape)\n",
        "print(X_test_scaled.shape)\n",
        "print(y_train_scaled.shape)\n",
        "print(y_test_scaled.shape)\n"
      ]
    },
    {
      "cell_type": "markdown",
      "metadata": {
        "collapsed": false,
        "id": "q2OeJeD-S-Xl"
      },
      "source": [
        "# Modeling"
      ]
    },
    {
      "cell_type": "code",
      "execution_count": null,
      "metadata": {
        "id": "aHRgvYTCS-Xl",
        "outputId": "445aead0-5bb8-4f19-bb51-1f4aa61847ec",
        "ExecuteTime": {
          "end_time": "2024-08-10T05:57:18.325390700Z",
          "start_time": "2024-08-10T05:48:43.502429100Z"
        }
      },
      "outputs": [
        {
          "name": "stderr",
          "output_type": "stream",
          "text": [
            "100%|██████████| 42/42 [08:34<00:00, 12.25s/it]\n"
          ]
        },
        {
          "data": {
            "text/plain": "                               Adjusted R-Squared      R-Squared    RMSE  \\\nModel                                                                      \nExtraTreesRegressor                          0.97           0.97    0.00   \nRandomForestRegressor                        0.95           0.95    0.01   \nXGBRegressor                                 0.95           0.95    0.01   \nBaggingRegressor                             0.94           0.94    0.01   \nDecisionTreeRegressor                        0.90           0.91    0.01   \nGradientBoostingRegressor                    0.89           0.89    0.01   \nKNeighborsRegressor                          0.89           0.89    0.01   \nNuSVR                                        0.89           0.89    0.01   \nLGBMRegressor                                0.88           0.88    0.01   \nExtraTreeRegressor                           0.87           0.87    0.01   \nHistGradientBoostingRegressor                0.86           0.86    0.01   \nElasticNetCV                                 0.76           0.76    0.01   \nLassoCV                                      0.76           0.76    0.01   \nRidgeCV                                      0.76           0.76    0.01   \nBayesianRidge                                0.76           0.76    0.01   \nRidge                                        0.76           0.76    0.01   \nLassoLarsCV                                  0.76           0.76    0.01   \nLassoLarsIC                                  0.76           0.76    0.01   \nLarsCV                                       0.76           0.76    0.01   \nLars                                         0.76           0.76    0.01   \nTransformedTargetRegressor                   0.76           0.76    0.01   \nLinearRegression                             0.76           0.76    0.01   \nOrthogonalMatchingPursuitCV                  0.75           0.76    0.01   \nAdaBoostRegressor                            0.75           0.75    0.01   \nOrthogonalMatchingPursuit                    0.71           0.71    0.01   \nTweedieRegressor                             0.64           0.64    0.02   \nHuberRegressor                               0.62           0.62    0.02   \nMLPRegressor                                 0.18           0.18    0.02   \nPoissonRegressor                             0.07           0.07    0.03   \nLinearSVR                                    0.06           0.06    0.03   \nDummyRegressor                              -0.00          -0.00    0.03   \nLassoLars                                   -0.00          -0.00    0.03   \nElasticNet                                  -0.00          -0.00    0.03   \nLasso                                       -0.00          -0.00    0.03   \nRANSACRegressor                             -0.63          -0.63    0.03   \nPassiveAggressiveRegressor                  -4.41          -4.40    0.06   \nSVR                                         -5.92          -5.91    0.07   \nSGDRegressor                       -6144578114.51 -6139010860.62 2032.34   \n\n                               Time Taken  \nModel                                      \nExtraTreesRegressor                 10.81  \nRandomForestRegressor               21.94  \nXGBRegressor                         1.14  \nBaggingRegressor                     2.62  \nDecisionTreeRegressor                0.39  \nGradientBoostingRegressor            5.70  \nKNeighborsRegressor                  2.32  \nNuSVR                              276.28  \nLGBMRegressor                        0.20  \nExtraTreeRegressor                   0.18  \nHistGradientBoostingRegressor        1.28  \nElasticNetCV                         0.51  \nLassoCV                              0.45  \nRidgeCV                              0.05  \nBayesianRidge                        0.07  \nRidge                                0.03  \nLassoLarsCV                          0.17  \nLassoLarsIC                          0.12  \nLarsCV                               0.18  \nLars                                 0.35  \nTransformedTargetRegressor           0.03  \nLinearRegression                     0.07  \nOrthogonalMatchingPursuitCV          0.04  \nAdaBoostRegressor                    1.72  \nOrthogonalMatchingPursuit            0.03  \nTweedieRegressor                     0.03  \nHuberRegressor                       0.39  \nMLPRegressor                         2.18  \nPoissonRegressor                     0.04  \nLinearSVR                            2.98  \nDummyRegressor                       0.07  \nLassoLars                            0.06  \nElasticNet                           0.08  \nLasso                                0.08  \nRANSACRegressor                      0.20  \nPassiveAggressiveRegressor           0.03  \nSVR                                  0.41  \nSGDRegressor                         0.05  ",
            "text/html": "<div>\n<style scoped>\n    .dataframe tbody tr th:only-of-type {\n        vertical-align: middle;\n    }\n\n    .dataframe tbody tr th {\n        vertical-align: top;\n    }\n\n    .dataframe thead th {\n        text-align: right;\n    }\n</style>\n<table border=\"1\" class=\"dataframe\">\n  <thead>\n    <tr style=\"text-align: right;\">\n      <th></th>\n      <th>Adjusted R-Squared</th>\n      <th>R-Squared</th>\n      <th>RMSE</th>\n      <th>Time Taken</th>\n    </tr>\n    <tr>\n      <th>Model</th>\n      <th></th>\n      <th></th>\n      <th></th>\n      <th></th>\n    </tr>\n  </thead>\n  <tbody>\n    <tr>\n      <th>ExtraTreesRegressor</th>\n      <td>0.97</td>\n      <td>0.97</td>\n      <td>0.00</td>\n      <td>10.81</td>\n    </tr>\n    <tr>\n      <th>RandomForestRegressor</th>\n      <td>0.95</td>\n      <td>0.95</td>\n      <td>0.01</td>\n      <td>21.94</td>\n    </tr>\n    <tr>\n      <th>XGBRegressor</th>\n      <td>0.95</td>\n      <td>0.95</td>\n      <td>0.01</td>\n      <td>1.14</td>\n    </tr>\n    <tr>\n      <th>BaggingRegressor</th>\n      <td>0.94</td>\n      <td>0.94</td>\n      <td>0.01</td>\n      <td>2.62</td>\n    </tr>\n    <tr>\n      <th>DecisionTreeRegressor</th>\n      <td>0.90</td>\n      <td>0.91</td>\n      <td>0.01</td>\n      <td>0.39</td>\n    </tr>\n    <tr>\n      <th>GradientBoostingRegressor</th>\n      <td>0.89</td>\n      <td>0.89</td>\n      <td>0.01</td>\n      <td>5.70</td>\n    </tr>\n    <tr>\n      <th>KNeighborsRegressor</th>\n      <td>0.89</td>\n      <td>0.89</td>\n      <td>0.01</td>\n      <td>2.32</td>\n    </tr>\n    <tr>\n      <th>NuSVR</th>\n      <td>0.89</td>\n      <td>0.89</td>\n      <td>0.01</td>\n      <td>276.28</td>\n    </tr>\n    <tr>\n      <th>LGBMRegressor</th>\n      <td>0.88</td>\n      <td>0.88</td>\n      <td>0.01</td>\n      <td>0.20</td>\n    </tr>\n    <tr>\n      <th>ExtraTreeRegressor</th>\n      <td>0.87</td>\n      <td>0.87</td>\n      <td>0.01</td>\n      <td>0.18</td>\n    </tr>\n    <tr>\n      <th>HistGradientBoostingRegressor</th>\n      <td>0.86</td>\n      <td>0.86</td>\n      <td>0.01</td>\n      <td>1.28</td>\n    </tr>\n    <tr>\n      <th>ElasticNetCV</th>\n      <td>0.76</td>\n      <td>0.76</td>\n      <td>0.01</td>\n      <td>0.51</td>\n    </tr>\n    <tr>\n      <th>LassoCV</th>\n      <td>0.76</td>\n      <td>0.76</td>\n      <td>0.01</td>\n      <td>0.45</td>\n    </tr>\n    <tr>\n      <th>RidgeCV</th>\n      <td>0.76</td>\n      <td>0.76</td>\n      <td>0.01</td>\n      <td>0.05</td>\n    </tr>\n    <tr>\n      <th>BayesianRidge</th>\n      <td>0.76</td>\n      <td>0.76</td>\n      <td>0.01</td>\n      <td>0.07</td>\n    </tr>\n    <tr>\n      <th>Ridge</th>\n      <td>0.76</td>\n      <td>0.76</td>\n      <td>0.01</td>\n      <td>0.03</td>\n    </tr>\n    <tr>\n      <th>LassoLarsCV</th>\n      <td>0.76</td>\n      <td>0.76</td>\n      <td>0.01</td>\n      <td>0.17</td>\n    </tr>\n    <tr>\n      <th>LassoLarsIC</th>\n      <td>0.76</td>\n      <td>0.76</td>\n      <td>0.01</td>\n      <td>0.12</td>\n    </tr>\n    <tr>\n      <th>LarsCV</th>\n      <td>0.76</td>\n      <td>0.76</td>\n      <td>0.01</td>\n      <td>0.18</td>\n    </tr>\n    <tr>\n      <th>Lars</th>\n      <td>0.76</td>\n      <td>0.76</td>\n      <td>0.01</td>\n      <td>0.35</td>\n    </tr>\n    <tr>\n      <th>TransformedTargetRegressor</th>\n      <td>0.76</td>\n      <td>0.76</td>\n      <td>0.01</td>\n      <td>0.03</td>\n    </tr>\n    <tr>\n      <th>LinearRegression</th>\n      <td>0.76</td>\n      <td>0.76</td>\n      <td>0.01</td>\n      <td>0.07</td>\n    </tr>\n    <tr>\n      <th>OrthogonalMatchingPursuitCV</th>\n      <td>0.75</td>\n      <td>0.76</td>\n      <td>0.01</td>\n      <td>0.04</td>\n    </tr>\n    <tr>\n      <th>AdaBoostRegressor</th>\n      <td>0.75</td>\n      <td>0.75</td>\n      <td>0.01</td>\n      <td>1.72</td>\n    </tr>\n    <tr>\n      <th>OrthogonalMatchingPursuit</th>\n      <td>0.71</td>\n      <td>0.71</td>\n      <td>0.01</td>\n      <td>0.03</td>\n    </tr>\n    <tr>\n      <th>TweedieRegressor</th>\n      <td>0.64</td>\n      <td>0.64</td>\n      <td>0.02</td>\n      <td>0.03</td>\n    </tr>\n    <tr>\n      <th>HuberRegressor</th>\n      <td>0.62</td>\n      <td>0.62</td>\n      <td>0.02</td>\n      <td>0.39</td>\n    </tr>\n    <tr>\n      <th>MLPRegressor</th>\n      <td>0.18</td>\n      <td>0.18</td>\n      <td>0.02</td>\n      <td>2.18</td>\n    </tr>\n    <tr>\n      <th>PoissonRegressor</th>\n      <td>0.07</td>\n      <td>0.07</td>\n      <td>0.03</td>\n      <td>0.04</td>\n    </tr>\n    <tr>\n      <th>LinearSVR</th>\n      <td>0.06</td>\n      <td>0.06</td>\n      <td>0.03</td>\n      <td>2.98</td>\n    </tr>\n    <tr>\n      <th>DummyRegressor</th>\n      <td>-0.00</td>\n      <td>-0.00</td>\n      <td>0.03</td>\n      <td>0.07</td>\n    </tr>\n    <tr>\n      <th>LassoLars</th>\n      <td>-0.00</td>\n      <td>-0.00</td>\n      <td>0.03</td>\n      <td>0.06</td>\n    </tr>\n    <tr>\n      <th>ElasticNet</th>\n      <td>-0.00</td>\n      <td>-0.00</td>\n      <td>0.03</td>\n      <td>0.08</td>\n    </tr>\n    <tr>\n      <th>Lasso</th>\n      <td>-0.00</td>\n      <td>-0.00</td>\n      <td>0.03</td>\n      <td>0.08</td>\n    </tr>\n    <tr>\n      <th>RANSACRegressor</th>\n      <td>-0.63</td>\n      <td>-0.63</td>\n      <td>0.03</td>\n      <td>0.20</td>\n    </tr>\n    <tr>\n      <th>PassiveAggressiveRegressor</th>\n      <td>-4.41</td>\n      <td>-4.40</td>\n      <td>0.06</td>\n      <td>0.03</td>\n    </tr>\n    <tr>\n      <th>SVR</th>\n      <td>-5.92</td>\n      <td>-5.91</td>\n      <td>0.07</td>\n      <td>0.41</td>\n    </tr>\n    <tr>\n      <th>SGDRegressor</th>\n      <td>-6144578114.51</td>\n      <td>-6139010860.62</td>\n      <td>2032.34</td>\n      <td>0.05</td>\n    </tr>\n  </tbody>\n</table>\n</div>"
          },
          "execution_count": 24,
          "metadata": {},
          "output_type": "execute_result"
        }
      ],
      "source": [
        "# Cari Algoritma regresi terbaik\n",
        "reg = LazyRegressor(verbose=0, custom_metric=None, predictions=True)\n",
        "models, predictions = reg.fit(X_train_scaled, X_test_scaled, y_train_scaled, y_test_scaled)\n",
        "models"
      ]
    },
    {
      "cell_type": "markdown",
      "metadata": {
        "collapsed": false,
        "id": "ibdAOSouS-Xl"
      },
      "source": [
        "**Terbaik Secara Keseluruhan**: ExtraTreesRegressor – Memiliki Adjusted R-Squared dan R-Squared tertinggi, serta RMSE terendah.\n",
        "\n",
        "**Peringkat Kedua**: RandomForestRegressor – Performa mendekati ExtraTreesRegressor tetapi memerlukan waktu lebih lama untuk dijalankan.\n",
        "\n",
        "**Performa Cepat yang Baik**: XGBRegressor – Metrik yang sebanding tetapi waktu eksekusi secara signifikan lebih cepat.\n",
        "\n",
        "ExtraTreesRegressor umumnya dianggap sebagai model terbaik berdasarkan hasil ini, menyeimbangkan performa dan waktu komputasi."
      ]
    },
    {
      "cell_type": "code",
      "execution_count": null,
      "metadata": {
        "colab": {
          "base_uri": "https://localhost:8080/",
          "height": 211
        },
        "id": "Td9Y6GVeS-Xl",
        "outputId": "3bbdf153-e8e5-4167-f6e0-2a720bcee76b",
        "ExecuteTime": {
          "end_time": "2024-08-10T06:07:08.252843700Z",
          "start_time": "2024-08-10T06:00:01.269415300Z"
        }
      },
      "outputs": [
        {
          "data": {
            "text/plain": "{'criterion': 'squared_error', 'max_depth': None, 'min_samples_split': 2}"
          },
          "execution_count": 26,
          "metadata": {},
          "output_type": "execute_result"
        }
      ],
      "source": [
        "from sklearn.ensemble import ExtraTreesRegressor\n",
        "from sklearn.model_selection import GridSearchCV, KFold\n",
        "\n",
        "extraTreeRegressor = ExtraTreesRegressor()\n",
        "cv = KFold(random_state=123, shuffle=True)\n",
        "param_grid = {'criterion': ['squared_error', 'friedman_mse'],\n",
        "              'min_samples_split': [2, 5, 10, 15, 20, 25],\n",
        "              'max_depth' : [5, 10, 15, None]}\n",
        "clf2 = GridSearchCV(estimator=extraTreeRegressor, param_grid=param_grid, cv=cv)\n",
        "\n",
        "clf2.fit(X_train_scaled, y_train_scaled)\n",
        "clf2.best_params_"
      ]
    },
    {
      "cell_type": "markdown",
      "source": [
        "**ExtraTreesRegressor**: Sebuah model machine learning yang membangun beberapa decision tree dan merata-rata hasil prediksinya untuk meningkatkan akurasi dan mengurangi overfitting.\n",
        "**GridSearchCV**: Ini adalah alat yang melakukan pencarian menyeluruh (grid search) untuk kombinasi hyperparameter terbaik berdasarkan kriteria evaluasi tertentu (misalnya, akurasi, MSE). GridSearchCV mencoba semua kombinasi yang mungkin dari hyperparameter yang diberikan.\n",
        "**KFold**: Ini adalah metode cross-validation yang membagi data menjadi beberapa subset (folds). Model dilatih pada beberapa subset ini dan divalidasi pada subset lain, yang memastikan bahwa model diuji pada berbagai bagian data yang berbeda."
      ],
      "metadata": {
        "collapsed": false,
        "id": "vm4FQlMQJQ_l"
      }
    },
    {
      "cell_type": "markdown",
      "source": [
        "**param_grid**: Ini adalah dictionary yang menentukan hyperparameter yang akan diuji. Setiap hyperparameter memiliki beberapa opsi yang akan dicoba oleh GridSearchCV.\n",
        "criterion: Menentukan fungsi yang digunakan untuk mengukur kualitas split di setiap node pohon.\n",
        "**squared_error**: Mean Squared Error standar, yang menghitung kuadrat dari selisih antara nilai yang diprediksi dan nilai sebenarnya.\n",
        "**friedman_mse**: Variasi dari MSE yang dioptimalkan untuk pohon regresi, dapat memberikan hasil yang lebih baik dalam situasi tertentu.\n",
        "**min_samples_split**: Menentukan jumlah minimum sampel yang diperlukan untuk membagi node internal. Nilai yang lebih besar membuat pohon lebih konservatif, menghindari overfitting.\n",
        "Contoh: min_samples_split=2 berarti node akan dibagi jika ada setidaknya 2 sampel.\n",
        "**max_depth**: Menentukan kedalaman maksimum pohon. Batasan kedalaman pohon membantu mencegah pohon menjadi terlalu kompleks, yang bisa mengakibatkan overfitting.\n",
        "Contoh: max_depth=10 berarti pohon akan dibatasi hingga 10 tingkat."
      ],
      "metadata": {
        "collapsed": false,
        "id": "oV3QC5XTJQ_l"
      }
    },
    {
      "cell_type": "markdown",
      "source": [
        "**clf2.best_params_**: Setelah model dilatih dengan berbagai kombinasi hyperparameter, kode ini akan mengembalikan kombinasi hyperparameter yang memberikan performa terbaik berdasarkan evaluasi cross-validation."
      ],
      "metadata": {
        "collapsed": false,
        "id": "1S5nZOp9JQ_l"
      }
    },
    {
      "cell_type": "markdown",
      "metadata": {
        "id": "IDOZcALHKwfy"
      },
      "source": [
        "# Prediksi"
      ]
    },
    {
      "cell_type": "code",
      "execution_count": null,
      "metadata": {
        "id": "1kapZJHb0MRK",
        "ExecuteTime": {
          "end_time": "2024-08-10T06:37:02.550715700Z",
          "start_time": "2024-08-10T06:36:54.710285800Z"
        },
        "outputId": "f880be8e-4aaf-4e4a-bbdc-0bf4a2d8288b"
      },
      "outputs": [
        {
          "data": {
            "text/plain": "array([0.00261027, 0.00606368, 0.00253015, ..., 0.0045541 , 0.004891  ,\n       0.00465161])"
          },
          "execution_count": 31,
          "metadata": {},
          "output_type": "execute_result"
        }
      ],
      "source": [
        "etr = ExtraTreesRegressor(**clf2.best_params_)\n",
        "etr.fit(X_train_scaled, y_train_scaled)\n",
        "y_pred = etr.predict(X_test_scaled)\n",
        "y_pred"
      ]
    },
    {
      "cell_type": "markdown",
      "source": [
        "Kode dilatih dengan menggunakan hyperparameter clf2.best_param\n",
        "kemudian model diuji ke x_test_scaled untuk mengetahui apakah model sudah akurat atau belum yang akan diuji di kose selanjutnya"
      ],
      "metadata": {
        "collapsed": false,
        "id": "XYgwkZC8JQ_l"
      }
    },
    {
      "cell_type": "markdown",
      "metadata": {
        "id": "4u3VNdhvLJjM"
      },
      "source": [
        "# Evaluasi"
      ]
    },
    {
      "cell_type": "code",
      "execution_count": null,
      "metadata": {
        "colab": {
          "base_uri": "https://localhost:8080/"
        },
        "id": "md8r98VfLKr2",
        "outputId": "6bfd6864-30eb-466f-d6a1-cf6d62f63e17",
        "ExecuteTime": {
          "end_time": "2024-08-10T06:37:02.591273800Z",
          "start_time": "2024-08-10T06:37:02.555104400Z"
        }
      },
      "outputs": [
        {
          "name": "stdout",
          "output_type": "stream",
          "text": [
            "Error MAE = 0.0018160574039167861\n",
            "Error MSE = 2.091150892761421e-05\n",
            "RMSE = 0.004572910334525947\n",
            "R-Squared = 0.9689192049202318\n"
          ]
        }
      ],
      "source": [
        "from sklearn.metrics import mean_absolute_error, mean_squared_error, r2_score\n",
        "\n",
        "MAE = mean_absolute_error(y_test_scaled, y_pred)\n",
        "MSE = mean_squared_error(y_test_scaled, y_pred)\n",
        "RMSE = np.sqrt(mean_squared_error(y_test_scaled, y_pred))\n",
        "R_Squared = r2_score(y_test_scaled, y_pred)\n",
        "\n",
        "print(f'Error MAE = {MAE}')\n",
        "print(f'Error MSE = {MSE}')\n",
        "print(f'RMSE = {RMSE}')\n",
        "print(f'R-Squared = {R_Squared}')"
      ]
    },
    {
      "cell_type": "markdown",
      "source": [
        "**MAE**: Rata-rata dari perbedaan absolut antara nilai aktual (y_test_scaled) dan nilai prediksi (y_pred). MAE memberikan gambaran seberapa jauh prediksi berada dari nilai sebenarnya, tanpa mempertimbangkan arah kesalahan (apakah terlalu tinggi atau terlalu rendah).\n",
        "\n",
        "**MSE**: Rata-rata dari kuadrat perbedaan antara nilai aktual dan nilai prediksi. MSE menekankan kesalahan yang lebih besar karena mengkuadratkan selisih, sehingga model yang menghasilkan prediksi dengan kesalahan besar akan memiliki nilai MSE yang lebih tinggi.\n",
        "\n",
        "**RMSE**: Akar kuadrat dari MSE. RMSE berada dalam satuan yang sama dengan variabel target (dalam kasus ini, data yang telah di-scaled), sehingga lebih mudah diinterpretasikan daripada MSE. RMSE memberikan bobot lebih pada kesalahan besar, mirip dengan MSE, namun lebih mudah diinterpretasikan karena berada dalam skala yang sama dengan data.\n",
        "\n",
        "**R-Squared**: Mengukur proporsi variasi dalam variabel target yang dapat dijelaskan oleh model. Nilai R² berkisar antara 0 dan 1, dengan 1 menunjukkan bahwa model sempurna dalam menjelaskan semua variasi dalam data target, dan 0 menunjukkan bahwa model tidak lebih baik daripada sekadar mengambil rata-rata dari target."
      ],
      "metadata": {
        "collapsed": false,
        "id": "1Gbft-a8JQ_m"
      }
    }
  ],
  "metadata": {
    "colab": {
      "provenance": []
    },
    "kernelspec": {
      "display_name": "Python 3 (ipykernel)",
      "language": "python",
      "name": "python3"
    },
    "language_info": {
      "codemirror_mode": {
        "name": "ipython",
        "version": 3
      },
      "file_extension": ".py",
      "mimetype": "text/x-python",
      "name": "python",
      "nbconvert_exporter": "python",
      "pygments_lexer": "ipython3",
      "version": "3.9.2"
    }
  },
  "nbformat": 4,
  "nbformat_minor": 0
}