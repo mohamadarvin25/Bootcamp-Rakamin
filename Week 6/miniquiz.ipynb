{
 "cells": [
  {
   "cell_type": "code",
   "execution_count": 1,
   "id": "initial_id",
   "metadata": {
    "collapsed": true,
    "ExecuteTime": {
     "end_time": "2024-06-13T23:45:08.592720500Z",
     "start_time": "2024-06-13T23:45:07.775167Z"
    }
   },
   "outputs": [],
   "source": [
    "import pandas as pd"
   ]
  },
  {
   "cell_type": "code",
   "execution_count": 2,
   "outputs": [
    {
     "data": {
      "text/plain": "    order_month   full_name   user_id         phone           city  \\\n119  2019-08-01  Ziad Akbar  10000050  628962212425  Jakarta Timur   \n239  2021-04-01  Ziad Akbar  10000050  628962212425  Jakarta Timur   \n310  2022-03-01  Ziad Akbar  10000050  628962212425  Jakarta Timur   \n79   2019-02-01  Ziad Akbar  10000050  628962212425  Jakarta Timur   \n39   2018-07-01  Ziad Akbar  10000050  628962212425  Jakarta Timur   \n..          ...         ...       ...           ...            ...   \n243  2021-05-01   Aan Utama  10000014  628785222214          Medan   \n163  2020-04-01   Aan Utama  10000014  628785222214          Medan   \n3    2018-01-01   Aan Utama  10000014  628785222214          Medan   \n123  2019-09-01   Aan Utama  10000014  628785222214          Medan   \n314  2022-04-01   Aan Utama  10000014  628785222214          Medan   \n\n          province           email  total_order  total_gmv  total_visit  \n119    DKI Jakarta  ziad@yahoo.com          177    4867500          529  \n239    DKI Jakarta  ziad@yahoo.com          156    4290000          633  \n310    DKI Jakarta  ziad@yahoo.com          146    3977500          374  \n79     DKI Jakarta  ziad@yahoo.com          168    4620000          303  \n39     DKI Jakarta  ziad@yahoo.com          149    4097500          275  \n..             ...             ...          ...        ...          ...  \n243  Sumatra Utara   aan@yahoo.com           22     605000           38  \n163  Sumatra Utara   aan@yahoo.com           55    1512500          117  \n3    Sumatra Utara   aan@yahoo.com           18     495000          100  \n123  Sumatra Utara   aan@yahoo.com            9     247500           66  \n314  Sumatra Utara   aan@yahoo.com           60    1612500          145  \n\n[337 rows x 10 columns]",
      "text/html": "<div>\n<style scoped>\n    .dataframe tbody tr th:only-of-type {\n        vertical-align: middle;\n    }\n\n    .dataframe tbody tr th {\n        vertical-align: top;\n    }\n\n    .dataframe thead th {\n        text-align: right;\n    }\n</style>\n<table border=\"1\" class=\"dataframe\">\n  <thead>\n    <tr style=\"text-align: right;\">\n      <th></th>\n      <th>order_month</th>\n      <th>full_name</th>\n      <th>user_id</th>\n      <th>phone</th>\n      <th>city</th>\n      <th>province</th>\n      <th>email</th>\n      <th>total_order</th>\n      <th>total_gmv</th>\n      <th>total_visit</th>\n    </tr>\n  </thead>\n  <tbody>\n    <tr>\n      <th>119</th>\n      <td>2019-08-01</td>\n      <td>Ziad Akbar</td>\n      <td>10000050</td>\n      <td>628962212425</td>\n      <td>Jakarta Timur</td>\n      <td>DKI Jakarta</td>\n      <td>ziad@yahoo.com</td>\n      <td>177</td>\n      <td>4867500</td>\n      <td>529</td>\n    </tr>\n    <tr>\n      <th>239</th>\n      <td>2021-04-01</td>\n      <td>Ziad Akbar</td>\n      <td>10000050</td>\n      <td>628962212425</td>\n      <td>Jakarta Timur</td>\n      <td>DKI Jakarta</td>\n      <td>ziad@yahoo.com</td>\n      <td>156</td>\n      <td>4290000</td>\n      <td>633</td>\n    </tr>\n    <tr>\n      <th>310</th>\n      <td>2022-03-01</td>\n      <td>Ziad Akbar</td>\n      <td>10000050</td>\n      <td>628962212425</td>\n      <td>Jakarta Timur</td>\n      <td>DKI Jakarta</td>\n      <td>ziad@yahoo.com</td>\n      <td>146</td>\n      <td>3977500</td>\n      <td>374</td>\n    </tr>\n    <tr>\n      <th>79</th>\n      <td>2019-02-01</td>\n      <td>Ziad Akbar</td>\n      <td>10000050</td>\n      <td>628962212425</td>\n      <td>Jakarta Timur</td>\n      <td>DKI Jakarta</td>\n      <td>ziad@yahoo.com</td>\n      <td>168</td>\n      <td>4620000</td>\n      <td>303</td>\n    </tr>\n    <tr>\n      <th>39</th>\n      <td>2018-07-01</td>\n      <td>Ziad Akbar</td>\n      <td>10000050</td>\n      <td>628962212425</td>\n      <td>Jakarta Timur</td>\n      <td>DKI Jakarta</td>\n      <td>ziad@yahoo.com</td>\n      <td>149</td>\n      <td>4097500</td>\n      <td>275</td>\n    </tr>\n    <tr>\n      <th>...</th>\n      <td>...</td>\n      <td>...</td>\n      <td>...</td>\n      <td>...</td>\n      <td>...</td>\n      <td>...</td>\n      <td>...</td>\n      <td>...</td>\n      <td>...</td>\n      <td>...</td>\n    </tr>\n    <tr>\n      <th>243</th>\n      <td>2021-05-01</td>\n      <td>Aan Utama</td>\n      <td>10000014</td>\n      <td>628785222214</td>\n      <td>Medan</td>\n      <td>Sumatra Utara</td>\n      <td>aan@yahoo.com</td>\n      <td>22</td>\n      <td>605000</td>\n      <td>38</td>\n    </tr>\n    <tr>\n      <th>163</th>\n      <td>2020-04-01</td>\n      <td>Aan Utama</td>\n      <td>10000014</td>\n      <td>628785222214</td>\n      <td>Medan</td>\n      <td>Sumatra Utara</td>\n      <td>aan@yahoo.com</td>\n      <td>55</td>\n      <td>1512500</td>\n      <td>117</td>\n    </tr>\n    <tr>\n      <th>3</th>\n      <td>2018-01-01</td>\n      <td>Aan Utama</td>\n      <td>10000014</td>\n      <td>628785222214</td>\n      <td>Medan</td>\n      <td>Sumatra Utara</td>\n      <td>aan@yahoo.com</td>\n      <td>18</td>\n      <td>495000</td>\n      <td>100</td>\n    </tr>\n    <tr>\n      <th>123</th>\n      <td>2019-09-01</td>\n      <td>Aan Utama</td>\n      <td>10000014</td>\n      <td>628785222214</td>\n      <td>Medan</td>\n      <td>Sumatra Utara</td>\n      <td>aan@yahoo.com</td>\n      <td>9</td>\n      <td>247500</td>\n      <td>66</td>\n    </tr>\n    <tr>\n      <th>314</th>\n      <td>2022-04-01</td>\n      <td>Aan Utama</td>\n      <td>10000014</td>\n      <td>628785222214</td>\n      <td>Medan</td>\n      <td>Sumatra Utara</td>\n      <td>aan@yahoo.com</td>\n      <td>60</td>\n      <td>1612500</td>\n      <td>145</td>\n    </tr>\n  </tbody>\n</table>\n<p>337 rows × 10 columns</p>\n</div>"
     },
     "execution_count": 2,
     "metadata": {},
     "output_type": "execute_result"
    }
   ],
   "source": [
    "df = pd.read_csv('monthly_rakamin_customer_order.csv')\n",
    "df.sort_values(by=['full_name'],ascending=False)"
   ],
   "metadata": {
    "collapsed": false,
    "ExecuteTime": {
     "end_time": "2024-06-13T23:45:08.663693500Z",
     "start_time": "2024-06-13T23:45:08.595979700Z"
    }
   },
   "id": "cd8972df1edd24b3"
  },
  {
   "cell_type": "code",
   "execution_count": 3,
   "outputs": [],
   "source": [
    "def get_provider_email(email):\n",
    "    email = email.lower()\n",
    "    try:\n",
    "        provider_email = email.split('@')[1]\n",
    "    except:\n",
    "        provider_email = \"Others\"\n",
    "    if 'gmail' in provider_email:\n",
    "        return 'Gmail'\n",
    "    if 'yahoo' in provider_email:\n",
    "        return 'Yahoo'\n",
    "    return 'Others'\n",
    "df['provider_email']= df.apply(lambda x:get_provider_email(x['email']),axis=1)"
   ],
   "metadata": {
    "collapsed": false,
    "ExecuteTime": {
     "end_time": "2024-06-13T23:45:08.874150800Z",
     "start_time": "2024-06-13T23:45:08.846273800Z"
    }
   },
   "id": "abedb56652d7cb1"
  },
  {
   "cell_type": "code",
   "execution_count": 4,
   "outputs": [
    {
     "data": {
      "text/plain": "    order_month       full_name   user_id         phone           city  \\\n0    2018-01-01   Ahmad Budiman  10000011  628785222211  Jakarta Pusat   \n1    2018-01-01      Azzam Haqq  10000012  628785222212       Surabaya   \n2    2018-01-01    Amrina Putri  10000013  628785222213  Jakarta Pusat   \n3    2018-01-01       Aan Utama  10000014  628785222214          Medan   \n4    2018-01-01        Adam Adi  10000015  628785222215  Jakarta Timur   \n..          ...             ...       ...           ...            ...   \n332  2022-06-01       Faruq Adi  10000030  628567812319       Makassar   \n333  2022-06-01       Abrar Adi  10000053  628223411218       Surabaya   \n334  2022-06-01    Johan Imawan  10000054  628223412323     Balikpapan   \n335  2022-06-01  Muhammad Ammar  10000055  628223412111       Surabaya   \n336  2022-05-01  Dodo Putro Aji  10000023  628567812312       Surabaya   \n\n             province                   email  total_order  total_gmv  \\\n0         DKI Jakarta         ahmad@gmail.com          125    3490000   \n1          Jawa Timur       azzam@gmail.co.id          173    4757500   \n2         DKI Jakarta      amrina@yahoo.co.id           20     550000   \n3       Sumatra Utara           aan@yahoo.com           18     495000   \n4         DKI Jakarta          adam@gmail.com          159    4372500   \n..                ...                     ...          ...        ...   \n332  Sulawesi Selatan         faruq@yahoo.com          201    5490000   \n333        Jawa Timur   abrar.adi@yahoo.co.id          110    2987500   \n334  Kalimantan Timur  johan.imawan@yahoo.com           95    2705000   \n335        Jawa Timur     muh.ammar@gmail.com           30     760000   \n336        Jawa Timur          dodo@gmail.com           15     605000   \n\n     total_visit provider_email  year  \n0            230          Gmail  2018  \n1            304          Gmail  2018  \n2             62          Yahoo  2018  \n3            100          Yahoo  2018  \n4            524          Gmail  2018  \n..           ...            ...   ...  \n332          773          Yahoo  2022  \n333          276          Yahoo  2022  \n334          258          Yahoo  2022  \n335          103          Gmail  2022  \n336           83          Gmail  2022  \n\n[337 rows x 12 columns]",
      "text/html": "<div>\n<style scoped>\n    .dataframe tbody tr th:only-of-type {\n        vertical-align: middle;\n    }\n\n    .dataframe tbody tr th {\n        vertical-align: top;\n    }\n\n    .dataframe thead th {\n        text-align: right;\n    }\n</style>\n<table border=\"1\" class=\"dataframe\">\n  <thead>\n    <tr style=\"text-align: right;\">\n      <th></th>\n      <th>order_month</th>\n      <th>full_name</th>\n      <th>user_id</th>\n      <th>phone</th>\n      <th>city</th>\n      <th>province</th>\n      <th>email</th>\n      <th>total_order</th>\n      <th>total_gmv</th>\n      <th>total_visit</th>\n      <th>provider_email</th>\n      <th>year</th>\n    </tr>\n  </thead>\n  <tbody>\n    <tr>\n      <th>0</th>\n      <td>2018-01-01</td>\n      <td>Ahmad Budiman</td>\n      <td>10000011</td>\n      <td>628785222211</td>\n      <td>Jakarta Pusat</td>\n      <td>DKI Jakarta</td>\n      <td>ahmad@gmail.com</td>\n      <td>125</td>\n      <td>3490000</td>\n      <td>230</td>\n      <td>Gmail</td>\n      <td>2018</td>\n    </tr>\n    <tr>\n      <th>1</th>\n      <td>2018-01-01</td>\n      <td>Azzam Haqq</td>\n      <td>10000012</td>\n      <td>628785222212</td>\n      <td>Surabaya</td>\n      <td>Jawa Timur</td>\n      <td>azzam@gmail.co.id</td>\n      <td>173</td>\n      <td>4757500</td>\n      <td>304</td>\n      <td>Gmail</td>\n      <td>2018</td>\n    </tr>\n    <tr>\n      <th>2</th>\n      <td>2018-01-01</td>\n      <td>Amrina Putri</td>\n      <td>10000013</td>\n      <td>628785222213</td>\n      <td>Jakarta Pusat</td>\n      <td>DKI Jakarta</td>\n      <td>amrina@yahoo.co.id</td>\n      <td>20</td>\n      <td>550000</td>\n      <td>62</td>\n      <td>Yahoo</td>\n      <td>2018</td>\n    </tr>\n    <tr>\n      <th>3</th>\n      <td>2018-01-01</td>\n      <td>Aan Utama</td>\n      <td>10000014</td>\n      <td>628785222214</td>\n      <td>Medan</td>\n      <td>Sumatra Utara</td>\n      <td>aan@yahoo.com</td>\n      <td>18</td>\n      <td>495000</td>\n      <td>100</td>\n      <td>Yahoo</td>\n      <td>2018</td>\n    </tr>\n    <tr>\n      <th>4</th>\n      <td>2018-01-01</td>\n      <td>Adam Adi</td>\n      <td>10000015</td>\n      <td>628785222215</td>\n      <td>Jakarta Timur</td>\n      <td>DKI Jakarta</td>\n      <td>adam@gmail.com</td>\n      <td>159</td>\n      <td>4372500</td>\n      <td>524</td>\n      <td>Gmail</td>\n      <td>2018</td>\n    </tr>\n    <tr>\n      <th>...</th>\n      <td>...</td>\n      <td>...</td>\n      <td>...</td>\n      <td>...</td>\n      <td>...</td>\n      <td>...</td>\n      <td>...</td>\n      <td>...</td>\n      <td>...</td>\n      <td>...</td>\n      <td>...</td>\n      <td>...</td>\n    </tr>\n    <tr>\n      <th>332</th>\n      <td>2022-06-01</td>\n      <td>Faruq Adi</td>\n      <td>10000030</td>\n      <td>628567812319</td>\n      <td>Makassar</td>\n      <td>Sulawesi Selatan</td>\n      <td>faruq@yahoo.com</td>\n      <td>201</td>\n      <td>5490000</td>\n      <td>773</td>\n      <td>Yahoo</td>\n      <td>2022</td>\n    </tr>\n    <tr>\n      <th>333</th>\n      <td>2022-06-01</td>\n      <td>Abrar Adi</td>\n      <td>10000053</td>\n      <td>628223411218</td>\n      <td>Surabaya</td>\n      <td>Jawa Timur</td>\n      <td>abrar.adi@yahoo.co.id</td>\n      <td>110</td>\n      <td>2987500</td>\n      <td>276</td>\n      <td>Yahoo</td>\n      <td>2022</td>\n    </tr>\n    <tr>\n      <th>334</th>\n      <td>2022-06-01</td>\n      <td>Johan Imawan</td>\n      <td>10000054</td>\n      <td>628223412323</td>\n      <td>Balikpapan</td>\n      <td>Kalimantan Timur</td>\n      <td>johan.imawan@yahoo.com</td>\n      <td>95</td>\n      <td>2705000</td>\n      <td>258</td>\n      <td>Yahoo</td>\n      <td>2022</td>\n    </tr>\n    <tr>\n      <th>335</th>\n      <td>2022-06-01</td>\n      <td>Muhammad Ammar</td>\n      <td>10000055</td>\n      <td>628223412111</td>\n      <td>Surabaya</td>\n      <td>Jawa Timur</td>\n      <td>muh.ammar@gmail.com</td>\n      <td>30</td>\n      <td>760000</td>\n      <td>103</td>\n      <td>Gmail</td>\n      <td>2022</td>\n    </tr>\n    <tr>\n      <th>336</th>\n      <td>2022-05-01</td>\n      <td>Dodo Putro Aji</td>\n      <td>10000023</td>\n      <td>628567812312</td>\n      <td>Surabaya</td>\n      <td>Jawa Timur</td>\n      <td>dodo@gmail.com</td>\n      <td>15</td>\n      <td>605000</td>\n      <td>83</td>\n      <td>Gmail</td>\n      <td>2022</td>\n    </tr>\n  </tbody>\n</table>\n<p>337 rows × 12 columns</p>\n</div>"
     },
     "execution_count": 4,
     "metadata": {},
     "output_type": "execute_result"
    }
   ],
   "source": [
    "df['year'] = pd.to_datetime(df['order_month'], format='%Y-%m').dt.year\n",
    "df"
   ],
   "metadata": {
    "collapsed": false,
    "ExecuteTime": {
     "end_time": "2024-06-13T23:45:09.333201400Z",
     "start_time": "2024-06-13T23:45:09.289639Z"
    }
   },
   "id": "f1b18c4c083192"
  },
  {
   "cell_type": "code",
   "execution_count": 5,
   "outputs": [
    {
     "data": {
      "text/plain": "   year  full_name\n3  2021         78",
      "text/html": "<div>\n<style scoped>\n    .dataframe tbody tr th:only-of-type {\n        vertical-align: middle;\n    }\n\n    .dataframe tbody tr th {\n        vertical-align: top;\n    }\n\n    .dataframe thead th {\n        text-align: right;\n    }\n</style>\n<table border=\"1\" class=\"dataframe\">\n  <thead>\n    <tr style=\"text-align: right;\">\n      <th></th>\n      <th>year</th>\n      <th>full_name</th>\n    </tr>\n  </thead>\n  <tbody>\n    <tr>\n      <th>3</th>\n      <td>2021</td>\n      <td>78</td>\n    </tr>\n  </tbody>\n</table>\n</div>"
     },
     "execution_count": 5,
     "metadata": {},
     "output_type": "execute_result"
    }
   ],
   "source": [
    "df_agg = df.groupby('year')['full_name'].count().reset_index()\n",
    "df_agg[df_agg['year']==2021]"
   ],
   "metadata": {
    "collapsed": false,
    "ExecuteTime": {
     "end_time": "2024-06-13T23:45:10.239343500Z",
     "start_time": "2024-06-13T23:45:10.194402300Z"
    }
   },
   "id": "84a4c4d2c995dd4"
  },
  {
   "cell_type": "code",
   "execution_count": 6,
   "outputs": [
    {
     "data": {
      "text/plain": "    order_month   user_id      full_name         phone           city  \\\n0    2018-01-01  10000011  Ahmad Budiman  6.287852e+11  Jakarta Pusat   \n1    2018-01-01  10000012     Azzam Haqq  6.287852e+11       Surabaya   \n2    2018-01-01  10000013   Amrina Putri  6.287852e+11  Jakarta Pusat   \n3    2018-01-01  10000014      Aan Utama  6.287852e+11          Medan   \n4    2018-01-01  10000015       Adam Adi  6.287852e+11  Jakarta Timur   \n..          ...       ...            ...           ...            ...   \n265  2021-09-01  10000036  Gilang Rahaja  6.282234e+11  Jakarta Pusat   \n266  2021-09-01  10000037  Hari Darmawan  6.282234e+11        Bandung   \n267  2021-09-01  10000038          Heru   6.282234e+11        Bandung   \n268  2021-09-01  10000039    Hesti Putri  6.282234e+11          Medan   \n269  2021-09-01  10000040         Hirman  6.282234e+11          Medan   \n\n          province               email  total_order  total_gmv  total_visit  \n0      DKI Jakarta     ahmad@gmail.com          127    3492500          235  \n1       Jawa Timur   azzam@gmail.co.id          173    4757500          304  \n2      DKI Jakarta  amrina@yahoo.co.id           20     550000           62  \n3    Sumatra Utara       aan@yahoo.com           18     495000          100  \n4      DKI Jakarta      adam@gmail.com          159    4372500          524  \n..             ...                 ...          ...        ...          ...  \n265    DKI Jakarta  gilang@gmail.co.id           68    1870000          101  \n266     Jawa Barat    hari@yahoo.co.id            5     137500          101  \n267     Jawa Barat      heru@yahoo.com           61    1677500          125  \n268  Sumatra Utara     hesti@gmail.com          161    4427500          471  \n269  Sumatra Utara  hirman@gmail.co.id          102    2805000          309  \n\n[270 rows x 10 columns]",
      "text/html": "<div>\n<style scoped>\n    .dataframe tbody tr th:only-of-type {\n        vertical-align: middle;\n    }\n\n    .dataframe tbody tr th {\n        vertical-align: top;\n    }\n\n    .dataframe thead th {\n        text-align: right;\n    }\n</style>\n<table border=\"1\" class=\"dataframe\">\n  <thead>\n    <tr style=\"text-align: right;\">\n      <th></th>\n      <th>order_month</th>\n      <th>user_id</th>\n      <th>full_name</th>\n      <th>phone</th>\n      <th>city</th>\n      <th>province</th>\n      <th>email</th>\n      <th>total_order</th>\n      <th>total_gmv</th>\n      <th>total_visit</th>\n    </tr>\n  </thead>\n  <tbody>\n    <tr>\n      <th>0</th>\n      <td>2018-01-01</td>\n      <td>10000011</td>\n      <td>Ahmad Budiman</td>\n      <td>6.287852e+11</td>\n      <td>Jakarta Pusat</td>\n      <td>DKI Jakarta</td>\n      <td>ahmad@gmail.com</td>\n      <td>127</td>\n      <td>3492500</td>\n      <td>235</td>\n    </tr>\n    <tr>\n      <th>1</th>\n      <td>2018-01-01</td>\n      <td>10000012</td>\n      <td>Azzam Haqq</td>\n      <td>6.287852e+11</td>\n      <td>Surabaya</td>\n      <td>Jawa Timur</td>\n      <td>azzam@gmail.co.id</td>\n      <td>173</td>\n      <td>4757500</td>\n      <td>304</td>\n    </tr>\n    <tr>\n      <th>2</th>\n      <td>2018-01-01</td>\n      <td>10000013</td>\n      <td>Amrina Putri</td>\n      <td>6.287852e+11</td>\n      <td>Jakarta Pusat</td>\n      <td>DKI Jakarta</td>\n      <td>amrina@yahoo.co.id</td>\n      <td>20</td>\n      <td>550000</td>\n      <td>62</td>\n    </tr>\n    <tr>\n      <th>3</th>\n      <td>2018-01-01</td>\n      <td>10000014</td>\n      <td>Aan Utama</td>\n      <td>6.287852e+11</td>\n      <td>Medan</td>\n      <td>Sumatra Utara</td>\n      <td>aan@yahoo.com</td>\n      <td>18</td>\n      <td>495000</td>\n      <td>100</td>\n    </tr>\n    <tr>\n      <th>4</th>\n      <td>2018-01-01</td>\n      <td>10000015</td>\n      <td>Adam Adi</td>\n      <td>6.287852e+11</td>\n      <td>Jakarta Timur</td>\n      <td>DKI Jakarta</td>\n      <td>adam@gmail.com</td>\n      <td>159</td>\n      <td>4372500</td>\n      <td>524</td>\n    </tr>\n    <tr>\n      <th>...</th>\n      <td>...</td>\n      <td>...</td>\n      <td>...</td>\n      <td>...</td>\n      <td>...</td>\n      <td>...</td>\n      <td>...</td>\n      <td>...</td>\n      <td>...</td>\n      <td>...</td>\n    </tr>\n    <tr>\n      <th>265</th>\n      <td>2021-09-01</td>\n      <td>10000036</td>\n      <td>Gilang Rahaja</td>\n      <td>6.282234e+11</td>\n      <td>Jakarta Pusat</td>\n      <td>DKI Jakarta</td>\n      <td>gilang@gmail.co.id</td>\n      <td>68</td>\n      <td>1870000</td>\n      <td>101</td>\n    </tr>\n    <tr>\n      <th>266</th>\n      <td>2021-09-01</td>\n      <td>10000037</td>\n      <td>Hari Darmawan</td>\n      <td>6.282234e+11</td>\n      <td>Bandung</td>\n      <td>Jawa Barat</td>\n      <td>hari@yahoo.co.id</td>\n      <td>5</td>\n      <td>137500</td>\n      <td>101</td>\n    </tr>\n    <tr>\n      <th>267</th>\n      <td>2021-09-01</td>\n      <td>10000038</td>\n      <td>Heru</td>\n      <td>6.282234e+11</td>\n      <td>Bandung</td>\n      <td>Jawa Barat</td>\n      <td>heru@yahoo.com</td>\n      <td>61</td>\n      <td>1677500</td>\n      <td>125</td>\n    </tr>\n    <tr>\n      <th>268</th>\n      <td>2021-09-01</td>\n      <td>10000039</td>\n      <td>Hesti Putri</td>\n      <td>6.282234e+11</td>\n      <td>Medan</td>\n      <td>Sumatra Utara</td>\n      <td>hesti@gmail.com</td>\n      <td>161</td>\n      <td>4427500</td>\n      <td>471</td>\n    </tr>\n    <tr>\n      <th>269</th>\n      <td>2021-09-01</td>\n      <td>10000040</td>\n      <td>Hirman</td>\n      <td>6.282234e+11</td>\n      <td>Medan</td>\n      <td>Sumatra Utara</td>\n      <td>hirman@gmail.co.id</td>\n      <td>102</td>\n      <td>2805000</td>\n      <td>309</td>\n    </tr>\n  </tbody>\n</table>\n<p>270 rows × 10 columns</p>\n</div>"
     },
     "execution_count": 6,
     "metadata": {},
     "output_type": "execute_result"
    }
   ],
   "source": [
    "df = pd.read_csv('summary_buyer_rakamin_store_special.csv')\n",
    "df"
   ],
   "metadata": {
    "collapsed": false,
    "ExecuteTime": {
     "end_time": "2024-06-13T23:45:10.749704300Z",
     "start_time": "2024-06-13T23:45:10.703740600Z"
    }
   },
   "id": "2b2b1be48e5a1bb"
  },
  {
   "cell_type": "code",
   "execution_count": 8,
   "outputs": [
    {
     "data": {
      "text/plain": "    order_month   user_id      full_name         phone           city  \\\n0    2018-01-01  10000011  Ahmad Budiman  6.287852e+11  Jakarta Pusat   \n1    2018-01-01  10000012     Azzam Haqq  6.287852e+11       Surabaya   \n2    2018-01-01  10000013   Amrina Putri  6.287852e+11  Jakarta Pusat   \n3    2018-01-01  10000014      Aan Utama  6.287852e+11          Medan   \n4    2018-01-01  10000015       Adam Adi  6.287852e+11  Jakarta Timur   \n..          ...       ...            ...           ...            ...   \n265  2021-09-01  10000036  Gilang Rahaja  6.282234e+11  Jakarta Pusat   \n266  2021-09-01  10000037  Hari Darmawan  6.282234e+11        Bandung   \n267  2021-09-01  10000038          Heru   6.282234e+11        Bandung   \n268  2021-09-01  10000039    Hesti Putri  6.282234e+11          Medan   \n269  2021-09-01  10000040         Hirman  6.282234e+11          Medan   \n\n          province               email  total_order  total_gmv  total_visit  \\\n0      DKI Jakarta     ahmad@gmail.com          127    3492500          235   \n1       Jawa Timur   azzam@gmail.co.id          173    4757500          304   \n2      DKI Jakarta  amrina@yahoo.co.id           20     550000           62   \n3    Sumatra Utara       aan@yahoo.com           18     495000          100   \n4      DKI Jakarta      adam@gmail.com          159    4372500          524   \n..             ...                 ...          ...        ...          ...   \n265    DKI Jakarta  gilang@gmail.co.id           68    1870000          101   \n266     Jawa Barat    hari@yahoo.co.id            5     137500          101   \n267     Jawa Barat      heru@yahoo.com           61    1677500          125   \n268  Sumatra Utara     hesti@gmail.com          161    4427500          471   \n269  Sumatra Utara  hirman@gmail.co.id          102    2805000          309   \n\n    provider_email  \n0            Gmail  \n1            Gmail  \n2            Yahoo  \n3            Yahoo  \n4            Gmail  \n..             ...  \n265          Gmail  \n266          Yahoo  \n267          Yahoo  \n268          Gmail  \n269          Gmail  \n\n[270 rows x 11 columns]",
      "text/html": "<div>\n<style scoped>\n    .dataframe tbody tr th:only-of-type {\n        vertical-align: middle;\n    }\n\n    .dataframe tbody tr th {\n        vertical-align: top;\n    }\n\n    .dataframe thead th {\n        text-align: right;\n    }\n</style>\n<table border=\"1\" class=\"dataframe\">\n  <thead>\n    <tr style=\"text-align: right;\">\n      <th></th>\n      <th>order_month</th>\n      <th>user_id</th>\n      <th>full_name</th>\n      <th>phone</th>\n      <th>city</th>\n      <th>province</th>\n      <th>email</th>\n      <th>total_order</th>\n      <th>total_gmv</th>\n      <th>total_visit</th>\n      <th>provider_email</th>\n    </tr>\n  </thead>\n  <tbody>\n    <tr>\n      <th>0</th>\n      <td>2018-01-01</td>\n      <td>10000011</td>\n      <td>Ahmad Budiman</td>\n      <td>6.287852e+11</td>\n      <td>Jakarta Pusat</td>\n      <td>DKI Jakarta</td>\n      <td>ahmad@gmail.com</td>\n      <td>127</td>\n      <td>3492500</td>\n      <td>235</td>\n      <td>Gmail</td>\n    </tr>\n    <tr>\n      <th>1</th>\n      <td>2018-01-01</td>\n      <td>10000012</td>\n      <td>Azzam Haqq</td>\n      <td>6.287852e+11</td>\n      <td>Surabaya</td>\n      <td>Jawa Timur</td>\n      <td>azzam@gmail.co.id</td>\n      <td>173</td>\n      <td>4757500</td>\n      <td>304</td>\n      <td>Gmail</td>\n    </tr>\n    <tr>\n      <th>2</th>\n      <td>2018-01-01</td>\n      <td>10000013</td>\n      <td>Amrina Putri</td>\n      <td>6.287852e+11</td>\n      <td>Jakarta Pusat</td>\n      <td>DKI Jakarta</td>\n      <td>amrina@yahoo.co.id</td>\n      <td>20</td>\n      <td>550000</td>\n      <td>62</td>\n      <td>Yahoo</td>\n    </tr>\n    <tr>\n      <th>3</th>\n      <td>2018-01-01</td>\n      <td>10000014</td>\n      <td>Aan Utama</td>\n      <td>6.287852e+11</td>\n      <td>Medan</td>\n      <td>Sumatra Utara</td>\n      <td>aan@yahoo.com</td>\n      <td>18</td>\n      <td>495000</td>\n      <td>100</td>\n      <td>Yahoo</td>\n    </tr>\n    <tr>\n      <th>4</th>\n      <td>2018-01-01</td>\n      <td>10000015</td>\n      <td>Adam Adi</td>\n      <td>6.287852e+11</td>\n      <td>Jakarta Timur</td>\n      <td>DKI Jakarta</td>\n      <td>adam@gmail.com</td>\n      <td>159</td>\n      <td>4372500</td>\n      <td>524</td>\n      <td>Gmail</td>\n    </tr>\n    <tr>\n      <th>...</th>\n      <td>...</td>\n      <td>...</td>\n      <td>...</td>\n      <td>...</td>\n      <td>...</td>\n      <td>...</td>\n      <td>...</td>\n      <td>...</td>\n      <td>...</td>\n      <td>...</td>\n      <td>...</td>\n    </tr>\n    <tr>\n      <th>265</th>\n      <td>2021-09-01</td>\n      <td>10000036</td>\n      <td>Gilang Rahaja</td>\n      <td>6.282234e+11</td>\n      <td>Jakarta Pusat</td>\n      <td>DKI Jakarta</td>\n      <td>gilang@gmail.co.id</td>\n      <td>68</td>\n      <td>1870000</td>\n      <td>101</td>\n      <td>Gmail</td>\n    </tr>\n    <tr>\n      <th>266</th>\n      <td>2021-09-01</td>\n      <td>10000037</td>\n      <td>Hari Darmawan</td>\n      <td>6.282234e+11</td>\n      <td>Bandung</td>\n      <td>Jawa Barat</td>\n      <td>hari@yahoo.co.id</td>\n      <td>5</td>\n      <td>137500</td>\n      <td>101</td>\n      <td>Yahoo</td>\n    </tr>\n    <tr>\n      <th>267</th>\n      <td>2021-09-01</td>\n      <td>10000038</td>\n      <td>Heru</td>\n      <td>6.282234e+11</td>\n      <td>Bandung</td>\n      <td>Jawa Barat</td>\n      <td>heru@yahoo.com</td>\n      <td>61</td>\n      <td>1677500</td>\n      <td>125</td>\n      <td>Yahoo</td>\n    </tr>\n    <tr>\n      <th>268</th>\n      <td>2021-09-01</td>\n      <td>10000039</td>\n      <td>Hesti Putri</td>\n      <td>6.282234e+11</td>\n      <td>Medan</td>\n      <td>Sumatra Utara</td>\n      <td>hesti@gmail.com</td>\n      <td>161</td>\n      <td>4427500</td>\n      <td>471</td>\n      <td>Gmail</td>\n    </tr>\n    <tr>\n      <th>269</th>\n      <td>2021-09-01</td>\n      <td>10000040</td>\n      <td>Hirman</td>\n      <td>6.282234e+11</td>\n      <td>Medan</td>\n      <td>Sumatra Utara</td>\n      <td>hirman@gmail.co.id</td>\n      <td>102</td>\n      <td>2805000</td>\n      <td>309</td>\n      <td>Gmail</td>\n    </tr>\n  </tbody>\n</table>\n<p>270 rows × 11 columns</p>\n</div>"
     },
     "execution_count": 8,
     "metadata": {},
     "output_type": "execute_result"
    }
   ],
   "source": [
    "\n",
    "df['provider_email']= df.apply(lambda x:get_provider_email(x['email']),axis=1)\n",
    "df"
   ],
   "metadata": {
    "collapsed": false,
    "ExecuteTime": {
     "end_time": "2024-06-13T23:45:25.860961800Z",
     "start_time": "2024-06-13T23:45:25.814940400Z"
    }
   },
   "id": "a592a31d552b6fe9"
  },
  {
   "cell_type": "code",
   "execution_count": 11,
   "outputs": [
    {
     "ename": "TypeError",
     "evalue": "pengecekan_umur() missing 1 required positional argument: 'tes'",
     "output_type": "error",
     "traceback": [
      "\u001B[1;31m---------------------------------------------------------------------------\u001B[0m",
      "\u001B[1;31mTypeError\u001B[0m                                 Traceback (most recent call last)",
      "Input \u001B[1;32mIn [11]\u001B[0m, in \u001B[0;36m<cell line: 7>\u001B[1;34m()\u001B[0m\n\u001B[0;32m      5\u001B[0m     age \u001B[38;5;241m=\u001B[39m today\u001B[38;5;241m.\u001B[39myear \u001B[38;5;241m-\u001B[39m year \u001B[38;5;241m-\u001B[39m ((today\u001B[38;5;241m.\u001B[39mmonth, today\u001B[38;5;241m.\u001B[39mday) \u001B[38;5;241m<\u001B[39m (month, day))\n\u001B[0;32m      6\u001B[0m     \u001B[38;5;28mprint\u001B[39m(\u001B[38;5;124m\"\u001B[39m\u001B[38;5;124mYour age is\u001B[39m\u001B[38;5;124m\"\u001B[39m,age,\u001B[38;5;124m\"\u001B[39m\u001B[38;5;124myears.\u001B[39m\u001B[38;5;124m\"\u001B[39m)\n\u001B[1;32m----> 7\u001B[0m \u001B[43mpengecekan_umur\u001B[49m\u001B[43m(\u001B[49m\u001B[38;5;124;43m\"\u001B[39;49m\u001B[38;5;124;43m25-10-2001\u001B[39;49m\u001B[38;5;124;43m\"\u001B[39;49m\u001B[43m)\u001B[49m\n",
      "\u001B[1;31mTypeError\u001B[0m: pengecekan_umur() missing 1 required positional argument: 'tes'"
     ]
    }
   ],
   "source": [
    "import datetime\n",
    "def pengecekan_umur(tanggal_lahir):\n",
    "    day,month,year = map(int, tanggal_lahir.split(\"-\"))\n",
    "    today = datetime.date.today()\n",
    "    age = today.year - year - ((today.month, today.day) < (month, day))\n",
    "    print(\"Your age is\",age,\"years.\")\n",
    "pengecekan_umur(\"25-10-2001\")"
   ],
   "metadata": {
    "collapsed": false,
    "ExecuteTime": {
     "end_time": "2024-06-13T23:52:01.470979200Z",
     "start_time": "2024-06-13T23:52:01.431087800Z"
    }
   },
   "id": "b3c4377f184877f0"
  },
  {
   "cell_type": "code",
   "execution_count": null,
   "outputs": [],
   "source": [],
   "metadata": {
    "collapsed": false
   },
   "id": "ccd105e52419af7"
  }
 ],
 "metadata": {
  "kernelspec": {
   "display_name": "Python 3",
   "language": "python",
   "name": "python3"
  },
  "language_info": {
   "codemirror_mode": {
    "name": "ipython",
    "version": 2
   },
   "file_extension": ".py",
   "mimetype": "text/x-python",
   "name": "python",
   "nbconvert_exporter": "python",
   "pygments_lexer": "ipython2",
   "version": "2.7.6"
  }
 },
 "nbformat": 4,
 "nbformat_minor": 5
}
