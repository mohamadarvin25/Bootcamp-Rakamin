{
 "cells": [
  {
   "cell_type": "code",
   "execution_count": 28,
   "id": "initial_id",
   "metadata": {
    "collapsed": true,
    "ExecuteTime": {
     "end_time": "2024-06-15T02:52:02.929737200Z",
     "start_time": "2024-06-15T02:52:01.302527Z"
    }
   },
   "outputs": [],
   "source": [
    "import pandas as pd"
   ]
  },
  {
   "cell_type": "markdown",
   "source": [
    "#### Nomor 1\n",
    "Tentukan dari variabel\n",
    "list_plat_mobil = ['B 1234 AB', 'B 6721 TY', 'B 1233 AY', 'B 6629 DD', 'B 1111 AM', 'B 6726 D', 'D 11223 KJ', 'AE 44677 GH', 'AE 67269 AA']\n",
    "Ada berapa jumlah plat genap dan ganjil. (5 poin)"
   ],
   "metadata": {
    "collapsed": false
   },
   "id": "5edd5d9fb5e55ec4"
  },
  {
   "cell_type": "code",
   "execution_count": 29,
   "outputs": [
    {
     "name": "stdout",
     "output_type": "stream",
     "text": [
      "List Plat Genap:  ['B 1234 AB', 'B 6726 D']\n",
      "Plat genap berjumlah  2\n",
      "List Plat Ganjul:  ['B 6721 TY', 'B 1233 AY', 'B 6629 DD', 'B 1111 AM', 'D 11223 KJ', 'AE 44677 GH', 'AE 67269 AA']\n",
      "Plat ganjil berjumlah  7\n"
     ]
    }
   ],
   "source": [
    "list_plat_mobil = ['B 1234 AB', 'B 6721 TY', 'B 1233 AY', 'B 6629 DD', 'B 1111 AM', 'B 6726 D', 'D 11223 KJ', 'AE 44677 GH', 'AE 67269 AA']\n",
    "\n",
    "list_plat_ganjil = list()\n",
    "list_plat_genap = list()\n",
    "\n",
    "for plat in list_plat_mobil:\n",
    "    angka_plat = str()\n",
    "    for huruf in plat:\n",
    "        if huruf.isdigit():\n",
    "            angka_plat += huruf\n",
    "    angka_plat = int(angka_plat)\n",
    "    if angka_plat % 2 == 0:\n",
    "        list_plat_genap.append(plat)\n",
    "    else:\n",
    "        list_plat_ganjil.append(plat)\n",
    "print(\"List Plat Genap: \", list_plat_genap )\n",
    "print(\"Plat genap berjumlah \", len(list_plat_genap))\n",
    "print(\"List Plat Ganjul: \", list_plat_ganjil )\n",
    "print(\"Plat ganjil berjumlah \", len(list_plat_ganjil))\n",
    "    \n",
    "        "
   ],
   "metadata": {
    "collapsed": false,
    "ExecuteTime": {
     "end_time": "2024-06-15T02:52:02.962833300Z",
     "start_time": "2024-06-15T02:52:02.935831700Z"
    }
   },
   "id": "cd8972df1edd24b3"
  },
  {
   "cell_type": "markdown",
   "source": [
    "#### Nomor 2\n",
    "Buatlah deret fibonacci 12 angka yang dimulai dari 2 dan 3 menggunakan iterasi cara for atau while. Output yang diharapkan adalah [2, 3, 5, 8, 13, 21, 34, 55, 89, 144, 233, 377] (5 poin)"
   ],
   "metadata": {
    "collapsed": false
   },
   "id": "d10a858fad9b501b"
  },
  {
   "cell_type": "code",
   "execution_count": 30,
   "outputs": [
    {
     "name": "stdout",
     "output_type": "stream",
     "text": [
      "Berikut adalah 12 angka pertama dari bilangan fibonacci  [2, 3, 5, 8, 13, 21, 34, 55, 89, 144, 233, 377]\n"
     ]
    }
   ],
   "source": [
    "list_bilangan_fibonacci = []\n",
    "bilangan_pertama = 2\n",
    "bilangan_kedua = 3\n",
    "list_bilangan_fibonacci.append(bilangan_pertama)\n",
    "list_bilangan_fibonacci.append(bilangan_kedua)\n",
    "\n",
    "for bilangan in range (0,10):\n",
    "    list_bilangan_fibonacci.append(list_bilangan_fibonacci[-1]+list_bilangan_fibonacci[-2])\n",
    "\n",
    "print(\"Berikut adalah 12 angka pertama dari bilangan fibonacci \", list_bilangan_fibonacci)    "
   ],
   "metadata": {
    "collapsed": false,
    "ExecuteTime": {
     "end_time": "2024-06-15T02:52:03.010784900Z",
     "start_time": "2024-06-15T02:52:02.965830700Z"
    }
   },
   "id": "abedb56652d7cb1"
  },
  {
   "cell_type": "markdown",
   "source": [
    "#### Nomor 3\n",
    "Team Campaign PT ABC akan membuat promo bundling category product (berisi 3 category setiap bundling) untuk promo 17 Agustus. PT ABC memiliki 10 category product. Ketentuan Bundling:\n",
    "1. Tidak boleh hanya memiliki 1 jenis category dalam 1 bundling\n",
    "2. 1 Bundling boleh memiliki 2 category yang sama\n",
    "3. Urutan tidak menjadi faktor pembeda (c1 - c2 - c3 = c2 - c1 - c3).\n",
    "Tentukan ada berapa jumlah kemungkinan bundling yang bisa terbentuk?\n",
    "Berikut list code category list_id_category = [c1, c2, c3, c4, c5, c6, c7 , c8, c9, c10] (10 poin) "
   ],
   "metadata": {
    "collapsed": false
   },
   "id": "ae179c9b651763d4"
  },
  {
   "cell_type": "code",
   "execution_count": 31,
   "outputs": [
    {
     "name": "stdout",
     "output_type": "stream",
     "text": [
      "Jumlah kemungkinan bundling yang terbentuk adalah, 210\n",
      "Berikut adalah kemungkinan kombinasinya: \n",
      "[['c1', 'c1', 'c10'], ['c1', 'c1', 'c2'], ['c1', 'c1', 'c3'], ['c1', 'c1', 'c4'], ['c1', 'c1', 'c5'], ['c1', 'c1', 'c6'], ['c1', 'c1', 'c7'], ['c1', 'c1', 'c8'], ['c1', 'c1', 'c9'], ['c1', 'c10', 'c10'], ['c1', 'c10', 'c2'], ['c1', 'c10', 'c3'], ['c1', 'c10', 'c4'], ['c1', 'c10', 'c5'], ['c1', 'c10', 'c6'], ['c1', 'c10', 'c7'], ['c1', 'c10', 'c8'], ['c1', 'c10', 'c9'], ['c1', 'c2', 'c2'], ['c1', 'c2', 'c3'], ['c1', 'c2', 'c4'], ['c1', 'c2', 'c5'], ['c1', 'c2', 'c6'], ['c1', 'c2', 'c7'], ['c1', 'c2', 'c8'], ['c1', 'c2', 'c9'], ['c1', 'c3', 'c3'], ['c1', 'c3', 'c4'], ['c1', 'c3', 'c5'], ['c1', 'c3', 'c6'], ['c1', 'c3', 'c7'], ['c1', 'c3', 'c8'], ['c1', 'c3', 'c9'], ['c1', 'c4', 'c4'], ['c1', 'c4', 'c5'], ['c1', 'c4', 'c6'], ['c1', 'c4', 'c7'], ['c1', 'c4', 'c8'], ['c1', 'c4', 'c9'], ['c1', 'c5', 'c5'], ['c1', 'c5', 'c6'], ['c1', 'c5', 'c7'], ['c1', 'c5', 'c8'], ['c1', 'c5', 'c9'], ['c1', 'c6', 'c6'], ['c1', 'c6', 'c7'], ['c1', 'c6', 'c8'], ['c1', 'c6', 'c9'], ['c1', 'c7', 'c7'], ['c1', 'c7', 'c8'], ['c1', 'c7', 'c9'], ['c1', 'c8', 'c8'], ['c1', 'c8', 'c9'], ['c1', 'c9', 'c9'], ['c10', 'c10', 'c2'], ['c10', 'c10', 'c3'], ['c10', 'c10', 'c4'], ['c10', 'c10', 'c5'], ['c10', 'c10', 'c6'], ['c10', 'c10', 'c7'], ['c10', 'c10', 'c8'], ['c10', 'c10', 'c9'], ['c10', 'c2', 'c2'], ['c10', 'c2', 'c3'], ['c10', 'c2', 'c4'], ['c10', 'c2', 'c5'], ['c10', 'c2', 'c6'], ['c10', 'c2', 'c7'], ['c10', 'c2', 'c8'], ['c10', 'c2', 'c9'], ['c10', 'c3', 'c3'], ['c10', 'c3', 'c4'], ['c10', 'c3', 'c5'], ['c10', 'c3', 'c6'], ['c10', 'c3', 'c7'], ['c10', 'c3', 'c8'], ['c10', 'c3', 'c9'], ['c10', 'c4', 'c4'], ['c10', 'c4', 'c5'], ['c10', 'c4', 'c6'], ['c10', 'c4', 'c7'], ['c10', 'c4', 'c8'], ['c10', 'c4', 'c9'], ['c10', 'c5', 'c5'], ['c10', 'c5', 'c6'], ['c10', 'c5', 'c7'], ['c10', 'c5', 'c8'], ['c10', 'c5', 'c9'], ['c10', 'c6', 'c6'], ['c10', 'c6', 'c7'], ['c10', 'c6', 'c8'], ['c10', 'c6', 'c9'], ['c10', 'c7', 'c7'], ['c10', 'c7', 'c8'], ['c10', 'c7', 'c9'], ['c10', 'c8', 'c8'], ['c10', 'c8', 'c9'], ['c10', 'c9', 'c9'], ['c2', 'c2', 'c3'], ['c2', 'c2', 'c4'], ['c2', 'c2', 'c5'], ['c2', 'c2', 'c6'], ['c2', 'c2', 'c7'], ['c2', 'c2', 'c8'], ['c2', 'c2', 'c9'], ['c2', 'c3', 'c3'], ['c2', 'c3', 'c4'], ['c2', 'c3', 'c5'], ['c2', 'c3', 'c6'], ['c2', 'c3', 'c7'], ['c2', 'c3', 'c8'], ['c2', 'c3', 'c9'], ['c2', 'c4', 'c4'], ['c2', 'c4', 'c5'], ['c2', 'c4', 'c6'], ['c2', 'c4', 'c7'], ['c2', 'c4', 'c8'], ['c2', 'c4', 'c9'], ['c2', 'c5', 'c5'], ['c2', 'c5', 'c6'], ['c2', 'c5', 'c7'], ['c2', 'c5', 'c8'], ['c2', 'c5', 'c9'], ['c2', 'c6', 'c6'], ['c2', 'c6', 'c7'], ['c2', 'c6', 'c8'], ['c2', 'c6', 'c9'], ['c2', 'c7', 'c7'], ['c2', 'c7', 'c8'], ['c2', 'c7', 'c9'], ['c2', 'c8', 'c8'], ['c2', 'c8', 'c9'], ['c2', 'c9', 'c9'], ['c3', 'c3', 'c4'], ['c3', 'c3', 'c5'], ['c3', 'c3', 'c6'], ['c3', 'c3', 'c7'], ['c3', 'c3', 'c8'], ['c3', 'c3', 'c9'], ['c3', 'c4', 'c4'], ['c3', 'c4', 'c5'], ['c3', 'c4', 'c6'], ['c3', 'c4', 'c7'], ['c3', 'c4', 'c8'], ['c3', 'c4', 'c9'], ['c3', 'c5', 'c5'], ['c3', 'c5', 'c6'], ['c3', 'c5', 'c7'], ['c3', 'c5', 'c8'], ['c3', 'c5', 'c9'], ['c3', 'c6', 'c6'], ['c3', 'c6', 'c7'], ['c3', 'c6', 'c8'], ['c3', 'c6', 'c9'], ['c3', 'c7', 'c7'], ['c3', 'c7', 'c8'], ['c3', 'c7', 'c9'], ['c3', 'c8', 'c8'], ['c3', 'c8', 'c9'], ['c3', 'c9', 'c9'], ['c4', 'c4', 'c5'], ['c4', 'c4', 'c6'], ['c4', 'c4', 'c7'], ['c4', 'c4', 'c8'], ['c4', 'c4', 'c9'], ['c4', 'c5', 'c5'], ['c4', 'c5', 'c6'], ['c4', 'c5', 'c7'], ['c4', 'c5', 'c8'], ['c4', 'c5', 'c9'], ['c4', 'c6', 'c6'], ['c4', 'c6', 'c7'], ['c4', 'c6', 'c8'], ['c4', 'c6', 'c9'], ['c4', 'c7', 'c7'], ['c4', 'c7', 'c8'], ['c4', 'c7', 'c9'], ['c4', 'c8', 'c8'], ['c4', 'c8', 'c9'], ['c4', 'c9', 'c9'], ['c5', 'c5', 'c6'], ['c5', 'c5', 'c7'], ['c5', 'c5', 'c8'], ['c5', 'c5', 'c9'], ['c5', 'c6', 'c6'], ['c5', 'c6', 'c7'], ['c5', 'c6', 'c8'], ['c5', 'c6', 'c9'], ['c5', 'c7', 'c7'], ['c5', 'c7', 'c8'], ['c5', 'c7', 'c9'], ['c5', 'c8', 'c8'], ['c5', 'c8', 'c9'], ['c5', 'c9', 'c9'], ['c6', 'c6', 'c7'], ['c6', 'c6', 'c8'], ['c6', 'c6', 'c9'], ['c6', 'c7', 'c7'], ['c6', 'c7', 'c8'], ['c6', 'c7', 'c9'], ['c6', 'c8', 'c8'], ['c6', 'c8', 'c9'], ['c6', 'c9', 'c9'], ['c7', 'c7', 'c8'], ['c7', 'c7', 'c9'], ['c7', 'c8', 'c8'], ['c7', 'c8', 'c9'], ['c7', 'c9', 'c9'], ['c8', 'c8', 'c9'], ['c8', 'c9', 'c9']]\n"
     ]
    }
   ],
   "source": [
    "list_kombinasi =[]\n",
    "list_id_category = [\"c1\", \"c2\", \"c3\", \"c4\", \"c5\", \"c6\", \"c7\" , \"c8\", \"c9\", \"c10\"]\n",
    "for category_1 in list_id_category:\n",
    "    for category_2 in list_id_category:\n",
    "        for category_3 in list_id_category[list_id_category.index(category_2)+1:]:\n",
    "            kombinasi =  sorted([category_1, category_2, category_3])\n",
    "            if kombinasi not in list_kombinasi:\n",
    "                list_kombinasi.append(kombinasi)\n",
    "print(\"Jumlah kemungkinan bundling yang terbentuk adalah,\" ,len(list_kombinasi))\n",
    "print(\"Berikut adalah kemungkinan kombinasinya: \")\n",
    "list_kombinasi.sort()\n",
    "print(list_kombinasi)"
   ],
   "metadata": {
    "collapsed": false,
    "ExecuteTime": {
     "end_time": "2024-06-15T02:52:03.100051600Z",
     "start_time": "2024-06-15T02:52:02.985942700Z"
    }
   },
   "id": "f1b18c4c083192"
  },
  {
   "cell_type": "markdown",
   "source": [
    "#### Nomor 4\n",
    "Buatlah sebuah function string_processor dengan inputan 2 parameter, yaitu suatu\n",
    "string 1 kata dan nama proses yang akan dilakukan. Function ini memiliki 4 proses\n",
    "a. first_char : return huruf pertama dari string yang diinput\n",
    "b. last_char : return huruf terakhir dari string yang diinput\n",
    "c. num_chars : return jumlah huruf string input\n",
    "d. num_vowels : return jumlah huruf vocal pada string input"
   ],
   "metadata": {
    "collapsed": false
   },
   "id": "11e96a997532a65f"
  },
  {
   "cell_type": "code",
   "execution_count": 32,
   "outputs": [
    {
     "name": "stdout",
     "output_type": "stream",
     "text": [
      "Proses tidak ditemukan, Masukkan kata proses dengan benar\n"
     ]
    }
   ],
   "source": [
    "def string_processor(string, proses):\n",
    "    if proses == 'first_char':\n",
    "        return string[0]\n",
    "    elif proses == 'last_char':\n",
    "        return string[-1]\n",
    "    elif proses == 'num_chars':\n",
    "        return len(string)\n",
    "    elif proses == 'num_vowels':\n",
    "        count = 0\n",
    "        vowels = 'aeiou'\n",
    "        for letter in string:\n",
    "            if letter in vowels:\n",
    "                count+=1\n",
    "        return count\n",
    "    else:\n",
    "        return \"Proses tidak ditemukan, Masukkan kata proses dengan benar\"\n",
    "print(string_processor(\"taia\",\"num_vowelfs\"))\n"
   ],
   "metadata": {
    "collapsed": false,
    "ExecuteTime": {
     "end_time": "2024-06-15T02:52:03.121597200Z",
     "start_time": "2024-06-15T02:52:02.997575900Z"
    }
   },
   "id": "84a4c4d2c995dd4"
  },
  {
   "cell_type": "markdown",
   "source": [
    "#### Nomor 5\n",
    "Menggunakan dataset rakamin_store_city_monthly! Buatlah 1 kolom baru pada dengan\n",
    "teknik apply lambda tanpa function def (cukup one liner) dengan nama kolom is_gmail\n",
    "dengan value True jika menggunakan gmail dan False jika selain gmail.\n",
    "Tentukan ada berapa user yang menggunakan email gmail pada tahun 2018!\n",
    "(14 poin)"
   ],
   "metadata": {
    "collapsed": false
   },
   "id": "f1f055b675544758"
  },
  {
   "cell_type": "code",
   "execution_count": 33,
   "outputs": [
    {
     "data": {
      "text/plain": "       month  user_id                 username  \\\n0    2016-01       16            Kevin Ningsih   \n1    2016-01       25            Sakti Hasaniy   \n2    2016-01       39              Izhar Halim   \n3    2016-02        8  Dikposa Yosua Krisnanto   \n4    2016-02       34          Ismail Wardhani   \n..       ...      ...                      ...   \n121  2020-12       75             June Andjani   \n122  2020-12       45              Maruto Asih   \n123  2020-12       50   Rizki Faishal Apriyani   \n124  2020-12       64     Amalia Widi Abelardo   \n125  2020-12       60             Putri Gasani   \n\n                                  email             kota  total_visit  \\\n0            kevinningsih@roketmail.com  Jakarta Selatan           95   \n1              saktihasaniy@outlook.com    Jakarta Pusat           97   \n2                  izharhalim@gmail.com    Jakarta Timur           84   \n3     dikposayosuakrisnanto@hotmail.com    Jakarta Pusat          113   \n4            ismailwardhani@hotmail.com  Jakarta Selatan           25   \n..                                  ...              ...          ...   \n121               juneandjani@gmail.com    Jakarta Utara           60   \n122                marutoasih@yahoo.com    Jakarta Utara           44   \n123  rizkifaishalapriyani@roketmail.com    Jakarta Timur           28   \n124      amaliawidiabelardo@outlook.com            Depok           10   \n125                  putrigsn@gmail.com           Bekasi           80   \n\n     total_order  total_amount  \n0             15         45724  \n1              1         26665  \n2             33        899001  \n3             11         22012  \n4              2         55620  \n..           ...           ...  \n121           26        645642  \n122           20         82843  \n123           17         35000  \n124           36        232972  \n125           70        540000  \n\n[126 rows x 8 columns]",
      "text/html": "<div>\n<style scoped>\n    .dataframe tbody tr th:only-of-type {\n        vertical-align: middle;\n    }\n\n    .dataframe tbody tr th {\n        vertical-align: top;\n    }\n\n    .dataframe thead th {\n        text-align: right;\n    }\n</style>\n<table border=\"1\" class=\"dataframe\">\n  <thead>\n    <tr style=\"text-align: right;\">\n      <th></th>\n      <th>month</th>\n      <th>user_id</th>\n      <th>username</th>\n      <th>email</th>\n      <th>kota</th>\n      <th>total_visit</th>\n      <th>total_order</th>\n      <th>total_amount</th>\n    </tr>\n  </thead>\n  <tbody>\n    <tr>\n      <th>0</th>\n      <td>2016-01</td>\n      <td>16</td>\n      <td>Kevin Ningsih</td>\n      <td>kevinningsih@roketmail.com</td>\n      <td>Jakarta Selatan</td>\n      <td>95</td>\n      <td>15</td>\n      <td>45724</td>\n    </tr>\n    <tr>\n      <th>1</th>\n      <td>2016-01</td>\n      <td>25</td>\n      <td>Sakti Hasaniy</td>\n      <td>saktihasaniy@outlook.com</td>\n      <td>Jakarta Pusat</td>\n      <td>97</td>\n      <td>1</td>\n      <td>26665</td>\n    </tr>\n    <tr>\n      <th>2</th>\n      <td>2016-01</td>\n      <td>39</td>\n      <td>Izhar Halim</td>\n      <td>izharhalim@gmail.com</td>\n      <td>Jakarta Timur</td>\n      <td>84</td>\n      <td>33</td>\n      <td>899001</td>\n    </tr>\n    <tr>\n      <th>3</th>\n      <td>2016-02</td>\n      <td>8</td>\n      <td>Dikposa Yosua Krisnanto</td>\n      <td>dikposayosuakrisnanto@hotmail.com</td>\n      <td>Jakarta Pusat</td>\n      <td>113</td>\n      <td>11</td>\n      <td>22012</td>\n    </tr>\n    <tr>\n      <th>4</th>\n      <td>2016-02</td>\n      <td>34</td>\n      <td>Ismail Wardhani</td>\n      <td>ismailwardhani@hotmail.com</td>\n      <td>Jakarta Selatan</td>\n      <td>25</td>\n      <td>2</td>\n      <td>55620</td>\n    </tr>\n    <tr>\n      <th>...</th>\n      <td>...</td>\n      <td>...</td>\n      <td>...</td>\n      <td>...</td>\n      <td>...</td>\n      <td>...</td>\n      <td>...</td>\n      <td>...</td>\n    </tr>\n    <tr>\n      <th>121</th>\n      <td>2020-12</td>\n      <td>75</td>\n      <td>June Andjani</td>\n      <td>juneandjani@gmail.com</td>\n      <td>Jakarta Utara</td>\n      <td>60</td>\n      <td>26</td>\n      <td>645642</td>\n    </tr>\n    <tr>\n      <th>122</th>\n      <td>2020-12</td>\n      <td>45</td>\n      <td>Maruto Asih</td>\n      <td>marutoasih@yahoo.com</td>\n      <td>Jakarta Utara</td>\n      <td>44</td>\n      <td>20</td>\n      <td>82843</td>\n    </tr>\n    <tr>\n      <th>123</th>\n      <td>2020-12</td>\n      <td>50</td>\n      <td>Rizki Faishal Apriyani</td>\n      <td>rizkifaishalapriyani@roketmail.com</td>\n      <td>Jakarta Timur</td>\n      <td>28</td>\n      <td>17</td>\n      <td>35000</td>\n    </tr>\n    <tr>\n      <th>124</th>\n      <td>2020-12</td>\n      <td>64</td>\n      <td>Amalia Widi Abelardo</td>\n      <td>amaliawidiabelardo@outlook.com</td>\n      <td>Depok</td>\n      <td>10</td>\n      <td>36</td>\n      <td>232972</td>\n    </tr>\n    <tr>\n      <th>125</th>\n      <td>2020-12</td>\n      <td>60</td>\n      <td>Putri Gasani</td>\n      <td>putrigsn@gmail.com</td>\n      <td>Bekasi</td>\n      <td>80</td>\n      <td>70</td>\n      <td>540000</td>\n    </tr>\n  </tbody>\n</table>\n<p>126 rows × 8 columns</p>\n</div>"
     },
     "execution_count": 33,
     "metadata": {},
     "output_type": "execute_result"
    }
   ],
   "source": [
    "import pandas as pd\n",
    "df = pd.read_csv('rakamin_store_city_monthly.csv',sep=\";\")\n",
    "df"
   ],
   "metadata": {
    "collapsed": false,
    "ExecuteTime": {
     "end_time": "2024-06-15T02:52:03.179241Z",
     "start_time": "2024-06-15T02:52:03.010784900Z"
    }
   },
   "id": "2b2b1be48e5a1bb"
  },
  {
   "cell_type": "code",
   "execution_count": 34,
   "outputs": [
    {
     "data": {
      "text/plain": "       month  user_id                 username  \\\n0    2016-01       16            Kevin Ningsih   \n1    2016-01       25            Sakti Hasaniy   \n2    2016-01       39              Izhar Halim   \n3    2016-02        8  Dikposa Yosua Krisnanto   \n4    2016-02       34          Ismail Wardhani   \n..       ...      ...                      ...   \n121  2020-12       75             June Andjani   \n122  2020-12       45              Maruto Asih   \n123  2020-12       50   Rizki Faishal Apriyani   \n124  2020-12       64     Amalia Widi Abelardo   \n125  2020-12       60             Putri Gasani   \n\n                                  email             kota  total_visit  \\\n0            kevinningsih@roketmail.com  Jakarta Selatan           95   \n1              saktihasaniy@outlook.com    Jakarta Pusat           97   \n2                  izharhalim@gmail.com    Jakarta Timur           84   \n3     dikposayosuakrisnanto@hotmail.com    Jakarta Pusat          113   \n4            ismailwardhani@hotmail.com  Jakarta Selatan           25   \n..                                  ...              ...          ...   \n121               juneandjani@gmail.com    Jakarta Utara           60   \n122                marutoasih@yahoo.com    Jakarta Utara           44   \n123  rizkifaishalapriyani@roketmail.com    Jakarta Timur           28   \n124      amaliawidiabelardo@outlook.com            Depok           10   \n125                  putrigsn@gmail.com           Bekasi           80   \n\n     total_order  total_amount  is_gmail  \n0             15         45724     False  \n1              1         26665     False  \n2             33        899001      True  \n3             11         22012     False  \n4              2         55620     False  \n..           ...           ...       ...  \n121           26        645642      True  \n122           20         82843     False  \n123           17         35000     False  \n124           36        232972     False  \n125           70        540000      True  \n\n[126 rows x 9 columns]",
      "text/html": "<div>\n<style scoped>\n    .dataframe tbody tr th:only-of-type {\n        vertical-align: middle;\n    }\n\n    .dataframe tbody tr th {\n        vertical-align: top;\n    }\n\n    .dataframe thead th {\n        text-align: right;\n    }\n</style>\n<table border=\"1\" class=\"dataframe\">\n  <thead>\n    <tr style=\"text-align: right;\">\n      <th></th>\n      <th>month</th>\n      <th>user_id</th>\n      <th>username</th>\n      <th>email</th>\n      <th>kota</th>\n      <th>total_visit</th>\n      <th>total_order</th>\n      <th>total_amount</th>\n      <th>is_gmail</th>\n    </tr>\n  </thead>\n  <tbody>\n    <tr>\n      <th>0</th>\n      <td>2016-01</td>\n      <td>16</td>\n      <td>Kevin Ningsih</td>\n      <td>kevinningsih@roketmail.com</td>\n      <td>Jakarta Selatan</td>\n      <td>95</td>\n      <td>15</td>\n      <td>45724</td>\n      <td>False</td>\n    </tr>\n    <tr>\n      <th>1</th>\n      <td>2016-01</td>\n      <td>25</td>\n      <td>Sakti Hasaniy</td>\n      <td>saktihasaniy@outlook.com</td>\n      <td>Jakarta Pusat</td>\n      <td>97</td>\n      <td>1</td>\n      <td>26665</td>\n      <td>False</td>\n    </tr>\n    <tr>\n      <th>2</th>\n      <td>2016-01</td>\n      <td>39</td>\n      <td>Izhar Halim</td>\n      <td>izharhalim@gmail.com</td>\n      <td>Jakarta Timur</td>\n      <td>84</td>\n      <td>33</td>\n      <td>899001</td>\n      <td>True</td>\n    </tr>\n    <tr>\n      <th>3</th>\n      <td>2016-02</td>\n      <td>8</td>\n      <td>Dikposa Yosua Krisnanto</td>\n      <td>dikposayosuakrisnanto@hotmail.com</td>\n      <td>Jakarta Pusat</td>\n      <td>113</td>\n      <td>11</td>\n      <td>22012</td>\n      <td>False</td>\n    </tr>\n    <tr>\n      <th>4</th>\n      <td>2016-02</td>\n      <td>34</td>\n      <td>Ismail Wardhani</td>\n      <td>ismailwardhani@hotmail.com</td>\n      <td>Jakarta Selatan</td>\n      <td>25</td>\n      <td>2</td>\n      <td>55620</td>\n      <td>False</td>\n    </tr>\n    <tr>\n      <th>...</th>\n      <td>...</td>\n      <td>...</td>\n      <td>...</td>\n      <td>...</td>\n      <td>...</td>\n      <td>...</td>\n      <td>...</td>\n      <td>...</td>\n      <td>...</td>\n    </tr>\n    <tr>\n      <th>121</th>\n      <td>2020-12</td>\n      <td>75</td>\n      <td>June Andjani</td>\n      <td>juneandjani@gmail.com</td>\n      <td>Jakarta Utara</td>\n      <td>60</td>\n      <td>26</td>\n      <td>645642</td>\n      <td>True</td>\n    </tr>\n    <tr>\n      <th>122</th>\n      <td>2020-12</td>\n      <td>45</td>\n      <td>Maruto Asih</td>\n      <td>marutoasih@yahoo.com</td>\n      <td>Jakarta Utara</td>\n      <td>44</td>\n      <td>20</td>\n      <td>82843</td>\n      <td>False</td>\n    </tr>\n    <tr>\n      <th>123</th>\n      <td>2020-12</td>\n      <td>50</td>\n      <td>Rizki Faishal Apriyani</td>\n      <td>rizkifaishalapriyani@roketmail.com</td>\n      <td>Jakarta Timur</td>\n      <td>28</td>\n      <td>17</td>\n      <td>35000</td>\n      <td>False</td>\n    </tr>\n    <tr>\n      <th>124</th>\n      <td>2020-12</td>\n      <td>64</td>\n      <td>Amalia Widi Abelardo</td>\n      <td>amaliawidiabelardo@outlook.com</td>\n      <td>Depok</td>\n      <td>10</td>\n      <td>36</td>\n      <td>232972</td>\n      <td>False</td>\n    </tr>\n    <tr>\n      <th>125</th>\n      <td>2020-12</td>\n      <td>60</td>\n      <td>Putri Gasani</td>\n      <td>putrigsn@gmail.com</td>\n      <td>Bekasi</td>\n      <td>80</td>\n      <td>70</td>\n      <td>540000</td>\n      <td>True</td>\n    </tr>\n  </tbody>\n</table>\n<p>126 rows × 9 columns</p>\n</div>"
     },
     "execution_count": 34,
     "metadata": {},
     "output_type": "execute_result"
    }
   ],
   "source": [
    "df['is_gmail'] = df['email'].apply(lambda mail: True if '@gmail' in mail else False)\n",
    "df"
   ],
   "metadata": {
    "collapsed": false,
    "ExecuteTime": {
     "end_time": "2024-06-15T02:52:03.204936600Z",
     "start_time": "2024-06-15T02:52:03.087873700Z"
    }
   },
   "id": "a592a31d552b6fe9"
  },
  {
   "cell_type": "code",
   "execution_count": 35,
   "outputs": [
    {
     "data": {
      "text/plain": "       month  user_id                 username  \\\n0    2016-01       16            Kevin Ningsih   \n1    2016-01       25            Sakti Hasaniy   \n2    2016-01       39              Izhar Halim   \n3    2016-02        8  Dikposa Yosua Krisnanto   \n4    2016-02       34          Ismail Wardhani   \n..       ...      ...                      ...   \n121  2020-12       75             June Andjani   \n122  2020-12       45              Maruto Asih   \n123  2020-12       50   Rizki Faishal Apriyani   \n124  2020-12       64     Amalia Widi Abelardo   \n125  2020-12       60             Putri Gasani   \n\n                                  email             kota  total_visit  \\\n0            kevinningsih@roketmail.com  Jakarta Selatan           95   \n1              saktihasaniy@outlook.com    Jakarta Pusat           97   \n2                  izharhalim@gmail.com    Jakarta Timur           84   \n3     dikposayosuakrisnanto@hotmail.com    Jakarta Pusat          113   \n4            ismailwardhani@hotmail.com  Jakarta Selatan           25   \n..                                  ...              ...          ...   \n121               juneandjani@gmail.com    Jakarta Utara           60   \n122                marutoasih@yahoo.com    Jakarta Utara           44   \n123  rizkifaishalapriyani@roketmail.com    Jakarta Timur           28   \n124      amaliawidiabelardo@outlook.com            Depok           10   \n125                  putrigsn@gmail.com           Bekasi           80   \n\n     total_order  total_amount  is_gmail  year  \n0             15         45724     False  2016  \n1              1         26665     False  2016  \n2             33        899001      True  2016  \n3             11         22012     False  2016  \n4              2         55620     False  2016  \n..           ...           ...       ...   ...  \n121           26        645642      True  2020  \n122           20         82843     False  2020  \n123           17         35000     False  2020  \n124           36        232972     False  2020  \n125           70        540000      True  2020  \n\n[126 rows x 10 columns]",
      "text/html": "<div>\n<style scoped>\n    .dataframe tbody tr th:only-of-type {\n        vertical-align: middle;\n    }\n\n    .dataframe tbody tr th {\n        vertical-align: top;\n    }\n\n    .dataframe thead th {\n        text-align: right;\n    }\n</style>\n<table border=\"1\" class=\"dataframe\">\n  <thead>\n    <tr style=\"text-align: right;\">\n      <th></th>\n      <th>month</th>\n      <th>user_id</th>\n      <th>username</th>\n      <th>email</th>\n      <th>kota</th>\n      <th>total_visit</th>\n      <th>total_order</th>\n      <th>total_amount</th>\n      <th>is_gmail</th>\n      <th>year</th>\n    </tr>\n  </thead>\n  <tbody>\n    <tr>\n      <th>0</th>\n      <td>2016-01</td>\n      <td>16</td>\n      <td>Kevin Ningsih</td>\n      <td>kevinningsih@roketmail.com</td>\n      <td>Jakarta Selatan</td>\n      <td>95</td>\n      <td>15</td>\n      <td>45724</td>\n      <td>False</td>\n      <td>2016</td>\n    </tr>\n    <tr>\n      <th>1</th>\n      <td>2016-01</td>\n      <td>25</td>\n      <td>Sakti Hasaniy</td>\n      <td>saktihasaniy@outlook.com</td>\n      <td>Jakarta Pusat</td>\n      <td>97</td>\n      <td>1</td>\n      <td>26665</td>\n      <td>False</td>\n      <td>2016</td>\n    </tr>\n    <tr>\n      <th>2</th>\n      <td>2016-01</td>\n      <td>39</td>\n      <td>Izhar Halim</td>\n      <td>izharhalim@gmail.com</td>\n      <td>Jakarta Timur</td>\n      <td>84</td>\n      <td>33</td>\n      <td>899001</td>\n      <td>True</td>\n      <td>2016</td>\n    </tr>\n    <tr>\n      <th>3</th>\n      <td>2016-02</td>\n      <td>8</td>\n      <td>Dikposa Yosua Krisnanto</td>\n      <td>dikposayosuakrisnanto@hotmail.com</td>\n      <td>Jakarta Pusat</td>\n      <td>113</td>\n      <td>11</td>\n      <td>22012</td>\n      <td>False</td>\n      <td>2016</td>\n    </tr>\n    <tr>\n      <th>4</th>\n      <td>2016-02</td>\n      <td>34</td>\n      <td>Ismail Wardhani</td>\n      <td>ismailwardhani@hotmail.com</td>\n      <td>Jakarta Selatan</td>\n      <td>25</td>\n      <td>2</td>\n      <td>55620</td>\n      <td>False</td>\n      <td>2016</td>\n    </tr>\n    <tr>\n      <th>...</th>\n      <td>...</td>\n      <td>...</td>\n      <td>...</td>\n      <td>...</td>\n      <td>...</td>\n      <td>...</td>\n      <td>...</td>\n      <td>...</td>\n      <td>...</td>\n      <td>...</td>\n    </tr>\n    <tr>\n      <th>121</th>\n      <td>2020-12</td>\n      <td>75</td>\n      <td>June Andjani</td>\n      <td>juneandjani@gmail.com</td>\n      <td>Jakarta Utara</td>\n      <td>60</td>\n      <td>26</td>\n      <td>645642</td>\n      <td>True</td>\n      <td>2020</td>\n    </tr>\n    <tr>\n      <th>122</th>\n      <td>2020-12</td>\n      <td>45</td>\n      <td>Maruto Asih</td>\n      <td>marutoasih@yahoo.com</td>\n      <td>Jakarta Utara</td>\n      <td>44</td>\n      <td>20</td>\n      <td>82843</td>\n      <td>False</td>\n      <td>2020</td>\n    </tr>\n    <tr>\n      <th>123</th>\n      <td>2020-12</td>\n      <td>50</td>\n      <td>Rizki Faishal Apriyani</td>\n      <td>rizkifaishalapriyani@roketmail.com</td>\n      <td>Jakarta Timur</td>\n      <td>28</td>\n      <td>17</td>\n      <td>35000</td>\n      <td>False</td>\n      <td>2020</td>\n    </tr>\n    <tr>\n      <th>124</th>\n      <td>2020-12</td>\n      <td>64</td>\n      <td>Amalia Widi Abelardo</td>\n      <td>amaliawidiabelardo@outlook.com</td>\n      <td>Depok</td>\n      <td>10</td>\n      <td>36</td>\n      <td>232972</td>\n      <td>False</td>\n      <td>2020</td>\n    </tr>\n    <tr>\n      <th>125</th>\n      <td>2020-12</td>\n      <td>60</td>\n      <td>Putri Gasani</td>\n      <td>putrigsn@gmail.com</td>\n      <td>Bekasi</td>\n      <td>80</td>\n      <td>70</td>\n      <td>540000</td>\n      <td>True</td>\n      <td>2020</td>\n    </tr>\n  </tbody>\n</table>\n<p>126 rows × 10 columns</p>\n</div>"
     },
     "execution_count": 35,
     "metadata": {},
     "output_type": "execute_result"
    }
   ],
   "source": [
    "df['year'] = df['month'].str[:4]\n",
    "df"
   ],
   "metadata": {
    "collapsed": false,
    "ExecuteTime": {
     "end_time": "2024-06-15T02:52:03.267220600Z",
     "start_time": "2024-06-15T02:52:03.107050600Z"
    }
   },
   "id": "8289987b56e6e36b"
  },
  {
   "cell_type": "code",
   "execution_count": 36,
   "outputs": [
    {
     "data": {
      "text/plain": "   year  is_gmail\n2  2018        18",
      "text/html": "<div>\n<style scoped>\n    .dataframe tbody tr th:only-of-type {\n        vertical-align: middle;\n    }\n\n    .dataframe tbody tr th {\n        vertical-align: top;\n    }\n\n    .dataframe thead th {\n        text-align: right;\n    }\n</style>\n<table border=\"1\" class=\"dataframe\">\n  <thead>\n    <tr style=\"text-align: right;\">\n      <th></th>\n      <th>year</th>\n      <th>is_gmail</th>\n    </tr>\n  </thead>\n  <tbody>\n    <tr>\n      <th>2</th>\n      <td>2018</td>\n      <td>18</td>\n    </tr>\n  </tbody>\n</table>\n</div>"
     },
     "execution_count": 36,
     "metadata": {},
     "output_type": "execute_result"
    }
   ],
   "source": [
    "df_agg = df.groupby('year')['is_gmail'].count().reset_index()\n",
    "df_agg_2018=  df_agg[df_agg['year'] == \"2018\"]\n",
    "df_agg_2018"
   ],
   "metadata": {
    "collapsed": false,
    "ExecuteTime": {
     "end_time": "2024-06-15T02:52:03.282363900Z",
     "start_time": "2024-06-15T02:52:03.136683400Z"
    }
   },
   "id": "b3c4377f184877f0"
  },
  {
   "cell_type": "code",
   "execution_count": 37,
   "outputs": [
    {
     "name": "stdout",
     "output_type": "stream",
     "text": [
      "jumlah user pengguna gmail pada tahun 2018 sebesar  2    18\n",
      "Name: is_gmail, dtype: int64\n"
     ]
    }
   ],
   "source": [
    "print(\"jumlah user pengguna gmail pada tahun 2018 sebesar \", df_agg_2018['is_gmail'])"
   ],
   "metadata": {
    "collapsed": false,
    "ExecuteTime": {
     "end_time": "2024-06-15T02:52:03.284356200Z",
     "start_time": "2024-06-15T02:52:03.153001900Z"
    }
   },
   "id": "ccd105e52419af7"
  },
  {
   "cell_type": "markdown",
   "source": [
    "#### Nomor 6\n",
    "Menggunakan dataset superstore! Buatlah function yang bisa menghitung Jumlah Sales dan Profit pada suatu tahun dan region tertentu dengan default tahun 2017. Tentukan total sales dan profit:\n",
    "1. South Region pada tahun 2016\n",
    "2. West Region pada tahun 2017"
   ],
   "metadata": {
    "collapsed": false
   },
   "id": "5314569657839bcc"
  },
  {
   "cell_type": "code",
   "execution_count": 38,
   "outputs": [
    {
     "data": {
      "text/plain": "      Row ID        Order ID Order Date  Ship Date       Ship Mode  \\\n0          1  CA-2016-152156 2016-11-08 2016-11-11    Second Class   \n1          2  CA-2016-152156 2016-11-08 2016-11-11    Second Class   \n2          3  CA-2016-138688 2016-06-12 2016-06-16    Second Class   \n3          4  US-2015-108966 2015-10-11 2015-10-18  Standard Class   \n4          5  US-2015-108966 2015-10-11 2015-10-18  Standard Class   \n...      ...             ...        ...        ...             ...   \n9989    9990  CA-2014-110422 2014-01-21 2014-01-23    Second Class   \n9990    9991  CA-2017-121258 2017-02-26 2017-03-03  Standard Class   \n9991    9992  CA-2017-121258 2017-02-26 2017-03-03  Standard Class   \n9992    9993  CA-2017-121258 2017-02-26 2017-03-03  Standard Class   \n9993    9994  CA-2017-119914 2017-05-04 2017-05-09    Second Class   \n\n     Customer ID     Customer Name    Segment        Country             City  \\\n0       CG-12520       Claire Gute   Consumer  United States        Henderson   \n1       CG-12520       Claire Gute   Consumer  United States        Henderson   \n2       DV-13045   Darrin Van Huff  Corporate  United States      Los Angeles   \n3       SO-20335    Sean O'Donnell   Consumer  United States  Fort Lauderdale   \n4       SO-20335    Sean O'Donnell   Consumer  United States  Fort Lauderdale   \n...          ...               ...        ...            ...              ...   \n9989    TB-21400  Tom Boeckenhauer   Consumer  United States            Miami   \n9990    DB-13060       Dave Brooks   Consumer  United States       Costa Mesa   \n9991    DB-13060       Dave Brooks   Consumer  United States       Costa Mesa   \n9992    DB-13060       Dave Brooks   Consumer  United States       Costa Mesa   \n9993    CC-12220      Chris Cortes   Consumer  United States      Westminster   \n\n      ... Postal Code  Region       Product ID         Category Sub-Category  \\\n0     ...       42420   South  FUR-BO-10001798        Furniture    Bookcases   \n1     ...       42420   South  FUR-CH-10000454        Furniture       Chairs   \n2     ...       90036    West  OFF-LA-10000240  Office Supplies       Labels   \n3     ...       33311   South  FUR-TA-10000577        Furniture       Tables   \n4     ...       33311   South  OFF-ST-10000760  Office Supplies      Storage   \n...   ...         ...     ...              ...              ...          ...   \n9989  ...       33180   South  FUR-FU-10001889        Furniture  Furnishings   \n9990  ...       92627    West  FUR-FU-10000747        Furniture  Furnishings   \n9991  ...       92627    West  TEC-PH-10003645       Technology       Phones   \n9992  ...       92627    West  OFF-PA-10004041  Office Supplies        Paper   \n9993  ...       92683    West  OFF-AP-10002684  Office Supplies   Appliances   \n\n                                           Product Name     Sales  Quantity  \\\n0                     Bush Somerset Collection Bookcase  261.9600         2   \n1     Hon Deluxe Fabric Upholstered Stacking Chairs,...  731.9400         3   \n2     Self-Adhesive Address Labels for Typewriters b...   14.6200         2   \n3         Bretford CR4500 Series Slim Rectangular Table  957.5775         5   \n4                        Eldon Fold 'N Roll Cart System   22.3680         2   \n...                                                 ...       ...       ...   \n9989                             Ultra Door Pull Handle   25.2480         3   \n9990  Tenex B1-RE Series Chair Mats for Low Pile Car...   91.9600         2   \n9991                              Aastra 57i VoIP phone  258.5760         2   \n9992  It's Hot Message Books with Stickers, 2 3/4\" x 5\"   29.6000         4   \n9993  Acco 7-Outlet Masterpiece Power Center, Wihtou...  243.1600         2   \n\n      Discount    Profit  \n0         0.00   41.9136  \n1         0.00  219.5820  \n2         0.00    6.8714  \n3         0.45 -383.0310  \n4         0.20    2.5164  \n...        ...       ...  \n9989      0.20    4.1028  \n9990      0.00   15.6332  \n9991      0.20   19.3932  \n9992      0.00   13.3200  \n9993      0.00   72.9480  \n\n[9994 rows x 21 columns]",
      "text/html": "<div>\n<style scoped>\n    .dataframe tbody tr th:only-of-type {\n        vertical-align: middle;\n    }\n\n    .dataframe tbody tr th {\n        vertical-align: top;\n    }\n\n    .dataframe thead th {\n        text-align: right;\n    }\n</style>\n<table border=\"1\" class=\"dataframe\">\n  <thead>\n    <tr style=\"text-align: right;\">\n      <th></th>\n      <th>Row ID</th>\n      <th>Order ID</th>\n      <th>Order Date</th>\n      <th>Ship Date</th>\n      <th>Ship Mode</th>\n      <th>Customer ID</th>\n      <th>Customer Name</th>\n      <th>Segment</th>\n      <th>Country</th>\n      <th>City</th>\n      <th>...</th>\n      <th>Postal Code</th>\n      <th>Region</th>\n      <th>Product ID</th>\n      <th>Category</th>\n      <th>Sub-Category</th>\n      <th>Product Name</th>\n      <th>Sales</th>\n      <th>Quantity</th>\n      <th>Discount</th>\n      <th>Profit</th>\n    </tr>\n  </thead>\n  <tbody>\n    <tr>\n      <th>0</th>\n      <td>1</td>\n      <td>CA-2016-152156</td>\n      <td>2016-11-08</td>\n      <td>2016-11-11</td>\n      <td>Second Class</td>\n      <td>CG-12520</td>\n      <td>Claire Gute</td>\n      <td>Consumer</td>\n      <td>United States</td>\n      <td>Henderson</td>\n      <td>...</td>\n      <td>42420</td>\n      <td>South</td>\n      <td>FUR-BO-10001798</td>\n      <td>Furniture</td>\n      <td>Bookcases</td>\n      <td>Bush Somerset Collection Bookcase</td>\n      <td>261.9600</td>\n      <td>2</td>\n      <td>0.00</td>\n      <td>41.9136</td>\n    </tr>\n    <tr>\n      <th>1</th>\n      <td>2</td>\n      <td>CA-2016-152156</td>\n      <td>2016-11-08</td>\n      <td>2016-11-11</td>\n      <td>Second Class</td>\n      <td>CG-12520</td>\n      <td>Claire Gute</td>\n      <td>Consumer</td>\n      <td>United States</td>\n      <td>Henderson</td>\n      <td>...</td>\n      <td>42420</td>\n      <td>South</td>\n      <td>FUR-CH-10000454</td>\n      <td>Furniture</td>\n      <td>Chairs</td>\n      <td>Hon Deluxe Fabric Upholstered Stacking Chairs,...</td>\n      <td>731.9400</td>\n      <td>3</td>\n      <td>0.00</td>\n      <td>219.5820</td>\n    </tr>\n    <tr>\n      <th>2</th>\n      <td>3</td>\n      <td>CA-2016-138688</td>\n      <td>2016-06-12</td>\n      <td>2016-06-16</td>\n      <td>Second Class</td>\n      <td>DV-13045</td>\n      <td>Darrin Van Huff</td>\n      <td>Corporate</td>\n      <td>United States</td>\n      <td>Los Angeles</td>\n      <td>...</td>\n      <td>90036</td>\n      <td>West</td>\n      <td>OFF-LA-10000240</td>\n      <td>Office Supplies</td>\n      <td>Labels</td>\n      <td>Self-Adhesive Address Labels for Typewriters b...</td>\n      <td>14.6200</td>\n      <td>2</td>\n      <td>0.00</td>\n      <td>6.8714</td>\n    </tr>\n    <tr>\n      <th>3</th>\n      <td>4</td>\n      <td>US-2015-108966</td>\n      <td>2015-10-11</td>\n      <td>2015-10-18</td>\n      <td>Standard Class</td>\n      <td>SO-20335</td>\n      <td>Sean O'Donnell</td>\n      <td>Consumer</td>\n      <td>United States</td>\n      <td>Fort Lauderdale</td>\n      <td>...</td>\n      <td>33311</td>\n      <td>South</td>\n      <td>FUR-TA-10000577</td>\n      <td>Furniture</td>\n      <td>Tables</td>\n      <td>Bretford CR4500 Series Slim Rectangular Table</td>\n      <td>957.5775</td>\n      <td>5</td>\n      <td>0.45</td>\n      <td>-383.0310</td>\n    </tr>\n    <tr>\n      <th>4</th>\n      <td>5</td>\n      <td>US-2015-108966</td>\n      <td>2015-10-11</td>\n      <td>2015-10-18</td>\n      <td>Standard Class</td>\n      <td>SO-20335</td>\n      <td>Sean O'Donnell</td>\n      <td>Consumer</td>\n      <td>United States</td>\n      <td>Fort Lauderdale</td>\n      <td>...</td>\n      <td>33311</td>\n      <td>South</td>\n      <td>OFF-ST-10000760</td>\n      <td>Office Supplies</td>\n      <td>Storage</td>\n      <td>Eldon Fold 'N Roll Cart System</td>\n      <td>22.3680</td>\n      <td>2</td>\n      <td>0.20</td>\n      <td>2.5164</td>\n    </tr>\n    <tr>\n      <th>...</th>\n      <td>...</td>\n      <td>...</td>\n      <td>...</td>\n      <td>...</td>\n      <td>...</td>\n      <td>...</td>\n      <td>...</td>\n      <td>...</td>\n      <td>...</td>\n      <td>...</td>\n      <td>...</td>\n      <td>...</td>\n      <td>...</td>\n      <td>...</td>\n      <td>...</td>\n      <td>...</td>\n      <td>...</td>\n      <td>...</td>\n      <td>...</td>\n      <td>...</td>\n      <td>...</td>\n    </tr>\n    <tr>\n      <th>9989</th>\n      <td>9990</td>\n      <td>CA-2014-110422</td>\n      <td>2014-01-21</td>\n      <td>2014-01-23</td>\n      <td>Second Class</td>\n      <td>TB-21400</td>\n      <td>Tom Boeckenhauer</td>\n      <td>Consumer</td>\n      <td>United States</td>\n      <td>Miami</td>\n      <td>...</td>\n      <td>33180</td>\n      <td>South</td>\n      <td>FUR-FU-10001889</td>\n      <td>Furniture</td>\n      <td>Furnishings</td>\n      <td>Ultra Door Pull Handle</td>\n      <td>25.2480</td>\n      <td>3</td>\n      <td>0.20</td>\n      <td>4.1028</td>\n    </tr>\n    <tr>\n      <th>9990</th>\n      <td>9991</td>\n      <td>CA-2017-121258</td>\n      <td>2017-02-26</td>\n      <td>2017-03-03</td>\n      <td>Standard Class</td>\n      <td>DB-13060</td>\n      <td>Dave Brooks</td>\n      <td>Consumer</td>\n      <td>United States</td>\n      <td>Costa Mesa</td>\n      <td>...</td>\n      <td>92627</td>\n      <td>West</td>\n      <td>FUR-FU-10000747</td>\n      <td>Furniture</td>\n      <td>Furnishings</td>\n      <td>Tenex B1-RE Series Chair Mats for Low Pile Car...</td>\n      <td>91.9600</td>\n      <td>2</td>\n      <td>0.00</td>\n      <td>15.6332</td>\n    </tr>\n    <tr>\n      <th>9991</th>\n      <td>9992</td>\n      <td>CA-2017-121258</td>\n      <td>2017-02-26</td>\n      <td>2017-03-03</td>\n      <td>Standard Class</td>\n      <td>DB-13060</td>\n      <td>Dave Brooks</td>\n      <td>Consumer</td>\n      <td>United States</td>\n      <td>Costa Mesa</td>\n      <td>...</td>\n      <td>92627</td>\n      <td>West</td>\n      <td>TEC-PH-10003645</td>\n      <td>Technology</td>\n      <td>Phones</td>\n      <td>Aastra 57i VoIP phone</td>\n      <td>258.5760</td>\n      <td>2</td>\n      <td>0.20</td>\n      <td>19.3932</td>\n    </tr>\n    <tr>\n      <th>9992</th>\n      <td>9993</td>\n      <td>CA-2017-121258</td>\n      <td>2017-02-26</td>\n      <td>2017-03-03</td>\n      <td>Standard Class</td>\n      <td>DB-13060</td>\n      <td>Dave Brooks</td>\n      <td>Consumer</td>\n      <td>United States</td>\n      <td>Costa Mesa</td>\n      <td>...</td>\n      <td>92627</td>\n      <td>West</td>\n      <td>OFF-PA-10004041</td>\n      <td>Office Supplies</td>\n      <td>Paper</td>\n      <td>It's Hot Message Books with Stickers, 2 3/4\" x 5\"</td>\n      <td>29.6000</td>\n      <td>4</td>\n      <td>0.00</td>\n      <td>13.3200</td>\n    </tr>\n    <tr>\n      <th>9993</th>\n      <td>9994</td>\n      <td>CA-2017-119914</td>\n      <td>2017-05-04</td>\n      <td>2017-05-09</td>\n      <td>Second Class</td>\n      <td>CC-12220</td>\n      <td>Chris Cortes</td>\n      <td>Consumer</td>\n      <td>United States</td>\n      <td>Westminster</td>\n      <td>...</td>\n      <td>92683</td>\n      <td>West</td>\n      <td>OFF-AP-10002684</td>\n      <td>Office Supplies</td>\n      <td>Appliances</td>\n      <td>Acco 7-Outlet Masterpiece Power Center, Wihtou...</td>\n      <td>243.1600</td>\n      <td>2</td>\n      <td>0.00</td>\n      <td>72.9480</td>\n    </tr>\n  </tbody>\n</table>\n<p>9994 rows × 21 columns</p>\n</div>"
     },
     "execution_count": 38,
     "metadata": {},
     "output_type": "execute_result"
    }
   ],
   "source": [
    "df2 = pd.read_excel('superstore.xls')\n",
    "df2"
   ],
   "metadata": {
    "collapsed": false,
    "ExecuteTime": {
     "end_time": "2024-06-15T02:52:04.030656300Z",
     "start_time": "2024-06-15T02:52:03.165090700Z"
    }
   },
   "id": "2049c67ec2905e06"
  },
  {
   "cell_type": "code",
   "execution_count": 39,
   "outputs": [],
   "source": [
    "def jumlah_sales_dan_profit(dataframe, region, tahun=2017):\n",
    "    data_used = dataframe\n",
    "    data_used['Order Year'] = data_used['Order Date'].dt.year\n",
    "    data_with_filter = data_used[(data_used['Region'] == region) & (data_used['Order Year'] == tahun)]\n",
    "    result = data_with_filter.groupby(['Region','Order Year']).agg(\n",
    "        total_sales = ('Sales', 'sum'),\n",
    "        total_profit = ('Profit', 'sum')\n",
    "    )\n",
    "    return result"
   ],
   "metadata": {
    "collapsed": false,
    "ExecuteTime": {
     "end_time": "2024-06-15T02:52:04.053853900Z",
     "start_time": "2024-06-15T02:52:04.029658100Z"
    }
   },
   "id": "ef3c51cd12431180"
  },
  {
   "cell_type": "code",
   "execution_count": 40,
   "outputs": [
    {
     "data": {
      "text/plain": "                   total_sales  total_profit\nRegion Order Year                           \nSouth  2016         93610.2235    17702.8084",
      "text/html": "<div>\n<style scoped>\n    .dataframe tbody tr th:only-of-type {\n        vertical-align: middle;\n    }\n\n    .dataframe tbody tr th {\n        vertical-align: top;\n    }\n\n    .dataframe thead th {\n        text-align: right;\n    }\n</style>\n<table border=\"1\" class=\"dataframe\">\n  <thead>\n    <tr style=\"text-align: right;\">\n      <th></th>\n      <th></th>\n      <th>total_sales</th>\n      <th>total_profit</th>\n    </tr>\n    <tr>\n      <th>Region</th>\n      <th>Order Year</th>\n      <th></th>\n      <th></th>\n    </tr>\n  </thead>\n  <tbody>\n    <tr>\n      <th>South</th>\n      <th>2016</th>\n      <td>93610.2235</td>\n      <td>17702.8084</td>\n    </tr>\n  </tbody>\n</table>\n</div>"
     },
     "execution_count": 40,
     "metadata": {},
     "output_type": "execute_result"
    }
   ],
   "source": [
    "jumlah_sales_dan_profit(df2, region=\"South\", tahun=2016)"
   ],
   "metadata": {
    "collapsed": false,
    "ExecuteTime": {
     "end_time": "2024-06-15T02:52:04.125923500Z",
     "start_time": "2024-06-15T02:52:04.044658800Z"
    }
   },
   "id": "b4853567157e1f63"
  },
  {
   "cell_type": "code",
   "execution_count": 47,
   "outputs": [
    {
     "data": {
      "text/plain": "                   total_sales  total_profit\nRegion Order Year                           \nWest   2017        250128.3655    43808.9561",
      "text/html": "<div>\n<style scoped>\n    .dataframe tbody tr th:only-of-type {\n        vertical-align: middle;\n    }\n\n    .dataframe tbody tr th {\n        vertical-align: top;\n    }\n\n    .dataframe thead th {\n        text-align: right;\n    }\n</style>\n<table border=\"1\" class=\"dataframe\">\n  <thead>\n    <tr style=\"text-align: right;\">\n      <th></th>\n      <th></th>\n      <th>total_sales</th>\n      <th>total_profit</th>\n    </tr>\n    <tr>\n      <th>Region</th>\n      <th>Order Year</th>\n      <th></th>\n      <th></th>\n    </tr>\n  </thead>\n  <tbody>\n    <tr>\n      <th>West</th>\n      <th>2017</th>\n      <td>250128.3655</td>\n      <td>43808.9561</td>\n    </tr>\n  </tbody>\n</table>\n</div>"
     },
     "execution_count": 47,
     "metadata": {},
     "output_type": "execute_result"
    }
   ],
   "source": [
    "jumlah_sales_dan_profit(df2, region=\"West\", tahun=2017)"
   ],
   "metadata": {
    "collapsed": false,
    "ExecuteTime": {
     "end_time": "2024-06-15T02:53:13.550595400Z",
     "start_time": "2024-06-15T02:53:13.504738700Z"
    }
   },
   "id": "e0b81a9e8707623e"
  },
  {
   "cell_type": "markdown",
   "source": [],
   "metadata": {
    "collapsed": false
   },
   "id": "127b5771c2dea87b"
  },
  {
   "cell_type": "markdown",
   "source": [],
   "metadata": {
    "collapsed": false
   },
   "id": "3132636ae412d796"
  },
  {
   "cell_type": "markdown",
   "source": [],
   "metadata": {
    "collapsed": false
   },
   "id": "9b4018f625f00f77"
  },
  {
   "cell_type": "code",
   "execution_count": 41,
   "outputs": [
    {
     "name": "stdout",
     "output_type": "stream",
     "text": [
      "<list_iterator object at 0x0000019268969970>\n"
     ]
    }
   ],
   "source": [
    "print(iter(['Apel',\"Mangga\"]))"
   ],
   "metadata": {
    "collapsed": false,
    "ExecuteTime": {
     "end_time": "2024-06-15T02:52:04.126924400Z",
     "start_time": "2024-06-15T02:52:04.074866700Z"
    }
   },
   "id": "6d3fd467b564a535"
  },
  {
   "cell_type": "code",
   "execution_count": 41,
   "outputs": [],
   "source": [],
   "metadata": {
    "collapsed": false,
    "ExecuteTime": {
     "end_time": "2024-06-15T02:52:04.224552200Z",
     "start_time": "2024-06-15T02:52:04.089383Z"
    }
   },
   "id": "701694df7fd87f1f"
  },
  {
   "cell_type": "code",
   "execution_count": 42,
   "outputs": [
    {
     "name": "stdout",
     "output_type": "stream",
     "text": [
      "126 10\n"
     ]
    }
   ],
   "source": [
    "a=0\n",
    "b=2\n",
    "c=2\n",
    "\n",
    "while a < 9:\n",
    "    b = b*c + 2\n",
    "    a+=2\n",
    "print(b,a)"
   ],
   "metadata": {
    "collapsed": false,
    "ExecuteTime": {
     "end_time": "2024-06-15T02:52:04.226543600Z",
     "start_time": "2024-06-15T02:52:04.104664700Z"
    }
   },
   "id": "7f08483dc4b89b08"
  },
  {
   "cell_type": "code",
   "execution_count": 43,
   "outputs": [
    {
     "name": "stdout",
     "output_type": "stream",
     "text": [
      "januari\n"
     ]
    }
   ],
   "source": [
    "dict = {'januari' :30}\n",
    "for i in dict:\n",
    "    print(i)"
   ],
   "metadata": {
    "collapsed": false,
    "ExecuteTime": {
     "end_time": "2024-06-15T02:52:04.277305900Z",
     "start_time": "2024-06-15T02:52:04.119818100Z"
    }
   },
   "id": "dc87f4d9c21b997b"
  },
  {
   "cell_type": "code",
   "execution_count": 44,
   "outputs": [
    {
     "name": "stdout",
     "output_type": "stream",
     "text": [
      "10\n"
     ]
    }
   ],
   "source": [
    "a = 10\n",
    "def pangkat(a,n):\n",
    "    pangkat = a**n\n",
    "    a = a + 10 \n",
    "    return pangkat\n",
    "pangkat(2,3)\n",
    "print(a)"
   ],
   "metadata": {
    "collapsed": false,
    "ExecuteTime": {
     "end_time": "2024-06-15T02:52:04.340346600Z",
     "start_time": "2024-06-15T02:52:04.136031300Z"
    }
   },
   "id": "4239a723786376c6"
  },
  {
   "cell_type": "code",
   "execution_count": 45,
   "outputs": [
    {
     "name": "stdout",
     "output_type": "stream",
     "text": [
      "20\n"
     ]
    }
   ],
   "source": [
    "courier = ['a','b','c','d','e']\n",
    "n = 0\n",
    "for i in courier:\n",
    "    for j in courier:\n",
    "        if i != j:\n",
    "            n +=1\n",
    "print(n)"
   ],
   "metadata": {
    "collapsed": false,
    "ExecuteTime": {
     "end_time": "2024-06-15T02:52:04.436067800Z",
     "start_time": "2024-06-15T02:52:04.152241400Z"
    }
   },
   "id": "1fd03ea0dcbed9b0"
  },
  {
   "cell_type": "code",
   "execution_count": 46,
   "outputs": [
    {
     "data": {
      "text/plain": "['B', 'B', 'B', 'B', 'B', 'B', 'D', 'AE', 'AE']"
     },
     "execution_count": 46,
     "metadata": {},
     "output_type": "execute_result"
    }
   ],
   "source": [
    "def extract_region_code(x):\n",
    "    list = []\n",
    "    for i in x:\n",
    "        list.append(i.split()[0])\n",
    "    return list\n",
    "extract_region_code(['B 1234 AB', 'B 6721 TY', 'B 1233 AY', 'B 6629 DD', 'B 1111 AM', 'B 6726 D', 'D 11223 KJ', 'AE 44677 GH', 'AE 67269 AA'])\n"
   ],
   "metadata": {
    "collapsed": false,
    "ExecuteTime": {
     "end_time": "2024-06-15T02:52:04.438068200Z",
     "start_time": "2024-06-15T02:52:04.166371600Z"
    }
   },
   "id": "88f296eef80f186f"
  },
  {
   "cell_type": "code",
   "execution_count": 46,
   "outputs": [],
   "source": [],
   "metadata": {
    "collapsed": false,
    "ExecuteTime": {
     "end_time": "2024-06-15T02:52:04.438068200Z",
     "start_time": "2024-06-15T02:52:04.182674400Z"
    }
   },
   "id": "b2897553dc590cef"
  }
 ],
 "metadata": {
  "kernelspec": {
   "display_name": "Python 3",
   "language": "python",
   "name": "python3"
  },
  "language_info": {
   "codemirror_mode": {
    "name": "ipython",
    "version": 2
   },
   "file_extension": ".py",
   "mimetype": "text/x-python",
   "name": "python",
   "nbconvert_exporter": "python",
   "pygments_lexer": "ipython2",
   "version": "2.7.6"
  }
 },
 "nbformat": 4,
 "nbformat_minor": 5
}
