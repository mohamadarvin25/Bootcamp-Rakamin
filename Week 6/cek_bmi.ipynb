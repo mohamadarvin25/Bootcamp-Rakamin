{
 "cells": [
  {
   "cell_type": "markdown",
   "source": [
    "### Nama: Mohamad Arvin Fadriansyah"
   ],
   "metadata": {
    "collapsed": false
   },
   "id": "ec372d0a94250047"
  },
  {
   "cell_type": "code",
   "execution_count": 22,
   "id": "initial_id",
   "metadata": {
    "collapsed": true,
    "ExecuteTime": {
     "end_time": "2024-06-15T10:29:06.106266700Z",
     "start_time": "2024-06-15T10:29:06.094021200Z"
    }
   },
   "outputs": [],
   "source": [
    "from bmi_calculator import hitung_bmi, interpretasi_bmi"
   ]
  },
  {
   "cell_type": "code",
   "execution_count": 23,
   "outputs": [
    {
     "name": "stdout",
     "output_type": "stream",
     "text": [
      "BMI Anda: 0.50\n",
      "Interpretasi: Berat badan normal\n"
     ]
    }
   ],
   "source": [
    "try:\n",
    "    massa = float(input(\"Masukkan berat badan (kg): \"))\n",
    "    tinggi = float(input(\"Masukkan tinggi badan (m): \"))\n",
    "\n",
    "    print(f\"BMI Anda: {hitung_bmi(massa, tinggi):.2f}\")\n",
    "    print(f\"Interpretasi: {interpretasi_bmi(nilai_bmi)}\")\n",
    "except ValueError as e:\n",
    "    print(e)"
   ],
   "metadata": {
    "collapsed": false,
    "ExecuteTime": {
     "end_time": "2024-06-15T10:29:12.746605600Z",
     "start_time": "2024-06-15T10:29:06.298732300Z"
    }
   },
   "id": "b6ba13b5f00c3aa5"
  },
  {
   "cell_type": "code",
   "execution_count": null,
   "outputs": [],
   "source": [],
   "metadata": {
    "collapsed": false
   },
   "id": "cc25bef7abca6a3e"
  }
 ],
 "metadata": {
  "kernelspec": {
   "display_name": "Python 3",
   "language": "python",
   "name": "python3"
  },
  "language_info": {
   "codemirror_mode": {
    "name": "ipython",
    "version": 2
   },
   "file_extension": ".py",
   "mimetype": "text/x-python",
   "name": "python",
   "nbconvert_exporter": "python",
   "pygments_lexer": "ipython2",
   "version": "2.7.6"
  }
 },
 "nbformat": 4,
 "nbformat_minor": 5
}
